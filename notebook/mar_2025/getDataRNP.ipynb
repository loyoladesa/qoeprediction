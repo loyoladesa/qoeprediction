{
  "nbformat": 4,
  "nbformat_minor": 0,
  "metadata": {
    "colab": {
      "provenance": [],
      "authorship_tag": "ABX9TyNcazjeNQBkUGf+r/qJmdkj",
      "include_colab_link": true
    },
    "kernelspec": {
      "name": "python3",
      "display_name": "Python 3"
    },
    "language_info": {
      "name": "python"
    }
  },
  "cells": [
    {
      "cell_type": "markdown",
      "metadata": {
        "id": "view-in-github",
        "colab_type": "text"
      },
      "source": [
        "<a href=\"https://colab.research.google.com/github/loyoladesa/qoeprediction/blob/main/notebook/mar_2025/getDataRNP.ipynb\" target=\"_parent\"><img src=\"https://colab.research.google.com/assets/colab-badge.svg\" alt=\"Open In Colab\"/></a>"
      ]
    },
    {
      "cell_type": "code",
      "execution_count": null,
      "metadata": {
        "id": "7xCw67FyxdBi"
      },
      "outputs": [],
      "source": []
    },
    {
      "cell_type": "markdown",
      "metadata": {
        "id": "QyWs_3Ycx4eA"
      },
      "source": [
        "## Montar Drive"
      ]
    },
    {
      "cell_type": "code",
      "execution_count": 1,
      "metadata": {
        "colab": {
          "base_uri": "https://localhost:8080/"
        },
        "id": "2JtPzKxtx4eA",
        "outputId": "90e5ecb0-b50e-45b5-8a88-bb55a215471f"
      },
      "outputs": [
        {
          "output_type": "stream",
          "name": "stdout",
          "text": [
            "Mounted at /content/drive\n"
          ]
        }
      ],
      "source": [
        "from google.colab import drive\n",
        "drive.mount('/content/drive')"
      ]
    },
    {
      "cell_type": "markdown",
      "metadata": {
        "id": "buIw7-nIjjzL"
      },
      "source": [
        "## Importar Bibliotecas"
      ]
    },
    {
      "cell_type": "code",
      "execution_count": null,
      "metadata": {
        "id": "cMLsENM_s09F"
      },
      "outputs": [],
      "source": [
        "#libraries for data manipulation\n",
        "import requests\n",
        "import json\n",
        "from flask import jsonify\n",
        "from pprint import pprint"
      ]
    },
    {
      "cell_type": "markdown",
      "metadata": {
        "id": "FWjUpXfNszoO"
      },
      "source": [
        "## Constantes"
      ]
    },
    {
      "cell_type": "code",
      "source": [
        "pop_rnp = ['ac','go','mt','pb','pe','rn']\n",
        "destino = 'rj'\n",
        "pastas = ['histogram-rtt','packet-count-lost-bidir','packet-loss-rate-bidir','packet-reorders-bidir','throughput']\n",
        "path_rnp = '/content/drive/MyDrive/Seagate/RNP/dataset_nov_2024/'"
      ],
      "metadata": {
        "id": "v-ihc12zU_mZ"
      },
      "execution_count": null,
      "outputs": []
    },
    {
      "cell_type": "code",
      "source": [
        "def get_url_rnp(pasta,pop):\n",
        "  if pasta == 'histogram-rtt':\n",
        "    if pop == 'ac':\n",
        "      return 'http://monipe-central.rnp.br/esmond/perfsonar/archive/esmond/perfsonar/archive/fb338f2f93904f0186c0463581eddf2f/histogram-rtt/aggregations/3600'\n",
        "    elif pop == 'go':\n",
        "      return 'http://monipe-central.rnp.br/esmond/perfsonar/archive/esmond/perfsonar/archive/947cd70c90d544d785c56c277eb4d9de/histogram-rtt/aggregations/3600'\n",
        "    elif pop == 'mt':\n",
        "      return   'http://monipe-central.rnp.br/esmond/perfsonar/archive/esmond/perfsonar/archive/61b399f712654d4ea8c8e644d19b9263/histogram-rtt/aggregations/3600'\n",
        "    elif pop == 'pb':\n",
        "      return   'http://monipe-central.rnp.br/esmond/perfsonar/archive/esmond/perfsonar/archive/069094fb550a41a88f3baf37b370a94f/histogram-rtt/aggregations/3600'\n",
        "    elif pop == 'pe':\n",
        "      return   'http://monipe-central.rnp.br/esmond/perfsonar/archive/esmond/perfsonar/archive/a0fb385451e447788d0b126e03263342/histogram-rtt/aggregations/3600'\n",
        "    elif pop == 'rn':\n",
        "      return   'http://monipe-central.rnp.br/esmond/perfsonar/archive/esmond/perfsonar/archive/f5a52ea566264898a5183711a7aea870/histogram-rtt/aggregations/3600'\n",
        "\n",
        "  elif pasta == 'packet-count-lost-bidir':\n",
        "      if pop == 'ac':\n",
        "        return 'http://monipe-central.rnp.br/esmond/perfsonar/archive/esmond/perfsonar/archive/fb338f2f93904f0186c0463581eddf2f/packet-count-lost-bidir/aggregations/300'\n",
        "      elif pop == 'go':\n",
        "        return 'http://monipe-central.rnp.br/esmond/perfsonar/archive/esmond/perfsonar/archive/947cd70c90d544d785c56c277eb4d9de/packet-count-lost-bidir/aggregations/300'\n",
        "      elif pop == 'mt':\n",
        "        return   'http://monipe-central.rnp.br/esmond/perfsonar/archive/esmond/perfsonar/archive/61b399f712654d4ea8c8e644d19b9263/packet-count-lost-bidir/aggregations/300'\n",
        "      elif pop == 'pb':\n",
        "        return   'http://monipe-central.rnp.br/esmond/perfsonar/archive/esmond/perfsonar/archive/069094fb550a41a88f3baf37b370a94f/packet-count-lost-bidir/aggregations/300'\n",
        "      elif pop == 'pe':\n",
        "        return   'http://monipe-central.rnp.br/esmond/perfsonar/archive/esmond/perfsonar/archive/a0fb385451e447788d0b126e03263342/packet-count-lost-bidir/aggregations/300'\n",
        "      elif pop == 'rn':\n",
        "        return   'http://monipe-central.rnp.br/esmond/perfsonar/archive/esmond/perfsonar/archive/f5a52ea566264898a5183711a7aea870/packet-count-lost-bidir/aggregations/300'\n",
        "\n",
        "  elif pasta == 'packet-loss-rate-bidir':\n",
        "      if pop == 'ac':\n",
        "        return 'http://monipe-central.rnp.br/esmond/perfsonar/archive/esmond/perfsonar/archive/fb338f2f93904f0186c0463581eddf2f/packet-loss-rate-bidir/aggregations/3600'\n",
        "      elif pop == 'go':\n",
        "        return 'http://monipe-central.rnp.br/esmond/perfsonar/archive/esmond/perfsonar/archive/947cd70c90d544d785c56c277eb4d9de/packet-loss-rate-bidir/aggregations/3600'\n",
        "      elif pop == 'mt':\n",
        "        return   'http://monipe-central.rnp.br/esmond/perfsonar/archive/esmond/perfsonar/archive/61b399f712654d4ea8c8e644d19b9263/packet-loss-rate-bidir/aggregations/3600'\n",
        "      elif pop == 'pb':\n",
        "        return   'http://monipe-central.rnp.br/esmond/perfsonar/archive/esmond/perfsonar/archive/069094fb550a41a88f3baf37b370a94f/packet-loss-rate-bidir/aggregations/3600'\n",
        "      elif pop == 'pe':\n",
        "        return   'http://monipe-central.rnp.br/esmond/perfsonar/archive/esmond/perfsonar/archive/a0fb385451e447788d0b126e03263342/packet-loss-rate-bidir/aggregations/3600'\n",
        "      elif pop == 'rn':\n",
        "        return   'http://monipe-central.rnp.br/esmond/perfsonar/archive/esmond/perfsonar/archive/f5a52ea566264898a5183711a7aea870/packet-loss-rate-bidir/aggregations/3600'\n",
        "\n",
        "  elif pasta == 'packet-reorders-bidir':\n",
        "      if pop == 'ac':\n",
        "        return 'http://monipe-central.rnp.br/esmond/perfsonar/archive/esmond/perfsonar/archive/fb338f2f93904f0186c0463581eddf2f/packet-reorders-bidir/base'\n",
        "      elif pop == 'go':\n",
        "        return 'http://monipe-central.rnp.br/esmond/perfsonar/archive/esmond/perfsonar/archive/947cd70c90d544d785c56c277eb4d9de/packet-reorders-bidir/base'\n",
        "      elif pop == 'mt':\n",
        "        return   'http://monipe-central.rnp.br/esmond/perfsonar/archive/esmond/perfsonar/archive/61b399f712654d4ea8c8e644d19b9263/packet-reorders-bidir/base'\n",
        "      elif pop == 'pb':\n",
        "        return   'http://monipe-central.rnp.br/esmond/perfsonar/archive/esmond/perfsonar/archive/069094fb550a41a88f3baf37b370a94f/packet-reorders-bidir/base'\n",
        "      elif pop == 'pe':\n",
        "        return   'http://monipe-central.rnp.br/esmond/perfsonar/archive/esmond/perfsonar/archive/a0fb385451e447788d0b126e03263342/packet-reorders-bidir/base'\n",
        "      elif pop == 'rn':\n",
        "        return   'http://monipe-central.rnp.br/esmond/perfsonar/archive/esmond/perfsonar/archive/f5a52ea566264898a5183711a7aea870/packet-reorders-bidir/base'\n",
        "\n",
        "\n",
        "  else:\n",
        "    return 'erro'"
      ],
      "metadata": {
        "id": "09rRW7Ld7Tu0"
      },
      "execution_count": null,
      "outputs": []
    },
    {
      "cell_type": "code",
      "source": [
        "def get_url_throughput(pop,vez):\n",
        "      if pop == 'ac':\n",
        "        if vez == 1:\n",
        "            return 'http://monipe-central.rnp.br/esmond/perfsonar/archive/esmond/perfsonar/archive/fdf5b056c7a14540bae3b946559e812b/throughput/averages/86400'\n",
        "        elif vez == 2:\n",
        "            return 'http://monipe-central.rnp.br/esmond/perfsonar/archive/esmond/perfsonar/archive/1c615e98a88845b1836884c631ff200a/throughput/averages/86400'\n",
        "      elif pop == 'go':\n",
        "        if vez == 1:\n",
        "            return 'http://monipe-central.rnp.br/esmond/perfsonar/archive/esmond/perfsonar/archive/fd97cc1f615548518e95c24e0fea0aff/throughput/averages/86400'\n",
        "        elif vez == 2:\n",
        "            return 'http://monipe-central.rnp.br/esmond/perfsonar/archive/esmond/perfsonar/archive/055eb67296b2407285f561e5dd30d9d2/throughput/averages/86400'\n",
        "      elif pop == 'mt':\n",
        "        if vez == 1:\n",
        "            return 'http://monipe-central.rnp.br/esmond/perfsonar/archive/esmond/perfsonar/archive/095fb557e23d4611a804c42d2fbb5555/throughput/averages/86400'\n",
        "        elif vez == 2:\n",
        "            return 'http://monipe-central.rnp.br/esmond/perfsonar/archive/esmond/perfsonar/archive/fd654a96387b47a79167b47d868c1f06/throughput/averages/86400'\n",
        "      elif pop == 'pb':\n",
        "        if vez == 1:\n",
        "            return 'http://monipe-central.rnp.br/esmond/perfsonar/archive/esmond/perfsonar/archive/0c8621f9fa714ad68db2978a6a4fc6b3/throughput/averages/86400'\n",
        "        elif vez == 2:\n",
        "            return 'http://monipe-central.rnp.br/esmond/perfsonar/archive/esmond/perfsonar/archive/fba435d4b36f404d8407ebfba416e00b/throughput/averages/86400'\n",
        "      elif pop == 'pe':\n",
        "        if vez == 1:\n",
        "            return 'http://monipe-central.rnp.br/esmond/perfsonar/archive/esmond/perfsonar/archive/224135c3a89f465b9659e634a0d7f4db/throughput/averages/86400'\n",
        "        elif vez == 2:\n",
        "            return 'http://monipe-central.rnp.br/esmond/perfsonar/archive/esmond/perfsonar/archive/feb19d697811430396aef4774fa2a1b2/throughput/averages/86400'\n",
        "      elif pop == 'rn':\n",
        "        if vez == 1:\n",
        "            return 'http://monipe-central.rnp.br/esmond/perfsonar/archive/esmond/perfsonar/archive/fab889b0989e477898514ac89d9e0a24/throughput/averages/86400'\n",
        "        elif vez == 2:\n",
        "            return 'http://monipe-central.rnp.br/esmond/perfsonar/archive/esmond/perfsonar/archive/09a6269967d643e8a9ae461a478405d7/throughput/averages/86400'"
      ],
      "metadata": {
        "id": "6PednxZcHur4"
      },
      "execution_count": null,
      "outputs": []
    },
    {
      "cell_type": "code",
      "source": [
        "def get_data_rnp(path_rnp,url,pasta,pops):\n",
        "  url_end = ''\n",
        "  offset = 1500\n",
        "  naoEUltima = True\n",
        "  cont = 0\n",
        "  while naoEUltima :\n",
        "    print(f\"url de busca: {url+url_end}\")\n",
        "    response = requests.get(url+url_end, verify=False)  # pega todos os dados daquele evento\n",
        "    result = response.json()\n",
        "\n",
        "    # Inspecionar cabeçalhos\n",
        "    if 'Link' in response.headers:\n",
        "        links = response.headers['Link']\n",
        "\n",
        "        # Processar cabeçalho Link para identificar a posição da página\n",
        "        # O cabeçalho Link geralmente tem formato: '<url>; rel=\"next\", <url>; rel=\"last\"'\n",
        "        if 'rel=\"next\"' in links:\n",
        "\n",
        "            url_end = '?offset='+str(offset * (cont+1))\n",
        "            #print(f\"url-end: {url_end}\")\n",
        "        else:\n",
        "            naoEUltima = False\n",
        "    else:\n",
        "        print(\"Nenhum cabeçalho 'Link' encontrado. Verifique o conteúdo da resposta.\")\n",
        "        naoEUltima = False\n",
        "\n",
        "    print(f\"Página : {cont + 1} = {result[0]}\")\n",
        "    path_file = path_rnp + pasta + '/' + pops + str(cont+1) +  '.json'\n",
        "    with open(path_file, \"w\", encoding=\"utf-8\") as file:\n",
        "        json.dump(response.json(), file, indent=4, ensure_ascii=False)\n",
        "    cont = cont + 1"
      ],
      "metadata": {
        "id": "duEfpbq63_QW"
      },
      "execution_count": null,
      "outputs": []
    },
    {
      "cell_type": "markdown",
      "source": [
        "# Main"
      ],
      "metadata": {
        "id": "Gmkg-EVsibbu"
      }
    },
    {
      "cell_type": "code",
      "source": [
        "for pasta in pastas:\n",
        "  for pop in pop_rnp:\n",
        "    if pasta == 'throughput':\n",
        "      for vez in range(1,3):\n",
        "        url = get_url_throughput(pop,vez)\n",
        "        if url != 'erro':\n",
        "          pops = pop + '-' + destino + '-'\n",
        "          get_data_rnp(path_rnp,url,pasta,pops)\n",
        "          print(f\"{pasta} + {pop} + {vez}\")\n",
        "    else:\n",
        "      url = get_url_rnp(pasta,pop)\n",
        "      print(f\"url = {url}\")\n",
        "      if url != 'erro':\n",
        "        pops = pop + '-' + destino + '-'\n",
        "        get_data_rnp(path_rnp,url,pasta,pops)\n",
        "        print(f\"{pasta} + {pop}\")"
      ],
      "metadata": {
        "colab": {
          "base_uri": "https://localhost:8080/"
        },
        "id": "3GykKHti87uw",
        "outputId": "f2b0b815-9cab-4b7a-e3dc-7ad3d8c89881"
      },
      "execution_count": null,
      "outputs": [
        {
          "output_type": "stream",
          "name": "stdout",
          "text": [
            "url = http://monipe-central.rnp.br/esmond/perfsonar/archive/esmond/perfsonar/archive/fb338f2f93904f0186c0463581eddf2f/histogram-rtt/aggregations/3600\n",
            "url de busca: http://monipe-central.rnp.br/esmond/perfsonar/archive/esmond/perfsonar/archive/fb338f2f93904f0186c0463581eddf2f/histogram-rtt/aggregations/3600\n"
          ]
        },
        {
          "output_type": "stream",
          "name": "stderr",
          "text": [
            "/usr/local/lib/python3.10/dist-packages/urllib3/connectionpool.py:1099: InsecureRequestWarning: Unverified HTTPS request is being made to host 'monipe-central.rnp.br'. Adding certificate verification is strongly advised. See: https://urllib3.readthedocs.io/en/latest/advanced-usage.html#tls-warnings\n",
            "  warnings.warn(\n"
          ]
        },
        {
          "output_type": "stream",
          "name": "stdout",
          "text": [
            "Página : 1 = {'ts': 1719529200, 'val': {'58.70': 2, '58.80': 5, '58.90': 2, '59.00': 4, '60.80': 1, '62.80': 1, '59.70': 1, '59.20': 1, '60.50': 1, '59.30': 1, '58.50': 1}}\n",
            "url de busca: http://monipe-central.rnp.br/esmond/perfsonar/archive/esmond/perfsonar/archive/fb338f2f93904f0186c0463581eddf2f/histogram-rtt/aggregations/3600?offset=1500\n"
          ]
        },
        {
          "output_type": "stream",
          "name": "stderr",
          "text": [
            "/usr/local/lib/python3.10/dist-packages/urllib3/connectionpool.py:1099: InsecureRequestWarning: Unverified HTTPS request is being made to host 'monipe-central.rnp.br'. Adding certificate verification is strongly advised. See: https://urllib3.readthedocs.io/en/latest/advanced-usage.html#tls-warnings\n",
            "  warnings.warn(\n"
          ]
        },
        {
          "output_type": "stream",
          "name": "stdout",
          "text": [
            "Página : 2 = {'ts': 1724990400, 'val': {'55.20': 4, '54.90': 1, '55.10': 3, '55.40': 12, '55.30': 5, '55.50': 6, '55.00': 1, '58.00': 8, '57.50': 4, '57.80': 9, '57.40': 1, '72.50': 1, '62.50': 1, '70.70': 1, '61.90': 1, '61.40': 1, '57.90': 12, '57.70': 4, '57.60': 3, '58.10': 9, '58.30': 2, '58.20': 2, '58.60': 1, '55.70': 10, '55.60': 6, '55.90': 1, '55.80': 1}}\n",
            "url de busca: http://monipe-central.rnp.br/esmond/perfsonar/archive/esmond/perfsonar/archive/fb338f2f93904f0186c0463581eddf2f/histogram-rtt/aggregations/3600?offset=3000\n"
          ]
        },
        {
          "output_type": "stream",
          "name": "stderr",
          "text": [
            "/usr/local/lib/python3.10/dist-packages/urllib3/connectionpool.py:1099: InsecureRequestWarning: Unverified HTTPS request is being made to host 'monipe-central.rnp.br'. Adding certificate verification is strongly advised. See: https://urllib3.readthedocs.io/en/latest/advanced-usage.html#tls-warnings\n",
            "  warnings.warn(\n",
            "/usr/local/lib/python3.10/dist-packages/urllib3/connectionpool.py:1099: InsecureRequestWarning: Unverified HTTPS request is being made to host 'monipe-central.rnp.br'. Adding certificate verification is strongly advised. See: https://urllib3.readthedocs.io/en/latest/advanced-usage.html#tls-warnings\n",
            "  warnings.warn(\n"
          ]
        },
        {
          "output_type": "stream",
          "name": "stdout",
          "text": [
            "Página : 3 = {'ts': 1730487600, 'val': {'63.60': 7, '63.50': 6, '63.70': 8, '64.90': 2, '114.00': 1, '106.00': 1, '63.30': 5, '64.40': 2, '65.60': 1, '66.10': 1, '63.90': 6, '71.90': 1, '65.10': 1, '66.90': 1, '72.40': 1, '63.80': 12, '63.20': 1, '63.40': 1, '65.70': 1, '74.70': 1, '69.40': 1, '70.00': 1, '67.80': 1, '64.30': 1, '68.00': 1, '67.40': 1, '66.80': 1, '74.80': 1, '64.00': 9, '64.20': 1, '64.10': 2, '62.00': 7, '62.20': 4, '62.10': 13, '61.70': 2, '61.80': 3, '62.30': 1}}\n",
            "histogram-rtt + ac\n",
            "url = http://monipe-central.rnp.br/esmond/perfsonar/archive/esmond/perfsonar/archive/947cd70c90d544d785c56c277eb4d9de/histogram-rtt/aggregations/3600\n",
            "url de busca: http://monipe-central.rnp.br/esmond/perfsonar/archive/esmond/perfsonar/archive/947cd70c90d544d785c56c277eb4d9de/histogram-rtt/aggregations/3600\n",
            "Página : 1 = {'ts': 1719529200, 'val': {'26.60': 12, '26.70': 15, '28.30': 1, '27.10': 1, '26.90': 2, '26.10': 8, '26.00': 1}}\n",
            "url de busca: http://monipe-central.rnp.br/esmond/perfsonar/archive/esmond/perfsonar/archive/947cd70c90d544d785c56c277eb4d9de/histogram-rtt/aggregations/3600?offset=1500\n"
          ]
        },
        {
          "output_type": "stream",
          "name": "stderr",
          "text": [
            "/usr/local/lib/python3.10/dist-packages/urllib3/connectionpool.py:1099: InsecureRequestWarning: Unverified HTTPS request is being made to host 'monipe-central.rnp.br'. Adding certificate verification is strongly advised. See: https://urllib3.readthedocs.io/en/latest/advanced-usage.html#tls-warnings\n",
            "  warnings.warn(\n"
          ]
        },
        {
          "output_type": "stream",
          "name": "stdout",
          "text": [
            "Página : 2 = {'ts': 1724997600, 'val': {'24.90': 11, '25.00': 12, '25.10': 4, '24.80': 1, '25.40': 2, '22.50': 27, '22.40': 46, '22.30': 10, '22.80': 2, '22.90': 2, '22.60': 2, '22.70': 1}}\n",
            "url de busca: http://monipe-central.rnp.br/esmond/perfsonar/archive/esmond/perfsonar/archive/947cd70c90d544d785c56c277eb4d9de/histogram-rtt/aggregations/3600?offset=3000\n"
          ]
        },
        {
          "output_type": "stream",
          "name": "stderr",
          "text": [
            "/usr/local/lib/python3.10/dist-packages/urllib3/connectionpool.py:1099: InsecureRequestWarning: Unverified HTTPS request is being made to host 'monipe-central.rnp.br'. Adding certificate verification is strongly advised. See: https://urllib3.readthedocs.io/en/latest/advanced-usage.html#tls-warnings\n",
            "  warnings.warn(\n"
          ]
        },
        {
          "output_type": "stream",
          "name": "stdout",
          "text": [
            "Página : 3 = {'ts': 1730466000, 'val': {'22.50': 10, '22.40': 52, '22.30': 34, '22.60': 1, '22.80': 2, '22.70': 1, '24.20': 8, '24.10': 1, '24.30': 1}}\n",
            "histogram-rtt + go\n",
            "url = http://monipe-central.rnp.br/esmond/perfsonar/archive/esmond/perfsonar/archive/61b399f712654d4ea8c8e644d19b9263/histogram-rtt/aggregations/3600\n",
            "url de busca: http://monipe-central.rnp.br/esmond/perfsonar/archive/esmond/perfsonar/archive/61b399f712654d4ea8c8e644d19b9263/histogram-rtt/aggregations/3600\n"
          ]
        },
        {
          "output_type": "stream",
          "name": "stderr",
          "text": [
            "/usr/local/lib/python3.10/dist-packages/urllib3/connectionpool.py:1099: InsecureRequestWarning: Unverified HTTPS request is being made to host 'monipe-central.rnp.br'. Adding certificate verification is strongly advised. See: https://urllib3.readthedocs.io/en/latest/advanced-usage.html#tls-warnings\n",
            "  warnings.warn(\n"
          ]
        },
        {
          "output_type": "stream",
          "name": "stdout",
          "text": [
            "Página : 1 = {'ts': 1719529200, 'val': {'38.40': 4, '38.20': 9, '38.10': 18, '38.50': 1, '38.30': 5, '38.00': 3}}\n",
            "url de busca: http://monipe-central.rnp.br/esmond/perfsonar/archive/esmond/perfsonar/archive/61b399f712654d4ea8c8e644d19b9263/histogram-rtt/aggregations/3600?offset=1500\n",
            "Página : 2 = {'ts': 1725001200, 'val': {'34.60': 17, '34.80': 5, '34.70': 15, '35.00': 1, '34.50': 11, '34.90': 2, '37.20': 5, '37.00': 5, '37.10': 9, '37.40': 1, '36.90': 1, '41.40': 1, '41.30': 4, '41.00': 22, '41.50': 2, '41.10': 7, '40.90': 16, '40.80': 1, '35.10': 3, '35.80': 1, '35.30': 1}}\n",
            "url de busca: http://monipe-central.rnp.br/esmond/perfsonar/archive/esmond/perfsonar/archive/61b399f712654d4ea8c8e644d19b9263/histogram-rtt/aggregations/3600?offset=3000\n"
          ]
        },
        {
          "output_type": "stream",
          "name": "stderr",
          "text": [
            "/usr/local/lib/python3.10/dist-packages/urllib3/connectionpool.py:1099: InsecureRequestWarning: Unverified HTTPS request is being made to host 'monipe-central.rnp.br'. Adding certificate verification is strongly advised. See: https://urllib3.readthedocs.io/en/latest/advanced-usage.html#tls-warnings\n",
            "  warnings.warn(\n",
            "/usr/local/lib/python3.10/dist-packages/urllib3/connectionpool.py:1099: InsecureRequestWarning: Unverified HTTPS request is being made to host 'monipe-central.rnp.br'. Adding certificate verification is strongly advised. See: https://urllib3.readthedocs.io/en/latest/advanced-usage.html#tls-warnings\n",
            "  warnings.warn(\n"
          ]
        },
        {
          "output_type": "stream",
          "name": "stdout",
          "text": [
            "Página : 3 = {'ts': 1730401200, 'val': {'65.40': 6, '65.30': 5, '66.60': 1, '65.50': 2, '66.50': 1, '66.00': 1, '64.50': 6, '64.40': 2, '64.60': 8, '64.90': 2}}\n",
            "histogram-rtt + mt\n",
            "url = http://monipe-central.rnp.br/esmond/perfsonar/archive/esmond/perfsonar/archive/069094fb550a41a88f3baf37b370a94f/histogram-rtt/aggregations/3600\n",
            "url de busca: http://monipe-central.rnp.br/esmond/perfsonar/archive/esmond/perfsonar/archive/069094fb550a41a88f3baf37b370a94f/histogram-rtt/aggregations/3600\n"
          ]
        },
        {
          "output_type": "stream",
          "name": "stderr",
          "text": [
            "/usr/local/lib/python3.10/dist-packages/urllib3/connectionpool.py:1099: InsecureRequestWarning: Unverified HTTPS request is being made to host 'monipe-central.rnp.br'. Adding certificate verification is strongly advised. See: https://urllib3.readthedocs.io/en/latest/advanced-usage.html#tls-warnings\n",
            "  warnings.warn(\n",
            "/usr/local/lib/python3.10/dist-packages/urllib3/connectionpool.py:1099: InsecureRequestWarning: Unverified HTTPS request is being made to host 'monipe-central.rnp.br'. Adding certificate verification is strongly advised. See: https://urllib3.readthedocs.io/en/latest/advanced-usage.html#tls-warnings\n",
            "  warnings.warn(\n"
          ]
        },
        {
          "output_type": "stream",
          "name": "stdout",
          "text": [
            "Página : 1 = {'ts': 1719529200, 'val': {'28.50': 3, '28.70': 1, '28.40': 16, '28.30': 10}}\n",
            "url de busca: http://monipe-central.rnp.br/esmond/perfsonar/archive/esmond/perfsonar/archive/069094fb550a41a88f3baf37b370a94f/histogram-rtt/aggregations/3600?offset=1500\n",
            "Página : 2 = {'ts': 1725008400, 'val': {'28.10': 77, '28.20': 13, '28.00': 9, '28.30': 1}}\n",
            "url de busca: http://monipe-central.rnp.br/esmond/perfsonar/archive/esmond/perfsonar/archive/069094fb550a41a88f3baf37b370a94f/histogram-rtt/aggregations/3600?offset=3000\n"
          ]
        },
        {
          "output_type": "stream",
          "name": "stderr",
          "text": [
            "/usr/local/lib/python3.10/dist-packages/urllib3/connectionpool.py:1099: InsecureRequestWarning: Unverified HTTPS request is being made to host 'monipe-central.rnp.br'. Adding certificate verification is strongly advised. See: https://urllib3.readthedocs.io/en/latest/advanced-usage.html#tls-warnings\n",
            "  warnings.warn(\n"
          ]
        },
        {
          "output_type": "stream",
          "name": "stdout",
          "text": [
            "Página : 3 = {'ts': 1730811600, 'val': {'28.30': 51, '28.40': 7, '28.50': 2}}\n",
            "histogram-rtt + pb\n",
            "url = http://monipe-central.rnp.br/esmond/perfsonar/archive/esmond/perfsonar/archive/a0fb385451e447788d0b126e03263342/histogram-rtt/aggregations/3600\n",
            "url de busca: http://monipe-central.rnp.br/esmond/perfsonar/archive/esmond/perfsonar/archive/a0fb385451e447788d0b126e03263342/histogram-rtt/aggregations/3600\n"
          ]
        },
        {
          "output_type": "stream",
          "name": "stderr",
          "text": [
            "/usr/local/lib/python3.10/dist-packages/urllib3/connectionpool.py:1099: InsecureRequestWarning: Unverified HTTPS request is being made to host 'monipe-central.rnp.br'. Adding certificate verification is strongly advised. See: https://urllib3.readthedocs.io/en/latest/advanced-usage.html#tls-warnings\n",
            "  warnings.warn(\n"
          ]
        },
        {
          "output_type": "stream",
          "name": "stdout",
          "text": [
            "Página : 1 = {'ts': 1719529200, 'val': {'30.60': 15, '30.70': 14, '30.80': 1}}\n",
            "url de busca: http://monipe-central.rnp.br/esmond/perfsonar/archive/esmond/perfsonar/archive/a0fb385451e447788d0b126e03263342/histogram-rtt/aggregations/3600?offset=1500\n"
          ]
        },
        {
          "output_type": "stream",
          "name": "stderr",
          "text": [
            "/usr/local/lib/python3.10/dist-packages/urllib3/connectionpool.py:1099: InsecureRequestWarning: Unverified HTTPS request is being made to host 'monipe-central.rnp.br'. Adding certificate verification is strongly advised. See: https://urllib3.readthedocs.io/en/latest/advanced-usage.html#tls-warnings\n",
            "  warnings.warn(\n"
          ]
        },
        {
          "output_type": "stream",
          "name": "stdout",
          "text": [
            "Página : 2 = {'ts': 1725004800, 'val': {'30.50': 46, '30.40': 49, '30.60': 7, '30.30': 1, '31.90': 1, '31.00': 2, '30.80': 2, '32.10': 1, '30.90': 1}}\n",
            "url de busca: http://monipe-central.rnp.br/esmond/perfsonar/archive/esmond/perfsonar/archive/a0fb385451e447788d0b126e03263342/histogram-rtt/aggregations/3600?offset=3000\n"
          ]
        },
        {
          "output_type": "stream",
          "name": "stderr",
          "text": [
            "/usr/local/lib/python3.10/dist-packages/urllib3/connectionpool.py:1099: InsecureRequestWarning: Unverified HTTPS request is being made to host 'monipe-central.rnp.br'. Adding certificate verification is strongly advised. See: https://urllib3.readthedocs.io/en/latest/advanced-usage.html#tls-warnings\n",
            "  warnings.warn(\n"
          ]
        },
        {
          "output_type": "stream",
          "name": "stdout",
          "text": [
            "Página : 3 = {'ts': 1730437200, 'val': {'30.90': 13, '30.80': 68, '30.70': 17, '31.00': 2}}\n",
            "histogram-rtt + pe\n",
            "url = http://monipe-central.rnp.br/esmond/perfsonar/archive/esmond/perfsonar/archive/f5a52ea566264898a5183711a7aea870/histogram-rtt/aggregations/3600\n",
            "url de busca: http://monipe-central.rnp.br/esmond/perfsonar/archive/esmond/perfsonar/archive/f5a52ea566264898a5183711a7aea870/histogram-rtt/aggregations/3600\n"
          ]
        },
        {
          "output_type": "stream",
          "name": "stderr",
          "text": [
            "/usr/local/lib/python3.10/dist-packages/urllib3/connectionpool.py:1099: InsecureRequestWarning: Unverified HTTPS request is being made to host 'monipe-central.rnp.br'. Adding certificate verification is strongly advised. See: https://urllib3.readthedocs.io/en/latest/advanced-usage.html#tls-warnings\n",
            "  warnings.warn(\n"
          ]
        },
        {
          "output_type": "stream",
          "name": "stdout",
          "text": [
            "Página : 1 = {'ts': 1719529200, 'val': {'31.10': 23, '31.20': 1, '31.00': 25, '31.30': 1}}\n",
            "url de busca: http://monipe-central.rnp.br/esmond/perfsonar/archive/esmond/perfsonar/archive/f5a52ea566264898a5183711a7aea870/histogram-rtt/aggregations/3600?offset=1500\n",
            "Página : 2 = {'ts': 1725066000, 'val': {'31.10': 30, '31.00': 59, '31.80': 1, '31.50': 4, '31.60': 1, '31.30': 5, '31.40': 4, '31.20': 3, '30.90': 1, '31.70': 2}}\n",
            "url de busca: http://monipe-central.rnp.br/esmond/perfsonar/archive/esmond/perfsonar/archive/f5a52ea566264898a5183711a7aea870/histogram-rtt/aggregations/3600?offset=3000\n"
          ]
        },
        {
          "output_type": "stream",
          "name": "stderr",
          "text": [
            "/usr/local/lib/python3.10/dist-packages/urllib3/connectionpool.py:1099: InsecureRequestWarning: Unverified HTTPS request is being made to host 'monipe-central.rnp.br'. Adding certificate verification is strongly advised. See: https://urllib3.readthedocs.io/en/latest/advanced-usage.html#tls-warnings\n",
            "  warnings.warn(\n",
            "/usr/local/lib/python3.10/dist-packages/urllib3/connectionpool.py:1099: InsecureRequestWarning: Unverified HTTPS request is being made to host 'monipe-central.rnp.br'. Adding certificate verification is strongly advised. See: https://urllib3.readthedocs.io/en/latest/advanced-usage.html#tls-warnings\n",
            "  warnings.warn(\n"
          ]
        },
        {
          "output_type": "stream",
          "name": "stdout",
          "text": [
            "Página : 3 = {'ts': 1730700000, 'val': {'31.20': 61, '31.10': 60, '31.00': 4, '31.80': 1, '31.30': 4}}\n",
            "histogram-rtt + rn\n",
            "url = http://monipe-central.rnp.br/esmond/perfsonar/archive/esmond/perfsonar/archive/fb338f2f93904f0186c0463581eddf2f/packet-count-lost-bidir/aggregations/300\n",
            "url de busca: http://monipe-central.rnp.br/esmond/perfsonar/archive/esmond/perfsonar/archive/fb338f2f93904f0186c0463581eddf2f/packet-count-lost-bidir/aggregations/300\n"
          ]
        },
        {
          "output_type": "stream",
          "name": "stderr",
          "text": [
            "/usr/local/lib/python3.10/dist-packages/urllib3/connectionpool.py:1099: InsecureRequestWarning: Unverified HTTPS request is being made to host 'monipe-central.rnp.br'. Adding certificate verification is strongly advised. See: https://urllib3.readthedocs.io/en/latest/advanced-usage.html#tls-warnings\n",
            "  warnings.warn(\n"
          ]
        },
        {
          "output_type": "stream",
          "name": "stdout",
          "text": [
            "Página : 1 = {'ts': 1719531300, 'val': 0.0}\n",
            "url de busca: http://monipe-central.rnp.br/esmond/perfsonar/archive/esmond/perfsonar/archive/fb338f2f93904f0186c0463581eddf2f/packet-count-lost-bidir/aggregations/300?offset=1500\n"
          ]
        },
        {
          "output_type": "stream",
          "name": "stderr",
          "text": [
            "/usr/local/lib/python3.10/dist-packages/urllib3/connectionpool.py:1099: InsecureRequestWarning: Unverified HTTPS request is being made to host 'monipe-central.rnp.br'. Adding certificate verification is strongly advised. See: https://urllib3.readthedocs.io/en/latest/advanced-usage.html#tls-warnings\n",
            "  warnings.warn(\n"
          ]
        },
        {
          "output_type": "stream",
          "name": "stdout",
          "text": [
            "Página : 2 = {'ts': 1720145700, 'val': 0.0}\n",
            "url de busca: http://monipe-central.rnp.br/esmond/perfsonar/archive/esmond/perfsonar/archive/fb338f2f93904f0186c0463581eddf2f/packet-count-lost-bidir/aggregations/300?offset=3000\n"
          ]
        },
        {
          "output_type": "stream",
          "name": "stderr",
          "text": [
            "/usr/local/lib/python3.10/dist-packages/urllib3/connectionpool.py:1099: InsecureRequestWarning: Unverified HTTPS request is being made to host 'monipe-central.rnp.br'. Adding certificate verification is strongly advised. See: https://urllib3.readthedocs.io/en/latest/advanced-usage.html#tls-warnings\n",
            "  warnings.warn(\n"
          ]
        },
        {
          "output_type": "stream",
          "name": "stdout",
          "text": [
            "Página : 3 = {'ts': 1720794300, 'val': 0.0}\n",
            "url de busca: http://monipe-central.rnp.br/esmond/perfsonar/archive/esmond/perfsonar/archive/fb338f2f93904f0186c0463581eddf2f/packet-count-lost-bidir/aggregations/300?offset=4500\n"
          ]
        },
        {
          "output_type": "stream",
          "name": "stderr",
          "text": [
            "/usr/local/lib/python3.10/dist-packages/urllib3/connectionpool.py:1099: InsecureRequestWarning: Unverified HTTPS request is being made to host 'monipe-central.rnp.br'. Adding certificate verification is strongly advised. See: https://urllib3.readthedocs.io/en/latest/advanced-usage.html#tls-warnings\n",
            "  warnings.warn(\n"
          ]
        },
        {
          "output_type": "stream",
          "name": "stdout",
          "text": [
            "Página : 4 = {'ts': 1721483400, 'val': 0.0}\n",
            "url de busca: http://monipe-central.rnp.br/esmond/perfsonar/archive/esmond/perfsonar/archive/fb338f2f93904f0186c0463581eddf2f/packet-count-lost-bidir/aggregations/300?offset=6000\n"
          ]
        },
        {
          "output_type": "stream",
          "name": "stderr",
          "text": [
            "/usr/local/lib/python3.10/dist-packages/urllib3/connectionpool.py:1099: InsecureRequestWarning: Unverified HTTPS request is being made to host 'monipe-central.rnp.br'. Adding certificate verification is strongly advised. See: https://urllib3.readthedocs.io/en/latest/advanced-usage.html#tls-warnings\n",
            "  warnings.warn(\n"
          ]
        },
        {
          "output_type": "stream",
          "name": "stdout",
          "text": [
            "Página : 5 = {'ts': 1722172200, 'val': 0.0}\n",
            "url de busca: http://monipe-central.rnp.br/esmond/perfsonar/archive/esmond/perfsonar/archive/fb338f2f93904f0186c0463581eddf2f/packet-count-lost-bidir/aggregations/300?offset=7500\n"
          ]
        },
        {
          "output_type": "stream",
          "name": "stderr",
          "text": [
            "/usr/local/lib/python3.10/dist-packages/urllib3/connectionpool.py:1099: InsecureRequestWarning: Unverified HTTPS request is being made to host 'monipe-central.rnp.br'. Adding certificate verification is strongly advised. See: https://urllib3.readthedocs.io/en/latest/advanced-usage.html#tls-warnings\n",
            "  warnings.warn(\n"
          ]
        },
        {
          "output_type": "stream",
          "name": "stdout",
          "text": [
            "Página : 6 = {'ts': 1722863700, 'val': 0.0}\n",
            "url de busca: http://monipe-central.rnp.br/esmond/perfsonar/archive/esmond/perfsonar/archive/fb338f2f93904f0186c0463581eddf2f/packet-count-lost-bidir/aggregations/300?offset=9000\n"
          ]
        },
        {
          "output_type": "stream",
          "name": "stderr",
          "text": [
            "/usr/local/lib/python3.10/dist-packages/urllib3/connectionpool.py:1099: InsecureRequestWarning: Unverified HTTPS request is being made to host 'monipe-central.rnp.br'. Adding certificate verification is strongly advised. See: https://urllib3.readthedocs.io/en/latest/advanced-usage.html#tls-warnings\n",
            "  warnings.warn(\n"
          ]
        },
        {
          "output_type": "stream",
          "name": "stdout",
          "text": [
            "Página : 7 = {'ts': 1723508700, 'val': 0.0}\n",
            "url de busca: http://monipe-central.rnp.br/esmond/perfsonar/archive/esmond/perfsonar/archive/fb338f2f93904f0186c0463581eddf2f/packet-count-lost-bidir/aggregations/300?offset=10500\n"
          ]
        },
        {
          "output_type": "stream",
          "name": "stderr",
          "text": [
            "/usr/local/lib/python3.10/dist-packages/urllib3/connectionpool.py:1099: InsecureRequestWarning: Unverified HTTPS request is being made to host 'monipe-central.rnp.br'. Adding certificate verification is strongly advised. See: https://urllib3.readthedocs.io/en/latest/advanced-usage.html#tls-warnings\n",
            "  warnings.warn(\n"
          ]
        },
        {
          "output_type": "stream",
          "name": "stdout",
          "text": [
            "Página : 8 = {'ts': 1724195100, 'val': 0.0}\n",
            "url de busca: http://monipe-central.rnp.br/esmond/perfsonar/archive/esmond/perfsonar/archive/fb338f2f93904f0186c0463581eddf2f/packet-count-lost-bidir/aggregations/300?offset=12000\n"
          ]
        },
        {
          "output_type": "stream",
          "name": "stderr",
          "text": [
            "/usr/local/lib/python3.10/dist-packages/urllib3/connectionpool.py:1099: InsecureRequestWarning: Unverified HTTPS request is being made to host 'monipe-central.rnp.br'. Adding certificate verification is strongly advised. See: https://urllib3.readthedocs.io/en/latest/advanced-usage.html#tls-warnings\n",
            "  warnings.warn(\n"
          ]
        },
        {
          "output_type": "stream",
          "name": "stdout",
          "text": [
            "Página : 9 = {'ts': 1724851500, 'val': 0.0}\n",
            "url de busca: http://monipe-central.rnp.br/esmond/perfsonar/archive/esmond/perfsonar/archive/fb338f2f93904f0186c0463581eddf2f/packet-count-lost-bidir/aggregations/300?offset=13500\n"
          ]
        },
        {
          "output_type": "stream",
          "name": "stderr",
          "text": [
            "/usr/local/lib/python3.10/dist-packages/urllib3/connectionpool.py:1099: InsecureRequestWarning: Unverified HTTPS request is being made to host 'monipe-central.rnp.br'. Adding certificate verification is strongly advised. See: https://urllib3.readthedocs.io/en/latest/advanced-usage.html#tls-warnings\n",
            "  warnings.warn(\n"
          ]
        },
        {
          "output_type": "stream",
          "name": "stdout",
          "text": [
            "Página : 10 = {'ts': 1725535200, 'val': 0.0}\n",
            "url de busca: http://monipe-central.rnp.br/esmond/perfsonar/archive/esmond/perfsonar/archive/fb338f2f93904f0186c0463581eddf2f/packet-count-lost-bidir/aggregations/300?offset=15000\n"
          ]
        },
        {
          "output_type": "stream",
          "name": "stderr",
          "text": [
            "/usr/local/lib/python3.10/dist-packages/urllib3/connectionpool.py:1099: InsecureRequestWarning: Unverified HTTPS request is being made to host 'monipe-central.rnp.br'. Adding certificate verification is strongly advised. See: https://urllib3.readthedocs.io/en/latest/advanced-usage.html#tls-warnings\n",
            "  warnings.warn(\n"
          ]
        },
        {
          "output_type": "stream",
          "name": "stdout",
          "text": [
            "Página : 11 = {'ts': 1726267500, 'val': 0.0}\n",
            "url de busca: http://monipe-central.rnp.br/esmond/perfsonar/archive/esmond/perfsonar/archive/fb338f2f93904f0186c0463581eddf2f/packet-count-lost-bidir/aggregations/300?offset=16500\n"
          ]
        },
        {
          "output_type": "stream",
          "name": "stderr",
          "text": [
            "/usr/local/lib/python3.10/dist-packages/urllib3/connectionpool.py:1099: InsecureRequestWarning: Unverified HTTPS request is being made to host 'monipe-central.rnp.br'. Adding certificate verification is strongly advised. See: https://urllib3.readthedocs.io/en/latest/advanced-usage.html#tls-warnings\n",
            "  warnings.warn(\n"
          ]
        },
        {
          "output_type": "stream",
          "name": "stdout",
          "text": [
            "Página : 12 = {'ts': 1726939800, 'val': 0.0}\n",
            "url de busca: http://monipe-central.rnp.br/esmond/perfsonar/archive/esmond/perfsonar/archive/fb338f2f93904f0186c0463581eddf2f/packet-count-lost-bidir/aggregations/300?offset=18000\n"
          ]
        },
        {
          "output_type": "stream",
          "name": "stderr",
          "text": [
            "/usr/local/lib/python3.10/dist-packages/urllib3/connectionpool.py:1099: InsecureRequestWarning: Unverified HTTPS request is being made to host 'monipe-central.rnp.br'. Adding certificate verification is strongly advised. See: https://urllib3.readthedocs.io/en/latest/advanced-usage.html#tls-warnings\n",
            "  warnings.warn(\n"
          ]
        },
        {
          "output_type": "stream",
          "name": "stdout",
          "text": [
            "Página : 13 = {'ts': 1727582400, 'val': 0.0}\n",
            "url de busca: http://monipe-central.rnp.br/esmond/perfsonar/archive/esmond/perfsonar/archive/fb338f2f93904f0186c0463581eddf2f/packet-count-lost-bidir/aggregations/300?offset=19500\n"
          ]
        },
        {
          "output_type": "stream",
          "name": "stderr",
          "text": [
            "/usr/local/lib/python3.10/dist-packages/urllib3/connectionpool.py:1099: InsecureRequestWarning: Unverified HTTPS request is being made to host 'monipe-central.rnp.br'. Adding certificate verification is strongly advised. See: https://urllib3.readthedocs.io/en/latest/advanced-usage.html#tls-warnings\n",
            "  warnings.warn(\n"
          ]
        },
        {
          "output_type": "stream",
          "name": "stdout",
          "text": [
            "Página : 14 = {'ts': 1728261600, 'val': 0.0}\n",
            "url de busca: http://monipe-central.rnp.br/esmond/perfsonar/archive/esmond/perfsonar/archive/fb338f2f93904f0186c0463581eddf2f/packet-count-lost-bidir/aggregations/300?offset=21000\n"
          ]
        },
        {
          "output_type": "stream",
          "name": "stderr",
          "text": [
            "/usr/local/lib/python3.10/dist-packages/urllib3/connectionpool.py:1099: InsecureRequestWarning: Unverified HTTPS request is being made to host 'monipe-central.rnp.br'. Adding certificate verification is strongly advised. See: https://urllib3.readthedocs.io/en/latest/advanced-usage.html#tls-warnings\n",
            "  warnings.warn(\n"
          ]
        },
        {
          "output_type": "stream",
          "name": "stdout",
          "text": [
            "Página : 15 = {'ts': 1728941100, 'val': 0.0}\n",
            "url de busca: http://monipe-central.rnp.br/esmond/perfsonar/archive/esmond/perfsonar/archive/fb338f2f93904f0186c0463581eddf2f/packet-count-lost-bidir/aggregations/300?offset=22500\n"
          ]
        },
        {
          "output_type": "stream",
          "name": "stderr",
          "text": [
            "/usr/local/lib/python3.10/dist-packages/urllib3/connectionpool.py:1099: InsecureRequestWarning: Unverified HTTPS request is being made to host 'monipe-central.rnp.br'. Adding certificate verification is strongly advised. See: https://urllib3.readthedocs.io/en/latest/advanced-usage.html#tls-warnings\n",
            "  warnings.warn(\n"
          ]
        },
        {
          "output_type": "stream",
          "name": "stdout",
          "text": [
            "Página : 16 = {'ts': 1729592100, 'val': 0.0}\n",
            "url de busca: http://monipe-central.rnp.br/esmond/perfsonar/archive/esmond/perfsonar/archive/fb338f2f93904f0186c0463581eddf2f/packet-count-lost-bidir/aggregations/300?offset=24000\n"
          ]
        },
        {
          "output_type": "stream",
          "name": "stderr",
          "text": [
            "/usr/local/lib/python3.10/dist-packages/urllib3/connectionpool.py:1099: InsecureRequestWarning: Unverified HTTPS request is being made to host 'monipe-central.rnp.br'. Adding certificate verification is strongly advised. See: https://urllib3.readthedocs.io/en/latest/advanced-usage.html#tls-warnings\n",
            "  warnings.warn(\n"
          ]
        },
        {
          "output_type": "stream",
          "name": "stdout",
          "text": [
            "Página : 17 = {'ts': 1730326500, 'val': 0.0}\n",
            "url de busca: http://monipe-central.rnp.br/esmond/perfsonar/archive/esmond/perfsonar/archive/fb338f2f93904f0186c0463581eddf2f/packet-count-lost-bidir/aggregations/300?offset=25500\n"
          ]
        },
        {
          "output_type": "stream",
          "name": "stderr",
          "text": [
            "/usr/local/lib/python3.10/dist-packages/urllib3/connectionpool.py:1099: InsecureRequestWarning: Unverified HTTPS request is being made to host 'monipe-central.rnp.br'. Adding certificate verification is strongly advised. See: https://urllib3.readthedocs.io/en/latest/advanced-usage.html#tls-warnings\n",
            "  warnings.warn(\n"
          ]
        },
        {
          "output_type": "stream",
          "name": "stdout",
          "text": [
            "Página : 18 = {'ts': 1730995200, 'val': 0.0}\n",
            "url de busca: http://monipe-central.rnp.br/esmond/perfsonar/archive/esmond/perfsonar/archive/fb338f2f93904f0186c0463581eddf2f/packet-count-lost-bidir/aggregations/300?offset=27000\n"
          ]
        },
        {
          "output_type": "stream",
          "name": "stderr",
          "text": [
            "/usr/local/lib/python3.10/dist-packages/urllib3/connectionpool.py:1099: InsecureRequestWarning: Unverified HTTPS request is being made to host 'monipe-central.rnp.br'. Adding certificate verification is strongly advised. See: https://urllib3.readthedocs.io/en/latest/advanced-usage.html#tls-warnings\n",
            "  warnings.warn(\n"
          ]
        },
        {
          "output_type": "stream",
          "name": "stdout",
          "text": [
            "Página : 19 = {'ts': 1731626400, 'val': 0.0}\n",
            "url de busca: http://monipe-central.rnp.br/esmond/perfsonar/archive/esmond/perfsonar/archive/fb338f2f93904f0186c0463581eddf2f/packet-count-lost-bidir/aggregations/300?offset=28500\n"
          ]
        },
        {
          "output_type": "stream",
          "name": "stderr",
          "text": [
            "/usr/local/lib/python3.10/dist-packages/urllib3/connectionpool.py:1099: InsecureRequestWarning: Unverified HTTPS request is being made to host 'monipe-central.rnp.br'. Adding certificate verification is strongly advised. See: https://urllib3.readthedocs.io/en/latest/advanced-usage.html#tls-warnings\n",
            "  warnings.warn(\n"
          ]
        },
        {
          "output_type": "stream",
          "name": "stdout",
          "text": [
            "Página : 20 = {'ts': 1732291200, 'val': 0.0}\n",
            "packet-count-lost-bidir + ac\n",
            "url = http://monipe-central.rnp.br/esmond/perfsonar/archive/esmond/perfsonar/archive/947cd70c90d544d785c56c277eb4d9de/packet-count-lost-bidir/aggregations/300\n",
            "url de busca: http://monipe-central.rnp.br/esmond/perfsonar/archive/esmond/perfsonar/archive/947cd70c90d544d785c56c277eb4d9de/packet-count-lost-bidir/aggregations/300\n"
          ]
        },
        {
          "output_type": "stream",
          "name": "stderr",
          "text": [
            "/usr/local/lib/python3.10/dist-packages/urllib3/connectionpool.py:1099: InsecureRequestWarning: Unverified HTTPS request is being made to host 'monipe-central.rnp.br'. Adding certificate verification is strongly advised. See: https://urllib3.readthedocs.io/en/latest/advanced-usage.html#tls-warnings\n",
            "  warnings.warn(\n",
            "/usr/local/lib/python3.10/dist-packages/urllib3/connectionpool.py:1099: InsecureRequestWarning: Unverified HTTPS request is being made to host 'monipe-central.rnp.br'. Adding certificate verification is strongly advised. See: https://urllib3.readthedocs.io/en/latest/advanced-usage.html#tls-warnings\n",
            "  warnings.warn(\n"
          ]
        },
        {
          "output_type": "stream",
          "name": "stdout",
          "text": [
            "Página : 1 = {'ts': 1719531300, 'val': 0.0}\n",
            "url de busca: http://monipe-central.rnp.br/esmond/perfsonar/archive/esmond/perfsonar/archive/947cd70c90d544d785c56c277eb4d9de/packet-count-lost-bidir/aggregations/300?offset=1500\n"
          ]
        },
        {
          "output_type": "stream",
          "name": "stderr",
          "text": [
            "/usr/local/lib/python3.10/dist-packages/urllib3/connectionpool.py:1099: InsecureRequestWarning: Unverified HTTPS request is being made to host 'monipe-central.rnp.br'. Adding certificate verification is strongly advised. See: https://urllib3.readthedocs.io/en/latest/advanced-usage.html#tls-warnings\n",
            "  warnings.warn(\n"
          ]
        },
        {
          "output_type": "stream",
          "name": "stdout",
          "text": [
            "Página : 2 = {'ts': 1720135200, 'val': 0.0}\n",
            "url de busca: http://monipe-central.rnp.br/esmond/perfsonar/archive/esmond/perfsonar/archive/947cd70c90d544d785c56c277eb4d9de/packet-count-lost-bidir/aggregations/300?offset=3000\n",
            "Página : 3 = {'ts': 1720639500, 'val': 0.0}\n",
            "url de busca: http://monipe-central.rnp.br/esmond/perfsonar/archive/esmond/perfsonar/archive/947cd70c90d544d785c56c277eb4d9de/packet-count-lost-bidir/aggregations/300?offset=4500\n"
          ]
        },
        {
          "output_type": "stream",
          "name": "stderr",
          "text": [
            "/usr/local/lib/python3.10/dist-packages/urllib3/connectionpool.py:1099: InsecureRequestWarning: Unverified HTTPS request is being made to host 'monipe-central.rnp.br'. Adding certificate verification is strongly advised. See: https://urllib3.readthedocs.io/en/latest/advanced-usage.html#tls-warnings\n",
            "  warnings.warn(\n"
          ]
        },
        {
          "output_type": "stream",
          "name": "stdout",
          "text": [
            "Página : 4 = {'ts': 1721309100, 'val': 0.0}\n",
            "url de busca: http://monipe-central.rnp.br/esmond/perfsonar/archive/esmond/perfsonar/archive/947cd70c90d544d785c56c277eb4d9de/packet-count-lost-bidir/aggregations/300?offset=6000\n",
            "Página : 5 = {'ts': 1721965500, 'val': 0.0}\n",
            "url de busca: http://monipe-central.rnp.br/esmond/perfsonar/archive/esmond/perfsonar/archive/947cd70c90d544d785c56c277eb4d9de/packet-count-lost-bidir/aggregations/300?offset=7500\n"
          ]
        },
        {
          "output_type": "stream",
          "name": "stderr",
          "text": [
            "/usr/local/lib/python3.10/dist-packages/urllib3/connectionpool.py:1099: InsecureRequestWarning: Unverified HTTPS request is being made to host 'monipe-central.rnp.br'. Adding certificate verification is strongly advised. See: https://urllib3.readthedocs.io/en/latest/advanced-usage.html#tls-warnings\n",
            "  warnings.warn(\n",
            "/usr/local/lib/python3.10/dist-packages/urllib3/connectionpool.py:1099: InsecureRequestWarning: Unverified HTTPS request is being made to host 'monipe-central.rnp.br'. Adding certificate verification is strongly advised. See: https://urllib3.readthedocs.io/en/latest/advanced-usage.html#tls-warnings\n",
            "  warnings.warn(\n"
          ]
        },
        {
          "output_type": "stream",
          "name": "stdout",
          "text": [
            "Página : 6 = {'ts': 1722678900, 'val': 0.0}\n",
            "url de busca: http://monipe-central.rnp.br/esmond/perfsonar/archive/esmond/perfsonar/archive/947cd70c90d544d785c56c277eb4d9de/packet-count-lost-bidir/aggregations/300?offset=9000\n"
          ]
        },
        {
          "output_type": "stream",
          "name": "stderr",
          "text": [
            "/usr/local/lib/python3.10/dist-packages/urllib3/connectionpool.py:1099: InsecureRequestWarning: Unverified HTTPS request is being made to host 'monipe-central.rnp.br'. Adding certificate verification is strongly advised. See: https://urllib3.readthedocs.io/en/latest/advanced-usage.html#tls-warnings\n",
            "  warnings.warn(\n"
          ]
        },
        {
          "output_type": "stream",
          "name": "stdout",
          "text": [
            "Página : 7 = {'ts': 1723418700, 'val': 0.0}\n",
            "url de busca: http://monipe-central.rnp.br/esmond/perfsonar/archive/esmond/perfsonar/archive/947cd70c90d544d785c56c277eb4d9de/packet-count-lost-bidir/aggregations/300?offset=10500\n"
          ]
        },
        {
          "output_type": "stream",
          "name": "stderr",
          "text": [
            "/usr/local/lib/python3.10/dist-packages/urllib3/connectionpool.py:1099: InsecureRequestWarning: Unverified HTTPS request is being made to host 'monipe-central.rnp.br'. Adding certificate verification is strongly advised. See: https://urllib3.readthedocs.io/en/latest/advanced-usage.html#tls-warnings\n",
            "  warnings.warn(\n"
          ]
        },
        {
          "output_type": "stream",
          "name": "stdout",
          "text": [
            "Página : 8 = {'ts': 1724059800, 'val': 0.0}\n",
            "url de busca: http://monipe-central.rnp.br/esmond/perfsonar/archive/esmond/perfsonar/archive/947cd70c90d544d785c56c277eb4d9de/packet-count-lost-bidir/aggregations/300?offset=12000\n"
          ]
        },
        {
          "output_type": "stream",
          "name": "stderr",
          "text": [
            "/usr/local/lib/python3.10/dist-packages/urllib3/connectionpool.py:1099: InsecureRequestWarning: Unverified HTTPS request is being made to host 'monipe-central.rnp.br'. Adding certificate verification is strongly advised. See: https://urllib3.readthedocs.io/en/latest/advanced-usage.html#tls-warnings\n",
            "  warnings.warn(\n"
          ]
        },
        {
          "output_type": "stream",
          "name": "stdout",
          "text": [
            "Página : 9 = {'ts': 1724744100, 'val': 0.0}\n",
            "url de busca: http://monipe-central.rnp.br/esmond/perfsonar/archive/esmond/perfsonar/archive/947cd70c90d544d785c56c277eb4d9de/packet-count-lost-bidir/aggregations/300?offset=13500\n"
          ]
        },
        {
          "output_type": "stream",
          "name": "stderr",
          "text": [
            "/usr/local/lib/python3.10/dist-packages/urllib3/connectionpool.py:1099: InsecureRequestWarning: Unverified HTTPS request is being made to host 'monipe-central.rnp.br'. Adding certificate verification is strongly advised. See: https://urllib3.readthedocs.io/en/latest/advanced-usage.html#tls-warnings\n",
            "  warnings.warn(\n"
          ]
        },
        {
          "output_type": "stream",
          "name": "stdout",
          "text": [
            "Página : 10 = {'ts': 1725390000, 'val': 0.0}\n",
            "url de busca: http://monipe-central.rnp.br/esmond/perfsonar/archive/esmond/perfsonar/archive/947cd70c90d544d785c56c277eb4d9de/packet-count-lost-bidir/aggregations/300?offset=15000\n"
          ]
        },
        {
          "output_type": "stream",
          "name": "stderr",
          "text": [
            "/usr/local/lib/python3.10/dist-packages/urllib3/connectionpool.py:1099: InsecureRequestWarning: Unverified HTTPS request is being made to host 'monipe-central.rnp.br'. Adding certificate verification is strongly advised. See: https://urllib3.readthedocs.io/en/latest/advanced-usage.html#tls-warnings\n",
            "  warnings.warn(\n"
          ]
        },
        {
          "output_type": "stream",
          "name": "stdout",
          "text": [
            "Página : 11 = {'ts': 1726054500, 'val': 0.0}\n",
            "url de busca: http://monipe-central.rnp.br/esmond/perfsonar/archive/esmond/perfsonar/archive/947cd70c90d544d785c56c277eb4d9de/packet-count-lost-bidir/aggregations/300?offset=16500\n"
          ]
        },
        {
          "output_type": "stream",
          "name": "stderr",
          "text": [
            "/usr/local/lib/python3.10/dist-packages/urllib3/connectionpool.py:1099: InsecureRequestWarning: Unverified HTTPS request is being made to host 'monipe-central.rnp.br'. Adding certificate verification is strongly advised. See: https://urllib3.readthedocs.io/en/latest/advanced-usage.html#tls-warnings\n",
            "  warnings.warn(\n"
          ]
        },
        {
          "output_type": "stream",
          "name": "stdout",
          "text": [
            "Página : 12 = {'ts': 1726745100, 'val': 0.0}\n",
            "url de busca: http://monipe-central.rnp.br/esmond/perfsonar/archive/esmond/perfsonar/archive/947cd70c90d544d785c56c277eb4d9de/packet-count-lost-bidir/aggregations/300?offset=18000\n"
          ]
        },
        {
          "output_type": "stream",
          "name": "stderr",
          "text": [
            "/usr/local/lib/python3.10/dist-packages/urllib3/connectionpool.py:1099: InsecureRequestWarning: Unverified HTTPS request is being made to host 'monipe-central.rnp.br'. Adding certificate verification is strongly advised. See: https://urllib3.readthedocs.io/en/latest/advanced-usage.html#tls-warnings\n",
            "  warnings.warn(\n"
          ]
        },
        {
          "output_type": "stream",
          "name": "stdout",
          "text": [
            "Página : 13 = {'ts': 1727377200, 'val': 0.0}\n",
            "url de busca: http://monipe-central.rnp.br/esmond/perfsonar/archive/esmond/perfsonar/archive/947cd70c90d544d785c56c277eb4d9de/packet-count-lost-bidir/aggregations/300?offset=19500\n"
          ]
        },
        {
          "output_type": "stream",
          "name": "stderr",
          "text": [
            "/usr/local/lib/python3.10/dist-packages/urllib3/connectionpool.py:1099: InsecureRequestWarning: Unverified HTTPS request is being made to host 'monipe-central.rnp.br'. Adding certificate verification is strongly advised. See: https://urllib3.readthedocs.io/en/latest/advanced-usage.html#tls-warnings\n",
            "  warnings.warn(\n"
          ]
        },
        {
          "output_type": "stream",
          "name": "stdout",
          "text": [
            "Página : 14 = {'ts': 1728048300, 'val': 0.0}\n",
            "url de busca: http://monipe-central.rnp.br/esmond/perfsonar/archive/esmond/perfsonar/archive/947cd70c90d544d785c56c277eb4d9de/packet-count-lost-bidir/aggregations/300?offset=21000\n"
          ]
        },
        {
          "output_type": "stream",
          "name": "stderr",
          "text": [
            "/usr/local/lib/python3.10/dist-packages/urllib3/connectionpool.py:1099: InsecureRequestWarning: Unverified HTTPS request is being made to host 'monipe-central.rnp.br'. Adding certificate verification is strongly advised. See: https://urllib3.readthedocs.io/en/latest/advanced-usage.html#tls-warnings\n",
            "  warnings.warn(\n"
          ]
        },
        {
          "output_type": "stream",
          "name": "stdout",
          "text": [
            "Página : 15 = {'ts': 1728649500, 'val': 0.0}\n",
            "url de busca: http://monipe-central.rnp.br/esmond/perfsonar/archive/esmond/perfsonar/archive/947cd70c90d544d785c56c277eb4d9de/packet-count-lost-bidir/aggregations/300?offset=22500\n"
          ]
        },
        {
          "output_type": "stream",
          "name": "stderr",
          "text": [
            "/usr/local/lib/python3.10/dist-packages/urllib3/connectionpool.py:1099: InsecureRequestWarning: Unverified HTTPS request is being made to host 'monipe-central.rnp.br'. Adding certificate verification is strongly advised. See: https://urllib3.readthedocs.io/en/latest/advanced-usage.html#tls-warnings\n",
            "  warnings.warn(\n"
          ]
        },
        {
          "output_type": "stream",
          "name": "stdout",
          "text": [
            "Página : 16 = {'ts': 1729257600, 'val': 0.0}\n",
            "url de busca: http://monipe-central.rnp.br/esmond/perfsonar/archive/esmond/perfsonar/archive/947cd70c90d544d785c56c277eb4d9de/packet-count-lost-bidir/aggregations/300?offset=24000\n"
          ]
        },
        {
          "output_type": "stream",
          "name": "stderr",
          "text": [
            "/usr/local/lib/python3.10/dist-packages/urllib3/connectionpool.py:1099: InsecureRequestWarning: Unverified HTTPS request is being made to host 'monipe-central.rnp.br'. Adding certificate verification is strongly advised. See: https://urllib3.readthedocs.io/en/latest/advanced-usage.html#tls-warnings\n",
            "  warnings.warn(\n",
            "/usr/local/lib/python3.10/dist-packages/urllib3/connectionpool.py:1099: InsecureRequestWarning: Unverified HTTPS request is being made to host 'monipe-central.rnp.br'. Adding certificate verification is strongly advised. See: https://urllib3.readthedocs.io/en/latest/advanced-usage.html#tls-warnings\n",
            "  warnings.warn(\n"
          ]
        },
        {
          "output_type": "stream",
          "name": "stdout",
          "text": [
            "Página : 17 = {'ts': 1729870800, 'val': 0.0}\n",
            "url de busca: http://monipe-central.rnp.br/esmond/perfsonar/archive/esmond/perfsonar/archive/947cd70c90d544d785c56c277eb4d9de/packet-count-lost-bidir/aggregations/300?offset=25500\n",
            "Página : 18 = {'ts': 1730506800, 'val': 0.0}\n",
            "packet-count-lost-bidir + go\n",
            "url = http://monipe-central.rnp.br/esmond/perfsonar/archive/esmond/perfsonar/archive/61b399f712654d4ea8c8e644d19b9263/packet-count-lost-bidir/aggregations/300\n",
            "url de busca: http://monipe-central.rnp.br/esmond/perfsonar/archive/esmond/perfsonar/archive/61b399f712654d4ea8c8e644d19b9263/packet-count-lost-bidir/aggregations/300\n"
          ]
        },
        {
          "output_type": "stream",
          "name": "stderr",
          "text": [
            "/usr/local/lib/python3.10/dist-packages/urllib3/connectionpool.py:1099: InsecureRequestWarning: Unverified HTTPS request is being made to host 'monipe-central.rnp.br'. Adding certificate verification is strongly advised. See: https://urllib3.readthedocs.io/en/latest/advanced-usage.html#tls-warnings\n",
            "  warnings.warn(\n"
          ]
        },
        {
          "output_type": "stream",
          "name": "stdout",
          "text": [
            "Página : 1 = {'ts': 1719531300, 'val': 0.0}\n",
            "url de busca: http://monipe-central.rnp.br/esmond/perfsonar/archive/esmond/perfsonar/archive/61b399f712654d4ea8c8e644d19b9263/packet-count-lost-bidir/aggregations/300?offset=1500\n"
          ]
        },
        {
          "output_type": "stream",
          "name": "stderr",
          "text": [
            "/usr/local/lib/python3.10/dist-packages/urllib3/connectionpool.py:1099: InsecureRequestWarning: Unverified HTTPS request is being made to host 'monipe-central.rnp.br'. Adding certificate verification is strongly advised. See: https://urllib3.readthedocs.io/en/latest/advanced-usage.html#tls-warnings\n",
            "  warnings.warn(\n"
          ]
        },
        {
          "output_type": "stream",
          "name": "stdout",
          "text": [
            "Página : 2 = {'ts': 1720147800, 'val': 0.0}\n",
            "url de busca: http://monipe-central.rnp.br/esmond/perfsonar/archive/esmond/perfsonar/archive/61b399f712654d4ea8c8e644d19b9263/packet-count-lost-bidir/aggregations/300?offset=3000\n"
          ]
        },
        {
          "output_type": "stream",
          "name": "stderr",
          "text": [
            "/usr/local/lib/python3.10/dist-packages/urllib3/connectionpool.py:1099: InsecureRequestWarning: Unverified HTTPS request is being made to host 'monipe-central.rnp.br'. Adding certificate verification is strongly advised. See: https://urllib3.readthedocs.io/en/latest/advanced-usage.html#tls-warnings\n",
            "  warnings.warn(\n"
          ]
        },
        {
          "output_type": "stream",
          "name": "stdout",
          "text": [
            "Página : 3 = {'ts': 1720833300, 'val': 0.0}\n",
            "url de busca: http://monipe-central.rnp.br/esmond/perfsonar/archive/esmond/perfsonar/archive/61b399f712654d4ea8c8e644d19b9263/packet-count-lost-bidir/aggregations/300?offset=4500\n"
          ]
        },
        {
          "output_type": "stream",
          "name": "stderr",
          "text": [
            "/usr/local/lib/python3.10/dist-packages/urllib3/connectionpool.py:1099: InsecureRequestWarning: Unverified HTTPS request is being made to host 'monipe-central.rnp.br'. Adding certificate verification is strongly advised. See: https://urllib3.readthedocs.io/en/latest/advanced-usage.html#tls-warnings\n",
            "  warnings.warn(\n"
          ]
        },
        {
          "output_type": "stream",
          "name": "stdout",
          "text": [
            "Página : 4 = {'ts': 1721533800, 'val': 0.0}\n",
            "url de busca: http://monipe-central.rnp.br/esmond/perfsonar/archive/esmond/perfsonar/archive/61b399f712654d4ea8c8e644d19b9263/packet-count-lost-bidir/aggregations/300?offset=6000\n"
          ]
        },
        {
          "output_type": "stream",
          "name": "stderr",
          "text": [
            "/usr/local/lib/python3.10/dist-packages/urllib3/connectionpool.py:1099: InsecureRequestWarning: Unverified HTTPS request is being made to host 'monipe-central.rnp.br'. Adding certificate verification is strongly advised. See: https://urllib3.readthedocs.io/en/latest/advanced-usage.html#tls-warnings\n",
            "  warnings.warn(\n"
          ]
        },
        {
          "output_type": "stream",
          "name": "stdout",
          "text": [
            "Página : 5 = {'ts': 1722236400, 'val': 0.0}\n",
            "url de busca: http://monipe-central.rnp.br/esmond/perfsonar/archive/esmond/perfsonar/archive/61b399f712654d4ea8c8e644d19b9263/packet-count-lost-bidir/aggregations/300?offset=7500\n"
          ]
        },
        {
          "output_type": "stream",
          "name": "stderr",
          "text": [
            "/usr/local/lib/python3.10/dist-packages/urllib3/connectionpool.py:1099: InsecureRequestWarning: Unverified HTTPS request is being made to host 'monipe-central.rnp.br'. Adding certificate verification is strongly advised. See: https://urllib3.readthedocs.io/en/latest/advanced-usage.html#tls-warnings\n",
            "  warnings.warn(\n"
          ]
        },
        {
          "output_type": "stream",
          "name": "stdout",
          "text": [
            "Página : 6 = {'ts': 1722920400, 'val': 0.0}\n",
            "url de busca: http://monipe-central.rnp.br/esmond/perfsonar/archive/esmond/perfsonar/archive/61b399f712654d4ea8c8e644d19b9263/packet-count-lost-bidir/aggregations/300?offset=9000\n"
          ]
        },
        {
          "output_type": "stream",
          "name": "stderr",
          "text": [
            "/usr/local/lib/python3.10/dist-packages/urllib3/connectionpool.py:1099: InsecureRequestWarning: Unverified HTTPS request is being made to host 'monipe-central.rnp.br'. Adding certificate verification is strongly advised. See: https://urllib3.readthedocs.io/en/latest/advanced-usage.html#tls-warnings\n",
            "  warnings.warn(\n",
            "/usr/local/lib/python3.10/dist-packages/urllib3/connectionpool.py:1099: InsecureRequestWarning: Unverified HTTPS request is being made to host 'monipe-central.rnp.br'. Adding certificate verification is strongly advised. See: https://urllib3.readthedocs.io/en/latest/advanced-usage.html#tls-warnings\n",
            "  warnings.warn(\n"
          ]
        },
        {
          "output_type": "stream",
          "name": "stdout",
          "text": [
            "Página : 7 = {'ts': 1723587000, 'val': 0.0}\n",
            "url de busca: http://monipe-central.rnp.br/esmond/perfsonar/archive/esmond/perfsonar/archive/61b399f712654d4ea8c8e644d19b9263/packet-count-lost-bidir/aggregations/300?offset=10500\n",
            "Página : 8 = {'ts': 1724268300, 'val': 0.0}\n",
            "url de busca: http://monipe-central.rnp.br/esmond/perfsonar/archive/esmond/perfsonar/archive/61b399f712654d4ea8c8e644d19b9263/packet-count-lost-bidir/aggregations/300?offset=12000\n"
          ]
        },
        {
          "output_type": "stream",
          "name": "stderr",
          "text": [
            "/usr/local/lib/python3.10/dist-packages/urllib3/connectionpool.py:1099: InsecureRequestWarning: Unverified HTTPS request is being made to host 'monipe-central.rnp.br'. Adding certificate verification is strongly advised. See: https://urllib3.readthedocs.io/en/latest/advanced-usage.html#tls-warnings\n",
            "  warnings.warn(\n"
          ]
        },
        {
          "output_type": "stream",
          "name": "stdout",
          "text": [
            "Página : 9 = {'ts': 1724929500, 'val': 0.0}\n",
            "url de busca: http://monipe-central.rnp.br/esmond/perfsonar/archive/esmond/perfsonar/archive/61b399f712654d4ea8c8e644d19b9263/packet-count-lost-bidir/aggregations/300?offset=13500\n"
          ]
        },
        {
          "output_type": "stream",
          "name": "stderr",
          "text": [
            "/usr/local/lib/python3.10/dist-packages/urllib3/connectionpool.py:1099: InsecureRequestWarning: Unverified HTTPS request is being made to host 'monipe-central.rnp.br'. Adding certificate verification is strongly advised. See: https://urllib3.readthedocs.io/en/latest/advanced-usage.html#tls-warnings\n",
            "  warnings.warn(\n"
          ]
        },
        {
          "output_type": "stream",
          "name": "stdout",
          "text": [
            "Página : 10 = {'ts': 1725612000, 'val': 0.0}\n",
            "url de busca: http://monipe-central.rnp.br/esmond/perfsonar/archive/esmond/perfsonar/archive/61b399f712654d4ea8c8e644d19b9263/packet-count-lost-bidir/aggregations/300?offset=15000\n"
          ]
        },
        {
          "output_type": "stream",
          "name": "stderr",
          "text": [
            "/usr/local/lib/python3.10/dist-packages/urllib3/connectionpool.py:1099: InsecureRequestWarning: Unverified HTTPS request is being made to host 'monipe-central.rnp.br'. Adding certificate verification is strongly advised. See: https://urllib3.readthedocs.io/en/latest/advanced-usage.html#tls-warnings\n",
            "  warnings.warn(\n"
          ]
        },
        {
          "output_type": "stream",
          "name": "stdout",
          "text": [
            "Página : 11 = {'ts': 1726275300, 'val': 0.0}\n",
            "url de busca: http://monipe-central.rnp.br/esmond/perfsonar/archive/esmond/perfsonar/archive/61b399f712654d4ea8c8e644d19b9263/packet-count-lost-bidir/aggregations/300?offset=16500\n"
          ]
        },
        {
          "output_type": "stream",
          "name": "stderr",
          "text": [
            "/usr/local/lib/python3.10/dist-packages/urllib3/connectionpool.py:1099: InsecureRequestWarning: Unverified HTTPS request is being made to host 'monipe-central.rnp.br'. Adding certificate verification is strongly advised. See: https://urllib3.readthedocs.io/en/latest/advanced-usage.html#tls-warnings\n",
            "  warnings.warn(\n"
          ]
        },
        {
          "output_type": "stream",
          "name": "stdout",
          "text": [
            "Página : 12 = {'ts': 1726994400, 'val': 0.0}\n",
            "url de busca: http://monipe-central.rnp.br/esmond/perfsonar/archive/esmond/perfsonar/archive/61b399f712654d4ea8c8e644d19b9263/packet-count-lost-bidir/aggregations/300?offset=18000\n"
          ]
        },
        {
          "output_type": "stream",
          "name": "stderr",
          "text": [
            "/usr/local/lib/python3.10/dist-packages/urllib3/connectionpool.py:1099: InsecureRequestWarning: Unverified HTTPS request is being made to host 'monipe-central.rnp.br'. Adding certificate verification is strongly advised. See: https://urllib3.readthedocs.io/en/latest/advanced-usage.html#tls-warnings\n",
            "  warnings.warn(\n"
          ]
        },
        {
          "output_type": "stream",
          "name": "stdout",
          "text": [
            "Página : 13 = {'ts': 1727664900, 'val': 0.0}\n",
            "url de busca: http://monipe-central.rnp.br/esmond/perfsonar/archive/esmond/perfsonar/archive/61b399f712654d4ea8c8e644d19b9263/packet-count-lost-bidir/aggregations/300?offset=19500\n"
          ]
        },
        {
          "output_type": "stream",
          "name": "stderr",
          "text": [
            "/usr/local/lib/python3.10/dist-packages/urllib3/connectionpool.py:1099: InsecureRequestWarning: Unverified HTTPS request is being made to host 'monipe-central.rnp.br'. Adding certificate verification is strongly advised. See: https://urllib3.readthedocs.io/en/latest/advanced-usage.html#tls-warnings\n",
            "  warnings.warn(\n",
            "/usr/local/lib/python3.10/dist-packages/urllib3/connectionpool.py:1099: InsecureRequestWarning: Unverified HTTPS request is being made to host 'monipe-central.rnp.br'. Adding certificate verification is strongly advised. See: https://urllib3.readthedocs.io/en/latest/advanced-usage.html#tls-warnings\n",
            "  warnings.warn(\n"
          ]
        },
        {
          "output_type": "stream",
          "name": "stdout",
          "text": [
            "Página : 14 = {'ts': 1728342900, 'val': 0.0}\n",
            "url de busca: http://monipe-central.rnp.br/esmond/perfsonar/archive/esmond/perfsonar/archive/61b399f712654d4ea8c8e644d19b9263/packet-count-lost-bidir/aggregations/300?offset=21000\n",
            "Página : 15 = {'ts': 1729005900, 'val': 0.0}\n",
            "url de busca: http://monipe-central.rnp.br/esmond/perfsonar/archive/esmond/perfsonar/archive/61b399f712654d4ea8c8e644d19b9263/packet-count-lost-bidir/aggregations/300?offset=22500\n"
          ]
        },
        {
          "output_type": "stream",
          "name": "stderr",
          "text": [
            "/usr/local/lib/python3.10/dist-packages/urllib3/connectionpool.py:1099: InsecureRequestWarning: Unverified HTTPS request is being made to host 'monipe-central.rnp.br'. Adding certificate verification is strongly advised. See: https://urllib3.readthedocs.io/en/latest/advanced-usage.html#tls-warnings\n",
            "  warnings.warn(\n"
          ]
        },
        {
          "output_type": "stream",
          "name": "stdout",
          "text": [
            "Página : 16 = {'ts': 1729686600, 'val': 0.0}\n",
            "url de busca: http://monipe-central.rnp.br/esmond/perfsonar/archive/esmond/perfsonar/archive/61b399f712654d4ea8c8e644d19b9263/packet-count-lost-bidir/aggregations/300?offset=24000\n",
            "Página : 17 = {'ts': 1730529900, 'val': 0.0}\n",
            "packet-count-lost-bidir + mt\n",
            "url = http://monipe-central.rnp.br/esmond/perfsonar/archive/esmond/perfsonar/archive/069094fb550a41a88f3baf37b370a94f/packet-count-lost-bidir/aggregations/300\n",
            "url de busca: http://monipe-central.rnp.br/esmond/perfsonar/archive/esmond/perfsonar/archive/069094fb550a41a88f3baf37b370a94f/packet-count-lost-bidir/aggregations/300\n"
          ]
        },
        {
          "output_type": "stream",
          "name": "stderr",
          "text": [
            "/usr/local/lib/python3.10/dist-packages/urllib3/connectionpool.py:1099: InsecureRequestWarning: Unverified HTTPS request is being made to host 'monipe-central.rnp.br'. Adding certificate verification is strongly advised. See: https://urllib3.readthedocs.io/en/latest/advanced-usage.html#tls-warnings\n",
            "  warnings.warn(\n",
            "/usr/local/lib/python3.10/dist-packages/urllib3/connectionpool.py:1099: InsecureRequestWarning: Unverified HTTPS request is being made to host 'monipe-central.rnp.br'. Adding certificate verification is strongly advised. See: https://urllib3.readthedocs.io/en/latest/advanced-usage.html#tls-warnings\n",
            "  warnings.warn(\n"
          ]
        },
        {
          "output_type": "stream",
          "name": "stdout",
          "text": [
            "Página : 1 = {'ts': 1719531300, 'val': 0.0}\n",
            "url de busca: http://monipe-central.rnp.br/esmond/perfsonar/archive/esmond/perfsonar/archive/069094fb550a41a88f3baf37b370a94f/packet-count-lost-bidir/aggregations/300?offset=1500\n"
          ]
        },
        {
          "output_type": "stream",
          "name": "stderr",
          "text": [
            "/usr/local/lib/python3.10/dist-packages/urllib3/connectionpool.py:1099: InsecureRequestWarning: Unverified HTTPS request is being made to host 'monipe-central.rnp.br'. Adding certificate verification is strongly advised. See: https://urllib3.readthedocs.io/en/latest/advanced-usage.html#tls-warnings\n",
            "  warnings.warn(\n"
          ]
        },
        {
          "output_type": "stream",
          "name": "stdout",
          "text": [
            "Página : 2 = {'ts': 1720163100, 'val': 0.0}\n",
            "url de busca: http://monipe-central.rnp.br/esmond/perfsonar/archive/esmond/perfsonar/archive/069094fb550a41a88f3baf37b370a94f/packet-count-lost-bidir/aggregations/300?offset=3000\n"
          ]
        },
        {
          "output_type": "stream",
          "name": "stderr",
          "text": [
            "/usr/local/lib/python3.10/dist-packages/urllib3/connectionpool.py:1099: InsecureRequestWarning: Unverified HTTPS request is being made to host 'monipe-central.rnp.br'. Adding certificate verification is strongly advised. See: https://urllib3.readthedocs.io/en/latest/advanced-usage.html#tls-warnings\n",
            "  warnings.warn(\n"
          ]
        },
        {
          "output_type": "stream",
          "name": "stdout",
          "text": [
            "Página : 3 = {'ts': 1720840500, 'val': 0.0}\n",
            "url de busca: http://monipe-central.rnp.br/esmond/perfsonar/archive/esmond/perfsonar/archive/069094fb550a41a88f3baf37b370a94f/packet-count-lost-bidir/aggregations/300?offset=4500\n"
          ]
        },
        {
          "output_type": "stream",
          "name": "stderr",
          "text": [
            "/usr/local/lib/python3.10/dist-packages/urllib3/connectionpool.py:1099: InsecureRequestWarning: Unverified HTTPS request is being made to host 'monipe-central.rnp.br'. Adding certificate verification is strongly advised. See: https://urllib3.readthedocs.io/en/latest/advanced-usage.html#tls-warnings\n",
            "  warnings.warn(\n"
          ]
        },
        {
          "output_type": "stream",
          "name": "stdout",
          "text": [
            "Página : 4 = {'ts': 1721534400, 'val': 0.0}\n",
            "url de busca: http://monipe-central.rnp.br/esmond/perfsonar/archive/esmond/perfsonar/archive/069094fb550a41a88f3baf37b370a94f/packet-count-lost-bidir/aggregations/300?offset=6000\n"
          ]
        },
        {
          "output_type": "stream",
          "name": "stderr",
          "text": [
            "/usr/local/lib/python3.10/dist-packages/urllib3/connectionpool.py:1099: InsecureRequestWarning: Unverified HTTPS request is being made to host 'monipe-central.rnp.br'. Adding certificate verification is strongly advised. See: https://urllib3.readthedocs.io/en/latest/advanced-usage.html#tls-warnings\n",
            "  warnings.warn(\n"
          ]
        },
        {
          "output_type": "stream",
          "name": "stdout",
          "text": [
            "Página : 5 = {'ts': 1722190500, 'val': 0.0}\n",
            "url de busca: http://monipe-central.rnp.br/esmond/perfsonar/archive/esmond/perfsonar/archive/069094fb550a41a88f3baf37b370a94f/packet-count-lost-bidir/aggregations/300?offset=7500\n"
          ]
        },
        {
          "output_type": "stream",
          "name": "stderr",
          "text": [
            "/usr/local/lib/python3.10/dist-packages/urllib3/connectionpool.py:1099: InsecureRequestWarning: Unverified HTTPS request is being made to host 'monipe-central.rnp.br'. Adding certificate verification is strongly advised. See: https://urllib3.readthedocs.io/en/latest/advanced-usage.html#tls-warnings\n",
            "  warnings.warn(\n"
          ]
        },
        {
          "output_type": "stream",
          "name": "stdout",
          "text": [
            "Página : 6 = {'ts': 1722852600, 'val': 0.0}\n",
            "url de busca: http://monipe-central.rnp.br/esmond/perfsonar/archive/esmond/perfsonar/archive/069094fb550a41a88f3baf37b370a94f/packet-count-lost-bidir/aggregations/300?offset=9000\n"
          ]
        },
        {
          "output_type": "stream",
          "name": "stderr",
          "text": [
            "/usr/local/lib/python3.10/dist-packages/urllib3/connectionpool.py:1099: InsecureRequestWarning: Unverified HTTPS request is being made to host 'monipe-central.rnp.br'. Adding certificate verification is strongly advised. See: https://urllib3.readthedocs.io/en/latest/advanced-usage.html#tls-warnings\n",
            "  warnings.warn(\n"
          ]
        },
        {
          "output_type": "stream",
          "name": "stdout",
          "text": [
            "Página : 7 = {'ts': 1723506600, 'val': 0.0}\n",
            "url de busca: http://monipe-central.rnp.br/esmond/perfsonar/archive/esmond/perfsonar/archive/069094fb550a41a88f3baf37b370a94f/packet-count-lost-bidir/aggregations/300?offset=10500\n"
          ]
        },
        {
          "output_type": "stream",
          "name": "stderr",
          "text": [
            "/usr/local/lib/python3.10/dist-packages/urllib3/connectionpool.py:1099: InsecureRequestWarning: Unverified HTTPS request is being made to host 'monipe-central.rnp.br'. Adding certificate verification is strongly advised. See: https://urllib3.readthedocs.io/en/latest/advanced-usage.html#tls-warnings\n",
            "  warnings.warn(\n"
          ]
        },
        {
          "output_type": "stream",
          "name": "stdout",
          "text": [
            "Página : 8 = {'ts': 1724188500, 'val': 0.0}\n",
            "url de busca: http://monipe-central.rnp.br/esmond/perfsonar/archive/esmond/perfsonar/archive/069094fb550a41a88f3baf37b370a94f/packet-count-lost-bidir/aggregations/300?offset=12000\n"
          ]
        },
        {
          "output_type": "stream",
          "name": "stderr",
          "text": [
            "/usr/local/lib/python3.10/dist-packages/urllib3/connectionpool.py:1099: InsecureRequestWarning: Unverified HTTPS request is being made to host 'monipe-central.rnp.br'. Adding certificate verification is strongly advised. See: https://urllib3.readthedocs.io/en/latest/advanced-usage.html#tls-warnings\n",
            "  warnings.warn(\n"
          ]
        },
        {
          "output_type": "stream",
          "name": "stdout",
          "text": [
            "Página : 9 = {'ts': 1724867100, 'val': 0.0}\n",
            "url de busca: http://monipe-central.rnp.br/esmond/perfsonar/archive/esmond/perfsonar/archive/069094fb550a41a88f3baf37b370a94f/packet-count-lost-bidir/aggregations/300?offset=13500\n"
          ]
        },
        {
          "output_type": "stream",
          "name": "stderr",
          "text": [
            "/usr/local/lib/python3.10/dist-packages/urllib3/connectionpool.py:1099: InsecureRequestWarning: Unverified HTTPS request is being made to host 'monipe-central.rnp.br'. Adding certificate verification is strongly advised. See: https://urllib3.readthedocs.io/en/latest/advanced-usage.html#tls-warnings\n",
            "  warnings.warn(\n"
          ]
        },
        {
          "output_type": "stream",
          "name": "stdout",
          "text": [
            "Página : 10 = {'ts': 1725755400, 'val': 0.0}\n",
            "url de busca: http://monipe-central.rnp.br/esmond/perfsonar/archive/esmond/perfsonar/archive/069094fb550a41a88f3baf37b370a94f/packet-count-lost-bidir/aggregations/300?offset=15000\n"
          ]
        },
        {
          "output_type": "stream",
          "name": "stderr",
          "text": [
            "/usr/local/lib/python3.10/dist-packages/urllib3/connectionpool.py:1099: InsecureRequestWarning: Unverified HTTPS request is being made to host 'monipe-central.rnp.br'. Adding certificate verification is strongly advised. See: https://urllib3.readthedocs.io/en/latest/advanced-usage.html#tls-warnings\n",
            "  warnings.warn(\n"
          ]
        },
        {
          "output_type": "stream",
          "name": "stdout",
          "text": [
            "Página : 11 = {'ts': 1726569300, 'val': 0.0}\n",
            "url de busca: http://monipe-central.rnp.br/esmond/perfsonar/archive/esmond/perfsonar/archive/069094fb550a41a88f3baf37b370a94f/packet-count-lost-bidir/aggregations/300?offset=16500\n"
          ]
        },
        {
          "output_type": "stream",
          "name": "stderr",
          "text": [
            "/usr/local/lib/python3.10/dist-packages/urllib3/connectionpool.py:1099: InsecureRequestWarning: Unverified HTTPS request is being made to host 'monipe-central.rnp.br'. Adding certificate verification is strongly advised. See: https://urllib3.readthedocs.io/en/latest/advanced-usage.html#tls-warnings\n",
            "  warnings.warn(\n"
          ]
        },
        {
          "output_type": "stream",
          "name": "stdout",
          "text": [
            "Página : 12 = {'ts': 1727199300, 'val': 0.0}\n",
            "url de busca: http://monipe-central.rnp.br/esmond/perfsonar/archive/esmond/perfsonar/archive/069094fb550a41a88f3baf37b370a94f/packet-count-lost-bidir/aggregations/300?offset=18000\n"
          ]
        },
        {
          "output_type": "stream",
          "name": "stderr",
          "text": [
            "/usr/local/lib/python3.10/dist-packages/urllib3/connectionpool.py:1099: InsecureRequestWarning: Unverified HTTPS request is being made to host 'monipe-central.rnp.br'. Adding certificate verification is strongly advised. See: https://urllib3.readthedocs.io/en/latest/advanced-usage.html#tls-warnings\n",
            "  warnings.warn(\n"
          ]
        },
        {
          "output_type": "stream",
          "name": "stdout",
          "text": [
            "Página : 13 = {'ts': 1727823000, 'val': 0.0}\n",
            "url de busca: http://monipe-central.rnp.br/esmond/perfsonar/archive/esmond/perfsonar/archive/069094fb550a41a88f3baf37b370a94f/packet-count-lost-bidir/aggregations/300?offset=19500\n"
          ]
        },
        {
          "output_type": "stream",
          "name": "stderr",
          "text": [
            "/usr/local/lib/python3.10/dist-packages/urllib3/connectionpool.py:1099: InsecureRequestWarning: Unverified HTTPS request is being made to host 'monipe-central.rnp.br'. Adding certificate verification is strongly advised. See: https://urllib3.readthedocs.io/en/latest/advanced-usage.html#tls-warnings\n",
            "  warnings.warn(\n"
          ]
        },
        {
          "output_type": "stream",
          "name": "stdout",
          "text": [
            "Página : 14 = {'ts': 1728497100, 'val': 0.0}\n",
            "url de busca: http://monipe-central.rnp.br/esmond/perfsonar/archive/esmond/perfsonar/archive/069094fb550a41a88f3baf37b370a94f/packet-count-lost-bidir/aggregations/300?offset=21000\n"
          ]
        },
        {
          "output_type": "stream",
          "name": "stderr",
          "text": [
            "/usr/local/lib/python3.10/dist-packages/urllib3/connectionpool.py:1099: InsecureRequestWarning: Unverified HTTPS request is being made to host 'monipe-central.rnp.br'. Adding certificate verification is strongly advised. See: https://urllib3.readthedocs.io/en/latest/advanced-usage.html#tls-warnings\n",
            "  warnings.warn(\n"
          ]
        },
        {
          "output_type": "stream",
          "name": "stdout",
          "text": [
            "Página : 15 = {'ts': 1729129200, 'val': 0.0}\n",
            "url de busca: http://monipe-central.rnp.br/esmond/perfsonar/archive/esmond/perfsonar/archive/069094fb550a41a88f3baf37b370a94f/packet-count-lost-bidir/aggregations/300?offset=22500\n"
          ]
        },
        {
          "output_type": "stream",
          "name": "stderr",
          "text": [
            "/usr/local/lib/python3.10/dist-packages/urllib3/connectionpool.py:1099: InsecureRequestWarning: Unverified HTTPS request is being made to host 'monipe-central.rnp.br'. Adding certificate verification is strongly advised. See: https://urllib3.readthedocs.io/en/latest/advanced-usage.html#tls-warnings\n",
            "  warnings.warn(\n"
          ]
        },
        {
          "output_type": "stream",
          "name": "stdout",
          "text": [
            "Página : 16 = {'ts': 1729815900, 'val': 0.0}\n",
            "url de busca: http://monipe-central.rnp.br/esmond/perfsonar/archive/esmond/perfsonar/archive/069094fb550a41a88f3baf37b370a94f/packet-count-lost-bidir/aggregations/300?offset=24000\n"
          ]
        },
        {
          "output_type": "stream",
          "name": "stderr",
          "text": [
            "/usr/local/lib/python3.10/dist-packages/urllib3/connectionpool.py:1099: InsecureRequestWarning: Unverified HTTPS request is being made to host 'monipe-central.rnp.br'. Adding certificate verification is strongly advised. See: https://urllib3.readthedocs.io/en/latest/advanced-usage.html#tls-warnings\n",
            "  warnings.warn(\n"
          ]
        },
        {
          "output_type": "stream",
          "name": "stdout",
          "text": [
            "Página : 17 = {'ts': 1730451000, 'val': 0.0}\n",
            "url de busca: http://monipe-central.rnp.br/esmond/perfsonar/archive/esmond/perfsonar/archive/069094fb550a41a88f3baf37b370a94f/packet-count-lost-bidir/aggregations/300?offset=25500\n"
          ]
        },
        {
          "output_type": "stream",
          "name": "stderr",
          "text": [
            "/usr/local/lib/python3.10/dist-packages/urllib3/connectionpool.py:1099: InsecureRequestWarning: Unverified HTTPS request is being made to host 'monipe-central.rnp.br'. Adding certificate verification is strongly advised. See: https://urllib3.readthedocs.io/en/latest/advanced-usage.html#tls-warnings\n",
            "  warnings.warn(\n"
          ]
        },
        {
          "output_type": "stream",
          "name": "stdout",
          "text": [
            "Página : 18 = {'ts': 1731135900, 'val': 0.0}\n",
            "url de busca: http://monipe-central.rnp.br/esmond/perfsonar/archive/esmond/perfsonar/archive/069094fb550a41a88f3baf37b370a94f/packet-count-lost-bidir/aggregations/300?offset=27000\n"
          ]
        },
        {
          "output_type": "stream",
          "name": "stderr",
          "text": [
            "/usr/local/lib/python3.10/dist-packages/urllib3/connectionpool.py:1099: InsecureRequestWarning: Unverified HTTPS request is being made to host 'monipe-central.rnp.br'. Adding certificate verification is strongly advised. See: https://urllib3.readthedocs.io/en/latest/advanced-usage.html#tls-warnings\n",
            "  warnings.warn(\n"
          ]
        },
        {
          "output_type": "stream",
          "name": "stdout",
          "text": [
            "Página : 19 = {'ts': 1731774600, 'val': 0.0}\n",
            "packet-count-lost-bidir + pb\n",
            "url = http://monipe-central.rnp.br/esmond/perfsonar/archive/esmond/perfsonar/archive/a0fb385451e447788d0b126e03263342/packet-count-lost-bidir/aggregations/300\n",
            "url de busca: http://monipe-central.rnp.br/esmond/perfsonar/archive/esmond/perfsonar/archive/a0fb385451e447788d0b126e03263342/packet-count-lost-bidir/aggregations/300\n"
          ]
        },
        {
          "output_type": "stream",
          "name": "stderr",
          "text": [
            "/usr/local/lib/python3.10/dist-packages/urllib3/connectionpool.py:1099: InsecureRequestWarning: Unverified HTTPS request is being made to host 'monipe-central.rnp.br'. Adding certificate verification is strongly advised. See: https://urllib3.readthedocs.io/en/latest/advanced-usage.html#tls-warnings\n",
            "  warnings.warn(\n"
          ]
        },
        {
          "output_type": "stream",
          "name": "stdout",
          "text": [
            "Página : 1 = {'ts': 1719531300, 'val': 0.0}\n",
            "url de busca: http://monipe-central.rnp.br/esmond/perfsonar/archive/esmond/perfsonar/archive/a0fb385451e447788d0b126e03263342/packet-count-lost-bidir/aggregations/300?offset=1500\n"
          ]
        },
        {
          "output_type": "stream",
          "name": "stderr",
          "text": [
            "/usr/local/lib/python3.10/dist-packages/urllib3/connectionpool.py:1099: InsecureRequestWarning: Unverified HTTPS request is being made to host 'monipe-central.rnp.br'. Adding certificate verification is strongly advised. See: https://urllib3.readthedocs.io/en/latest/advanced-usage.html#tls-warnings\n",
            "  warnings.warn(\n"
          ]
        },
        {
          "output_type": "stream",
          "name": "stdout",
          "text": [
            "Página : 2 = {'ts': 1720160700, 'val': 0.0}\n",
            "url de busca: http://monipe-central.rnp.br/esmond/perfsonar/archive/esmond/perfsonar/archive/a0fb385451e447788d0b126e03263342/packet-count-lost-bidir/aggregations/300?offset=3000\n"
          ]
        },
        {
          "output_type": "stream",
          "name": "stderr",
          "text": [
            "/usr/local/lib/python3.10/dist-packages/urllib3/connectionpool.py:1099: InsecureRequestWarning: Unverified HTTPS request is being made to host 'monipe-central.rnp.br'. Adding certificate verification is strongly advised. See: https://urllib3.readthedocs.io/en/latest/advanced-usage.html#tls-warnings\n",
            "  warnings.warn(\n"
          ]
        },
        {
          "output_type": "stream",
          "name": "stdout",
          "text": [
            "Página : 3 = {'ts': 1720819500, 'val': 0.0}\n",
            "url de busca: http://monipe-central.rnp.br/esmond/perfsonar/archive/esmond/perfsonar/archive/a0fb385451e447788d0b126e03263342/packet-count-lost-bidir/aggregations/300?offset=4500\n"
          ]
        },
        {
          "output_type": "stream",
          "name": "stderr",
          "text": [
            "/usr/local/lib/python3.10/dist-packages/urllib3/connectionpool.py:1099: InsecureRequestWarning: Unverified HTTPS request is being made to host 'monipe-central.rnp.br'. Adding certificate verification is strongly advised. See: https://urllib3.readthedocs.io/en/latest/advanced-usage.html#tls-warnings\n",
            "  warnings.warn(\n"
          ]
        },
        {
          "output_type": "stream",
          "name": "stdout",
          "text": [
            "Página : 4 = {'ts': 1721494800, 'val': 0.0}\n",
            "url de busca: http://monipe-central.rnp.br/esmond/perfsonar/archive/esmond/perfsonar/archive/a0fb385451e447788d0b126e03263342/packet-count-lost-bidir/aggregations/300?offset=6000\n"
          ]
        },
        {
          "output_type": "stream",
          "name": "stderr",
          "text": [
            "/usr/local/lib/python3.10/dist-packages/urllib3/connectionpool.py:1099: InsecureRequestWarning: Unverified HTTPS request is being made to host 'monipe-central.rnp.br'. Adding certificate verification is strongly advised. See: https://urllib3.readthedocs.io/en/latest/advanced-usage.html#tls-warnings\n",
            "  warnings.warn(\n"
          ]
        },
        {
          "output_type": "stream",
          "name": "stdout",
          "text": [
            "Página : 5 = {'ts': 1722168000, 'val': 0.0}\n",
            "url de busca: http://monipe-central.rnp.br/esmond/perfsonar/archive/esmond/perfsonar/archive/a0fb385451e447788d0b126e03263342/packet-count-lost-bidir/aggregations/300?offset=7500\n"
          ]
        },
        {
          "output_type": "stream",
          "name": "stderr",
          "text": [
            "/usr/local/lib/python3.10/dist-packages/urllib3/connectionpool.py:1099: InsecureRequestWarning: Unverified HTTPS request is being made to host 'monipe-central.rnp.br'. Adding certificate verification is strongly advised. See: https://urllib3.readthedocs.io/en/latest/advanced-usage.html#tls-warnings\n",
            "  warnings.warn(\n"
          ]
        },
        {
          "output_type": "stream",
          "name": "stdout",
          "text": [
            "Página : 6 = {'ts': 1722838200, 'val': 0.0}\n",
            "url de busca: http://monipe-central.rnp.br/esmond/perfsonar/archive/esmond/perfsonar/archive/a0fb385451e447788d0b126e03263342/packet-count-lost-bidir/aggregations/300?offset=9000\n"
          ]
        },
        {
          "output_type": "stream",
          "name": "stderr",
          "text": [
            "/usr/local/lib/python3.10/dist-packages/urllib3/connectionpool.py:1099: InsecureRequestWarning: Unverified HTTPS request is being made to host 'monipe-central.rnp.br'. Adding certificate verification is strongly advised. See: https://urllib3.readthedocs.io/en/latest/advanced-usage.html#tls-warnings\n",
            "  warnings.warn(\n"
          ]
        },
        {
          "output_type": "stream",
          "name": "stdout",
          "text": [
            "Página : 7 = {'ts': 1723527300, 'val': 0.0}\n",
            "url de busca: http://monipe-central.rnp.br/esmond/perfsonar/archive/esmond/perfsonar/archive/a0fb385451e447788d0b126e03263342/packet-count-lost-bidir/aggregations/300?offset=10500\n"
          ]
        },
        {
          "output_type": "stream",
          "name": "stderr",
          "text": [
            "/usr/local/lib/python3.10/dist-packages/urllib3/connectionpool.py:1099: InsecureRequestWarning: Unverified HTTPS request is being made to host 'monipe-central.rnp.br'. Adding certificate verification is strongly advised. See: https://urllib3.readthedocs.io/en/latest/advanced-usage.html#tls-warnings\n",
            "  warnings.warn(\n"
          ]
        },
        {
          "output_type": "stream",
          "name": "stdout",
          "text": [
            "Página : 8 = {'ts': 1724346900, 'val': 0.0}\n",
            "url de busca: http://monipe-central.rnp.br/esmond/perfsonar/archive/esmond/perfsonar/archive/a0fb385451e447788d0b126e03263342/packet-count-lost-bidir/aggregations/300?offset=12000\n"
          ]
        },
        {
          "output_type": "stream",
          "name": "stderr",
          "text": [
            "/usr/local/lib/python3.10/dist-packages/urllib3/connectionpool.py:1099: InsecureRequestWarning: Unverified HTTPS request is being made to host 'monipe-central.rnp.br'. Adding certificate verification is strongly advised. See: https://urllib3.readthedocs.io/en/latest/advanced-usage.html#tls-warnings\n",
            "  warnings.warn(\n"
          ]
        },
        {
          "output_type": "stream",
          "name": "stdout",
          "text": [
            "Página : 9 = {'ts': 1725231600, 'val': 0.0}\n",
            "url de busca: http://monipe-central.rnp.br/esmond/perfsonar/archive/esmond/perfsonar/archive/a0fb385451e447788d0b126e03263342/packet-count-lost-bidir/aggregations/300?offset=13500\n"
          ]
        },
        {
          "output_type": "stream",
          "name": "stderr",
          "text": [
            "/usr/local/lib/python3.10/dist-packages/urllib3/connectionpool.py:1099: InsecureRequestWarning: Unverified HTTPS request is being made to host 'monipe-central.rnp.br'. Adding certificate verification is strongly advised. See: https://urllib3.readthedocs.io/en/latest/advanced-usage.html#tls-warnings\n",
            "  warnings.warn(\n"
          ]
        },
        {
          "output_type": "stream",
          "name": "stdout",
          "text": [
            "Página : 10 = {'ts': 1725923700, 'val': 0.0}\n",
            "url de busca: http://monipe-central.rnp.br/esmond/perfsonar/archive/esmond/perfsonar/archive/a0fb385451e447788d0b126e03263342/packet-count-lost-bidir/aggregations/300?offset=15000\n"
          ]
        },
        {
          "output_type": "stream",
          "name": "stderr",
          "text": [
            "/usr/local/lib/python3.10/dist-packages/urllib3/connectionpool.py:1099: InsecureRequestWarning: Unverified HTTPS request is being made to host 'monipe-central.rnp.br'. Adding certificate verification is strongly advised. See: https://urllib3.readthedocs.io/en/latest/advanced-usage.html#tls-warnings\n",
            "  warnings.warn(\n"
          ]
        },
        {
          "output_type": "stream",
          "name": "stdout",
          "text": [
            "Página : 11 = {'ts': 1726578900, 'val': 10.0}\n",
            "url de busca: http://monipe-central.rnp.br/esmond/perfsonar/archive/esmond/perfsonar/archive/a0fb385451e447788d0b126e03263342/packet-count-lost-bidir/aggregations/300?offset=16500\n"
          ]
        },
        {
          "output_type": "stream",
          "name": "stderr",
          "text": [
            "/usr/local/lib/python3.10/dist-packages/urllib3/connectionpool.py:1099: InsecureRequestWarning: Unverified HTTPS request is being made to host 'monipe-central.rnp.br'. Adding certificate verification is strongly advised. See: https://urllib3.readthedocs.io/en/latest/advanced-usage.html#tls-warnings\n",
            "  warnings.warn(\n"
          ]
        },
        {
          "output_type": "stream",
          "name": "stdout",
          "text": [
            "Página : 12 = {'ts': 1727253600, 'val': 0.0}\n",
            "url de busca: http://monipe-central.rnp.br/esmond/perfsonar/archive/esmond/perfsonar/archive/a0fb385451e447788d0b126e03263342/packet-count-lost-bidir/aggregations/300?offset=18000\n"
          ]
        },
        {
          "output_type": "stream",
          "name": "stderr",
          "text": [
            "/usr/local/lib/python3.10/dist-packages/urllib3/connectionpool.py:1099: InsecureRequestWarning: Unverified HTTPS request is being made to host 'monipe-central.rnp.br'. Adding certificate verification is strongly advised. See: https://urllib3.readthedocs.io/en/latest/advanced-usage.html#tls-warnings\n",
            "  warnings.warn(\n",
            "/usr/local/lib/python3.10/dist-packages/urllib3/connectionpool.py:1099: InsecureRequestWarning: Unverified HTTPS request is being made to host 'monipe-central.rnp.br'. Adding certificate verification is strongly advised. See: https://urllib3.readthedocs.io/en/latest/advanced-usage.html#tls-warnings\n",
            "  warnings.warn(\n"
          ]
        },
        {
          "output_type": "stream",
          "name": "stdout",
          "text": [
            "Página : 13 = {'ts': 1727917200, 'val': 0.0}\n",
            "url de busca: http://monipe-central.rnp.br/esmond/perfsonar/archive/esmond/perfsonar/archive/a0fb385451e447788d0b126e03263342/packet-count-lost-bidir/aggregations/300?offset=19500\n",
            "Página : 14 = {'ts': 1728628200, 'val': 0.0}\n",
            "url de busca: http://monipe-central.rnp.br/esmond/perfsonar/archive/esmond/perfsonar/archive/a0fb385451e447788d0b126e03263342/packet-count-lost-bidir/aggregations/300?offset=21000\n"
          ]
        },
        {
          "output_type": "stream",
          "name": "stderr",
          "text": [
            "/usr/local/lib/python3.10/dist-packages/urllib3/connectionpool.py:1099: InsecureRequestWarning: Unverified HTTPS request is being made to host 'monipe-central.rnp.br'. Adding certificate verification is strongly advised. See: https://urllib3.readthedocs.io/en/latest/advanced-usage.html#tls-warnings\n",
            "  warnings.warn(\n"
          ]
        },
        {
          "output_type": "stream",
          "name": "stdout",
          "text": [
            "Página : 15 = {'ts': 1729318200, 'val': 0.0}\n",
            "url de busca: http://monipe-central.rnp.br/esmond/perfsonar/archive/esmond/perfsonar/archive/a0fb385451e447788d0b126e03263342/packet-count-lost-bidir/aggregations/300?offset=22500\n"
          ]
        },
        {
          "output_type": "stream",
          "name": "stderr",
          "text": [
            "/usr/local/lib/python3.10/dist-packages/urllib3/connectionpool.py:1099: InsecureRequestWarning: Unverified HTTPS request is being made to host 'monipe-central.rnp.br'. Adding certificate verification is strongly advised. See: https://urllib3.readthedocs.io/en/latest/advanced-usage.html#tls-warnings\n",
            "  warnings.warn(\n"
          ]
        },
        {
          "output_type": "stream",
          "name": "stdout",
          "text": [
            "Página : 16 = {'ts': 1729961100, 'val': 0.0}\n",
            "url de busca: http://monipe-central.rnp.br/esmond/perfsonar/archive/esmond/perfsonar/archive/a0fb385451e447788d0b126e03263342/packet-count-lost-bidir/aggregations/300?offset=24000\n"
          ]
        },
        {
          "output_type": "stream",
          "name": "stderr",
          "text": [
            "/usr/local/lib/python3.10/dist-packages/urllib3/connectionpool.py:1099: InsecureRequestWarning: Unverified HTTPS request is being made to host 'monipe-central.rnp.br'. Adding certificate verification is strongly advised. See: https://urllib3.readthedocs.io/en/latest/advanced-usage.html#tls-warnings\n",
            "  warnings.warn(\n"
          ]
        },
        {
          "output_type": "stream",
          "name": "stdout",
          "text": [
            "Página : 17 = {'ts': 1730700300, 'val': 0.0}\n",
            "url de busca: http://monipe-central.rnp.br/esmond/perfsonar/archive/esmond/perfsonar/archive/a0fb385451e447788d0b126e03263342/packet-count-lost-bidir/aggregations/300?offset=25500\n"
          ]
        },
        {
          "output_type": "stream",
          "name": "stderr",
          "text": [
            "/usr/local/lib/python3.10/dist-packages/urllib3/connectionpool.py:1099: InsecureRequestWarning: Unverified HTTPS request is being made to host 'monipe-central.rnp.br'. Adding certificate verification is strongly advised. See: https://urllib3.readthedocs.io/en/latest/advanced-usage.html#tls-warnings\n",
            "  warnings.warn(\n"
          ]
        },
        {
          "output_type": "stream",
          "name": "stdout",
          "text": [
            "Página : 18 = {'ts': 1731428700, 'val': 0.0}\n",
            "url de busca: http://monipe-central.rnp.br/esmond/perfsonar/archive/esmond/perfsonar/archive/a0fb385451e447788d0b126e03263342/packet-count-lost-bidir/aggregations/300?offset=27000\n"
          ]
        },
        {
          "output_type": "stream",
          "name": "stderr",
          "text": [
            "/usr/local/lib/python3.10/dist-packages/urllib3/connectionpool.py:1099: InsecureRequestWarning: Unverified HTTPS request is being made to host 'monipe-central.rnp.br'. Adding certificate verification is strongly advised. See: https://urllib3.readthedocs.io/en/latest/advanced-usage.html#tls-warnings\n",
            "  warnings.warn(\n"
          ]
        },
        {
          "output_type": "stream",
          "name": "stdout",
          "text": [
            "Página : 19 = {'ts': 1732087200, 'val': 0.0}\n",
            "packet-count-lost-bidir + pe\n",
            "url = http://monipe-central.rnp.br/esmond/perfsonar/archive/esmond/perfsonar/archive/f5a52ea566264898a5183711a7aea870/packet-count-lost-bidir/aggregations/300\n",
            "url de busca: http://monipe-central.rnp.br/esmond/perfsonar/archive/esmond/perfsonar/archive/f5a52ea566264898a5183711a7aea870/packet-count-lost-bidir/aggregations/300\n"
          ]
        },
        {
          "output_type": "stream",
          "name": "stderr",
          "text": [
            "/usr/local/lib/python3.10/dist-packages/urllib3/connectionpool.py:1099: InsecureRequestWarning: Unverified HTTPS request is being made to host 'monipe-central.rnp.br'. Adding certificate verification is strongly advised. See: https://urllib3.readthedocs.io/en/latest/advanced-usage.html#tls-warnings\n",
            "  warnings.warn(\n"
          ]
        },
        {
          "output_type": "stream",
          "name": "stdout",
          "text": [
            "Página : 1 = {'ts': 1719531300, 'val': 0.0}\n",
            "url de busca: http://monipe-central.rnp.br/esmond/perfsonar/archive/esmond/perfsonar/archive/f5a52ea566264898a5183711a7aea870/packet-count-lost-bidir/aggregations/300?offset=1500\n"
          ]
        },
        {
          "output_type": "stream",
          "name": "stderr",
          "text": [
            "/usr/local/lib/python3.10/dist-packages/urllib3/connectionpool.py:1099: InsecureRequestWarning: Unverified HTTPS request is being made to host 'monipe-central.rnp.br'. Adding certificate verification is strongly advised. See: https://urllib3.readthedocs.io/en/latest/advanced-usage.html#tls-warnings\n",
            "  warnings.warn(\n"
          ]
        },
        {
          "output_type": "stream",
          "name": "stdout",
          "text": [
            "Página : 2 = {'ts': 1720126800, 'val': 0.0}\n",
            "url de busca: http://monipe-central.rnp.br/esmond/perfsonar/archive/esmond/perfsonar/archive/f5a52ea566264898a5183711a7aea870/packet-count-lost-bidir/aggregations/300?offset=3000\n"
          ]
        },
        {
          "output_type": "stream",
          "name": "stderr",
          "text": [
            "/usr/local/lib/python3.10/dist-packages/urllib3/connectionpool.py:1099: InsecureRequestWarning: Unverified HTTPS request is being made to host 'monipe-central.rnp.br'. Adding certificate verification is strongly advised. See: https://urllib3.readthedocs.io/en/latest/advanced-usage.html#tls-warnings\n",
            "  warnings.warn(\n"
          ]
        },
        {
          "output_type": "stream",
          "name": "stdout",
          "text": [
            "Página : 3 = {'ts': 1720733400, 'val': 0.0}\n",
            "url de busca: http://monipe-central.rnp.br/esmond/perfsonar/archive/esmond/perfsonar/archive/f5a52ea566264898a5183711a7aea870/packet-count-lost-bidir/aggregations/300?offset=4500\n"
          ]
        },
        {
          "output_type": "stream",
          "name": "stderr",
          "text": [
            "/usr/local/lib/python3.10/dist-packages/urllib3/connectionpool.py:1099: InsecureRequestWarning: Unverified HTTPS request is being made to host 'monipe-central.rnp.br'. Adding certificate verification is strongly advised. See: https://urllib3.readthedocs.io/en/latest/advanced-usage.html#tls-warnings\n",
            "  warnings.warn(\n",
            "/usr/local/lib/python3.10/dist-packages/urllib3/connectionpool.py:1099: InsecureRequestWarning: Unverified HTTPS request is being made to host 'monipe-central.rnp.br'. Adding certificate verification is strongly advised. See: https://urllib3.readthedocs.io/en/latest/advanced-usage.html#tls-warnings\n",
            "  warnings.warn(\n"
          ]
        },
        {
          "output_type": "stream",
          "name": "stdout",
          "text": [
            "Página : 4 = {'ts': 1721438400, 'val': 0.0}\n",
            "url de busca: http://monipe-central.rnp.br/esmond/perfsonar/archive/esmond/perfsonar/archive/f5a52ea566264898a5183711a7aea870/packet-count-lost-bidir/aggregations/300?offset=6000\n",
            "Página : 5 = {'ts': 1722047700, 'val': 0.0}\n",
            "url de busca: http://monipe-central.rnp.br/esmond/perfsonar/archive/esmond/perfsonar/archive/f5a52ea566264898a5183711a7aea870/packet-count-lost-bidir/aggregations/300?offset=7500\n"
          ]
        },
        {
          "output_type": "stream",
          "name": "stderr",
          "text": [
            "/usr/local/lib/python3.10/dist-packages/urllib3/connectionpool.py:1099: InsecureRequestWarning: Unverified HTTPS request is being made to host 'monipe-central.rnp.br'. Adding certificate verification is strongly advised. See: https://urllib3.readthedocs.io/en/latest/advanced-usage.html#tls-warnings\n",
            "  warnings.warn(\n"
          ]
        },
        {
          "output_type": "stream",
          "name": "stdout",
          "text": [
            "Página : 6 = {'ts': 1722674700, 'val': 0.0}\n",
            "url de busca: http://monipe-central.rnp.br/esmond/perfsonar/archive/esmond/perfsonar/archive/f5a52ea566264898a5183711a7aea870/packet-count-lost-bidir/aggregations/300?offset=9000\n"
          ]
        },
        {
          "output_type": "stream",
          "name": "stderr",
          "text": [
            "/usr/local/lib/python3.10/dist-packages/urllib3/connectionpool.py:1099: InsecureRequestWarning: Unverified HTTPS request is being made to host 'monipe-central.rnp.br'. Adding certificate verification is strongly advised. See: https://urllib3.readthedocs.io/en/latest/advanced-usage.html#tls-warnings\n",
            "  warnings.warn(\n"
          ]
        },
        {
          "output_type": "stream",
          "name": "stdout",
          "text": [
            "Página : 7 = {'ts': 1723277100, 'val': 0.0}\n",
            "url de busca: http://monipe-central.rnp.br/esmond/perfsonar/archive/esmond/perfsonar/archive/f5a52ea566264898a5183711a7aea870/packet-count-lost-bidir/aggregations/300?offset=10500\n"
          ]
        },
        {
          "output_type": "stream",
          "name": "stderr",
          "text": [
            "/usr/local/lib/python3.10/dist-packages/urllib3/connectionpool.py:1099: InsecureRequestWarning: Unverified HTTPS request is being made to host 'monipe-central.rnp.br'. Adding certificate verification is strongly advised. See: https://urllib3.readthedocs.io/en/latest/advanced-usage.html#tls-warnings\n",
            "  warnings.warn(\n"
          ]
        },
        {
          "output_type": "stream",
          "name": "stdout",
          "text": [
            "Página : 8 = {'ts': 1723919400, 'val': 0.0}\n",
            "url de busca: http://monipe-central.rnp.br/esmond/perfsonar/archive/esmond/perfsonar/archive/f5a52ea566264898a5183711a7aea870/packet-count-lost-bidir/aggregations/300?offset=12000\n"
          ]
        },
        {
          "output_type": "stream",
          "name": "stderr",
          "text": [
            "/usr/local/lib/python3.10/dist-packages/urllib3/connectionpool.py:1099: InsecureRequestWarning: Unverified HTTPS request is being made to host 'monipe-central.rnp.br'. Adding certificate verification is strongly advised. See: https://urllib3.readthedocs.io/en/latest/advanced-usage.html#tls-warnings\n",
            "  warnings.warn(\n"
          ]
        },
        {
          "output_type": "stream",
          "name": "stdout",
          "text": [
            "Página : 9 = {'ts': 1724524500, 'val': 0.0}\n",
            "url de busca: http://monipe-central.rnp.br/esmond/perfsonar/archive/esmond/perfsonar/archive/f5a52ea566264898a5183711a7aea870/packet-count-lost-bidir/aggregations/300?offset=13500\n"
          ]
        },
        {
          "output_type": "stream",
          "name": "stderr",
          "text": [
            "/usr/local/lib/python3.10/dist-packages/urllib3/connectionpool.py:1099: InsecureRequestWarning: Unverified HTTPS request is being made to host 'monipe-central.rnp.br'. Adding certificate verification is strongly advised. See: https://urllib3.readthedocs.io/en/latest/advanced-usage.html#tls-warnings\n",
            "  warnings.warn(\n"
          ]
        },
        {
          "output_type": "stream",
          "name": "stdout",
          "text": [
            "Página : 10 = {'ts': 1725147000, 'val': 0.0}\n",
            "url de busca: http://monipe-central.rnp.br/esmond/perfsonar/archive/esmond/perfsonar/archive/f5a52ea566264898a5183711a7aea870/packet-count-lost-bidir/aggregations/300?offset=15000\n"
          ]
        },
        {
          "output_type": "stream",
          "name": "stderr",
          "text": [
            "/usr/local/lib/python3.10/dist-packages/urllib3/connectionpool.py:1099: InsecureRequestWarning: Unverified HTTPS request is being made to host 'monipe-central.rnp.br'. Adding certificate verification is strongly advised. See: https://urllib3.readthedocs.io/en/latest/advanced-usage.html#tls-warnings\n",
            "  warnings.warn(\n"
          ]
        },
        {
          "output_type": "stream",
          "name": "stdout",
          "text": [
            "Página : 11 = {'ts': 1725786000, 'val': 0.0}\n",
            "url de busca: http://monipe-central.rnp.br/esmond/perfsonar/archive/esmond/perfsonar/archive/f5a52ea566264898a5183711a7aea870/packet-count-lost-bidir/aggregations/300?offset=16500\n"
          ]
        },
        {
          "output_type": "stream",
          "name": "stderr",
          "text": [
            "/usr/local/lib/python3.10/dist-packages/urllib3/connectionpool.py:1099: InsecureRequestWarning: Unverified HTTPS request is being made to host 'monipe-central.rnp.br'. Adding certificate verification is strongly advised. See: https://urllib3.readthedocs.io/en/latest/advanced-usage.html#tls-warnings\n",
            "  warnings.warn(\n"
          ]
        },
        {
          "output_type": "stream",
          "name": "stdout",
          "text": [
            "Página : 12 = {'ts': 1726389900, 'val': 0.0}\n",
            "url de busca: http://monipe-central.rnp.br/esmond/perfsonar/archive/esmond/perfsonar/archive/f5a52ea566264898a5183711a7aea870/packet-count-lost-bidir/aggregations/300?offset=18000\n"
          ]
        },
        {
          "output_type": "stream",
          "name": "stderr",
          "text": [
            "/usr/local/lib/python3.10/dist-packages/urllib3/connectionpool.py:1099: InsecureRequestWarning: Unverified HTTPS request is being made to host 'monipe-central.rnp.br'. Adding certificate verification is strongly advised. See: https://urllib3.readthedocs.io/en/latest/advanced-usage.html#tls-warnings\n",
            "  warnings.warn(\n"
          ]
        },
        {
          "output_type": "stream",
          "name": "stdout",
          "text": [
            "Página : 13 = {'ts': 1727225700, 'val': 0.0}\n",
            "url de busca: http://monipe-central.rnp.br/esmond/perfsonar/archive/esmond/perfsonar/archive/f5a52ea566264898a5183711a7aea870/packet-count-lost-bidir/aggregations/300?offset=19500\n"
          ]
        },
        {
          "output_type": "stream",
          "name": "stderr",
          "text": [
            "/usr/local/lib/python3.10/dist-packages/urllib3/connectionpool.py:1099: InsecureRequestWarning: Unverified HTTPS request is being made to host 'monipe-central.rnp.br'. Adding certificate verification is strongly advised. See: https://urllib3.readthedocs.io/en/latest/advanced-usage.html#tls-warnings\n",
            "  warnings.warn(\n"
          ]
        },
        {
          "output_type": "stream",
          "name": "stdout",
          "text": [
            "Página : 14 = {'ts': 1727755800, 'val': 0.0}\n",
            "url de busca: http://monipe-central.rnp.br/esmond/perfsonar/archive/esmond/perfsonar/archive/f5a52ea566264898a5183711a7aea870/packet-count-lost-bidir/aggregations/300?offset=21000\n"
          ]
        },
        {
          "output_type": "stream",
          "name": "stderr",
          "text": [
            "/usr/local/lib/python3.10/dist-packages/urllib3/connectionpool.py:1099: InsecureRequestWarning: Unverified HTTPS request is being made to host 'monipe-central.rnp.br'. Adding certificate verification is strongly advised. See: https://urllib3.readthedocs.io/en/latest/advanced-usage.html#tls-warnings\n",
            "  warnings.warn(\n"
          ]
        },
        {
          "output_type": "stream",
          "name": "stdout",
          "text": [
            "Página : 15 = {'ts': 1728315000, 'val': 0.0}\n",
            "url de busca: http://monipe-central.rnp.br/esmond/perfsonar/archive/esmond/perfsonar/archive/f5a52ea566264898a5183711a7aea870/packet-count-lost-bidir/aggregations/300?offset=22500\n"
          ]
        },
        {
          "output_type": "stream",
          "name": "stderr",
          "text": [
            "/usr/local/lib/python3.10/dist-packages/urllib3/connectionpool.py:1099: InsecureRequestWarning: Unverified HTTPS request is being made to host 'monipe-central.rnp.br'. Adding certificate verification is strongly advised. See: https://urllib3.readthedocs.io/en/latest/advanced-usage.html#tls-warnings\n",
            "  warnings.warn(\n"
          ]
        },
        {
          "output_type": "stream",
          "name": "stdout",
          "text": [
            "Página : 16 = {'ts': 1728905700, 'val': 0.0}\n",
            "url de busca: http://monipe-central.rnp.br/esmond/perfsonar/archive/esmond/perfsonar/archive/f5a52ea566264898a5183711a7aea870/packet-count-lost-bidir/aggregations/300?offset=24000\n"
          ]
        },
        {
          "output_type": "stream",
          "name": "stderr",
          "text": [
            "/usr/local/lib/python3.10/dist-packages/urllib3/connectionpool.py:1099: InsecureRequestWarning: Unverified HTTPS request is being made to host 'monipe-central.rnp.br'. Adding certificate verification is strongly advised. See: https://urllib3.readthedocs.io/en/latest/advanced-usage.html#tls-warnings\n",
            "  warnings.warn(\n"
          ]
        },
        {
          "output_type": "stream",
          "name": "stdout",
          "text": [
            "Página : 17 = {'ts': 1729531500, 'val': 0.0}\n",
            "url de busca: http://monipe-central.rnp.br/esmond/perfsonar/archive/esmond/perfsonar/archive/f5a52ea566264898a5183711a7aea870/packet-count-lost-bidir/aggregations/300?offset=25500\n"
          ]
        },
        {
          "output_type": "stream",
          "name": "stderr",
          "text": [
            "/usr/local/lib/python3.10/dist-packages/urllib3/connectionpool.py:1099: InsecureRequestWarning: Unverified HTTPS request is being made to host 'monipe-central.rnp.br'. Adding certificate verification is strongly advised. See: https://urllib3.readthedocs.io/en/latest/advanced-usage.html#tls-warnings\n",
            "  warnings.warn(\n"
          ]
        },
        {
          "output_type": "stream",
          "name": "stdout",
          "text": [
            "Página : 18 = {'ts': 1730067000, 'val': 0.0}\n",
            "url de busca: http://monipe-central.rnp.br/esmond/perfsonar/archive/esmond/perfsonar/archive/f5a52ea566264898a5183711a7aea870/packet-count-lost-bidir/aggregations/300?offset=27000\n"
          ]
        },
        {
          "output_type": "stream",
          "name": "stderr",
          "text": [
            "/usr/local/lib/python3.10/dist-packages/urllib3/connectionpool.py:1099: InsecureRequestWarning: Unverified HTTPS request is being made to host 'monipe-central.rnp.br'. Adding certificate verification is strongly advised. See: https://urllib3.readthedocs.io/en/latest/advanced-usage.html#tls-warnings\n",
            "  warnings.warn(\n"
          ]
        },
        {
          "output_type": "stream",
          "name": "stdout",
          "text": [
            "Página : 19 = {'ts': 1730637900, 'val': 0.0}\n",
            "url de busca: http://monipe-central.rnp.br/esmond/perfsonar/archive/esmond/perfsonar/archive/f5a52ea566264898a5183711a7aea870/packet-count-lost-bidir/aggregations/300?offset=28500\n"
          ]
        },
        {
          "output_type": "stream",
          "name": "stderr",
          "text": [
            "/usr/local/lib/python3.10/dist-packages/urllib3/connectionpool.py:1099: InsecureRequestWarning: Unverified HTTPS request is being made to host 'monipe-central.rnp.br'. Adding certificate verification is strongly advised. See: https://urllib3.readthedocs.io/en/latest/advanced-usage.html#tls-warnings\n",
            "  warnings.warn(\n"
          ]
        },
        {
          "output_type": "stream",
          "name": "stdout",
          "text": [
            "Página : 20 = {'ts': 1731174900, 'val': 0.0}\n",
            "url de busca: http://monipe-central.rnp.br/esmond/perfsonar/archive/esmond/perfsonar/archive/f5a52ea566264898a5183711a7aea870/packet-count-lost-bidir/aggregations/300?offset=30000\n"
          ]
        },
        {
          "output_type": "stream",
          "name": "stderr",
          "text": [
            "/usr/local/lib/python3.10/dist-packages/urllib3/connectionpool.py:1099: InsecureRequestWarning: Unverified HTTPS request is being made to host 'monipe-central.rnp.br'. Adding certificate verification is strongly advised. See: https://urllib3.readthedocs.io/en/latest/advanced-usage.html#tls-warnings\n",
            "  warnings.warn(\n"
          ]
        },
        {
          "output_type": "stream",
          "name": "stdout",
          "text": [
            "Página : 21 = {'ts': 1731703500, 'val': 0.0}\n",
            "url de busca: http://monipe-central.rnp.br/esmond/perfsonar/archive/esmond/perfsonar/archive/f5a52ea566264898a5183711a7aea870/packet-count-lost-bidir/aggregations/300?offset=31500\n"
          ]
        },
        {
          "output_type": "stream",
          "name": "stderr",
          "text": [
            "/usr/local/lib/python3.10/dist-packages/urllib3/connectionpool.py:1099: InsecureRequestWarning: Unverified HTTPS request is being made to host 'monipe-central.rnp.br'. Adding certificate verification is strongly advised. See: https://urllib3.readthedocs.io/en/latest/advanced-usage.html#tls-warnings\n",
            "  warnings.warn(\n"
          ]
        },
        {
          "output_type": "stream",
          "name": "stdout",
          "text": [
            "Página : 22 = {'ts': 1732242300, 'val': 0.0}\n",
            "packet-count-lost-bidir + rn\n",
            "url = http://monipe-central.rnp.br/esmond/perfsonar/archive/esmond/perfsonar/archive/fb338f2f93904f0186c0463581eddf2f/packet-loss-rate-bidir/aggregations/3600\n",
            "url de busca: http://monipe-central.rnp.br/esmond/perfsonar/archive/esmond/perfsonar/archive/fb338f2f93904f0186c0463581eddf2f/packet-loss-rate-bidir/aggregations/3600\n"
          ]
        },
        {
          "output_type": "stream",
          "name": "stderr",
          "text": [
            "/usr/local/lib/python3.10/dist-packages/urllib3/connectionpool.py:1099: InsecureRequestWarning: Unverified HTTPS request is being made to host 'monipe-central.rnp.br'. Adding certificate verification is strongly advised. See: https://urllib3.readthedocs.io/en/latest/advanced-usage.html#tls-warnings\n",
            "  warnings.warn(\n"
          ]
        },
        {
          "output_type": "stream",
          "name": "stdout",
          "text": [
            "Página : 1 = {'ts': 1719529200, 'val': 0.0}\n",
            "url de busca: http://monipe-central.rnp.br/esmond/perfsonar/archive/esmond/perfsonar/archive/fb338f2f93904f0186c0463581eddf2f/packet-loss-rate-bidir/aggregations/3600?offset=1500\n"
          ]
        },
        {
          "output_type": "stream",
          "name": "stderr",
          "text": [
            "/usr/local/lib/python3.10/dist-packages/urllib3/connectionpool.py:1099: InsecureRequestWarning: Unverified HTTPS request is being made to host 'monipe-central.rnp.br'. Adding certificate verification is strongly advised. See: https://urllib3.readthedocs.io/en/latest/advanced-usage.html#tls-warnings\n",
            "  warnings.warn(\n",
            "/usr/local/lib/python3.10/dist-packages/urllib3/connectionpool.py:1099: InsecureRequestWarning: Unverified HTTPS request is being made to host 'monipe-central.rnp.br'. Adding certificate verification is strongly advised. See: https://urllib3.readthedocs.io/en/latest/advanced-usage.html#tls-warnings\n",
            "  warnings.warn(\n"
          ]
        },
        {
          "output_type": "stream",
          "name": "stdout",
          "text": [
            "Página : 2 = {'ts': 1724936400, 'val': 0.0}\n",
            "url de busca: http://monipe-central.rnp.br/esmond/perfsonar/archive/esmond/perfsonar/archive/fb338f2f93904f0186c0463581eddf2f/packet-loss-rate-bidir/aggregations/3600?offset=3000\n",
            "Página : 3 = {'ts': 1730433600, 'val': 0.0}\n",
            "packet-loss-rate-bidir + ac\n",
            "url = http://monipe-central.rnp.br/esmond/perfsonar/archive/esmond/perfsonar/archive/947cd70c90d544d785c56c277eb4d9de/packet-loss-rate-bidir/aggregations/3600\n",
            "url de busca: http://monipe-central.rnp.br/esmond/perfsonar/archive/esmond/perfsonar/archive/947cd70c90d544d785c56c277eb4d9de/packet-loss-rate-bidir/aggregations/3600\n"
          ]
        },
        {
          "output_type": "stream",
          "name": "stderr",
          "text": [
            "/usr/local/lib/python3.10/dist-packages/urllib3/connectionpool.py:1099: InsecureRequestWarning: Unverified HTTPS request is being made to host 'monipe-central.rnp.br'. Adding certificate verification is strongly advised. See: https://urllib3.readthedocs.io/en/latest/advanced-usage.html#tls-warnings\n",
            "  warnings.warn(\n",
            "/usr/local/lib/python3.10/dist-packages/urllib3/connectionpool.py:1099: InsecureRequestWarning: Unverified HTTPS request is being made to host 'monipe-central.rnp.br'. Adding certificate verification is strongly advised. See: https://urllib3.readthedocs.io/en/latest/advanced-usage.html#tls-warnings\n",
            "  warnings.warn(\n"
          ]
        },
        {
          "output_type": "stream",
          "name": "stdout",
          "text": [
            "Página : 1 = {'ts': 1719529200, 'val': 0.0}\n",
            "url de busca: http://monipe-central.rnp.br/esmond/perfsonar/archive/esmond/perfsonar/archive/947cd70c90d544d785c56c277eb4d9de/packet-loss-rate-bidir/aggregations/3600?offset=1500\n",
            "Página : 2 = {'ts': 1724954400, 'val': 0.0}\n",
            "url de busca: http://monipe-central.rnp.br/esmond/perfsonar/archive/esmond/perfsonar/archive/947cd70c90d544d785c56c277eb4d9de/packet-loss-rate-bidir/aggregations/3600?offset=3000\n"
          ]
        },
        {
          "output_type": "stream",
          "name": "stderr",
          "text": [
            "/usr/local/lib/python3.10/dist-packages/urllib3/connectionpool.py:1099: InsecureRequestWarning: Unverified HTTPS request is being made to host 'monipe-central.rnp.br'. Adding certificate verification is strongly advised. See: https://urllib3.readthedocs.io/en/latest/advanced-usage.html#tls-warnings\n",
            "  warnings.warn(\n"
          ]
        },
        {
          "output_type": "stream",
          "name": "stdout",
          "text": [
            "Página : 3 = {'ts': 1730422800, 'val': 0.0}\n",
            "packet-loss-rate-bidir + go\n",
            "url = http://monipe-central.rnp.br/esmond/perfsonar/archive/esmond/perfsonar/archive/61b399f712654d4ea8c8e644d19b9263/packet-loss-rate-bidir/aggregations/3600\n",
            "url de busca: http://monipe-central.rnp.br/esmond/perfsonar/archive/esmond/perfsonar/archive/61b399f712654d4ea8c8e644d19b9263/packet-loss-rate-bidir/aggregations/3600\n"
          ]
        },
        {
          "output_type": "stream",
          "name": "stderr",
          "text": [
            "/usr/local/lib/python3.10/dist-packages/urllib3/connectionpool.py:1099: InsecureRequestWarning: Unverified HTTPS request is being made to host 'monipe-central.rnp.br'. Adding certificate verification is strongly advised. See: https://urllib3.readthedocs.io/en/latest/advanced-usage.html#tls-warnings\n",
            "  warnings.warn(\n"
          ]
        },
        {
          "output_type": "stream",
          "name": "stdout",
          "text": [
            "Página : 1 = {'ts': 1719529200, 'val': 0.0}\n",
            "url de busca: http://monipe-central.rnp.br/esmond/perfsonar/archive/esmond/perfsonar/archive/61b399f712654d4ea8c8e644d19b9263/packet-loss-rate-bidir/aggregations/3600?offset=1500\n"
          ]
        },
        {
          "output_type": "stream",
          "name": "stderr",
          "text": [
            "/usr/local/lib/python3.10/dist-packages/urllib3/connectionpool.py:1099: InsecureRequestWarning: Unverified HTTPS request is being made to host 'monipe-central.rnp.br'. Adding certificate verification is strongly advised. See: https://urllib3.readthedocs.io/en/latest/advanced-usage.html#tls-warnings\n",
            "  warnings.warn(\n"
          ]
        },
        {
          "output_type": "stream",
          "name": "stdout",
          "text": [
            "Página : 2 = {'ts': 1724936400, 'val': 0.0}\n",
            "url de busca: http://monipe-central.rnp.br/esmond/perfsonar/archive/esmond/perfsonar/archive/61b399f712654d4ea8c8e644d19b9263/packet-loss-rate-bidir/aggregations/3600?offset=3000\n"
          ]
        },
        {
          "output_type": "stream",
          "name": "stderr",
          "text": [
            "/usr/local/lib/python3.10/dist-packages/urllib3/connectionpool.py:1099: InsecureRequestWarning: Unverified HTTPS request is being made to host 'monipe-central.rnp.br'. Adding certificate verification is strongly advised. See: https://urllib3.readthedocs.io/en/latest/advanced-usage.html#tls-warnings\n",
            "  warnings.warn(\n"
          ]
        },
        {
          "output_type": "stream",
          "name": "stdout",
          "text": [
            "Página : 3 = {'ts': 1730336400, 'val': 0.0}\n",
            "packet-loss-rate-bidir + mt\n",
            "url = http://monipe-central.rnp.br/esmond/perfsonar/archive/esmond/perfsonar/archive/069094fb550a41a88f3baf37b370a94f/packet-loss-rate-bidir/aggregations/3600\n",
            "url de busca: http://monipe-central.rnp.br/esmond/perfsonar/archive/esmond/perfsonar/archive/069094fb550a41a88f3baf37b370a94f/packet-loss-rate-bidir/aggregations/3600\n"
          ]
        },
        {
          "output_type": "stream",
          "name": "stderr",
          "text": [
            "/usr/local/lib/python3.10/dist-packages/urllib3/connectionpool.py:1099: InsecureRequestWarning: Unverified HTTPS request is being made to host 'monipe-central.rnp.br'. Adding certificate verification is strongly advised. See: https://urllib3.readthedocs.io/en/latest/advanced-usage.html#tls-warnings\n",
            "  warnings.warn(\n"
          ]
        },
        {
          "output_type": "stream",
          "name": "stdout",
          "text": [
            "Página : 1 = {'ts': 1719529200, 'val': 0.0}\n",
            "url de busca: http://monipe-central.rnp.br/esmond/perfsonar/archive/esmond/perfsonar/archive/069094fb550a41a88f3baf37b370a94f/packet-loss-rate-bidir/aggregations/3600?offset=1500\n"
          ]
        },
        {
          "output_type": "stream",
          "name": "stderr",
          "text": [
            "/usr/local/lib/python3.10/dist-packages/urllib3/connectionpool.py:1099: InsecureRequestWarning: Unverified HTTPS request is being made to host 'monipe-central.rnp.br'. Adding certificate verification is strongly advised. See: https://urllib3.readthedocs.io/en/latest/advanced-usage.html#tls-warnings\n",
            "  warnings.warn(\n"
          ]
        },
        {
          "output_type": "stream",
          "name": "stdout",
          "text": [
            "Página : 2 = {'ts': 1724932800, 'val': 0.0}\n",
            "url de busca: http://monipe-central.rnp.br/esmond/perfsonar/archive/esmond/perfsonar/archive/069094fb550a41a88f3baf37b370a94f/packet-loss-rate-bidir/aggregations/3600?offset=3000\n"
          ]
        },
        {
          "output_type": "stream",
          "name": "stderr",
          "text": [
            "/usr/local/lib/python3.10/dist-packages/urllib3/connectionpool.py:1099: InsecureRequestWarning: Unverified HTTPS request is being made to host 'monipe-central.rnp.br'. Adding certificate verification is strongly advised. See: https://urllib3.readthedocs.io/en/latest/advanced-usage.html#tls-warnings\n",
            "  warnings.warn(\n"
          ]
        },
        {
          "output_type": "stream",
          "name": "stdout",
          "text": [
            "Página : 3 = {'ts': 1730736000, 'val': 0.0}\n",
            "packet-loss-rate-bidir + pb\n",
            "url = http://monipe-central.rnp.br/esmond/perfsonar/archive/esmond/perfsonar/archive/a0fb385451e447788d0b126e03263342/packet-loss-rate-bidir/aggregations/3600\n",
            "url de busca: http://monipe-central.rnp.br/esmond/perfsonar/archive/esmond/perfsonar/archive/a0fb385451e447788d0b126e03263342/packet-loss-rate-bidir/aggregations/3600\n"
          ]
        },
        {
          "output_type": "stream",
          "name": "stderr",
          "text": [
            "/usr/local/lib/python3.10/dist-packages/urllib3/connectionpool.py:1099: InsecureRequestWarning: Unverified HTTPS request is being made to host 'monipe-central.rnp.br'. Adding certificate verification is strongly advised. See: https://urllib3.readthedocs.io/en/latest/advanced-usage.html#tls-warnings\n",
            "  warnings.warn(\n"
          ]
        },
        {
          "output_type": "stream",
          "name": "stdout",
          "text": [
            "Página : 1 = {'ts': 1719529200, 'val': 0.0}\n",
            "url de busca: http://monipe-central.rnp.br/esmond/perfsonar/archive/esmond/perfsonar/archive/a0fb385451e447788d0b126e03263342/packet-loss-rate-bidir/aggregations/3600?offset=1500\n"
          ]
        },
        {
          "output_type": "stream",
          "name": "stderr",
          "text": [
            "/usr/local/lib/python3.10/dist-packages/urllib3/connectionpool.py:1099: InsecureRequestWarning: Unverified HTTPS request is being made to host 'monipe-central.rnp.br'. Adding certificate verification is strongly advised. See: https://urllib3.readthedocs.io/en/latest/advanced-usage.html#tls-warnings\n",
            "  warnings.warn(\n"
          ]
        },
        {
          "output_type": "stream",
          "name": "stdout",
          "text": [
            "Página : 2 = {'ts': 1724943600, 'val': 0.0}\n",
            "url de busca: http://monipe-central.rnp.br/esmond/perfsonar/archive/esmond/perfsonar/archive/a0fb385451e447788d0b126e03263342/packet-loss-rate-bidir/aggregations/3600?offset=3000\n"
          ]
        },
        {
          "output_type": "stream",
          "name": "stderr",
          "text": [
            "/usr/local/lib/python3.10/dist-packages/urllib3/connectionpool.py:1099: InsecureRequestWarning: Unverified HTTPS request is being made to host 'monipe-central.rnp.br'. Adding certificate verification is strongly advised. See: https://urllib3.readthedocs.io/en/latest/advanced-usage.html#tls-warnings\n",
            "  warnings.warn(\n"
          ]
        },
        {
          "output_type": "stream",
          "name": "stdout",
          "text": [
            "Página : 3 = {'ts': 1730376000, 'val': 0.0}\n",
            "packet-loss-rate-bidir + pe\n",
            "url = http://monipe-central.rnp.br/esmond/perfsonar/archive/esmond/perfsonar/archive/f5a52ea566264898a5183711a7aea870/packet-loss-rate-bidir/aggregations/3600\n",
            "url de busca: http://monipe-central.rnp.br/esmond/perfsonar/archive/esmond/perfsonar/archive/f5a52ea566264898a5183711a7aea870/packet-loss-rate-bidir/aggregations/3600\n"
          ]
        },
        {
          "output_type": "stream",
          "name": "stderr",
          "text": [
            "/usr/local/lib/python3.10/dist-packages/urllib3/connectionpool.py:1099: InsecureRequestWarning: Unverified HTTPS request is being made to host 'monipe-central.rnp.br'. Adding certificate verification is strongly advised. See: https://urllib3.readthedocs.io/en/latest/advanced-usage.html#tls-warnings\n",
            "  warnings.warn(\n"
          ]
        },
        {
          "output_type": "stream",
          "name": "stdout",
          "text": [
            "Página : 1 = {'ts': 1719529200, 'val': 0.0}\n",
            "url de busca: http://monipe-central.rnp.br/esmond/perfsonar/archive/esmond/perfsonar/archive/f5a52ea566264898a5183711a7aea870/packet-loss-rate-bidir/aggregations/3600?offset=1500\n"
          ]
        },
        {
          "output_type": "stream",
          "name": "stderr",
          "text": [
            "/usr/local/lib/python3.10/dist-packages/urllib3/connectionpool.py:1099: InsecureRequestWarning: Unverified HTTPS request is being made to host 'monipe-central.rnp.br'. Adding certificate verification is strongly advised. See: https://urllib3.readthedocs.io/en/latest/advanced-usage.html#tls-warnings\n",
            "  warnings.warn(\n"
          ]
        },
        {
          "output_type": "stream",
          "name": "stdout",
          "text": [
            "Página : 2 = {'ts': 1725015600, 'val': 0.0}\n",
            "url de busca: http://monipe-central.rnp.br/esmond/perfsonar/archive/esmond/perfsonar/archive/f5a52ea566264898a5183711a7aea870/packet-loss-rate-bidir/aggregations/3600?offset=3000\n"
          ]
        },
        {
          "output_type": "stream",
          "name": "stderr",
          "text": [
            "/usr/local/lib/python3.10/dist-packages/urllib3/connectionpool.py:1099: InsecureRequestWarning: Unverified HTTPS request is being made to host 'monipe-central.rnp.br'. Adding certificate verification is strongly advised. See: https://urllib3.readthedocs.io/en/latest/advanced-usage.html#tls-warnings\n",
            "  warnings.warn(\n"
          ]
        },
        {
          "output_type": "stream",
          "name": "stdout",
          "text": [
            "Página : 3 = {'ts': 1730649600, 'val': 0.0}\n",
            "packet-loss-rate-bidir + rn\n",
            "url = http://monipe-central.rnp.br/esmond/perfsonar/archive/esmond/perfsonar/archive/fb338f2f93904f0186c0463581eddf2f/packet-reorders-bidir/base\n",
            "url de busca: http://monipe-central.rnp.br/esmond/perfsonar/archive/esmond/perfsonar/archive/fb338f2f93904f0186c0463581eddf2f/packet-reorders-bidir/base\n",
            "Página : 1 = {'ts': 1719531302, 'val': 0.0}\n",
            "url de busca: http://monipe-central.rnp.br/esmond/perfsonar/archive/esmond/perfsonar/archive/fb338f2f93904f0186c0463581eddf2f/packet-reorders-bidir/base?offset=1500\n"
          ]
        },
        {
          "output_type": "stream",
          "name": "stderr",
          "text": [
            "/usr/local/lib/python3.10/dist-packages/urllib3/connectionpool.py:1099: InsecureRequestWarning: Unverified HTTPS request is being made to host 'monipe-central.rnp.br'. Adding certificate verification is strongly advised. See: https://urllib3.readthedocs.io/en/latest/advanced-usage.html#tls-warnings\n",
            "  warnings.warn(\n",
            "/usr/local/lib/python3.10/dist-packages/urllib3/connectionpool.py:1099: InsecureRequestWarning: Unverified HTTPS request is being made to host 'monipe-central.rnp.br'. Adding certificate verification is strongly advised. See: https://urllib3.readthedocs.io/en/latest/advanced-usage.html#tls-warnings\n",
            "  warnings.warn(\n"
          ]
        },
        {
          "output_type": "stream",
          "name": "stdout",
          "text": [
            "Página : 2 = {'ts': 1720035943, 'val': 0.0}\n",
            "url de busca: http://monipe-central.rnp.br/esmond/perfsonar/archive/esmond/perfsonar/archive/fb338f2f93904f0186c0463581eddf2f/packet-reorders-bidir/base?offset=3000\n"
          ]
        },
        {
          "output_type": "stream",
          "name": "stderr",
          "text": [
            "/usr/local/lib/python3.10/dist-packages/urllib3/connectionpool.py:1099: InsecureRequestWarning: Unverified HTTPS request is being made to host 'monipe-central.rnp.br'. Adding certificate verification is strongly advised. See: https://urllib3.readthedocs.io/en/latest/advanced-usage.html#tls-warnings\n",
            "  warnings.warn(\n"
          ]
        },
        {
          "output_type": "stream",
          "name": "stdout",
          "text": [
            "Página : 3 = {'ts': 1720545959, 'val': 0.0}\n",
            "url de busca: http://monipe-central.rnp.br/esmond/perfsonar/archive/esmond/perfsonar/archive/fb338f2f93904f0186c0463581eddf2f/packet-reorders-bidir/base?offset=4500\n"
          ]
        },
        {
          "output_type": "stream",
          "name": "stderr",
          "text": [
            "/usr/local/lib/python3.10/dist-packages/urllib3/connectionpool.py:1099: InsecureRequestWarning: Unverified HTTPS request is being made to host 'monipe-central.rnp.br'. Adding certificate verification is strongly advised. See: https://urllib3.readthedocs.io/en/latest/advanced-usage.html#tls-warnings\n",
            "  warnings.warn(\n"
          ]
        },
        {
          "output_type": "stream",
          "name": "stdout",
          "text": [
            "Página : 4 = {'ts': 1721117379, 'val': 0.0}\n",
            "url de busca: http://monipe-central.rnp.br/esmond/perfsonar/archive/esmond/perfsonar/archive/fb338f2f93904f0186c0463581eddf2f/packet-reorders-bidir/base?offset=6000\n"
          ]
        },
        {
          "output_type": "stream",
          "name": "stderr",
          "text": [
            "/usr/local/lib/python3.10/dist-packages/urllib3/connectionpool.py:1099: InsecureRequestWarning: Unverified HTTPS request is being made to host 'monipe-central.rnp.br'. Adding certificate verification is strongly advised. See: https://urllib3.readthedocs.io/en/latest/advanced-usage.html#tls-warnings\n",
            "  warnings.warn(\n"
          ]
        },
        {
          "output_type": "stream",
          "name": "stdout",
          "text": [
            "Página : 5 = {'ts': 1721640118, 'val': 0.0}\n",
            "url de busca: http://monipe-central.rnp.br/esmond/perfsonar/archive/esmond/perfsonar/archive/fb338f2f93904f0186c0463581eddf2f/packet-reorders-bidir/base?offset=7500\n"
          ]
        },
        {
          "output_type": "stream",
          "name": "stderr",
          "text": [
            "/usr/local/lib/python3.10/dist-packages/urllib3/connectionpool.py:1099: InsecureRequestWarning: Unverified HTTPS request is being made to host 'monipe-central.rnp.br'. Adding certificate verification is strongly advised. See: https://urllib3.readthedocs.io/en/latest/advanced-usage.html#tls-warnings\n",
            "  warnings.warn(\n"
          ]
        },
        {
          "output_type": "stream",
          "name": "stdout",
          "text": [
            "Página : 6 = {'ts': 1722181662, 'val': 0.0}\n",
            "url de busca: http://monipe-central.rnp.br/esmond/perfsonar/archive/esmond/perfsonar/archive/fb338f2f93904f0186c0463581eddf2f/packet-reorders-bidir/base?offset=9000\n"
          ]
        },
        {
          "output_type": "stream",
          "name": "stderr",
          "text": [
            "/usr/local/lib/python3.10/dist-packages/urllib3/connectionpool.py:1099: InsecureRequestWarning: Unverified HTTPS request is being made to host 'monipe-central.rnp.br'. Adding certificate verification is strongly advised. See: https://urllib3.readthedocs.io/en/latest/advanced-usage.html#tls-warnings\n",
            "  warnings.warn(\n"
          ]
        },
        {
          "output_type": "stream",
          "name": "stdout",
          "text": [
            "Página : 7 = {'ts': 1722744584, 'val': 0.0}\n",
            "url de busca: http://monipe-central.rnp.br/esmond/perfsonar/archive/esmond/perfsonar/archive/fb338f2f93904f0186c0463581eddf2f/packet-reorders-bidir/base?offset=10500\n"
          ]
        },
        {
          "output_type": "stream",
          "name": "stderr",
          "text": [
            "/usr/local/lib/python3.10/dist-packages/urllib3/connectionpool.py:1099: InsecureRequestWarning: Unverified HTTPS request is being made to host 'monipe-central.rnp.br'. Adding certificate verification is strongly advised. See: https://urllib3.readthedocs.io/en/latest/advanced-usage.html#tls-warnings\n",
            "  warnings.warn(\n"
          ]
        },
        {
          "output_type": "stream",
          "name": "stdout",
          "text": [
            "Página : 8 = {'ts': 1723263540, 'val': 0.0}\n",
            "url de busca: http://monipe-central.rnp.br/esmond/perfsonar/archive/esmond/perfsonar/archive/fb338f2f93904f0186c0463581eddf2f/packet-reorders-bidir/base?offset=12000\n"
          ]
        },
        {
          "output_type": "stream",
          "name": "stderr",
          "text": [
            "/usr/local/lib/python3.10/dist-packages/urllib3/connectionpool.py:1099: InsecureRequestWarning: Unverified HTTPS request is being made to host 'monipe-central.rnp.br'. Adding certificate verification is strongly advised. See: https://urllib3.readthedocs.io/en/latest/advanced-usage.html#tls-warnings\n",
            "  warnings.warn(\n"
          ]
        },
        {
          "output_type": "stream",
          "name": "stdout",
          "text": [
            "Página : 9 = {'ts': 1723781712, 'val': 0.0}\n",
            "url de busca: http://monipe-central.rnp.br/esmond/perfsonar/archive/esmond/perfsonar/archive/fb338f2f93904f0186c0463581eddf2f/packet-reorders-bidir/base?offset=13500\n"
          ]
        },
        {
          "output_type": "stream",
          "name": "stderr",
          "text": [
            "/usr/local/lib/python3.10/dist-packages/urllib3/connectionpool.py:1099: InsecureRequestWarning: Unverified HTTPS request is being made to host 'monipe-central.rnp.br'. Adding certificate verification is strongly advised. See: https://urllib3.readthedocs.io/en/latest/advanced-usage.html#tls-warnings\n",
            "  warnings.warn(\n"
          ]
        },
        {
          "output_type": "stream",
          "name": "stdout",
          "text": [
            "Página : 10 = {'ts': 1724327520, 'val': 0.0}\n",
            "url de busca: http://monipe-central.rnp.br/esmond/perfsonar/archive/esmond/perfsonar/archive/fb338f2f93904f0186c0463581eddf2f/packet-reorders-bidir/base?offset=15000\n"
          ]
        },
        {
          "output_type": "stream",
          "name": "stderr",
          "text": [
            "/usr/local/lib/python3.10/dist-packages/urllib3/connectionpool.py:1099: InsecureRequestWarning: Unverified HTTPS request is being made to host 'monipe-central.rnp.br'. Adding certificate verification is strongly advised. See: https://urllib3.readthedocs.io/en/latest/advanced-usage.html#tls-warnings\n",
            "  warnings.warn(\n"
          ]
        },
        {
          "output_type": "stream",
          "name": "stdout",
          "text": [
            "Página : 11 = {'ts': 1724853944, 'val': 0.0}\n",
            "url de busca: http://monipe-central.rnp.br/esmond/perfsonar/archive/esmond/perfsonar/archive/fb338f2f93904f0186c0463581eddf2f/packet-reorders-bidir/base?offset=16500\n"
          ]
        },
        {
          "output_type": "stream",
          "name": "stderr",
          "text": [
            "/usr/local/lib/python3.10/dist-packages/urllib3/connectionpool.py:1099: InsecureRequestWarning: Unverified HTTPS request is being made to host 'monipe-central.rnp.br'. Adding certificate verification is strongly advised. See: https://urllib3.readthedocs.io/en/latest/advanced-usage.html#tls-warnings\n",
            "  warnings.warn(\n"
          ]
        },
        {
          "output_type": "stream",
          "name": "stdout",
          "text": [
            "Página : 12 = {'ts': 1725408922, 'val': 0.0}\n",
            "url de busca: http://monipe-central.rnp.br/esmond/perfsonar/archive/esmond/perfsonar/archive/fb338f2f93904f0186c0463581eddf2f/packet-reorders-bidir/base?offset=18000\n"
          ]
        },
        {
          "output_type": "stream",
          "name": "stderr",
          "text": [
            "/usr/local/lib/python3.10/dist-packages/urllib3/connectionpool.py:1099: InsecureRequestWarning: Unverified HTTPS request is being made to host 'monipe-central.rnp.br'. Adding certificate verification is strongly advised. See: https://urllib3.readthedocs.io/en/latest/advanced-usage.html#tls-warnings\n",
            "  warnings.warn(\n"
          ]
        },
        {
          "output_type": "stream",
          "name": "stdout",
          "text": [
            "Página : 13 = {'ts': 1725919651, 'val': 0.0}\n",
            "url de busca: http://monipe-central.rnp.br/esmond/perfsonar/archive/esmond/perfsonar/archive/fb338f2f93904f0186c0463581eddf2f/packet-reorders-bidir/base?offset=19500\n"
          ]
        },
        {
          "output_type": "stream",
          "name": "stderr",
          "text": [
            "/usr/local/lib/python3.10/dist-packages/urllib3/connectionpool.py:1099: InsecureRequestWarning: Unverified HTTPS request is being made to host 'monipe-central.rnp.br'. Adding certificate verification is strongly advised. See: https://urllib3.readthedocs.io/en/latest/advanced-usage.html#tls-warnings\n",
            "  warnings.warn(\n"
          ]
        },
        {
          "output_type": "stream",
          "name": "stdout",
          "text": [
            "Página : 14 = {'ts': 1726526984, 'val': 0.0}\n",
            "url de busca: http://monipe-central.rnp.br/esmond/perfsonar/archive/esmond/perfsonar/archive/fb338f2f93904f0186c0463581eddf2f/packet-reorders-bidir/base?offset=21000\n"
          ]
        },
        {
          "output_type": "stream",
          "name": "stderr",
          "text": [
            "/usr/local/lib/python3.10/dist-packages/urllib3/connectionpool.py:1099: InsecureRequestWarning: Unverified HTTPS request is being made to host 'monipe-central.rnp.br'. Adding certificate verification is strongly advised. See: https://urllib3.readthedocs.io/en/latest/advanced-usage.html#tls-warnings\n",
            "  warnings.warn(\n"
          ]
        },
        {
          "output_type": "stream",
          "name": "stdout",
          "text": [
            "Página : 15 = {'ts': 1727046117, 'val': 0.0}\n",
            "url de busca: http://monipe-central.rnp.br/esmond/perfsonar/archive/esmond/perfsonar/archive/fb338f2f93904f0186c0463581eddf2f/packet-reorders-bidir/base?offset=22500\n"
          ]
        },
        {
          "output_type": "stream",
          "name": "stderr",
          "text": [
            "/usr/local/lib/python3.10/dist-packages/urllib3/connectionpool.py:1099: InsecureRequestWarning: Unverified HTTPS request is being made to host 'monipe-central.rnp.br'. Adding certificate verification is strongly advised. See: https://urllib3.readthedocs.io/en/latest/advanced-usage.html#tls-warnings\n",
            "  warnings.warn(\n"
          ]
        },
        {
          "output_type": "stream",
          "name": "stdout",
          "text": [
            "Página : 16 = {'ts': 1727544662, 'val': 0.0}\n",
            "url de busca: http://monipe-central.rnp.br/esmond/perfsonar/archive/esmond/perfsonar/archive/fb338f2f93904f0186c0463581eddf2f/packet-reorders-bidir/base?offset=24000\n"
          ]
        },
        {
          "output_type": "stream",
          "name": "stderr",
          "text": [
            "/usr/local/lib/python3.10/dist-packages/urllib3/connectionpool.py:1099: InsecureRequestWarning: Unverified HTTPS request is being made to host 'monipe-central.rnp.br'. Adding certificate verification is strongly advised. See: https://urllib3.readthedocs.io/en/latest/advanced-usage.html#tls-warnings\n",
            "  warnings.warn(\n"
          ]
        },
        {
          "output_type": "stream",
          "name": "stdout",
          "text": [
            "Página : 17 = {'ts': 1728085053, 'val': 0.0}\n",
            "url de busca: http://monipe-central.rnp.br/esmond/perfsonar/archive/esmond/perfsonar/archive/fb338f2f93904f0186c0463581eddf2f/packet-reorders-bidir/base?offset=25500\n"
          ]
        },
        {
          "output_type": "stream",
          "name": "stderr",
          "text": [
            "/usr/local/lib/python3.10/dist-packages/urllib3/connectionpool.py:1099: InsecureRequestWarning: Unverified HTTPS request is being made to host 'monipe-central.rnp.br'. Adding certificate verification is strongly advised. See: https://urllib3.readthedocs.io/en/latest/advanced-usage.html#tls-warnings\n",
            "  warnings.warn(\n"
          ]
        },
        {
          "output_type": "stream",
          "name": "stdout",
          "text": [
            "Página : 18 = {'ts': 1728629136, 'val': 0.0}\n",
            "url de busca: http://monipe-central.rnp.br/esmond/perfsonar/archive/esmond/perfsonar/archive/fb338f2f93904f0186c0463581eddf2f/packet-reorders-bidir/base?offset=27000\n"
          ]
        },
        {
          "output_type": "stream",
          "name": "stderr",
          "text": [
            "/usr/local/lib/python3.10/dist-packages/urllib3/connectionpool.py:1099: InsecureRequestWarning: Unverified HTTPS request is being made to host 'monipe-central.rnp.br'. Adding certificate verification is strongly advised. See: https://urllib3.readthedocs.io/en/latest/advanced-usage.html#tls-warnings\n",
            "  warnings.warn(\n"
          ]
        },
        {
          "output_type": "stream",
          "name": "stdout",
          "text": [
            "Página : 19 = {'ts': 1729142523, 'val': 0.0}\n",
            "url de busca: http://monipe-central.rnp.br/esmond/perfsonar/archive/esmond/perfsonar/archive/fb338f2f93904f0186c0463581eddf2f/packet-reorders-bidir/base?offset=28500\n"
          ]
        },
        {
          "output_type": "stream",
          "name": "stderr",
          "text": [
            "/usr/local/lib/python3.10/dist-packages/urllib3/connectionpool.py:1099: InsecureRequestWarning: Unverified HTTPS request is being made to host 'monipe-central.rnp.br'. Adding certificate verification is strongly advised. See: https://urllib3.readthedocs.io/en/latest/advanced-usage.html#tls-warnings\n",
            "  warnings.warn(\n"
          ]
        },
        {
          "output_type": "stream",
          "name": "stdout",
          "text": [
            "Página : 20 = {'ts': 1729671673, 'val': 0.0}\n",
            "url de busca: http://monipe-central.rnp.br/esmond/perfsonar/archive/esmond/perfsonar/archive/fb338f2f93904f0186c0463581eddf2f/packet-reorders-bidir/base?offset=30000\n"
          ]
        },
        {
          "output_type": "stream",
          "name": "stderr",
          "text": [
            "/usr/local/lib/python3.10/dist-packages/urllib3/connectionpool.py:1099: InsecureRequestWarning: Unverified HTTPS request is being made to host 'monipe-central.rnp.br'. Adding certificate verification is strongly advised. See: https://urllib3.readthedocs.io/en/latest/advanced-usage.html#tls-warnings\n",
            "  warnings.warn(\n"
          ]
        },
        {
          "output_type": "stream",
          "name": "stdout",
          "text": [
            "Página : 21 = {'ts': 1730287987, 'val': 0.0}\n",
            "url de busca: http://monipe-central.rnp.br/esmond/perfsonar/archive/esmond/perfsonar/archive/fb338f2f93904f0186c0463581eddf2f/packet-reorders-bidir/base?offset=31500\n"
          ]
        },
        {
          "output_type": "stream",
          "name": "stderr",
          "text": [
            "/usr/local/lib/python3.10/dist-packages/urllib3/connectionpool.py:1099: InsecureRequestWarning: Unverified HTTPS request is being made to host 'monipe-central.rnp.br'. Adding certificate verification is strongly advised. See: https://urllib3.readthedocs.io/en/latest/advanced-usage.html#tls-warnings\n",
            "  warnings.warn(\n"
          ]
        },
        {
          "output_type": "stream",
          "name": "stdout",
          "text": [
            "Página : 22 = {'ts': 1730811687, 'val': 0.0}\n",
            "url de busca: http://monipe-central.rnp.br/esmond/perfsonar/archive/esmond/perfsonar/archive/fb338f2f93904f0186c0463581eddf2f/packet-reorders-bidir/base?offset=33000\n"
          ]
        },
        {
          "output_type": "stream",
          "name": "stderr",
          "text": [
            "/usr/local/lib/python3.10/dist-packages/urllib3/connectionpool.py:1099: InsecureRequestWarning: Unverified HTTPS request is being made to host 'monipe-central.rnp.br'. Adding certificate verification is strongly advised. See: https://urllib3.readthedocs.io/en/latest/advanced-usage.html#tls-warnings\n",
            "  warnings.warn(\n"
          ]
        },
        {
          "output_type": "stream",
          "name": "stdout",
          "text": [
            "Página : 23 = {'ts': 1731316108, 'val': 0.0}\n",
            "url de busca: http://monipe-central.rnp.br/esmond/perfsonar/archive/esmond/perfsonar/archive/fb338f2f93904f0186c0463581eddf2f/packet-reorders-bidir/base?offset=34500\n"
          ]
        },
        {
          "output_type": "stream",
          "name": "stderr",
          "text": [
            "/usr/local/lib/python3.10/dist-packages/urllib3/connectionpool.py:1099: InsecureRequestWarning: Unverified HTTPS request is being made to host 'monipe-central.rnp.br'. Adding certificate verification is strongly advised. See: https://urllib3.readthedocs.io/en/latest/advanced-usage.html#tls-warnings\n",
            "  warnings.warn(\n"
          ]
        },
        {
          "output_type": "stream",
          "name": "stdout",
          "text": [
            "Página : 24 = {'ts': 1731815685, 'val': 0.0}\n",
            "packet-reorders-bidir + ac\n",
            "url = http://monipe-central.rnp.br/esmond/perfsonar/archive/esmond/perfsonar/archive/947cd70c90d544d785c56c277eb4d9de/packet-reorders-bidir/base\n",
            "url de busca: http://monipe-central.rnp.br/esmond/perfsonar/archive/esmond/perfsonar/archive/947cd70c90d544d785c56c277eb4d9de/packet-reorders-bidir/base\n"
          ]
        },
        {
          "output_type": "stream",
          "name": "stderr",
          "text": [
            "/usr/local/lib/python3.10/dist-packages/urllib3/connectionpool.py:1099: InsecureRequestWarning: Unverified HTTPS request is being made to host 'monipe-central.rnp.br'. Adding certificate verification is strongly advised. See: https://urllib3.readthedocs.io/en/latest/advanced-usage.html#tls-warnings\n",
            "  warnings.warn(\n"
          ]
        },
        {
          "output_type": "stream",
          "name": "stdout",
          "text": [
            "Página : 1 = {'ts': 1719531404, 'val': 0.0}\n",
            "url de busca: http://monipe-central.rnp.br/esmond/perfsonar/archive/esmond/perfsonar/archive/947cd70c90d544d785c56c277eb4d9de/packet-reorders-bidir/base?offset=1500\n"
          ]
        },
        {
          "output_type": "stream",
          "name": "stderr",
          "text": [
            "/usr/local/lib/python3.10/dist-packages/urllib3/connectionpool.py:1099: InsecureRequestWarning: Unverified HTTPS request is being made to host 'monipe-central.rnp.br'. Adding certificate verification is strongly advised. See: https://urllib3.readthedocs.io/en/latest/advanced-usage.html#tls-warnings\n",
            "  warnings.warn(\n"
          ]
        },
        {
          "output_type": "stream",
          "name": "stdout",
          "text": [
            "Página : 2 = {'ts': 1720036476, 'val': 0.0}\n",
            "url de busca: http://monipe-central.rnp.br/esmond/perfsonar/archive/esmond/perfsonar/archive/947cd70c90d544d785c56c277eb4d9de/packet-reorders-bidir/base?offset=3000\n"
          ]
        },
        {
          "output_type": "stream",
          "name": "stderr",
          "text": [
            "/usr/local/lib/python3.10/dist-packages/urllib3/connectionpool.py:1099: InsecureRequestWarning: Unverified HTTPS request is being made to host 'monipe-central.rnp.br'. Adding certificate verification is strongly advised. See: https://urllib3.readthedocs.io/en/latest/advanced-usage.html#tls-warnings\n",
            "  warnings.warn(\n"
          ]
        },
        {
          "output_type": "stream",
          "name": "stdout",
          "text": [
            "Página : 3 = {'ts': 1720518133, 'val': 0.0}\n",
            "url de busca: http://monipe-central.rnp.br/esmond/perfsonar/archive/esmond/perfsonar/archive/947cd70c90d544d785c56c277eb4d9de/packet-reorders-bidir/base?offset=4500\n"
          ]
        },
        {
          "output_type": "stream",
          "name": "stderr",
          "text": [
            "/usr/local/lib/python3.10/dist-packages/urllib3/connectionpool.py:1099: InsecureRequestWarning: Unverified HTTPS request is being made to host 'monipe-central.rnp.br'. Adding certificate verification is strongly advised. See: https://urllib3.readthedocs.io/en/latest/advanced-usage.html#tls-warnings\n",
            "  warnings.warn(\n"
          ]
        },
        {
          "output_type": "stream",
          "name": "stdout",
          "text": [
            "Página : 4 = {'ts': 1721048126, 'val': 0.0}\n",
            "url de busca: http://monipe-central.rnp.br/esmond/perfsonar/archive/esmond/perfsonar/archive/947cd70c90d544d785c56c277eb4d9de/packet-reorders-bidir/base?offset=6000\n"
          ]
        },
        {
          "output_type": "stream",
          "name": "stderr",
          "text": [
            "/usr/local/lib/python3.10/dist-packages/urllib3/connectionpool.py:1099: InsecureRequestWarning: Unverified HTTPS request is being made to host 'monipe-central.rnp.br'. Adding certificate verification is strongly advised. See: https://urllib3.readthedocs.io/en/latest/advanced-usage.html#tls-warnings\n",
            "  warnings.warn(\n"
          ]
        },
        {
          "output_type": "stream",
          "name": "stdout",
          "text": [
            "Página : 5 = {'ts': 1721550321, 'val': 0.0}\n",
            "url de busca: http://monipe-central.rnp.br/esmond/perfsonar/archive/esmond/perfsonar/archive/947cd70c90d544d785c56c277eb4d9de/packet-reorders-bidir/base?offset=7500\n"
          ]
        },
        {
          "output_type": "stream",
          "name": "stderr",
          "text": [
            "/usr/local/lib/python3.10/dist-packages/urllib3/connectionpool.py:1099: InsecureRequestWarning: Unverified HTTPS request is being made to host 'monipe-central.rnp.br'. Adding certificate verification is strongly advised. See: https://urllib3.readthedocs.io/en/latest/advanced-usage.html#tls-warnings\n",
            "  warnings.warn(\n"
          ]
        },
        {
          "output_type": "stream",
          "name": "stdout",
          "text": [
            "Página : 6 = {'ts': 1722065729, 'val': 0.0}\n",
            "url de busca: http://monipe-central.rnp.br/esmond/perfsonar/archive/esmond/perfsonar/archive/947cd70c90d544d785c56c277eb4d9de/packet-reorders-bidir/base?offset=9000\n"
          ]
        },
        {
          "output_type": "stream",
          "name": "stderr",
          "text": [
            "/usr/local/lib/python3.10/dist-packages/urllib3/connectionpool.py:1099: InsecureRequestWarning: Unverified HTTPS request is being made to host 'monipe-central.rnp.br'. Adding certificate verification is strongly advised. See: https://urllib3.readthedocs.io/en/latest/advanced-usage.html#tls-warnings\n",
            "  warnings.warn(\n"
          ]
        },
        {
          "output_type": "stream",
          "name": "stdout",
          "text": [
            "Página : 7 = {'ts': 1722646666, 'val': 0.0}\n",
            "url de busca: http://monipe-central.rnp.br/esmond/perfsonar/archive/esmond/perfsonar/archive/947cd70c90d544d785c56c277eb4d9de/packet-reorders-bidir/base?offset=10500\n"
          ]
        },
        {
          "output_type": "stream",
          "name": "stderr",
          "text": [
            "/usr/local/lib/python3.10/dist-packages/urllib3/connectionpool.py:1099: InsecureRequestWarning: Unverified HTTPS request is being made to host 'monipe-central.rnp.br'. Adding certificate verification is strongly advised. See: https://urllib3.readthedocs.io/en/latest/advanced-usage.html#tls-warnings\n",
            "  warnings.warn(\n"
          ]
        },
        {
          "output_type": "stream",
          "name": "stdout",
          "text": [
            "Página : 8 = {'ts': 1723274614, 'val': 0.0}\n",
            "url de busca: http://monipe-central.rnp.br/esmond/perfsonar/archive/esmond/perfsonar/archive/947cd70c90d544d785c56c277eb4d9de/packet-reorders-bidir/base?offset=12000\n"
          ]
        },
        {
          "output_type": "stream",
          "name": "stderr",
          "text": [
            "/usr/local/lib/python3.10/dist-packages/urllib3/connectionpool.py:1099: InsecureRequestWarning: Unverified HTTPS request is being made to host 'monipe-central.rnp.br'. Adding certificate verification is strongly advised. See: https://urllib3.readthedocs.io/en/latest/advanced-usage.html#tls-warnings\n",
            "  warnings.warn(\n",
            "/usr/local/lib/python3.10/dist-packages/urllib3/connectionpool.py:1099: InsecureRequestWarning: Unverified HTTPS request is being made to host 'monipe-central.rnp.br'. Adding certificate verification is strongly advised. See: https://urllib3.readthedocs.io/en/latest/advanced-usage.html#tls-warnings\n",
            "  warnings.warn(\n"
          ]
        },
        {
          "output_type": "stream",
          "name": "stdout",
          "text": [
            "Página : 9 = {'ts': 1723771495, 'val': 0.0}\n",
            "url de busca: http://monipe-central.rnp.br/esmond/perfsonar/archive/esmond/perfsonar/archive/947cd70c90d544d785c56c277eb4d9de/packet-reorders-bidir/base?offset=13500\n",
            "Página : 10 = {'ts': 1724288922, 'val': 0.0}\n",
            "url de busca: http://monipe-central.rnp.br/esmond/perfsonar/archive/esmond/perfsonar/archive/947cd70c90d544d785c56c277eb4d9de/packet-reorders-bidir/base?offset=15000\n"
          ]
        },
        {
          "output_type": "stream",
          "name": "stderr",
          "text": [
            "/usr/local/lib/python3.10/dist-packages/urllib3/connectionpool.py:1099: InsecureRequestWarning: Unverified HTTPS request is being made to host 'monipe-central.rnp.br'. Adding certificate verification is strongly advised. See: https://urllib3.readthedocs.io/en/latest/advanced-usage.html#tls-warnings\n",
            "  warnings.warn(\n"
          ]
        },
        {
          "output_type": "stream",
          "name": "stdout",
          "text": [
            "Página : 11 = {'ts': 1724844159, 'val': 0.0}\n",
            "url de busca: http://monipe-central.rnp.br/esmond/perfsonar/archive/esmond/perfsonar/archive/947cd70c90d544d785c56c277eb4d9de/packet-reorders-bidir/base?offset=16500\n"
          ]
        },
        {
          "output_type": "stream",
          "name": "stderr",
          "text": [
            "/usr/local/lib/python3.10/dist-packages/urllib3/connectionpool.py:1099: InsecureRequestWarning: Unverified HTTPS request is being made to host 'monipe-central.rnp.br'. Adding certificate verification is strongly advised. See: https://urllib3.readthedocs.io/en/latest/advanced-usage.html#tls-warnings\n",
            "  warnings.warn(\n"
          ]
        },
        {
          "output_type": "stream",
          "name": "stdout",
          "text": [
            "Página : 12 = {'ts': 1725343447, 'val': 0.0}\n",
            "url de busca: http://monipe-central.rnp.br/esmond/perfsonar/archive/esmond/perfsonar/archive/947cd70c90d544d785c56c277eb4d9de/packet-reorders-bidir/base?offset=18000\n"
          ]
        },
        {
          "output_type": "stream",
          "name": "stderr",
          "text": [
            "/usr/local/lib/python3.10/dist-packages/urllib3/connectionpool.py:1099: InsecureRequestWarning: Unverified HTTPS request is being made to host 'monipe-central.rnp.br'. Adding certificate verification is strongly advised. See: https://urllib3.readthedocs.io/en/latest/advanced-usage.html#tls-warnings\n",
            "  warnings.warn(\n"
          ]
        },
        {
          "output_type": "stream",
          "name": "stdout",
          "text": [
            "Página : 13 = {'ts': 1725854361, 'val': 0.0}\n",
            "url de busca: http://monipe-central.rnp.br/esmond/perfsonar/archive/esmond/perfsonar/archive/947cd70c90d544d785c56c277eb4d9de/packet-reorders-bidir/base?offset=19500\n"
          ]
        },
        {
          "output_type": "stream",
          "name": "stderr",
          "text": [
            "/usr/local/lib/python3.10/dist-packages/urllib3/connectionpool.py:1099: InsecureRequestWarning: Unverified HTTPS request is being made to host 'monipe-central.rnp.br'. Adding certificate verification is strongly advised. See: https://urllib3.readthedocs.io/en/latest/advanced-usage.html#tls-warnings\n",
            "  warnings.warn(\n"
          ]
        },
        {
          "output_type": "stream",
          "name": "stdout",
          "text": [
            "Página : 14 = {'ts': 1726390231, 'val': 0.0}\n",
            "url de busca: http://monipe-central.rnp.br/esmond/perfsonar/archive/esmond/perfsonar/archive/947cd70c90d544d785c56c277eb4d9de/packet-reorders-bidir/base?offset=21000\n"
          ]
        },
        {
          "output_type": "stream",
          "name": "stderr",
          "text": [
            "/usr/local/lib/python3.10/dist-packages/urllib3/connectionpool.py:1099: InsecureRequestWarning: Unverified HTTPS request is being made to host 'monipe-central.rnp.br'. Adding certificate verification is strongly advised. See: https://urllib3.readthedocs.io/en/latest/advanced-usage.html#tls-warnings\n",
            "  warnings.warn(\n"
          ]
        },
        {
          "output_type": "stream",
          "name": "stdout",
          "text": [
            "Página : 15 = {'ts': 1726918563, 'val': 0.0}\n",
            "url de busca: http://monipe-central.rnp.br/esmond/perfsonar/archive/esmond/perfsonar/archive/947cd70c90d544d785c56c277eb4d9de/packet-reorders-bidir/base?offset=22500\n"
          ]
        },
        {
          "output_type": "stream",
          "name": "stderr",
          "text": [
            "/usr/local/lib/python3.10/dist-packages/urllib3/connectionpool.py:1099: InsecureRequestWarning: Unverified HTTPS request is being made to host 'monipe-central.rnp.br'. Adding certificate verification is strongly advised. See: https://urllib3.readthedocs.io/en/latest/advanced-usage.html#tls-warnings\n",
            "  warnings.warn(\n"
          ]
        },
        {
          "output_type": "stream",
          "name": "stdout",
          "text": [
            "Página : 16 = {'ts': 1727403979, 'val': 0.0}\n",
            "url de busca: http://monipe-central.rnp.br/esmond/perfsonar/archive/esmond/perfsonar/archive/947cd70c90d544d785c56c277eb4d9de/packet-reorders-bidir/base?offset=24000\n"
          ]
        },
        {
          "output_type": "stream",
          "name": "stderr",
          "text": [
            "/usr/local/lib/python3.10/dist-packages/urllib3/connectionpool.py:1099: InsecureRequestWarning: Unverified HTTPS request is being made to host 'monipe-central.rnp.br'. Adding certificate verification is strongly advised. See: https://urllib3.readthedocs.io/en/latest/advanced-usage.html#tls-warnings\n",
            "  warnings.warn(\n"
          ]
        },
        {
          "output_type": "stream",
          "name": "stdout",
          "text": [
            "Página : 17 = {'ts': 1727888695, 'val': 0.0}\n",
            "url de busca: http://monipe-central.rnp.br/esmond/perfsonar/archive/esmond/perfsonar/archive/947cd70c90d544d785c56c277eb4d9de/packet-reorders-bidir/base?offset=25500\n"
          ]
        },
        {
          "output_type": "stream",
          "name": "stderr",
          "text": [
            "/usr/local/lib/python3.10/dist-packages/urllib3/connectionpool.py:1099: InsecureRequestWarning: Unverified HTTPS request is being made to host 'monipe-central.rnp.br'. Adding certificate verification is strongly advised. See: https://urllib3.readthedocs.io/en/latest/advanced-usage.html#tls-warnings\n",
            "  warnings.warn(\n"
          ]
        },
        {
          "output_type": "stream",
          "name": "stdout",
          "text": [
            "Página : 18 = {'ts': 1728349990, 'val': 0.0}\n",
            "url de busca: http://monipe-central.rnp.br/esmond/perfsonar/archive/esmond/perfsonar/archive/947cd70c90d544d785c56c277eb4d9de/packet-reorders-bidir/base?offset=27000\n"
          ]
        },
        {
          "output_type": "stream",
          "name": "stderr",
          "text": [
            "/usr/local/lib/python3.10/dist-packages/urllib3/connectionpool.py:1099: InsecureRequestWarning: Unverified HTTPS request is being made to host 'monipe-central.rnp.br'. Adding certificate verification is strongly advised. See: https://urllib3.readthedocs.io/en/latest/advanced-usage.html#tls-warnings\n",
            "  warnings.warn(\n"
          ]
        },
        {
          "output_type": "stream",
          "name": "stdout",
          "text": [
            "Página : 19 = {'ts': 1728821949, 'val': 0.0}\n",
            "url de busca: http://monipe-central.rnp.br/esmond/perfsonar/archive/esmond/perfsonar/archive/947cd70c90d544d785c56c277eb4d9de/packet-reorders-bidir/base?offset=28500\n"
          ]
        },
        {
          "output_type": "stream",
          "name": "stderr",
          "text": [
            "/usr/local/lib/python3.10/dist-packages/urllib3/connectionpool.py:1099: InsecureRequestWarning: Unverified HTTPS request is being made to host 'monipe-central.rnp.br'. Adding certificate verification is strongly advised. See: https://urllib3.readthedocs.io/en/latest/advanced-usage.html#tls-warnings\n",
            "  warnings.warn(\n"
          ]
        },
        {
          "output_type": "stream",
          "name": "stdout",
          "text": [
            "Página : 20 = {'ts': 1729287550, 'val': 0.0}\n",
            "url de busca: http://monipe-central.rnp.br/esmond/perfsonar/archive/esmond/perfsonar/archive/947cd70c90d544d785c56c277eb4d9de/packet-reorders-bidir/base?offset=30000\n"
          ]
        },
        {
          "output_type": "stream",
          "name": "stderr",
          "text": [
            "/usr/local/lib/python3.10/dist-packages/urllib3/connectionpool.py:1099: InsecureRequestWarning: Unverified HTTPS request is being made to host 'monipe-central.rnp.br'. Adding certificate verification is strongly advised. See: https://urllib3.readthedocs.io/en/latest/advanced-usage.html#tls-warnings\n",
            "  warnings.warn(\n"
          ]
        },
        {
          "output_type": "stream",
          "name": "stdout",
          "text": [
            "Página : 21 = {'ts': 1729765956, 'val': 0.0}\n",
            "url de busca: http://monipe-central.rnp.br/esmond/perfsonar/archive/esmond/perfsonar/archive/947cd70c90d544d785c56c277eb4d9de/packet-reorders-bidir/base?offset=31500\n"
          ]
        },
        {
          "output_type": "stream",
          "name": "stderr",
          "text": [
            "/usr/local/lib/python3.10/dist-packages/urllib3/connectionpool.py:1099: InsecureRequestWarning: Unverified HTTPS request is being made to host 'monipe-central.rnp.br'. Adding certificate verification is strongly advised. See: https://urllib3.readthedocs.io/en/latest/advanced-usage.html#tls-warnings\n",
            "  warnings.warn(\n"
          ]
        },
        {
          "output_type": "stream",
          "name": "stdout",
          "text": [
            "Página : 22 = {'ts': 1730264091, 'val': 0.0}\n",
            "url de busca: http://monipe-central.rnp.br/esmond/perfsonar/archive/esmond/perfsonar/archive/947cd70c90d544d785c56c277eb4d9de/packet-reorders-bidir/base?offset=33000\n"
          ]
        },
        {
          "output_type": "stream",
          "name": "stderr",
          "text": [
            "/usr/local/lib/python3.10/dist-packages/urllib3/connectionpool.py:1099: InsecureRequestWarning: Unverified HTTPS request is being made to host 'monipe-central.rnp.br'. Adding certificate verification is strongly advised. See: https://urllib3.readthedocs.io/en/latest/advanced-usage.html#tls-warnings\n",
            "  warnings.warn(\n"
          ]
        },
        {
          "output_type": "stream",
          "name": "stdout",
          "text": [
            "Página : 23 = {'ts': 1730790558, 'val': 0.0}\n",
            "packet-reorders-bidir + go\n",
            "url = http://monipe-central.rnp.br/esmond/perfsonar/archive/esmond/perfsonar/archive/61b399f712654d4ea8c8e644d19b9263/packet-reorders-bidir/base\n",
            "url de busca: http://monipe-central.rnp.br/esmond/perfsonar/archive/esmond/perfsonar/archive/61b399f712654d4ea8c8e644d19b9263/packet-reorders-bidir/base\n"
          ]
        },
        {
          "output_type": "stream",
          "name": "stderr",
          "text": [
            "/usr/local/lib/python3.10/dist-packages/urllib3/connectionpool.py:1099: InsecureRequestWarning: Unverified HTTPS request is being made to host 'monipe-central.rnp.br'. Adding certificate verification is strongly advised. See: https://urllib3.readthedocs.io/en/latest/advanced-usage.html#tls-warnings\n",
            "  warnings.warn(\n"
          ]
        },
        {
          "output_type": "stream",
          "name": "stdout",
          "text": [
            "Página : 1 = {'ts': 1719531322, 'val': 0.0}\n",
            "url de busca: http://monipe-central.rnp.br/esmond/perfsonar/archive/esmond/perfsonar/archive/61b399f712654d4ea8c8e644d19b9263/packet-reorders-bidir/base?offset=1500\n"
          ]
        },
        {
          "output_type": "stream",
          "name": "stderr",
          "text": [
            "/usr/local/lib/python3.10/dist-packages/urllib3/connectionpool.py:1099: InsecureRequestWarning: Unverified HTTPS request is being made to host 'monipe-central.rnp.br'. Adding certificate verification is strongly advised. See: https://urllib3.readthedocs.io/en/latest/advanced-usage.html#tls-warnings\n",
            "  warnings.warn(\n"
          ]
        },
        {
          "output_type": "stream",
          "name": "stdout",
          "text": [
            "Página : 2 = {'ts': 1720021685, 'val': 0.0}\n",
            "url de busca: http://monipe-central.rnp.br/esmond/perfsonar/archive/esmond/perfsonar/archive/61b399f712654d4ea8c8e644d19b9263/packet-reorders-bidir/base?offset=3000\n"
          ]
        },
        {
          "output_type": "stream",
          "name": "stderr",
          "text": [
            "/usr/local/lib/python3.10/dist-packages/urllib3/connectionpool.py:1099: InsecureRequestWarning: Unverified HTTPS request is being made to host 'monipe-central.rnp.br'. Adding certificate verification is strongly advised. See: https://urllib3.readthedocs.io/en/latest/advanced-usage.html#tls-warnings\n",
            "  warnings.warn(\n"
          ]
        },
        {
          "output_type": "stream",
          "name": "stdout",
          "text": [
            "Página : 3 = {'ts': 1720542003, 'val': 0.0}\n",
            "url de busca: http://monipe-central.rnp.br/esmond/perfsonar/archive/esmond/perfsonar/archive/61b399f712654d4ea8c8e644d19b9263/packet-reorders-bidir/base?offset=4500\n"
          ]
        },
        {
          "output_type": "stream",
          "name": "stderr",
          "text": [
            "/usr/local/lib/python3.10/dist-packages/urllib3/connectionpool.py:1099: InsecureRequestWarning: Unverified HTTPS request is being made to host 'monipe-central.rnp.br'. Adding certificate verification is strongly advised. See: https://urllib3.readthedocs.io/en/latest/advanced-usage.html#tls-warnings\n",
            "  warnings.warn(\n"
          ]
        },
        {
          "output_type": "stream",
          "name": "stdout",
          "text": [
            "Página : 4 = {'ts': 1721111243, 'val': 0.0}\n",
            "url de busca: http://monipe-central.rnp.br/esmond/perfsonar/archive/esmond/perfsonar/archive/61b399f712654d4ea8c8e644d19b9263/packet-reorders-bidir/base?offset=6000\n"
          ]
        },
        {
          "output_type": "stream",
          "name": "stderr",
          "text": [
            "/usr/local/lib/python3.10/dist-packages/urllib3/connectionpool.py:1099: InsecureRequestWarning: Unverified HTTPS request is being made to host 'monipe-central.rnp.br'. Adding certificate verification is strongly advised. See: https://urllib3.readthedocs.io/en/latest/advanced-usage.html#tls-warnings\n",
            "  warnings.warn(\n"
          ]
        },
        {
          "output_type": "stream",
          "name": "stdout",
          "text": [
            "Página : 5 = {'ts': 1721633102, 'val': 0.0}\n",
            "url de busca: http://monipe-central.rnp.br/esmond/perfsonar/archive/esmond/perfsonar/archive/61b399f712654d4ea8c8e644d19b9263/packet-reorders-bidir/base?offset=7500\n"
          ]
        },
        {
          "output_type": "stream",
          "name": "stderr",
          "text": [
            "/usr/local/lib/python3.10/dist-packages/urllib3/connectionpool.py:1099: InsecureRequestWarning: Unverified HTTPS request is being made to host 'monipe-central.rnp.br'. Adding certificate verification is strongly advised. See: https://urllib3.readthedocs.io/en/latest/advanced-usage.html#tls-warnings\n",
            "  warnings.warn(\n"
          ]
        },
        {
          "output_type": "stream",
          "name": "stdout",
          "text": [
            "Página : 6 = {'ts': 1722177787, 'val': 0.0}\n",
            "url de busca: http://monipe-central.rnp.br/esmond/perfsonar/archive/esmond/perfsonar/archive/61b399f712654d4ea8c8e644d19b9263/packet-reorders-bidir/base?offset=9000\n"
          ]
        },
        {
          "output_type": "stream",
          "name": "stderr",
          "text": [
            "/usr/local/lib/python3.10/dist-packages/urllib3/connectionpool.py:1099: InsecureRequestWarning: Unverified HTTPS request is being made to host 'monipe-central.rnp.br'. Adding certificate verification is strongly advised. See: https://urllib3.readthedocs.io/en/latest/advanced-usage.html#tls-warnings\n",
            "  warnings.warn(\n"
          ]
        },
        {
          "output_type": "stream",
          "name": "stdout",
          "text": [
            "Página : 7 = {'ts': 1722730154, 'val': 0.0}\n",
            "url de busca: http://monipe-central.rnp.br/esmond/perfsonar/archive/esmond/perfsonar/archive/61b399f712654d4ea8c8e644d19b9263/packet-reorders-bidir/base?offset=10500\n"
          ]
        },
        {
          "output_type": "stream",
          "name": "stderr",
          "text": [
            "/usr/local/lib/python3.10/dist-packages/urllib3/connectionpool.py:1099: InsecureRequestWarning: Unverified HTTPS request is being made to host 'monipe-central.rnp.br'. Adding certificate verification is strongly advised. See: https://urllib3.readthedocs.io/en/latest/advanced-usage.html#tls-warnings\n",
            "  warnings.warn(\n"
          ]
        },
        {
          "output_type": "stream",
          "name": "stdout",
          "text": [
            "Página : 8 = {'ts': 1723250391, 'val': 0.0}\n",
            "url de busca: http://monipe-central.rnp.br/esmond/perfsonar/archive/esmond/perfsonar/archive/61b399f712654d4ea8c8e644d19b9263/packet-reorders-bidir/base?offset=12000\n"
          ]
        },
        {
          "output_type": "stream",
          "name": "stderr",
          "text": [
            "/usr/local/lib/python3.10/dist-packages/urllib3/connectionpool.py:1099: InsecureRequestWarning: Unverified HTTPS request is being made to host 'monipe-central.rnp.br'. Adding certificate verification is strongly advised. See: https://urllib3.readthedocs.io/en/latest/advanced-usage.html#tls-warnings\n",
            "  warnings.warn(\n"
          ]
        },
        {
          "output_type": "stream",
          "name": "stdout",
          "text": [
            "Página : 9 = {'ts': 1723761526, 'val': 0.0}\n",
            "url de busca: http://monipe-central.rnp.br/esmond/perfsonar/archive/esmond/perfsonar/archive/61b399f712654d4ea8c8e644d19b9263/packet-reorders-bidir/base?offset=13500\n"
          ]
        },
        {
          "output_type": "stream",
          "name": "stderr",
          "text": [
            "/usr/local/lib/python3.10/dist-packages/urllib3/connectionpool.py:1099: InsecureRequestWarning: Unverified HTTPS request is being made to host 'monipe-central.rnp.br'. Adding certificate verification is strongly advised. See: https://urllib3.readthedocs.io/en/latest/advanced-usage.html#tls-warnings\n",
            "  warnings.warn(\n"
          ]
        },
        {
          "output_type": "stream",
          "name": "stdout",
          "text": [
            "Página : 10 = {'ts': 1724297714, 'val': 0.0}\n",
            "url de busca: http://monipe-central.rnp.br/esmond/perfsonar/archive/esmond/perfsonar/archive/61b399f712654d4ea8c8e644d19b9263/packet-reorders-bidir/base?offset=15000\n"
          ]
        },
        {
          "output_type": "stream",
          "name": "stderr",
          "text": [
            "/usr/local/lib/python3.10/dist-packages/urllib3/connectionpool.py:1099: InsecureRequestWarning: Unverified HTTPS request is being made to host 'monipe-central.rnp.br'. Adding certificate verification is strongly advised. See: https://urllib3.readthedocs.io/en/latest/advanced-usage.html#tls-warnings\n",
            "  warnings.warn(\n"
          ]
        },
        {
          "output_type": "stream",
          "name": "stdout",
          "text": [
            "Página : 11 = {'ts': 1724812083, 'val': 0.0}\n",
            "url de busca: http://monipe-central.rnp.br/esmond/perfsonar/archive/esmond/perfsonar/archive/61b399f712654d4ea8c8e644d19b9263/packet-reorders-bidir/base?offset=16500\n"
          ]
        },
        {
          "output_type": "stream",
          "name": "stderr",
          "text": [
            "/usr/local/lib/python3.10/dist-packages/urllib3/connectionpool.py:1099: InsecureRequestWarning: Unverified HTTPS request is being made to host 'monipe-central.rnp.br'. Adding certificate verification is strongly advised. See: https://urllib3.readthedocs.io/en/latest/advanced-usage.html#tls-warnings\n",
            "  warnings.warn(\n"
          ]
        },
        {
          "output_type": "stream",
          "name": "stdout",
          "text": [
            "Página : 12 = {'ts': 1725349107, 'val': 0.0}\n",
            "url de busca: http://monipe-central.rnp.br/esmond/perfsonar/archive/esmond/perfsonar/archive/61b399f712654d4ea8c8e644d19b9263/packet-reorders-bidir/base?offset=18000\n"
          ]
        },
        {
          "output_type": "stream",
          "name": "stderr",
          "text": [
            "/usr/local/lib/python3.10/dist-packages/urllib3/connectionpool.py:1099: InsecureRequestWarning: Unverified HTTPS request is being made to host 'monipe-central.rnp.br'. Adding certificate verification is strongly advised. See: https://urllib3.readthedocs.io/en/latest/advanced-usage.html#tls-warnings\n",
            "  warnings.warn(\n"
          ]
        },
        {
          "output_type": "stream",
          "name": "stdout",
          "text": [
            "Página : 13 = {'ts': 1725868457, 'val': 0.0}\n",
            "url de busca: http://monipe-central.rnp.br/esmond/perfsonar/archive/esmond/perfsonar/archive/61b399f712654d4ea8c8e644d19b9263/packet-reorders-bidir/base?offset=19500\n"
          ]
        },
        {
          "output_type": "stream",
          "name": "stderr",
          "text": [
            "/usr/local/lib/python3.10/dist-packages/urllib3/connectionpool.py:1099: InsecureRequestWarning: Unverified HTTPS request is being made to host 'monipe-central.rnp.br'. Adding certificate verification is strongly advised. See: https://urllib3.readthedocs.io/en/latest/advanced-usage.html#tls-warnings\n",
            "  warnings.warn(\n"
          ]
        },
        {
          "output_type": "stream",
          "name": "stdout",
          "text": [
            "Página : 14 = {'ts': 1726391057, 'val': 0.0}\n",
            "url de busca: http://monipe-central.rnp.br/esmond/perfsonar/archive/esmond/perfsonar/archive/61b399f712654d4ea8c8e644d19b9263/packet-reorders-bidir/base?offset=21000\n"
          ]
        },
        {
          "output_type": "stream",
          "name": "stderr",
          "text": [
            "/usr/local/lib/python3.10/dist-packages/urllib3/connectionpool.py:1099: InsecureRequestWarning: Unverified HTTPS request is being made to host 'monipe-central.rnp.br'. Adding certificate verification is strongly advised. See: https://urllib3.readthedocs.io/en/latest/advanced-usage.html#tls-warnings\n",
            "  warnings.warn(\n"
          ]
        },
        {
          "output_type": "stream",
          "name": "stdout",
          "text": [
            "Página : 15 = {'ts': 1726967761, 'val': 0.0}\n",
            "url de busca: http://monipe-central.rnp.br/esmond/perfsonar/archive/esmond/perfsonar/archive/61b399f712654d4ea8c8e644d19b9263/packet-reorders-bidir/base?offset=22500\n"
          ]
        },
        {
          "output_type": "stream",
          "name": "stderr",
          "text": [
            "/usr/local/lib/python3.10/dist-packages/urllib3/connectionpool.py:1099: InsecureRequestWarning: Unverified HTTPS request is being made to host 'monipe-central.rnp.br'. Adding certificate verification is strongly advised. See: https://urllib3.readthedocs.io/en/latest/advanced-usage.html#tls-warnings\n",
            "  warnings.warn(\n"
          ]
        },
        {
          "output_type": "stream",
          "name": "stdout",
          "text": [
            "Página : 16 = {'ts': 1727502399, 'val': 0.0}\n",
            "url de busca: http://monipe-central.rnp.br/esmond/perfsonar/archive/esmond/perfsonar/archive/61b399f712654d4ea8c8e644d19b9263/packet-reorders-bidir/base?offset=24000\n"
          ]
        },
        {
          "output_type": "stream",
          "name": "stderr",
          "text": [
            "/usr/local/lib/python3.10/dist-packages/urllib3/connectionpool.py:1099: InsecureRequestWarning: Unverified HTTPS request is being made to host 'monipe-central.rnp.br'. Adding certificate verification is strongly advised. See: https://urllib3.readthedocs.io/en/latest/advanced-usage.html#tls-warnings\n",
            "  warnings.warn(\n"
          ]
        },
        {
          "output_type": "stream",
          "name": "stdout",
          "text": [
            "Página : 17 = {'ts': 1728028081, 'val': 0.0}\n",
            "url de busca: http://monipe-central.rnp.br/esmond/perfsonar/archive/esmond/perfsonar/archive/61b399f712654d4ea8c8e644d19b9263/packet-reorders-bidir/base?offset=25500\n"
          ]
        },
        {
          "output_type": "stream",
          "name": "stderr",
          "text": [
            "/usr/local/lib/python3.10/dist-packages/urllib3/connectionpool.py:1099: InsecureRequestWarning: Unverified HTTPS request is being made to host 'monipe-central.rnp.br'. Adding certificate verification is strongly advised. See: https://urllib3.readthedocs.io/en/latest/advanced-usage.html#tls-warnings\n",
            "  warnings.warn(\n"
          ]
        },
        {
          "output_type": "stream",
          "name": "stdout",
          "text": [
            "Página : 18 = {'ts': 1728556284, 'val': 0.0}\n",
            "url de busca: http://monipe-central.rnp.br/esmond/perfsonar/archive/esmond/perfsonar/archive/61b399f712654d4ea8c8e644d19b9263/packet-reorders-bidir/base?offset=27000\n"
          ]
        },
        {
          "output_type": "stream",
          "name": "stderr",
          "text": [
            "/usr/local/lib/python3.10/dist-packages/urllib3/connectionpool.py:1099: InsecureRequestWarning: Unverified HTTPS request is being made to host 'monipe-central.rnp.br'. Adding certificate verification is strongly advised. See: https://urllib3.readthedocs.io/en/latest/advanced-usage.html#tls-warnings\n",
            "  warnings.warn(\n"
          ]
        },
        {
          "output_type": "stream",
          "name": "stdout",
          "text": [
            "Página : 19 = {'ts': 1729065371, 'val': 0.0}\n",
            "url de busca: http://monipe-central.rnp.br/esmond/perfsonar/archive/esmond/perfsonar/archive/61b399f712654d4ea8c8e644d19b9263/packet-reorders-bidir/base?offset=28500\n"
          ]
        },
        {
          "output_type": "stream",
          "name": "stderr",
          "text": [
            "/usr/local/lib/python3.10/dist-packages/urllib3/connectionpool.py:1099: InsecureRequestWarning: Unverified HTTPS request is being made to host 'monipe-central.rnp.br'. Adding certificate verification is strongly advised. See: https://urllib3.readthedocs.io/en/latest/advanced-usage.html#tls-warnings\n",
            "  warnings.warn(\n"
          ]
        },
        {
          "output_type": "stream",
          "name": "stdout",
          "text": [
            "Página : 20 = {'ts': 1729604292, 'val': 0.0}\n",
            "url de busca: http://monipe-central.rnp.br/esmond/perfsonar/archive/esmond/perfsonar/archive/61b399f712654d4ea8c8e644d19b9263/packet-reorders-bidir/base?offset=30000\n"
          ]
        },
        {
          "output_type": "stream",
          "name": "stderr",
          "text": [
            "/usr/local/lib/python3.10/dist-packages/urllib3/connectionpool.py:1099: InsecureRequestWarning: Unverified HTTPS request is being made to host 'monipe-central.rnp.br'. Adding certificate verification is strongly advised. See: https://urllib3.readthedocs.io/en/latest/advanced-usage.html#tls-warnings\n",
            "  warnings.warn(\n"
          ]
        },
        {
          "output_type": "stream",
          "name": "stdout",
          "text": [
            "Página : 21 = {'ts': 1730263685, 'val': 0.0}\n",
            "packet-reorders-bidir + mt\n",
            "url = http://monipe-central.rnp.br/esmond/perfsonar/archive/esmond/perfsonar/archive/069094fb550a41a88f3baf37b370a94f/packet-reorders-bidir/base\n",
            "url de busca: http://monipe-central.rnp.br/esmond/perfsonar/archive/esmond/perfsonar/archive/069094fb550a41a88f3baf37b370a94f/packet-reorders-bidir/base\n"
          ]
        },
        {
          "output_type": "stream",
          "name": "stderr",
          "text": [
            "/usr/local/lib/python3.10/dist-packages/urllib3/connectionpool.py:1099: InsecureRequestWarning: Unverified HTTPS request is being made to host 'monipe-central.rnp.br'. Adding certificate verification is strongly advised. See: https://urllib3.readthedocs.io/en/latest/advanced-usage.html#tls-warnings\n",
            "  warnings.warn(\n"
          ]
        },
        {
          "output_type": "stream",
          "name": "stdout",
          "text": [
            "Página : 1 = {'ts': 1719531509, 'val': 0.0}\n",
            "url de busca: http://monipe-central.rnp.br/esmond/perfsonar/archive/esmond/perfsonar/archive/069094fb550a41a88f3baf37b370a94f/packet-reorders-bidir/base?offset=1500\n"
          ]
        },
        {
          "output_type": "stream",
          "name": "stderr",
          "text": [
            "/usr/local/lib/python3.10/dist-packages/urllib3/connectionpool.py:1099: InsecureRequestWarning: Unverified HTTPS request is being made to host 'monipe-central.rnp.br'. Adding certificate verification is strongly advised. See: https://urllib3.readthedocs.io/en/latest/advanced-usage.html#tls-warnings\n",
            "  warnings.warn(\n"
          ]
        },
        {
          "output_type": "stream",
          "name": "stdout",
          "text": [
            "Página : 2 = {'ts': 1720010620, 'val': 0.0}\n",
            "url de busca: http://monipe-central.rnp.br/esmond/perfsonar/archive/esmond/perfsonar/archive/069094fb550a41a88f3baf37b370a94f/packet-reorders-bidir/base?offset=3000\n"
          ]
        },
        {
          "output_type": "stream",
          "name": "stderr",
          "text": [
            "/usr/local/lib/python3.10/dist-packages/urllib3/connectionpool.py:1099: InsecureRequestWarning: Unverified HTTPS request is being made to host 'monipe-central.rnp.br'. Adding certificate verification is strongly advised. See: https://urllib3.readthedocs.io/en/latest/advanced-usage.html#tls-warnings\n",
            "  warnings.warn(\n"
          ]
        },
        {
          "output_type": "stream",
          "name": "stdout",
          "text": [
            "Página : 3 = {'ts': 1720519901, 'val': 0.0}\n",
            "url de busca: http://monipe-central.rnp.br/esmond/perfsonar/archive/esmond/perfsonar/archive/069094fb550a41a88f3baf37b370a94f/packet-reorders-bidir/base?offset=4500\n"
          ]
        },
        {
          "output_type": "stream",
          "name": "stderr",
          "text": [
            "/usr/local/lib/python3.10/dist-packages/urllib3/connectionpool.py:1099: InsecureRequestWarning: Unverified HTTPS request is being made to host 'monipe-central.rnp.br'. Adding certificate verification is strongly advised. See: https://urllib3.readthedocs.io/en/latest/advanced-usage.html#tls-warnings\n",
            "  warnings.warn(\n"
          ]
        },
        {
          "output_type": "stream",
          "name": "stdout",
          "text": [
            "Página : 4 = {'ts': 1721077775, 'val': 0.0}\n",
            "url de busca: http://monipe-central.rnp.br/esmond/perfsonar/archive/esmond/perfsonar/archive/069094fb550a41a88f3baf37b370a94f/packet-reorders-bidir/base?offset=6000\n"
          ]
        },
        {
          "output_type": "stream",
          "name": "stderr",
          "text": [
            "/usr/local/lib/python3.10/dist-packages/urllib3/connectionpool.py:1099: InsecureRequestWarning: Unverified HTTPS request is being made to host 'monipe-central.rnp.br'. Adding certificate verification is strongly advised. See: https://urllib3.readthedocs.io/en/latest/advanced-usage.html#tls-warnings\n",
            "  warnings.warn(\n"
          ]
        },
        {
          "output_type": "stream",
          "name": "stdout",
          "text": [
            "Página : 5 = {'ts': 1721595652, 'val': 0.0}\n",
            "url de busca: http://monipe-central.rnp.br/esmond/perfsonar/archive/esmond/perfsonar/archive/069094fb550a41a88f3baf37b370a94f/packet-reorders-bidir/base?offset=7500\n"
          ]
        },
        {
          "output_type": "stream",
          "name": "stderr",
          "text": [
            "/usr/local/lib/python3.10/dist-packages/urllib3/connectionpool.py:1099: InsecureRequestWarning: Unverified HTTPS request is being made to host 'monipe-central.rnp.br'. Adding certificate verification is strongly advised. See: https://urllib3.readthedocs.io/en/latest/advanced-usage.html#tls-warnings\n",
            "  warnings.warn(\n",
            "/usr/local/lib/python3.10/dist-packages/urllib3/connectionpool.py:1099: InsecureRequestWarning: Unverified HTTPS request is being made to host 'monipe-central.rnp.br'. Adding certificate verification is strongly advised. See: https://urllib3.readthedocs.io/en/latest/advanced-usage.html#tls-warnings\n",
            "  warnings.warn(\n"
          ]
        },
        {
          "output_type": "stream",
          "name": "stdout",
          "text": [
            "Página : 6 = {'ts': 1722115929, 'val': 0.0}\n",
            "url de busca: http://monipe-central.rnp.br/esmond/perfsonar/archive/esmond/perfsonar/archive/069094fb550a41a88f3baf37b370a94f/packet-reorders-bidir/base?offset=9000\n",
            "Página : 7 = {'ts': 1722642065, 'val': 0.0}\n",
            "url de busca: http://monipe-central.rnp.br/esmond/perfsonar/archive/esmond/perfsonar/archive/069094fb550a41a88f3baf37b370a94f/packet-reorders-bidir/base?offset=10500\n"
          ]
        },
        {
          "output_type": "stream",
          "name": "stderr",
          "text": [
            "/usr/local/lib/python3.10/dist-packages/urllib3/connectionpool.py:1099: InsecureRequestWarning: Unverified HTTPS request is being made to host 'monipe-central.rnp.br'. Adding certificate verification is strongly advised. See: https://urllib3.readthedocs.io/en/latest/advanced-usage.html#tls-warnings\n",
            "  warnings.warn(\n"
          ]
        },
        {
          "output_type": "stream",
          "name": "stdout",
          "text": [
            "Página : 8 = {'ts': 1723154165, 'val': 0.0}\n",
            "url de busca: http://monipe-central.rnp.br/esmond/perfsonar/archive/esmond/perfsonar/archive/069094fb550a41a88f3baf37b370a94f/packet-reorders-bidir/base?offset=12000\n"
          ]
        },
        {
          "output_type": "stream",
          "name": "stderr",
          "text": [
            "/usr/local/lib/python3.10/dist-packages/urllib3/connectionpool.py:1099: InsecureRequestWarning: Unverified HTTPS request is being made to host 'monipe-central.rnp.br'. Adding certificate verification is strongly advised. See: https://urllib3.readthedocs.io/en/latest/advanced-usage.html#tls-warnings\n",
            "  warnings.warn(\n"
          ]
        },
        {
          "output_type": "stream",
          "name": "stdout",
          "text": [
            "Página : 9 = {'ts': 1723673410, 'val': 0.0}\n",
            "url de busca: http://monipe-central.rnp.br/esmond/perfsonar/archive/esmond/perfsonar/archive/069094fb550a41a88f3baf37b370a94f/packet-reorders-bidir/base?offset=13500\n"
          ]
        },
        {
          "output_type": "stream",
          "name": "stderr",
          "text": [
            "/usr/local/lib/python3.10/dist-packages/urllib3/connectionpool.py:1099: InsecureRequestWarning: Unverified HTTPS request is being made to host 'monipe-central.rnp.br'. Adding certificate verification is strongly advised. See: https://urllib3.readthedocs.io/en/latest/advanced-usage.html#tls-warnings\n",
            "  warnings.warn(\n"
          ]
        },
        {
          "output_type": "stream",
          "name": "stdout",
          "text": [
            "Página : 10 = {'ts': 1724210625, 'val': 0.0}\n",
            "url de busca: http://monipe-central.rnp.br/esmond/perfsonar/archive/esmond/perfsonar/archive/069094fb550a41a88f3baf37b370a94f/packet-reorders-bidir/base?offset=15000\n"
          ]
        },
        {
          "output_type": "stream",
          "name": "stderr",
          "text": [
            "/usr/local/lib/python3.10/dist-packages/urllib3/connectionpool.py:1099: InsecureRequestWarning: Unverified HTTPS request is being made to host 'monipe-central.rnp.br'. Adding certificate verification is strongly advised. See: https://urllib3.readthedocs.io/en/latest/advanced-usage.html#tls-warnings\n",
            "  warnings.warn(\n"
          ]
        },
        {
          "output_type": "stream",
          "name": "stdout",
          "text": [
            "Página : 11 = {'ts': 1724749051, 'val': 0.0}\n",
            "url de busca: http://monipe-central.rnp.br/esmond/perfsonar/archive/esmond/perfsonar/archive/069094fb550a41a88f3baf37b370a94f/packet-reorders-bidir/base?offset=16500\n"
          ]
        },
        {
          "output_type": "stream",
          "name": "stderr",
          "text": [
            "/usr/local/lib/python3.10/dist-packages/urllib3/connectionpool.py:1099: InsecureRequestWarning: Unverified HTTPS request is being made to host 'monipe-central.rnp.br'. Adding certificate verification is strongly advised. See: https://urllib3.readthedocs.io/en/latest/advanced-usage.html#tls-warnings\n",
            "  warnings.warn(\n"
          ]
        },
        {
          "output_type": "stream",
          "name": "stdout",
          "text": [
            "Página : 12 = {'ts': 1725503011, 'val': 0.0}\n",
            "url de busca: http://monipe-central.rnp.br/esmond/perfsonar/archive/esmond/perfsonar/archive/069094fb550a41a88f3baf37b370a94f/packet-reorders-bidir/base?offset=18000\n"
          ]
        },
        {
          "output_type": "stream",
          "name": "stderr",
          "text": [
            "/usr/local/lib/python3.10/dist-packages/urllib3/connectionpool.py:1099: InsecureRequestWarning: Unverified HTTPS request is being made to host 'monipe-central.rnp.br'. Adding certificate verification is strongly advised. See: https://urllib3.readthedocs.io/en/latest/advanced-usage.html#tls-warnings\n",
            "  warnings.warn(\n"
          ]
        },
        {
          "output_type": "stream",
          "name": "stdout",
          "text": [
            "Página : 13 = {'ts': 1725990951, 'val': 0.0}\n",
            "url de busca: http://monipe-central.rnp.br/esmond/perfsonar/archive/esmond/perfsonar/archive/069094fb550a41a88f3baf37b370a94f/packet-reorders-bidir/base?offset=19500\n"
          ]
        },
        {
          "output_type": "stream",
          "name": "stderr",
          "text": [
            "/usr/local/lib/python3.10/dist-packages/urllib3/connectionpool.py:1099: InsecureRequestWarning: Unverified HTTPS request is being made to host 'monipe-central.rnp.br'. Adding certificate verification is strongly advised. See: https://urllib3.readthedocs.io/en/latest/advanced-usage.html#tls-warnings\n",
            "  warnings.warn(\n"
          ]
        },
        {
          "output_type": "stream",
          "name": "stdout",
          "text": [
            "Página : 14 = {'ts': 1726655397, 'val': 0.0}\n",
            "url de busca: http://monipe-central.rnp.br/esmond/perfsonar/archive/esmond/perfsonar/archive/069094fb550a41a88f3baf37b370a94f/packet-reorders-bidir/base?offset=21000\n"
          ]
        },
        {
          "output_type": "stream",
          "name": "stderr",
          "text": [
            "/usr/local/lib/python3.10/dist-packages/urllib3/connectionpool.py:1099: InsecureRequestWarning: Unverified HTTPS request is being made to host 'monipe-central.rnp.br'. Adding certificate verification is strongly advised. See: https://urllib3.readthedocs.io/en/latest/advanced-usage.html#tls-warnings\n",
            "  warnings.warn(\n"
          ]
        },
        {
          "output_type": "stream",
          "name": "stdout",
          "text": [
            "Página : 15 = {'ts': 1727144606, 'val': 0.0}\n",
            "url de busca: http://monipe-central.rnp.br/esmond/perfsonar/archive/esmond/perfsonar/archive/069094fb550a41a88f3baf37b370a94f/packet-reorders-bidir/base?offset=22500\n"
          ]
        },
        {
          "output_type": "stream",
          "name": "stderr",
          "text": [
            "/usr/local/lib/python3.10/dist-packages/urllib3/connectionpool.py:1099: InsecureRequestWarning: Unverified HTTPS request is being made to host 'monipe-central.rnp.br'. Adding certificate verification is strongly advised. See: https://urllib3.readthedocs.io/en/latest/advanced-usage.html#tls-warnings\n",
            "  warnings.warn(\n"
          ]
        },
        {
          "output_type": "stream",
          "name": "stdout",
          "text": [
            "Página : 16 = {'ts': 1727634635, 'val': 0.0}\n",
            "url de busca: http://monipe-central.rnp.br/esmond/perfsonar/archive/esmond/perfsonar/archive/069094fb550a41a88f3baf37b370a94f/packet-reorders-bidir/base?offset=24000\n"
          ]
        },
        {
          "output_type": "stream",
          "name": "stderr",
          "text": [
            "/usr/local/lib/python3.10/dist-packages/urllib3/connectionpool.py:1099: InsecureRequestWarning: Unverified HTTPS request is being made to host 'monipe-central.rnp.br'. Adding certificate verification is strongly advised. See: https://urllib3.readthedocs.io/en/latest/advanced-usage.html#tls-warnings\n",
            "  warnings.warn(\n",
            "/usr/local/lib/python3.10/dist-packages/urllib3/connectionpool.py:1099: InsecureRequestWarning: Unverified HTTPS request is being made to host 'monipe-central.rnp.br'. Adding certificate verification is strongly advised. See: https://urllib3.readthedocs.io/en/latest/advanced-usage.html#tls-warnings\n",
            "  warnings.warn(\n"
          ]
        },
        {
          "output_type": "stream",
          "name": "stdout",
          "text": [
            "Página : 17 = {'ts': 1728140399, 'val': 0.0}\n",
            "url de busca: http://monipe-central.rnp.br/esmond/perfsonar/archive/esmond/perfsonar/archive/069094fb550a41a88f3baf37b370a94f/packet-reorders-bidir/base?offset=25500\n",
            "Página : 18 = {'ts': 1728640145, 'val': 0.0}\n",
            "url de busca: http://monipe-central.rnp.br/esmond/perfsonar/archive/esmond/perfsonar/archive/069094fb550a41a88f3baf37b370a94f/packet-reorders-bidir/base?offset=27000\n"
          ]
        },
        {
          "output_type": "stream",
          "name": "stderr",
          "text": [
            "/usr/local/lib/python3.10/dist-packages/urllib3/connectionpool.py:1099: InsecureRequestWarning: Unverified HTTPS request is being made to host 'monipe-central.rnp.br'. Adding certificate verification is strongly advised. See: https://urllib3.readthedocs.io/en/latest/advanced-usage.html#tls-warnings\n",
            "  warnings.warn(\n"
          ]
        },
        {
          "output_type": "stream",
          "name": "stdout",
          "text": [
            "Página : 19 = {'ts': 1729134672, 'val': 0.0}\n",
            "url de busca: http://monipe-central.rnp.br/esmond/perfsonar/archive/esmond/perfsonar/archive/069094fb550a41a88f3baf37b370a94f/packet-reorders-bidir/base?offset=28500\n"
          ]
        },
        {
          "output_type": "stream",
          "name": "stderr",
          "text": [
            "/usr/local/lib/python3.10/dist-packages/urllib3/connectionpool.py:1099: InsecureRequestWarning: Unverified HTTPS request is being made to host 'monipe-central.rnp.br'. Adding certificate verification is strongly advised. See: https://urllib3.readthedocs.io/en/latest/advanced-usage.html#tls-warnings\n",
            "  warnings.warn(\n"
          ]
        },
        {
          "output_type": "stream",
          "name": "stdout",
          "text": [
            "Página : 20 = {'ts': 1729666247, 'val': 0.0}\n",
            "url de busca: http://monipe-central.rnp.br/esmond/perfsonar/archive/esmond/perfsonar/archive/069094fb550a41a88f3baf37b370a94f/packet-reorders-bidir/base?offset=30000\n"
          ]
        },
        {
          "output_type": "stream",
          "name": "stderr",
          "text": [
            "/usr/local/lib/python3.10/dist-packages/urllib3/connectionpool.py:1099: InsecureRequestWarning: Unverified HTTPS request is being made to host 'monipe-central.rnp.br'. Adding certificate verification is strongly advised. See: https://urllib3.readthedocs.io/en/latest/advanced-usage.html#tls-warnings\n",
            "  warnings.warn(\n"
          ]
        },
        {
          "output_type": "stream",
          "name": "stdout",
          "text": [
            "Página : 21 = {'ts': 1730180734, 'val': 0.0}\n",
            "url de busca: http://monipe-central.rnp.br/esmond/perfsonar/archive/esmond/perfsonar/archive/069094fb550a41a88f3baf37b370a94f/packet-reorders-bidir/base?offset=31500\n"
          ]
        },
        {
          "output_type": "stream",
          "name": "stderr",
          "text": [
            "/usr/local/lib/python3.10/dist-packages/urllib3/connectionpool.py:1099: InsecureRequestWarning: Unverified HTTPS request is being made to host 'monipe-central.rnp.br'. Adding certificate verification is strongly advised. See: https://urllib3.readthedocs.io/en/latest/advanced-usage.html#tls-warnings\n",
            "  warnings.warn(\n"
          ]
        },
        {
          "output_type": "stream",
          "name": "stdout",
          "text": [
            "Página : 22 = {'ts': 1730701019, 'val': 0.0}\n",
            "url de busca: http://monipe-central.rnp.br/esmond/perfsonar/archive/esmond/perfsonar/archive/069094fb550a41a88f3baf37b370a94f/packet-reorders-bidir/base?offset=33000\n"
          ]
        },
        {
          "output_type": "stream",
          "name": "stderr",
          "text": [
            "/usr/local/lib/python3.10/dist-packages/urllib3/connectionpool.py:1099: InsecureRequestWarning: Unverified HTTPS request is being made to host 'monipe-central.rnp.br'. Adding certificate verification is strongly advised. See: https://urllib3.readthedocs.io/en/latest/advanced-usage.html#tls-warnings\n",
            "  warnings.warn(\n"
          ]
        },
        {
          "output_type": "stream",
          "name": "stdout",
          "text": [
            "Página : 23 = {'ts': 1731210727, 'val': 0.0}\n",
            "url de busca: http://monipe-central.rnp.br/esmond/perfsonar/archive/esmond/perfsonar/archive/069094fb550a41a88f3baf37b370a94f/packet-reorders-bidir/base?offset=34500\n"
          ]
        },
        {
          "output_type": "stream",
          "name": "stderr",
          "text": [
            "/usr/local/lib/python3.10/dist-packages/urllib3/connectionpool.py:1099: InsecureRequestWarning: Unverified HTTPS request is being made to host 'monipe-central.rnp.br'. Adding certificate verification is strongly advised. See: https://urllib3.readthedocs.io/en/latest/advanced-usage.html#tls-warnings\n",
            "  warnings.warn(\n"
          ]
        },
        {
          "output_type": "stream",
          "name": "stdout",
          "text": [
            "Página : 24 = {'ts': 1731707719, 'val': 0.0}\n",
            "url de busca: http://monipe-central.rnp.br/esmond/perfsonar/archive/esmond/perfsonar/archive/069094fb550a41a88f3baf37b370a94f/packet-reorders-bidir/base?offset=36000\n"
          ]
        },
        {
          "output_type": "stream",
          "name": "stderr",
          "text": [
            "/usr/local/lib/python3.10/dist-packages/urllib3/connectionpool.py:1099: InsecureRequestWarning: Unverified HTTPS request is being made to host 'monipe-central.rnp.br'. Adding certificate verification is strongly advised. See: https://urllib3.readthedocs.io/en/latest/advanced-usage.html#tls-warnings\n",
            "  warnings.warn(\n"
          ]
        },
        {
          "output_type": "stream",
          "name": "stdout",
          "text": [
            "Página : 25 = {'ts': 1732232665, 'val': 0.0}\n",
            "packet-reorders-bidir + pb\n",
            "url = http://monipe-central.rnp.br/esmond/perfsonar/archive/esmond/perfsonar/archive/a0fb385451e447788d0b126e03263342/packet-reorders-bidir/base\n",
            "url de busca: http://monipe-central.rnp.br/esmond/perfsonar/archive/esmond/perfsonar/archive/a0fb385451e447788d0b126e03263342/packet-reorders-bidir/base\n"
          ]
        },
        {
          "output_type": "stream",
          "name": "stderr",
          "text": [
            "/usr/local/lib/python3.10/dist-packages/urllib3/connectionpool.py:1099: InsecureRequestWarning: Unverified HTTPS request is being made to host 'monipe-central.rnp.br'. Adding certificate verification is strongly advised. See: https://urllib3.readthedocs.io/en/latest/advanced-usage.html#tls-warnings\n",
            "  warnings.warn(\n"
          ]
        },
        {
          "output_type": "stream",
          "name": "stdout",
          "text": [
            "Página : 1 = {'ts': 1719531371, 'val': 0.0}\n",
            "url de busca: http://monipe-central.rnp.br/esmond/perfsonar/archive/esmond/perfsonar/archive/a0fb385451e447788d0b126e03263342/packet-reorders-bidir/base?offset=1500\n"
          ]
        },
        {
          "output_type": "stream",
          "name": "stderr",
          "text": [
            "/usr/local/lib/python3.10/dist-packages/urllib3/connectionpool.py:1099: InsecureRequestWarning: Unverified HTTPS request is being made to host 'monipe-central.rnp.br'. Adding certificate verification is strongly advised. See: https://urllib3.readthedocs.io/en/latest/advanced-usage.html#tls-warnings\n",
            "  warnings.warn(\n"
          ]
        },
        {
          "output_type": "stream",
          "name": "stdout",
          "text": [
            "Página : 2 = {'ts': 1720024653, 'val': 0.0}\n",
            "url de busca: http://monipe-central.rnp.br/esmond/perfsonar/archive/esmond/perfsonar/archive/a0fb385451e447788d0b126e03263342/packet-reorders-bidir/base?offset=3000\n"
          ]
        },
        {
          "output_type": "stream",
          "name": "stderr",
          "text": [
            "/usr/local/lib/python3.10/dist-packages/urllib3/connectionpool.py:1099: InsecureRequestWarning: Unverified HTTPS request is being made to host 'monipe-central.rnp.br'. Adding certificate verification is strongly advised. See: https://urllib3.readthedocs.io/en/latest/advanced-usage.html#tls-warnings\n",
            "  warnings.warn(\n"
          ]
        },
        {
          "output_type": "stream",
          "name": "stdout",
          "text": [
            "Página : 3 = {'ts': 1720521693, 'val': 0.0}\n",
            "url de busca: http://monipe-central.rnp.br/esmond/perfsonar/archive/esmond/perfsonar/archive/a0fb385451e447788d0b126e03263342/packet-reorders-bidir/base?offset=4500\n"
          ]
        },
        {
          "output_type": "stream",
          "name": "stderr",
          "text": [
            "/usr/local/lib/python3.10/dist-packages/urllib3/connectionpool.py:1099: InsecureRequestWarning: Unverified HTTPS request is being made to host 'monipe-central.rnp.br'. Adding certificate verification is strongly advised. See: https://urllib3.readthedocs.io/en/latest/advanced-usage.html#tls-warnings\n",
            "  warnings.warn(\n"
          ]
        },
        {
          "output_type": "stream",
          "name": "stdout",
          "text": [
            "Página : 4 = {'ts': 1721073353, 'val': 0.0}\n",
            "url de busca: http://monipe-central.rnp.br/esmond/perfsonar/archive/esmond/perfsonar/archive/a0fb385451e447788d0b126e03263342/packet-reorders-bidir/base?offset=6000\n"
          ]
        },
        {
          "output_type": "stream",
          "name": "stderr",
          "text": [
            "/usr/local/lib/python3.10/dist-packages/urllib3/connectionpool.py:1099: InsecureRequestWarning: Unverified HTTPS request is being made to host 'monipe-central.rnp.br'. Adding certificate verification is strongly advised. See: https://urllib3.readthedocs.io/en/latest/advanced-usage.html#tls-warnings\n",
            "  warnings.warn(\n"
          ]
        },
        {
          "output_type": "stream",
          "name": "stdout",
          "text": [
            "Página : 5 = {'ts': 1721577164, 'val': 0.0}\n",
            "url de busca: http://monipe-central.rnp.br/esmond/perfsonar/archive/esmond/perfsonar/archive/a0fb385451e447788d0b126e03263342/packet-reorders-bidir/base?offset=7500\n"
          ]
        },
        {
          "output_type": "stream",
          "name": "stderr",
          "text": [
            "/usr/local/lib/python3.10/dist-packages/urllib3/connectionpool.py:1099: InsecureRequestWarning: Unverified HTTPS request is being made to host 'monipe-central.rnp.br'. Adding certificate verification is strongly advised. See: https://urllib3.readthedocs.io/en/latest/advanced-usage.html#tls-warnings\n",
            "  warnings.warn(\n"
          ]
        },
        {
          "output_type": "stream",
          "name": "stdout",
          "text": [
            "Página : 6 = {'ts': 1722093325, 'val': 0.0}\n",
            "url de busca: http://monipe-central.rnp.br/esmond/perfsonar/archive/esmond/perfsonar/archive/a0fb385451e447788d0b126e03263342/packet-reorders-bidir/base?offset=9000\n"
          ]
        },
        {
          "output_type": "stream",
          "name": "stderr",
          "text": [
            "/usr/local/lib/python3.10/dist-packages/urllib3/connectionpool.py:1099: InsecureRequestWarning: Unverified HTTPS request is being made to host 'monipe-central.rnp.br'. Adding certificate verification is strongly advised. See: https://urllib3.readthedocs.io/en/latest/advanced-usage.html#tls-warnings\n",
            "  warnings.warn(\n"
          ]
        },
        {
          "output_type": "stream",
          "name": "stdout",
          "text": [
            "Página : 7 = {'ts': 1722619400, 'val': 0.0}\n",
            "url de busca: http://monipe-central.rnp.br/esmond/perfsonar/archive/esmond/perfsonar/archive/a0fb385451e447788d0b126e03263342/packet-reorders-bidir/base?offset=10500\n"
          ]
        },
        {
          "output_type": "stream",
          "name": "stderr",
          "text": [
            "/usr/local/lib/python3.10/dist-packages/urllib3/connectionpool.py:1099: InsecureRequestWarning: Unverified HTTPS request is being made to host 'monipe-central.rnp.br'. Adding certificate verification is strongly advised. See: https://urllib3.readthedocs.io/en/latest/advanced-usage.html#tls-warnings\n",
            "  warnings.warn(\n"
          ]
        },
        {
          "output_type": "stream",
          "name": "stdout",
          "text": [
            "Página : 8 = {'ts': 1723139177, 'val': 0.0}\n",
            "url de busca: http://monipe-central.rnp.br/esmond/perfsonar/archive/esmond/perfsonar/archive/a0fb385451e447788d0b126e03263342/packet-reorders-bidir/base?offset=12000\n"
          ]
        },
        {
          "output_type": "stream",
          "name": "stderr",
          "text": [
            "/usr/local/lib/python3.10/dist-packages/urllib3/connectionpool.py:1099: InsecureRequestWarning: Unverified HTTPS request is being made to host 'monipe-central.rnp.br'. Adding certificate verification is strongly advised. See: https://urllib3.readthedocs.io/en/latest/advanced-usage.html#tls-warnings\n",
            "  warnings.warn(\n"
          ]
        },
        {
          "output_type": "stream",
          "name": "stdout",
          "text": [
            "Página : 9 = {'ts': 1723700024, 'val': 0.0}\n",
            "url de busca: http://monipe-central.rnp.br/esmond/perfsonar/archive/esmond/perfsonar/archive/a0fb385451e447788d0b126e03263342/packet-reorders-bidir/base?offset=13500\n"
          ]
        },
        {
          "output_type": "stream",
          "name": "stderr",
          "text": [
            "/usr/local/lib/python3.10/dist-packages/urllib3/connectionpool.py:1099: InsecureRequestWarning: Unverified HTTPS request is being made to host 'monipe-central.rnp.br'. Adding certificate verification is strongly advised. See: https://urllib3.readthedocs.io/en/latest/advanced-usage.html#tls-warnings\n",
            "  warnings.warn(\n"
          ]
        },
        {
          "output_type": "stream",
          "name": "stdout",
          "text": [
            "Página : 10 = {'ts': 1724405327, 'val': 0.0}\n",
            "url de busca: http://monipe-central.rnp.br/esmond/perfsonar/archive/esmond/perfsonar/archive/a0fb385451e447788d0b126e03263342/packet-reorders-bidir/base?offset=15000\n"
          ]
        },
        {
          "output_type": "stream",
          "name": "stderr",
          "text": [
            "/usr/local/lib/python3.10/dist-packages/urllib3/connectionpool.py:1099: InsecureRequestWarning: Unverified HTTPS request is being made to host 'monipe-central.rnp.br'. Adding certificate verification is strongly advised. See: https://urllib3.readthedocs.io/en/latest/advanced-usage.html#tls-warnings\n",
            "  warnings.warn(\n",
            "/usr/local/lib/python3.10/dist-packages/urllib3/connectionpool.py:1099: InsecureRequestWarning: Unverified HTTPS request is being made to host 'monipe-central.rnp.br'. Adding certificate verification is strongly advised. See: https://urllib3.readthedocs.io/en/latest/advanced-usage.html#tls-warnings\n",
            "  warnings.warn(\n"
          ]
        },
        {
          "output_type": "stream",
          "name": "stdout",
          "text": [
            "Página : 11 = {'ts': 1725161034, 'val': 0.0}\n",
            "url de busca: http://monipe-central.rnp.br/esmond/perfsonar/archive/esmond/perfsonar/archive/a0fb385451e447788d0b126e03263342/packet-reorders-bidir/base?offset=16500\n",
            "Página : 12 = {'ts': 1725690331, 'val': 0.0}\n",
            "url de busca: http://monipe-central.rnp.br/esmond/perfsonar/archive/esmond/perfsonar/archive/a0fb385451e447788d0b126e03263342/packet-reorders-bidir/base?offset=18000\n"
          ]
        },
        {
          "output_type": "stream",
          "name": "stderr",
          "text": [
            "/usr/local/lib/python3.10/dist-packages/urllib3/connectionpool.py:1099: InsecureRequestWarning: Unverified HTTPS request is being made to host 'monipe-central.rnp.br'. Adding certificate verification is strongly advised. See: https://urllib3.readthedocs.io/en/latest/advanced-usage.html#tls-warnings\n",
            "  warnings.warn(\n"
          ]
        },
        {
          "output_type": "stream",
          "name": "stdout",
          "text": [
            "Página : 13 = {'ts': 1726227715, 'val': 0.0}\n",
            "url de busca: http://monipe-central.rnp.br/esmond/perfsonar/archive/esmond/perfsonar/archive/a0fb385451e447788d0b126e03263342/packet-reorders-bidir/base?offset=19500\n"
          ]
        },
        {
          "output_type": "stream",
          "name": "stderr",
          "text": [
            "/usr/local/lib/python3.10/dist-packages/urllib3/connectionpool.py:1099: InsecureRequestWarning: Unverified HTTPS request is being made to host 'monipe-central.rnp.br'. Adding certificate verification is strongly advised. See: https://urllib3.readthedocs.io/en/latest/advanced-usage.html#tls-warnings\n",
            "  warnings.warn(\n"
          ]
        },
        {
          "output_type": "stream",
          "name": "stdout",
          "text": [
            "Página : 14 = {'ts': 1726680284, 'val': 0.0}\n",
            "url de busca: http://monipe-central.rnp.br/esmond/perfsonar/archive/esmond/perfsonar/archive/a0fb385451e447788d0b126e03263342/packet-reorders-bidir/base?offset=21000\n"
          ]
        },
        {
          "output_type": "stream",
          "name": "stderr",
          "text": [
            "/usr/local/lib/python3.10/dist-packages/urllib3/connectionpool.py:1099: InsecureRequestWarning: Unverified HTTPS request is being made to host 'monipe-central.rnp.br'. Adding certificate verification is strongly advised. See: https://urllib3.readthedocs.io/en/latest/advanced-usage.html#tls-warnings\n",
            "  warnings.warn(\n"
          ]
        },
        {
          "output_type": "stream",
          "name": "stdout",
          "text": [
            "Página : 15 = {'ts': 1727211310, 'val': 0.0}\n",
            "url de busca: http://monipe-central.rnp.br/esmond/perfsonar/archive/esmond/perfsonar/archive/a0fb385451e447788d0b126e03263342/packet-reorders-bidir/base?offset=22500\n"
          ]
        },
        {
          "output_type": "stream",
          "name": "stderr",
          "text": [
            "/usr/local/lib/python3.10/dist-packages/urllib3/connectionpool.py:1099: InsecureRequestWarning: Unverified HTTPS request is being made to host 'monipe-central.rnp.br'. Adding certificate verification is strongly advised. See: https://urllib3.readthedocs.io/en/latest/advanced-usage.html#tls-warnings\n",
            "  warnings.warn(\n"
          ]
        },
        {
          "output_type": "stream",
          "name": "stdout",
          "text": [
            "Página : 16 = {'ts': 1727730296, 'val': 0.0}\n",
            "url de busca: http://monipe-central.rnp.br/esmond/perfsonar/archive/esmond/perfsonar/archive/a0fb385451e447788d0b126e03263342/packet-reorders-bidir/base?offset=24000\n"
          ]
        },
        {
          "output_type": "stream",
          "name": "stderr",
          "text": [
            "/usr/local/lib/python3.10/dist-packages/urllib3/connectionpool.py:1099: InsecureRequestWarning: Unverified HTTPS request is being made to host 'monipe-central.rnp.br'. Adding certificate verification is strongly advised. See: https://urllib3.readthedocs.io/en/latest/advanced-usage.html#tls-warnings\n",
            "  warnings.warn(\n"
          ]
        },
        {
          "output_type": "stream",
          "name": "stdout",
          "text": [
            "Página : 17 = {'ts': 1728266345, 'val': 0.0}\n",
            "url de busca: http://monipe-central.rnp.br/esmond/perfsonar/archive/esmond/perfsonar/archive/a0fb385451e447788d0b126e03263342/packet-reorders-bidir/base?offset=25500\n"
          ]
        },
        {
          "output_type": "stream",
          "name": "stderr",
          "text": [
            "/usr/local/lib/python3.10/dist-packages/urllib3/connectionpool.py:1099: InsecureRequestWarning: Unverified HTTPS request is being made to host 'monipe-central.rnp.br'. Adding certificate verification is strongly advised. See: https://urllib3.readthedocs.io/en/latest/advanced-usage.html#tls-warnings\n",
            "  warnings.warn(\n"
          ]
        },
        {
          "output_type": "stream",
          "name": "stdout",
          "text": [
            "Página : 18 = {'ts': 1728870566, 'val': 0.0}\n",
            "url de busca: http://monipe-central.rnp.br/esmond/perfsonar/archive/esmond/perfsonar/archive/a0fb385451e447788d0b126e03263342/packet-reorders-bidir/base?offset=27000\n"
          ]
        },
        {
          "output_type": "stream",
          "name": "stderr",
          "text": [
            "/usr/local/lib/python3.10/dist-packages/urllib3/connectionpool.py:1099: InsecureRequestWarning: Unverified HTTPS request is being made to host 'monipe-central.rnp.br'. Adding certificate verification is strongly advised. See: https://urllib3.readthedocs.io/en/latest/advanced-usage.html#tls-warnings\n",
            "  warnings.warn(\n"
          ]
        },
        {
          "output_type": "stream",
          "name": "stdout",
          "text": [
            "Página : 19 = {'ts': 1729367582, 'val': 0.0}\n",
            "url de busca: http://monipe-central.rnp.br/esmond/perfsonar/archive/esmond/perfsonar/archive/a0fb385451e447788d0b126e03263342/packet-reorders-bidir/base?offset=28500\n"
          ]
        },
        {
          "output_type": "stream",
          "name": "stderr",
          "text": [
            "/usr/local/lib/python3.10/dist-packages/urllib3/connectionpool.py:1099: InsecureRequestWarning: Unverified HTTPS request is being made to host 'monipe-central.rnp.br'. Adding certificate verification is strongly advised. See: https://urllib3.readthedocs.io/en/latest/advanced-usage.html#tls-warnings\n",
            "  warnings.warn(\n"
          ]
        },
        {
          "output_type": "stream",
          "name": "stdout",
          "text": [
            "Página : 20 = {'ts': 1729869118, 'val': 0.0}\n",
            "url de busca: http://monipe-central.rnp.br/esmond/perfsonar/archive/esmond/perfsonar/archive/a0fb385451e447788d0b126e03263342/packet-reorders-bidir/base?offset=30000\n",
            "Página : 21 = {'ts': 1730431066, 'val': 0.0}\n",
            "url de busca: http://monipe-central.rnp.br/esmond/perfsonar/archive/esmond/perfsonar/archive/a0fb385451e447788d0b126e03263342/packet-reorders-bidir/base?offset=31500\n"
          ]
        },
        {
          "output_type": "stream",
          "name": "stderr",
          "text": [
            "/usr/local/lib/python3.10/dist-packages/urllib3/connectionpool.py:1099: InsecureRequestWarning: Unverified HTTPS request is being made to host 'monipe-central.rnp.br'. Adding certificate verification is strongly advised. See: https://urllib3.readthedocs.io/en/latest/advanced-usage.html#tls-warnings\n",
            "  warnings.warn(\n",
            "/usr/local/lib/python3.10/dist-packages/urllib3/connectionpool.py:1099: InsecureRequestWarning: Unverified HTTPS request is being made to host 'monipe-central.rnp.br'. Adding certificate verification is strongly advised. See: https://urllib3.readthedocs.io/en/latest/advanced-usage.html#tls-warnings\n",
            "  warnings.warn(\n"
          ]
        },
        {
          "output_type": "stream",
          "name": "stdout",
          "text": [
            "Página : 22 = {'ts': 1731098129, 'val': 0.0}\n",
            "url de busca: http://monipe-central.rnp.br/esmond/perfsonar/archive/esmond/perfsonar/archive/a0fb385451e447788d0b126e03263342/packet-reorders-bidir/base?offset=33000\n"
          ]
        },
        {
          "output_type": "stream",
          "name": "stderr",
          "text": [
            "/usr/local/lib/python3.10/dist-packages/urllib3/connectionpool.py:1099: InsecureRequestWarning: Unverified HTTPS request is being made to host 'monipe-central.rnp.br'. Adding certificate verification is strongly advised. See: https://urllib3.readthedocs.io/en/latest/advanced-usage.html#tls-warnings\n",
            "  warnings.warn(\n"
          ]
        },
        {
          "output_type": "stream",
          "name": "stdout",
          "text": [
            "Página : 23 = {'ts': 1731600246, 'val': 0.0}\n",
            "url de busca: http://monipe-central.rnp.br/esmond/perfsonar/archive/esmond/perfsonar/archive/a0fb385451e447788d0b126e03263342/packet-reorders-bidir/base?offset=34500\n"
          ]
        },
        {
          "output_type": "stream",
          "name": "stderr",
          "text": [
            "/usr/local/lib/python3.10/dist-packages/urllib3/connectionpool.py:1099: InsecureRequestWarning: Unverified HTTPS request is being made to host 'monipe-central.rnp.br'. Adding certificate verification is strongly advised. See: https://urllib3.readthedocs.io/en/latest/advanced-usage.html#tls-warnings\n",
            "  warnings.warn(\n"
          ]
        },
        {
          "output_type": "stream",
          "name": "stdout",
          "text": [
            "Página : 24 = {'ts': 1732134167, 'val': 0.0}\n",
            "packet-reorders-bidir + pe\n",
            "url = http://monipe-central.rnp.br/esmond/perfsonar/archive/esmond/perfsonar/archive/f5a52ea566264898a5183711a7aea870/packet-reorders-bidir/base\n",
            "url de busca: http://monipe-central.rnp.br/esmond/perfsonar/archive/esmond/perfsonar/archive/f5a52ea566264898a5183711a7aea870/packet-reorders-bidir/base\n"
          ]
        },
        {
          "output_type": "stream",
          "name": "stderr",
          "text": [
            "/usr/local/lib/python3.10/dist-packages/urllib3/connectionpool.py:1099: InsecureRequestWarning: Unverified HTTPS request is being made to host 'monipe-central.rnp.br'. Adding certificate verification is strongly advised. See: https://urllib3.readthedocs.io/en/latest/advanced-usage.html#tls-warnings\n",
            "  warnings.warn(\n"
          ]
        },
        {
          "output_type": "stream",
          "name": "stdout",
          "text": [
            "Página : 1 = {'ts': 1719531521, 'val': 0.0}\n",
            "url de busca: http://monipe-central.rnp.br/esmond/perfsonar/archive/esmond/perfsonar/archive/f5a52ea566264898a5183711a7aea870/packet-reorders-bidir/base?offset=1500\n"
          ]
        },
        {
          "output_type": "stream",
          "name": "stderr",
          "text": [
            "/usr/local/lib/python3.10/dist-packages/urllib3/connectionpool.py:1099: InsecureRequestWarning: Unverified HTTPS request is being made to host 'monipe-central.rnp.br'. Adding certificate verification is strongly advised. See: https://urllib3.readthedocs.io/en/latest/advanced-usage.html#tls-warnings\n",
            "  warnings.warn(\n"
          ]
        },
        {
          "output_type": "stream",
          "name": "stdout",
          "text": [
            "Página : 2 = {'ts': 1719991485, 'val': 0.0}\n",
            "url de busca: http://monipe-central.rnp.br/esmond/perfsonar/archive/esmond/perfsonar/archive/f5a52ea566264898a5183711a7aea870/packet-reorders-bidir/base?offset=3000\n",
            "Página : 3 = {'ts': 1720448982, 'val': 0.0}\n",
            "url de busca: http://monipe-central.rnp.br/esmond/perfsonar/archive/esmond/perfsonar/archive/f5a52ea566264898a5183711a7aea870/packet-reorders-bidir/base?offset=4500\n"
          ]
        },
        {
          "output_type": "stream",
          "name": "stderr",
          "text": [
            "/usr/local/lib/python3.10/dist-packages/urllib3/connectionpool.py:1099: InsecureRequestWarning: Unverified HTTPS request is being made to host 'monipe-central.rnp.br'. Adding certificate verification is strongly advised. See: https://urllib3.readthedocs.io/en/latest/advanced-usage.html#tls-warnings\n",
            "  warnings.warn(\n",
            "/usr/local/lib/python3.10/dist-packages/urllib3/connectionpool.py:1099: InsecureRequestWarning: Unverified HTTPS request is being made to host 'monipe-central.rnp.br'. Adding certificate verification is strongly advised. See: https://urllib3.readthedocs.io/en/latest/advanced-usage.html#tls-warnings\n",
            "  warnings.warn(\n"
          ]
        },
        {
          "output_type": "stream",
          "name": "stdout",
          "text": [
            "Página : 4 = {'ts': 1720961260, 'val': 0.0}\n",
            "url de busca: http://monipe-central.rnp.br/esmond/perfsonar/archive/esmond/perfsonar/archive/f5a52ea566264898a5183711a7aea870/packet-reorders-bidir/base?offset=6000\n"
          ]
        },
        {
          "output_type": "stream",
          "name": "stderr",
          "text": [
            "/usr/local/lib/python3.10/dist-packages/urllib3/connectionpool.py:1099: InsecureRequestWarning: Unverified HTTPS request is being made to host 'monipe-central.rnp.br'. Adding certificate verification is strongly advised. See: https://urllib3.readthedocs.io/en/latest/advanced-usage.html#tls-warnings\n",
            "  warnings.warn(\n"
          ]
        },
        {
          "output_type": "stream",
          "name": "stdout",
          "text": [
            "Página : 5 = {'ts': 1721518210, 'val': 0.0}\n",
            "url de busca: http://monipe-central.rnp.br/esmond/perfsonar/archive/esmond/perfsonar/archive/f5a52ea566264898a5183711a7aea870/packet-reorders-bidir/base?offset=7500\n"
          ]
        },
        {
          "output_type": "stream",
          "name": "stderr",
          "text": [
            "/usr/local/lib/python3.10/dist-packages/urllib3/connectionpool.py:1099: InsecureRequestWarning: Unverified HTTPS request is being made to host 'monipe-central.rnp.br'. Adding certificate verification is strongly advised. See: https://urllib3.readthedocs.io/en/latest/advanced-usage.html#tls-warnings\n",
            "  warnings.warn(\n"
          ]
        },
        {
          "output_type": "stream",
          "name": "stdout",
          "text": [
            "Página : 6 = {'ts': 1722006985, 'val': 0.0}\n",
            "url de busca: http://monipe-central.rnp.br/esmond/perfsonar/archive/esmond/perfsonar/archive/f5a52ea566264898a5183711a7aea870/packet-reorders-bidir/base?offset=9000\n"
          ]
        },
        {
          "output_type": "stream",
          "name": "stderr",
          "text": [
            "/usr/local/lib/python3.10/dist-packages/urllib3/connectionpool.py:1099: InsecureRequestWarning: Unverified HTTPS request is being made to host 'monipe-central.rnp.br'. Adding certificate verification is strongly advised. See: https://urllib3.readthedocs.io/en/latest/advanced-usage.html#tls-warnings\n",
            "  warnings.warn(\n"
          ]
        },
        {
          "output_type": "stream",
          "name": "stdout",
          "text": [
            "Página : 7 = {'ts': 1722523959, 'val': 0.0}\n",
            "url de busca: http://monipe-central.rnp.br/esmond/perfsonar/archive/esmond/perfsonar/archive/f5a52ea566264898a5183711a7aea870/packet-reorders-bidir/base?offset=10500\n"
          ]
        },
        {
          "output_type": "stream",
          "name": "stderr",
          "text": [
            "/usr/local/lib/python3.10/dist-packages/urllib3/connectionpool.py:1099: InsecureRequestWarning: Unverified HTTPS request is being made to host 'monipe-central.rnp.br'. Adding certificate verification is strongly advised. See: https://urllib3.readthedocs.io/en/latest/advanced-usage.html#tls-warnings\n",
            "  warnings.warn(\n"
          ]
        },
        {
          "output_type": "stream",
          "name": "stdout",
          "text": [
            "Página : 8 = {'ts': 1722999540, 'val': 0.0}\n",
            "url de busca: http://monipe-central.rnp.br/esmond/perfsonar/archive/esmond/perfsonar/archive/f5a52ea566264898a5183711a7aea870/packet-reorders-bidir/base?offset=12000\n"
          ]
        },
        {
          "output_type": "stream",
          "name": "stderr",
          "text": [
            "/usr/local/lib/python3.10/dist-packages/urllib3/connectionpool.py:1099: InsecureRequestWarning: Unverified HTTPS request is being made to host 'monipe-central.rnp.br'. Adding certificate verification is strongly advised. See: https://urllib3.readthedocs.io/en/latest/advanced-usage.html#tls-warnings\n",
            "  warnings.warn(\n"
          ]
        },
        {
          "output_type": "stream",
          "name": "stdout",
          "text": [
            "Página : 9 = {'ts': 1723490732, 'val': 0.0}\n",
            "url de busca: http://monipe-central.rnp.br/esmond/perfsonar/archive/esmond/perfsonar/archive/f5a52ea566264898a5183711a7aea870/packet-reorders-bidir/base?offset=13500\n"
          ]
        },
        {
          "output_type": "stream",
          "name": "stderr",
          "text": [
            "/usr/local/lib/python3.10/dist-packages/urllib3/connectionpool.py:1099: InsecureRequestWarning: Unverified HTTPS request is being made to host 'monipe-central.rnp.br'. Adding certificate verification is strongly advised. See: https://urllib3.readthedocs.io/en/latest/advanced-usage.html#tls-warnings\n",
            "  warnings.warn(\n"
          ]
        },
        {
          "output_type": "stream",
          "name": "stdout",
          "text": [
            "Página : 10 = {'ts': 1724003864, 'val': 0.0}\n",
            "url de busca: http://monipe-central.rnp.br/esmond/perfsonar/archive/esmond/perfsonar/archive/f5a52ea566264898a5183711a7aea870/packet-reorders-bidir/base?offset=15000\n"
          ]
        },
        {
          "output_type": "stream",
          "name": "stderr",
          "text": [
            "/usr/local/lib/python3.10/dist-packages/urllib3/connectionpool.py:1099: InsecureRequestWarning: Unverified HTTPS request is being made to host 'monipe-central.rnp.br'. Adding certificate verification is strongly advised. See: https://urllib3.readthedocs.io/en/latest/advanced-usage.html#tls-warnings\n",
            "  warnings.warn(\n"
          ]
        },
        {
          "output_type": "stream",
          "name": "stdout",
          "text": [
            "Página : 11 = {'ts': 1724478550, 'val': 0.0}\n",
            "url de busca: http://monipe-central.rnp.br/esmond/perfsonar/archive/esmond/perfsonar/archive/f5a52ea566264898a5183711a7aea870/packet-reorders-bidir/base?offset=16500\n"
          ]
        },
        {
          "output_type": "stream",
          "name": "stderr",
          "text": [
            "/usr/local/lib/python3.10/dist-packages/urllib3/connectionpool.py:1099: InsecureRequestWarning: Unverified HTTPS request is being made to host 'monipe-central.rnp.br'. Adding certificate verification is strongly advised. See: https://urllib3.readthedocs.io/en/latest/advanced-usage.html#tls-warnings\n",
            "  warnings.warn(\n"
          ]
        },
        {
          "output_type": "stream",
          "name": "stdout",
          "text": [
            "Página : 12 = {'ts': 1724977670, 'val': 0.0}\n",
            "url de busca: http://monipe-central.rnp.br/esmond/perfsonar/archive/esmond/perfsonar/archive/f5a52ea566264898a5183711a7aea870/packet-reorders-bidir/base?offset=18000\n"
          ]
        },
        {
          "output_type": "stream",
          "name": "stderr",
          "text": [
            "/usr/local/lib/python3.10/dist-packages/urllib3/connectionpool.py:1099: InsecureRequestWarning: Unverified HTTPS request is being made to host 'monipe-central.rnp.br'. Adding certificate verification is strongly advised. See: https://urllib3.readthedocs.io/en/latest/advanced-usage.html#tls-warnings\n",
            "  warnings.warn(\n"
          ]
        },
        {
          "output_type": "stream",
          "name": "stdout",
          "text": [
            "Página : 13 = {'ts': 1725498068, 'val': 0.0}\n",
            "url de busca: http://monipe-central.rnp.br/esmond/perfsonar/archive/esmond/perfsonar/archive/f5a52ea566264898a5183711a7aea870/packet-reorders-bidir/base?offset=19500\n"
          ]
        },
        {
          "output_type": "stream",
          "name": "stderr",
          "text": [
            "/usr/local/lib/python3.10/dist-packages/urllib3/connectionpool.py:1099: InsecureRequestWarning: Unverified HTTPS request is being made to host 'monipe-central.rnp.br'. Adding certificate verification is strongly advised. See: https://urllib3.readthedocs.io/en/latest/advanced-usage.html#tls-warnings\n",
            "  warnings.warn(\n"
          ]
        },
        {
          "output_type": "stream",
          "name": "stdout",
          "text": [
            "Página : 14 = {'ts': 1725982885, 'val': 0.0}\n",
            "url de busca: http://monipe-central.rnp.br/esmond/perfsonar/archive/esmond/perfsonar/archive/f5a52ea566264898a5183711a7aea870/packet-reorders-bidir/base?offset=21000\n"
          ]
        },
        {
          "output_type": "stream",
          "name": "stderr",
          "text": [
            "/usr/local/lib/python3.10/dist-packages/urllib3/connectionpool.py:1099: InsecureRequestWarning: Unverified HTTPS request is being made to host 'monipe-central.rnp.br'. Adding certificate verification is strongly advised. See: https://urllib3.readthedocs.io/en/latest/advanced-usage.html#tls-warnings\n",
            "  warnings.warn(\n"
          ]
        },
        {
          "output_type": "stream",
          "name": "stdout",
          "text": [
            "Página : 15 = {'ts': 1726457308, 'val': 0.0}\n",
            "url de busca: http://monipe-central.rnp.br/esmond/perfsonar/archive/esmond/perfsonar/archive/f5a52ea566264898a5183711a7aea870/packet-reorders-bidir/base?offset=22500\n"
          ]
        },
        {
          "output_type": "stream",
          "name": "stderr",
          "text": [
            "/usr/local/lib/python3.10/dist-packages/urllib3/connectionpool.py:1099: InsecureRequestWarning: Unverified HTTPS request is being made to host 'monipe-central.rnp.br'. Adding certificate verification is strongly advised. See: https://urllib3.readthedocs.io/en/latest/advanced-usage.html#tls-warnings\n",
            "  warnings.warn(\n"
          ]
        },
        {
          "output_type": "stream",
          "name": "stdout",
          "text": [
            "Página : 16 = {'ts': 1727166259, 'val': 0.0}\n",
            "url de busca: http://monipe-central.rnp.br/esmond/perfsonar/archive/esmond/perfsonar/archive/f5a52ea566264898a5183711a7aea870/packet-reorders-bidir/base?offset=24000\n"
          ]
        },
        {
          "output_type": "stream",
          "name": "stderr",
          "text": [
            "/usr/local/lib/python3.10/dist-packages/urllib3/connectionpool.py:1099: InsecureRequestWarning: Unverified HTTPS request is being made to host 'monipe-central.rnp.br'. Adding certificate verification is strongly advised. See: https://urllib3.readthedocs.io/en/latest/advanced-usage.html#tls-warnings\n",
            "  warnings.warn(\n"
          ]
        },
        {
          "output_type": "stream",
          "name": "stdout",
          "text": [
            "Página : 17 = {'ts': 1727642850, 'val': 0.0}\n",
            "url de busca: http://monipe-central.rnp.br/esmond/perfsonar/archive/esmond/perfsonar/archive/f5a52ea566264898a5183711a7aea870/packet-reorders-bidir/base?offset=25500\n"
          ]
        },
        {
          "output_type": "stream",
          "name": "stderr",
          "text": [
            "/usr/local/lib/python3.10/dist-packages/urllib3/connectionpool.py:1099: InsecureRequestWarning: Unverified HTTPS request is being made to host 'monipe-central.rnp.br'. Adding certificate verification is strongly advised. See: https://urllib3.readthedocs.io/en/latest/advanced-usage.html#tls-warnings\n",
            "  warnings.warn(\n"
          ]
        },
        {
          "output_type": "stream",
          "name": "stdout",
          "text": [
            "Página : 18 = {'ts': 1728137972, 'val': 0.0}\n",
            "url de busca: http://monipe-central.rnp.br/esmond/perfsonar/archive/esmond/perfsonar/archive/f5a52ea566264898a5183711a7aea870/packet-reorders-bidir/base?offset=27000\n"
          ]
        },
        {
          "output_type": "stream",
          "name": "stderr",
          "text": [
            "/usr/local/lib/python3.10/dist-packages/urllib3/connectionpool.py:1099: InsecureRequestWarning: Unverified HTTPS request is being made to host 'monipe-central.rnp.br'. Adding certificate verification is strongly advised. See: https://urllib3.readthedocs.io/en/latest/advanced-usage.html#tls-warnings\n",
            "  warnings.warn(\n"
          ]
        },
        {
          "output_type": "stream",
          "name": "stdout",
          "text": [
            "Página : 19 = {'ts': 1728655119, 'val': 0.0}\n",
            "url de busca: http://monipe-central.rnp.br/esmond/perfsonar/archive/esmond/perfsonar/archive/f5a52ea566264898a5183711a7aea870/packet-reorders-bidir/base?offset=28500\n"
          ]
        },
        {
          "output_type": "stream",
          "name": "stderr",
          "text": [
            "/usr/local/lib/python3.10/dist-packages/urllib3/connectionpool.py:1099: InsecureRequestWarning: Unverified HTTPS request is being made to host 'monipe-central.rnp.br'. Adding certificate verification is strongly advised. See: https://urllib3.readthedocs.io/en/latest/advanced-usage.html#tls-warnings\n",
            "  warnings.warn(\n"
          ]
        },
        {
          "output_type": "stream",
          "name": "stdout",
          "text": [
            "Página : 20 = {'ts': 1729240137, 'val': 0.0}\n",
            "url de busca: http://monipe-central.rnp.br/esmond/perfsonar/archive/esmond/perfsonar/archive/f5a52ea566264898a5183711a7aea870/packet-reorders-bidir/base?offset=30000\n"
          ]
        },
        {
          "output_type": "stream",
          "name": "stderr",
          "text": [
            "/usr/local/lib/python3.10/dist-packages/urllib3/connectionpool.py:1099: InsecureRequestWarning: Unverified HTTPS request is being made to host 'monipe-central.rnp.br'. Adding certificate verification is strongly advised. See: https://urllib3.readthedocs.io/en/latest/advanced-usage.html#tls-warnings\n",
            "  warnings.warn(\n"
          ]
        },
        {
          "output_type": "stream",
          "name": "stdout",
          "text": [
            "Página : 21 = {'ts': 1729750529, 'val': 0.0}\n",
            "url de busca: http://monipe-central.rnp.br/esmond/perfsonar/archive/esmond/perfsonar/archive/f5a52ea566264898a5183711a7aea870/packet-reorders-bidir/base?offset=31500\n"
          ]
        },
        {
          "output_type": "stream",
          "name": "stderr",
          "text": [
            "/usr/local/lib/python3.10/dist-packages/urllib3/connectionpool.py:1099: InsecureRequestWarning: Unverified HTTPS request is being made to host 'monipe-central.rnp.br'. Adding certificate verification is strongly advised. See: https://urllib3.readthedocs.io/en/latest/advanced-usage.html#tls-warnings\n",
            "  warnings.warn(\n"
          ]
        },
        {
          "output_type": "stream",
          "name": "stdout",
          "text": [
            "Página : 22 = {'ts': 1730238688, 'val': 0.0}\n",
            "url de busca: http://monipe-central.rnp.br/esmond/perfsonar/archive/esmond/perfsonar/archive/f5a52ea566264898a5183711a7aea870/packet-reorders-bidir/base?offset=33000\n"
          ]
        },
        {
          "output_type": "stream",
          "name": "stderr",
          "text": [
            "/usr/local/lib/python3.10/dist-packages/urllib3/connectionpool.py:1099: InsecureRequestWarning: Unverified HTTPS request is being made to host 'monipe-central.rnp.br'. Adding certificate verification is strongly advised. See: https://urllib3.readthedocs.io/en/latest/advanced-usage.html#tls-warnings\n",
            "  warnings.warn(\n"
          ]
        },
        {
          "output_type": "stream",
          "name": "stdout",
          "text": [
            "Página : 23 = {'ts': 1730750503, 'val': 0.0}\n",
            "url de busca: http://monipe-central.rnp.br/esmond/perfsonar/archive/esmond/perfsonar/archive/f5a52ea566264898a5183711a7aea870/packet-reorders-bidir/base?offset=34500\n"
          ]
        },
        {
          "output_type": "stream",
          "name": "stderr",
          "text": [
            "/usr/local/lib/python3.10/dist-packages/urllib3/connectionpool.py:1099: InsecureRequestWarning: Unverified HTTPS request is being made to host 'monipe-central.rnp.br'. Adding certificate verification is strongly advised. See: https://urllib3.readthedocs.io/en/latest/advanced-usage.html#tls-warnings\n",
            "  warnings.warn(\n"
          ]
        },
        {
          "output_type": "stream",
          "name": "stdout",
          "text": [
            "Página : 24 = {'ts': 1731227965, 'val': 0.0}\n",
            "url de busca: http://monipe-central.rnp.br/esmond/perfsonar/archive/esmond/perfsonar/archive/f5a52ea566264898a5183711a7aea870/packet-reorders-bidir/base?offset=36000\n"
          ]
        },
        {
          "output_type": "stream",
          "name": "stderr",
          "text": [
            "/usr/local/lib/python3.10/dist-packages/urllib3/connectionpool.py:1099: InsecureRequestWarning: Unverified HTTPS request is being made to host 'monipe-central.rnp.br'. Adding certificate verification is strongly advised. See: https://urllib3.readthedocs.io/en/latest/advanced-usage.html#tls-warnings\n",
            "  warnings.warn(\n"
          ]
        },
        {
          "output_type": "stream",
          "name": "stdout",
          "text": [
            "Página : 25 = {'ts': 1731709594, 'val': 0.0}\n",
            "url de busca: http://monipe-central.rnp.br/esmond/perfsonar/archive/esmond/perfsonar/archive/f5a52ea566264898a5183711a7aea870/packet-reorders-bidir/base?offset=37500\n"
          ]
        },
        {
          "output_type": "stream",
          "name": "stderr",
          "text": [
            "/usr/local/lib/python3.10/dist-packages/urllib3/connectionpool.py:1099: InsecureRequestWarning: Unverified HTTPS request is being made to host 'monipe-central.rnp.br'. Adding certificate verification is strongly advised. See: https://urllib3.readthedocs.io/en/latest/advanced-usage.html#tls-warnings\n",
            "  warnings.warn(\n"
          ]
        },
        {
          "output_type": "stream",
          "name": "stdout",
          "text": [
            "Página : 26 = {'ts': 1732195268, 'val': 0.0}\n",
            "packet-reorders-bidir + rn\n",
            "url de busca: http://monipe-central.rnp.br/esmond/perfsonar/archive/esmond/perfsonar/archive/fdf5b056c7a14540bae3b946559e812b/throughput/averages/86400\n"
          ]
        },
        {
          "output_type": "stream",
          "name": "stderr",
          "text": [
            "/usr/local/lib/python3.10/dist-packages/urllib3/connectionpool.py:1099: InsecureRequestWarning: Unverified HTTPS request is being made to host 'monipe-central.rnp.br'. Adding certificate verification is strongly advised. See: https://urllib3.readthedocs.io/en/latest/advanced-usage.html#tls-warnings\n",
            "  warnings.warn(\n"
          ]
        },
        {
          "output_type": "stream",
          "name": "stdout",
          "text": [
            "Nenhum cabeçalho 'Link' encontrado. Verifique o conteúdo da resposta.\n",
            "Página : 1 = {'ts': 1618876800, 'val': 886524227.6}\n",
            "throughput + ac + 1\n",
            "url de busca: http://monipe-central.rnp.br/esmond/perfsonar/archive/esmond/perfsonar/archive/1c615e98a88845b1836884c631ff200a/throughput/averages/86400\n"
          ]
        },
        {
          "output_type": "stream",
          "name": "stderr",
          "text": [
            "/usr/local/lib/python3.10/dist-packages/urllib3/connectionpool.py:1099: InsecureRequestWarning: Unverified HTTPS request is being made to host 'monipe-central.rnp.br'. Adding certificate verification is strongly advised. See: https://urllib3.readthedocs.io/en/latest/advanced-usage.html#tls-warnings\n",
            "  warnings.warn(\n",
            "/usr/local/lib/python3.10/dist-packages/urllib3/connectionpool.py:1099: InsecureRequestWarning: Unverified HTTPS request is being made to host 'monipe-central.rnp.br'. Adding certificate verification is strongly advised. See: https://urllib3.readthedocs.io/en/latest/advanced-usage.html#tls-warnings\n",
            "  warnings.warn(\n",
            "/usr/local/lib/python3.10/dist-packages/urllib3/connectionpool.py:1099: InsecureRequestWarning: Unverified HTTPS request is being made to host 'monipe-central.rnp.br'. Adding certificate verification is strongly advised. See: https://urllib3.readthedocs.io/en/latest/advanced-usage.html#tls-warnings\n",
            "  warnings.warn(\n"
          ]
        },
        {
          "output_type": "stream",
          "name": "stdout",
          "text": [
            "Nenhum cabeçalho 'Link' encontrado. Verifique o conteúdo da resposta.\n",
            "Página : 1 = {'ts': 1618963200, 'val': 913727699.0}\n",
            "throughput + ac + 2\n",
            "url de busca: http://monipe-central.rnp.br/esmond/perfsonar/archive/esmond/perfsonar/archive/fd97cc1f615548518e95c24e0fea0aff/throughput/averages/86400\n",
            "Nenhum cabeçalho 'Link' encontrado. Verifique o conteúdo da resposta.\n",
            "Página : 1 = {'ts': 1613606400, 'val': 926872281.6666666}\n",
            "throughput + go + 1\n",
            "url de busca: http://monipe-central.rnp.br/esmond/perfsonar/archive/esmond/perfsonar/archive/055eb67296b2407285f561e5dd30d9d2/throughput/averages/86400\n",
            "Nenhum cabeçalho 'Link' encontrado. Verifique o conteúdo da resposta.\n",
            "Página : 1 = {'ts': 1644624000, 'val': 989858763.0}\n",
            "throughput + go + 2\n",
            "url de busca: http://monipe-central.rnp.br/esmond/perfsonar/archive/esmond/perfsonar/archive/095fb557e23d4611a804c42d2fbb5555/throughput/averages/86400\n"
          ]
        },
        {
          "output_type": "stream",
          "name": "stderr",
          "text": [
            "/usr/local/lib/python3.10/dist-packages/urllib3/connectionpool.py:1099: InsecureRequestWarning: Unverified HTTPS request is being made to host 'monipe-central.rnp.br'. Adding certificate verification is strongly advised. See: https://urllib3.readthedocs.io/en/latest/advanced-usage.html#tls-warnings\n",
            "  warnings.warn(\n"
          ]
        },
        {
          "output_type": "stream",
          "name": "stdout",
          "text": [
            "Nenhum cabeçalho 'Link' encontrado. Verifique o conteúdo da resposta.\n",
            "Página : 1 = {'ts': 1618876800, 'val': 913166168.4}\n",
            "throughput + mt + 1\n",
            "url de busca: http://monipe-central.rnp.br/esmond/perfsonar/archive/esmond/perfsonar/archive/fd654a96387b47a79167b47d868c1f06/throughput/averages/86400\n"
          ]
        },
        {
          "output_type": "stream",
          "name": "stderr",
          "text": [
            "/usr/local/lib/python3.10/dist-packages/urllib3/connectionpool.py:1099: InsecureRequestWarning: Unverified HTTPS request is being made to host 'monipe-central.rnp.br'. Adding certificate verification is strongly advised. See: https://urllib3.readthedocs.io/en/latest/advanced-usage.html#tls-warnings\n",
            "  warnings.warn(\n",
            "/usr/local/lib/python3.10/dist-packages/urllib3/connectionpool.py:1099: InsecureRequestWarning: Unverified HTTPS request is being made to host 'monipe-central.rnp.br'. Adding certificate verification is strongly advised. See: https://urllib3.readthedocs.io/en/latest/advanced-usage.html#tls-warnings\n",
            "  warnings.warn(\n"
          ]
        },
        {
          "output_type": "stream",
          "name": "stdout",
          "text": [
            "Nenhum cabeçalho 'Link' encontrado. Verifique o conteúdo da resposta.\n",
            "Página : 1 = {'ts': 1664323200, 'val': 654991786.0}\n",
            "throughput + mt + 2\n",
            "url de busca: http://monipe-central.rnp.br/esmond/perfsonar/archive/esmond/perfsonar/archive/0c8621f9fa714ad68db2978a6a4fc6b3/throughput/averages/86400\n",
            "Nenhum cabeçalho 'Link' encontrado. Verifique o conteúdo da resposta.\n",
            "Página : 1 = {'ts': 1618963200, 'val': 940848863.5}\n",
            "throughput + pb + 1\n",
            "url de busca: http://monipe-central.rnp.br/esmond/perfsonar/archive/esmond/perfsonar/archive/fba435d4b36f404d8407ebfba416e00b/throughput/averages/86400\n"
          ]
        },
        {
          "output_type": "stream",
          "name": "stderr",
          "text": [
            "/usr/local/lib/python3.10/dist-packages/urllib3/connectionpool.py:1099: InsecureRequestWarning: Unverified HTTPS request is being made to host 'monipe-central.rnp.br'. Adding certificate verification is strongly advised. See: https://urllib3.readthedocs.io/en/latest/advanced-usage.html#tls-warnings\n",
            "  warnings.warn(\n"
          ]
        },
        {
          "output_type": "stream",
          "name": "stdout",
          "text": [
            "Nenhum cabeçalho 'Link' encontrado. Verifique o conteúdo da resposta.\n",
            "Página : 1 = {'ts': 1660089600, 'val': 917995892.0}\n",
            "throughput + pb + 2\n",
            "url de busca: http://monipe-central.rnp.br/esmond/perfsonar/archive/esmond/perfsonar/archive/224135c3a89f465b9659e634a0d7f4db/throughput/averages/86400\n"
          ]
        },
        {
          "output_type": "stream",
          "name": "stderr",
          "text": [
            "/usr/local/lib/python3.10/dist-packages/urllib3/connectionpool.py:1099: InsecureRequestWarning: Unverified HTTPS request is being made to host 'monipe-central.rnp.br'. Adding certificate verification is strongly advised. See: https://urllib3.readthedocs.io/en/latest/advanced-usage.html#tls-warnings\n",
            "  warnings.warn(\n"
          ]
        },
        {
          "output_type": "stream",
          "name": "stdout",
          "text": [
            "Nenhum cabeçalho 'Link' encontrado. Verifique o conteúdo da resposta.\n",
            "Página : 1 = {'ts': 1644624000, 'val': 7898426612.666667}\n",
            "throughput + pe + 1\n",
            "url de busca: http://monipe-central.rnp.br/esmond/perfsonar/archive/esmond/perfsonar/archive/feb19d697811430396aef4774fa2a1b2/throughput/averages/86400\n"
          ]
        },
        {
          "output_type": "stream",
          "name": "stderr",
          "text": [
            "/usr/local/lib/python3.10/dist-packages/urllib3/connectionpool.py:1099: InsecureRequestWarning: Unverified HTTPS request is being made to host 'monipe-central.rnp.br'. Adding certificate verification is strongly advised. See: https://urllib3.readthedocs.io/en/latest/advanced-usage.html#tls-warnings\n",
            "  warnings.warn(\n"
          ]
        },
        {
          "output_type": "stream",
          "name": "stdout",
          "text": [
            "Nenhum cabeçalho 'Link' encontrado. Verifique o conteúdo da resposta.\n",
            "Página : 1 = {'ts': 1644624000, 'val': 7280313201.166667}\n",
            "throughput + pe + 2\n",
            "url de busca: http://monipe-central.rnp.br/esmond/perfsonar/archive/esmond/perfsonar/archive/fab889b0989e477898514ac89d9e0a24/throughput/averages/86400\n"
          ]
        },
        {
          "output_type": "stream",
          "name": "stderr",
          "text": [
            "/usr/local/lib/python3.10/dist-packages/urllib3/connectionpool.py:1099: InsecureRequestWarning: Unverified HTTPS request is being made to host 'monipe-central.rnp.br'. Adding certificate verification is strongly advised. See: https://urllib3.readthedocs.io/en/latest/advanced-usage.html#tls-warnings\n",
            "  warnings.warn(\n"
          ]
        },
        {
          "output_type": "stream",
          "name": "stdout",
          "text": [
            "Nenhum cabeçalho 'Link' encontrado. Verifique o conteúdo da resposta.\n",
            "Página : 1 = {'ts': 1665705600, 'val': 728574116.75}\n",
            "throughput + rn + 1\n",
            "url de busca: http://monipe-central.rnp.br/esmond/perfsonar/archive/esmond/perfsonar/archive/09a6269967d643e8a9ae461a478405d7/throughput/averages/86400\n",
            "Nenhum cabeçalho 'Link' encontrado. Verifique o conteúdo da resposta.\n",
            "Página : 1 = {'ts': 1701475200, 'val': 941357210.5}\n",
            "throughput + rn + 2\n"
          ]
        },
        {
          "output_type": "stream",
          "name": "stderr",
          "text": [
            "/usr/local/lib/python3.10/dist-packages/urllib3/connectionpool.py:1099: InsecureRequestWarning: Unverified HTTPS request is being made to host 'monipe-central.rnp.br'. Adding certificate verification is strongly advised. See: https://urllib3.readthedocs.io/en/latest/advanced-usage.html#tls-warnings\n",
            "  warnings.warn(\n"
          ]
        }
      ]
    },
    {
      "cell_type": "markdown",
      "source": [
        "### TESTES"
      ],
      "metadata": {
        "id": "JWMFrw_3i9Xj"
      }
    },
    {
      "cell_type": "code",
      "source": [
        "url = 'https://monipe-central.rnp.br/esmond/perfsonar/archive/esmond/perfsonar/archive/f5a52ea566264898a5183711a7aea870/packet-reorders-bidir/base'\n",
        "pasta = pastas[3]\n",
        "pops = pop_rnp[5] + '-' + destino + '-'\n",
        "get_data_rnp(path_rnp,url,pasta,pops)\n",
        "\n",
        "\n",
        "\n",
        "\n"
      ],
      "metadata": {
        "colab": {
          "base_uri": "https://localhost:8080/"
        },
        "id": "hrId2_uE5Ihx",
        "outputId": "56a11f1f-b0bb-4821-a7cc-6fd7f38c3d6d"
      },
      "execution_count": null,
      "outputs": [
        {
          "output_type": "stream",
          "name": "stdout",
          "text": [
            "url de busca: https://monipe-central.rnp.br/esmond/perfsonar/archive/esmond/perfsonar/archive/f5a52ea566264898a5183711a7aea870/packet-reorders-bidir/base\n"
          ]
        },
        {
          "output_type": "stream",
          "name": "stderr",
          "text": [
            "/usr/local/lib/python3.10/dist-packages/urllib3/connectionpool.py:1099: InsecureRequestWarning: Unverified HTTPS request is being made to host 'monipe-central.rnp.br'. Adding certificate verification is strongly advised. See: https://urllib3.readthedocs.io/en/latest/advanced-usage.html#tls-warnings\n",
            "  warnings.warn(\n"
          ]
        },
        {
          "output_type": "stream",
          "name": "stdout",
          "text": [
            "Página : 1 = {'ts': 1719531521, 'val': 0.0}\n",
            "url de busca: https://monipe-central.rnp.br/esmond/perfsonar/archive/esmond/perfsonar/archive/f5a52ea566264898a5183711a7aea870/packet-reorders-bidir/base?offset=1500\n",
            "Página : 2 = {'ts': 1719991485, 'val': 0.0}\n",
            "url de busca: https://monipe-central.rnp.br/esmond/perfsonar/archive/esmond/perfsonar/archive/f5a52ea566264898a5183711a7aea870/packet-reorders-bidir/base?offset=3000\n"
          ]
        },
        {
          "output_type": "stream",
          "name": "stderr",
          "text": [
            "/usr/local/lib/python3.10/dist-packages/urllib3/connectionpool.py:1099: InsecureRequestWarning: Unverified HTTPS request is being made to host 'monipe-central.rnp.br'. Adding certificate verification is strongly advised. See: https://urllib3.readthedocs.io/en/latest/advanced-usage.html#tls-warnings\n",
            "  warnings.warn(\n",
            "/usr/local/lib/python3.10/dist-packages/urllib3/connectionpool.py:1099: InsecureRequestWarning: Unverified HTTPS request is being made to host 'monipe-central.rnp.br'. Adding certificate verification is strongly advised. See: https://urllib3.readthedocs.io/en/latest/advanced-usage.html#tls-warnings\n",
            "  warnings.warn(\n"
          ]
        },
        {
          "output_type": "stream",
          "name": "stdout",
          "text": [
            "Página : 3 = {'ts': 1720448982, 'val': 0.0}\n",
            "url de busca: https://monipe-central.rnp.br/esmond/perfsonar/archive/esmond/perfsonar/archive/f5a52ea566264898a5183711a7aea870/packet-reorders-bidir/base?offset=4500\n"
          ]
        },
        {
          "output_type": "stream",
          "name": "stderr",
          "text": [
            "/usr/local/lib/python3.10/dist-packages/urllib3/connectionpool.py:1099: InsecureRequestWarning: Unverified HTTPS request is being made to host 'monipe-central.rnp.br'. Adding certificate verification is strongly advised. See: https://urllib3.readthedocs.io/en/latest/advanced-usage.html#tls-warnings\n",
            "  warnings.warn(\n"
          ]
        },
        {
          "output_type": "stream",
          "name": "stdout",
          "text": [
            "Página : 4 = {'ts': 1720961260, 'val': 0.0}\n",
            "url de busca: https://monipe-central.rnp.br/esmond/perfsonar/archive/esmond/perfsonar/archive/f5a52ea566264898a5183711a7aea870/packet-reorders-bidir/base?offset=6000\n"
          ]
        },
        {
          "output_type": "stream",
          "name": "stderr",
          "text": [
            "/usr/local/lib/python3.10/dist-packages/urllib3/connectionpool.py:1099: InsecureRequestWarning: Unverified HTTPS request is being made to host 'monipe-central.rnp.br'. Adding certificate verification is strongly advised. See: https://urllib3.readthedocs.io/en/latest/advanced-usage.html#tls-warnings\n",
            "  warnings.warn(\n"
          ]
        },
        {
          "output_type": "stream",
          "name": "stdout",
          "text": [
            "Página : 5 = {'ts': 1721518210, 'val': 0.0}\n",
            "url de busca: https://monipe-central.rnp.br/esmond/perfsonar/archive/esmond/perfsonar/archive/f5a52ea566264898a5183711a7aea870/packet-reorders-bidir/base?offset=7500\n"
          ]
        },
        {
          "output_type": "stream",
          "name": "stderr",
          "text": [
            "/usr/local/lib/python3.10/dist-packages/urllib3/connectionpool.py:1099: InsecureRequestWarning: Unverified HTTPS request is being made to host 'monipe-central.rnp.br'. Adding certificate verification is strongly advised. See: https://urllib3.readthedocs.io/en/latest/advanced-usage.html#tls-warnings\n",
            "  warnings.warn(\n"
          ]
        },
        {
          "output_type": "stream",
          "name": "stdout",
          "text": [
            "Página : 6 = {'ts': 1722006985, 'val': 0.0}\n",
            "url de busca: https://monipe-central.rnp.br/esmond/perfsonar/archive/esmond/perfsonar/archive/f5a52ea566264898a5183711a7aea870/packet-reorders-bidir/base?offset=9000\n"
          ]
        },
        {
          "output_type": "stream",
          "name": "stderr",
          "text": [
            "/usr/local/lib/python3.10/dist-packages/urllib3/connectionpool.py:1099: InsecureRequestWarning: Unverified HTTPS request is being made to host 'monipe-central.rnp.br'. Adding certificate verification is strongly advised. See: https://urllib3.readthedocs.io/en/latest/advanced-usage.html#tls-warnings\n",
            "  warnings.warn(\n"
          ]
        },
        {
          "output_type": "stream",
          "name": "stdout",
          "text": [
            "Página : 7 = {'ts': 1722523959, 'val': 0.0}\n",
            "url de busca: https://monipe-central.rnp.br/esmond/perfsonar/archive/esmond/perfsonar/archive/f5a52ea566264898a5183711a7aea870/packet-reorders-bidir/base?offset=10500\n"
          ]
        },
        {
          "output_type": "stream",
          "name": "stderr",
          "text": [
            "/usr/local/lib/python3.10/dist-packages/urllib3/connectionpool.py:1099: InsecureRequestWarning: Unverified HTTPS request is being made to host 'monipe-central.rnp.br'. Adding certificate verification is strongly advised. See: https://urllib3.readthedocs.io/en/latest/advanced-usage.html#tls-warnings\n",
            "  warnings.warn(\n"
          ]
        },
        {
          "output_type": "stream",
          "name": "stdout",
          "text": [
            "Página : 8 = {'ts': 1722999540, 'val': 0.0}\n",
            "url de busca: https://monipe-central.rnp.br/esmond/perfsonar/archive/esmond/perfsonar/archive/f5a52ea566264898a5183711a7aea870/packet-reorders-bidir/base?offset=12000\n"
          ]
        },
        {
          "output_type": "stream",
          "name": "stderr",
          "text": [
            "/usr/local/lib/python3.10/dist-packages/urllib3/connectionpool.py:1099: InsecureRequestWarning: Unverified HTTPS request is being made to host 'monipe-central.rnp.br'. Adding certificate verification is strongly advised. See: https://urllib3.readthedocs.io/en/latest/advanced-usage.html#tls-warnings\n",
            "  warnings.warn(\n"
          ]
        },
        {
          "output_type": "stream",
          "name": "stdout",
          "text": [
            "Página : 9 = {'ts': 1723490732, 'val': 0.0}\n",
            "url de busca: https://monipe-central.rnp.br/esmond/perfsonar/archive/esmond/perfsonar/archive/f5a52ea566264898a5183711a7aea870/packet-reorders-bidir/base?offset=13500\n"
          ]
        },
        {
          "output_type": "stream",
          "name": "stderr",
          "text": [
            "/usr/local/lib/python3.10/dist-packages/urllib3/connectionpool.py:1099: InsecureRequestWarning: Unverified HTTPS request is being made to host 'monipe-central.rnp.br'. Adding certificate verification is strongly advised. See: https://urllib3.readthedocs.io/en/latest/advanced-usage.html#tls-warnings\n",
            "  warnings.warn(\n"
          ]
        },
        {
          "output_type": "stream",
          "name": "stdout",
          "text": [
            "Página : 10 = {'ts': 1724003864, 'val': 0.0}\n",
            "url de busca: https://monipe-central.rnp.br/esmond/perfsonar/archive/esmond/perfsonar/archive/f5a52ea566264898a5183711a7aea870/packet-reorders-bidir/base?offset=15000\n"
          ]
        },
        {
          "output_type": "stream",
          "name": "stderr",
          "text": [
            "/usr/local/lib/python3.10/dist-packages/urllib3/connectionpool.py:1099: InsecureRequestWarning: Unverified HTTPS request is being made to host 'monipe-central.rnp.br'. Adding certificate verification is strongly advised. See: https://urllib3.readthedocs.io/en/latest/advanced-usage.html#tls-warnings\n",
            "  warnings.warn(\n"
          ]
        },
        {
          "output_type": "stream",
          "name": "stdout",
          "text": [
            "Página : 11 = {'ts': 1724478550, 'val': 0.0}\n",
            "url de busca: https://monipe-central.rnp.br/esmond/perfsonar/archive/esmond/perfsonar/archive/f5a52ea566264898a5183711a7aea870/packet-reorders-bidir/base?offset=16500\n"
          ]
        },
        {
          "output_type": "stream",
          "name": "stderr",
          "text": [
            "/usr/local/lib/python3.10/dist-packages/urllib3/connectionpool.py:1099: InsecureRequestWarning: Unverified HTTPS request is being made to host 'monipe-central.rnp.br'. Adding certificate verification is strongly advised. See: https://urllib3.readthedocs.io/en/latest/advanced-usage.html#tls-warnings\n",
            "  warnings.warn(\n"
          ]
        },
        {
          "output_type": "stream",
          "name": "stdout",
          "text": [
            "Página : 12 = {'ts': 1724977670, 'val': 0.0}\n",
            "url de busca: https://monipe-central.rnp.br/esmond/perfsonar/archive/esmond/perfsonar/archive/f5a52ea566264898a5183711a7aea870/packet-reorders-bidir/base?offset=18000\n"
          ]
        },
        {
          "output_type": "stream",
          "name": "stderr",
          "text": [
            "/usr/local/lib/python3.10/dist-packages/urllib3/connectionpool.py:1099: InsecureRequestWarning: Unverified HTTPS request is being made to host 'monipe-central.rnp.br'. Adding certificate verification is strongly advised. See: https://urllib3.readthedocs.io/en/latest/advanced-usage.html#tls-warnings\n",
            "  warnings.warn(\n"
          ]
        },
        {
          "output_type": "stream",
          "name": "stdout",
          "text": [
            "Página : 13 = {'ts': 1725498068, 'val': 0.0}\n",
            "url de busca: https://monipe-central.rnp.br/esmond/perfsonar/archive/esmond/perfsonar/archive/f5a52ea566264898a5183711a7aea870/packet-reorders-bidir/base?offset=19500\n",
            "Página : 14 = {'ts': 1725982885, 'val': 0.0}\n",
            "url de busca: https://monipe-central.rnp.br/esmond/perfsonar/archive/esmond/perfsonar/archive/f5a52ea566264898a5183711a7aea870/packet-reorders-bidir/base?offset=21000\n"
          ]
        },
        {
          "output_type": "stream",
          "name": "stderr",
          "text": [
            "/usr/local/lib/python3.10/dist-packages/urllib3/connectionpool.py:1099: InsecureRequestWarning: Unverified HTTPS request is being made to host 'monipe-central.rnp.br'. Adding certificate verification is strongly advised. See: https://urllib3.readthedocs.io/en/latest/advanced-usage.html#tls-warnings\n",
            "  warnings.warn(\n",
            "/usr/local/lib/python3.10/dist-packages/urllib3/connectionpool.py:1099: InsecureRequestWarning: Unverified HTTPS request is being made to host 'monipe-central.rnp.br'. Adding certificate verification is strongly advised. See: https://urllib3.readthedocs.io/en/latest/advanced-usage.html#tls-warnings\n",
            "  warnings.warn(\n"
          ]
        },
        {
          "output_type": "stream",
          "name": "stdout",
          "text": [
            "Página : 15 = {'ts': 1726457308, 'val': 0.0}\n",
            "url de busca: https://monipe-central.rnp.br/esmond/perfsonar/archive/esmond/perfsonar/archive/f5a52ea566264898a5183711a7aea870/packet-reorders-bidir/base?offset=22500\n"
          ]
        },
        {
          "output_type": "stream",
          "name": "stderr",
          "text": [
            "/usr/local/lib/python3.10/dist-packages/urllib3/connectionpool.py:1099: InsecureRequestWarning: Unverified HTTPS request is being made to host 'monipe-central.rnp.br'. Adding certificate verification is strongly advised. See: https://urllib3.readthedocs.io/en/latest/advanced-usage.html#tls-warnings\n",
            "  warnings.warn(\n"
          ]
        },
        {
          "output_type": "stream",
          "name": "stdout",
          "text": [
            "Página : 16 = {'ts': 1727166259, 'val': 0.0}\n",
            "url de busca: https://monipe-central.rnp.br/esmond/perfsonar/archive/esmond/perfsonar/archive/f5a52ea566264898a5183711a7aea870/packet-reorders-bidir/base?offset=24000\n"
          ]
        },
        {
          "output_type": "stream",
          "name": "stderr",
          "text": [
            "/usr/local/lib/python3.10/dist-packages/urllib3/connectionpool.py:1099: InsecureRequestWarning: Unverified HTTPS request is being made to host 'monipe-central.rnp.br'. Adding certificate verification is strongly advised. See: https://urllib3.readthedocs.io/en/latest/advanced-usage.html#tls-warnings\n",
            "  warnings.warn(\n"
          ]
        },
        {
          "output_type": "stream",
          "name": "stdout",
          "text": [
            "Página : 17 = {'ts': 1727642850, 'val': 0.0}\n",
            "url de busca: https://monipe-central.rnp.br/esmond/perfsonar/archive/esmond/perfsonar/archive/f5a52ea566264898a5183711a7aea870/packet-reorders-bidir/base?offset=25500\n",
            "Página : 18 = {'ts': 1728137972, 'val': 0.0}\n",
            "url de busca: https://monipe-central.rnp.br/esmond/perfsonar/archive/esmond/perfsonar/archive/f5a52ea566264898a5183711a7aea870/packet-reorders-bidir/base?offset=27000\n"
          ]
        },
        {
          "output_type": "stream",
          "name": "stderr",
          "text": [
            "/usr/local/lib/python3.10/dist-packages/urllib3/connectionpool.py:1099: InsecureRequestWarning: Unverified HTTPS request is being made to host 'monipe-central.rnp.br'. Adding certificate verification is strongly advised. See: https://urllib3.readthedocs.io/en/latest/advanced-usage.html#tls-warnings\n",
            "  warnings.warn(\n",
            "/usr/local/lib/python3.10/dist-packages/urllib3/connectionpool.py:1099: InsecureRequestWarning: Unverified HTTPS request is being made to host 'monipe-central.rnp.br'. Adding certificate verification is strongly advised. See: https://urllib3.readthedocs.io/en/latest/advanced-usage.html#tls-warnings\n",
            "  warnings.warn(\n"
          ]
        },
        {
          "output_type": "stream",
          "name": "stdout",
          "text": [
            "Página : 19 = {'ts': 1728655119, 'val': 0.0}\n",
            "url de busca: https://monipe-central.rnp.br/esmond/perfsonar/archive/esmond/perfsonar/archive/f5a52ea566264898a5183711a7aea870/packet-reorders-bidir/base?offset=28500\n"
          ]
        },
        {
          "output_type": "stream",
          "name": "stderr",
          "text": [
            "/usr/local/lib/python3.10/dist-packages/urllib3/connectionpool.py:1099: InsecureRequestWarning: Unverified HTTPS request is being made to host 'monipe-central.rnp.br'. Adding certificate verification is strongly advised. See: https://urllib3.readthedocs.io/en/latest/advanced-usage.html#tls-warnings\n",
            "  warnings.warn(\n"
          ]
        },
        {
          "output_type": "stream",
          "name": "stdout",
          "text": [
            "Página : 20 = {'ts': 1729240137, 'val': 0.0}\n",
            "url de busca: https://monipe-central.rnp.br/esmond/perfsonar/archive/esmond/perfsonar/archive/f5a52ea566264898a5183711a7aea870/packet-reorders-bidir/base?offset=30000\n"
          ]
        },
        {
          "output_type": "stream",
          "name": "stderr",
          "text": [
            "/usr/local/lib/python3.10/dist-packages/urllib3/connectionpool.py:1099: InsecureRequestWarning: Unverified HTTPS request is being made to host 'monipe-central.rnp.br'. Adding certificate verification is strongly advised. See: https://urllib3.readthedocs.io/en/latest/advanced-usage.html#tls-warnings\n",
            "  warnings.warn(\n",
            "/usr/local/lib/python3.10/dist-packages/urllib3/connectionpool.py:1099: InsecureRequestWarning: Unverified HTTPS request is being made to host 'monipe-central.rnp.br'. Adding certificate verification is strongly advised. See: https://urllib3.readthedocs.io/en/latest/advanced-usage.html#tls-warnings\n",
            "  warnings.warn(\n"
          ]
        },
        {
          "output_type": "stream",
          "name": "stdout",
          "text": [
            "Página : 21 = {'ts': 1729750529, 'val': 0.0}\n",
            "url de busca: https://monipe-central.rnp.br/esmond/perfsonar/archive/esmond/perfsonar/archive/f5a52ea566264898a5183711a7aea870/packet-reorders-bidir/base?offset=31500\n",
            "Página : 22 = {'ts': 1730238688, 'val': 0.0}\n",
            "url de busca: https://monipe-central.rnp.br/esmond/perfsonar/archive/esmond/perfsonar/archive/f5a52ea566264898a5183711a7aea870/packet-reorders-bidir/base?offset=33000\n"
          ]
        },
        {
          "output_type": "stream",
          "name": "stderr",
          "text": [
            "/usr/local/lib/python3.10/dist-packages/urllib3/connectionpool.py:1099: InsecureRequestWarning: Unverified HTTPS request is being made to host 'monipe-central.rnp.br'. Adding certificate verification is strongly advised. See: https://urllib3.readthedocs.io/en/latest/advanced-usage.html#tls-warnings\n",
            "  warnings.warn(\n"
          ]
        },
        {
          "output_type": "stream",
          "name": "stdout",
          "text": [
            "Página : 23 = {'ts': 1730750503, 'val': 0.0}\n",
            "url de busca: https://monipe-central.rnp.br/esmond/perfsonar/archive/esmond/perfsonar/archive/f5a52ea566264898a5183711a7aea870/packet-reorders-bidir/base?offset=34500\n",
            "Página : 24 = {'ts': 1731227965, 'val': 0.0}\n",
            "url de busca: https://monipe-central.rnp.br/esmond/perfsonar/archive/esmond/perfsonar/archive/f5a52ea566264898a5183711a7aea870/packet-reorders-bidir/base?offset=36000\n"
          ]
        },
        {
          "output_type": "stream",
          "name": "stderr",
          "text": [
            "/usr/local/lib/python3.10/dist-packages/urllib3/connectionpool.py:1099: InsecureRequestWarning: Unverified HTTPS request is being made to host 'monipe-central.rnp.br'. Adding certificate verification is strongly advised. See: https://urllib3.readthedocs.io/en/latest/advanced-usage.html#tls-warnings\n",
            "  warnings.warn(\n",
            "/usr/local/lib/python3.10/dist-packages/urllib3/connectionpool.py:1099: InsecureRequestWarning: Unverified HTTPS request is being made to host 'monipe-central.rnp.br'. Adding certificate verification is strongly advised. See: https://urllib3.readthedocs.io/en/latest/advanced-usage.html#tls-warnings\n",
            "  warnings.warn(\n"
          ]
        },
        {
          "output_type": "stream",
          "name": "stdout",
          "text": [
            "Página : 25 = {'ts': 1731709594, 'val': 0.0}\n",
            "url de busca: https://monipe-central.rnp.br/esmond/perfsonar/archive/esmond/perfsonar/archive/f5a52ea566264898a5183711a7aea870/packet-reorders-bidir/base?offset=37500\n"
          ]
        },
        {
          "output_type": "stream",
          "name": "stderr",
          "text": [
            "/usr/local/lib/python3.10/dist-packages/urllib3/connectionpool.py:1099: InsecureRequestWarning: Unverified HTTPS request is being made to host 'monipe-central.rnp.br'. Adding certificate verification is strongly advised. See: https://urllib3.readthedocs.io/en/latest/advanced-usage.html#tls-warnings\n",
            "  warnings.warn(\n"
          ]
        },
        {
          "output_type": "stream",
          "name": "stdout",
          "text": [
            "Página : 26 = {'ts': 1732195268, 'val': 0.0}\n"
          ]
        }
      ]
    },
    {
      "cell_type": "markdown",
      "source": [
        "## Converter JSON RNP to CSV\n"
      ],
      "metadata": {
        "id": "OB2IMSwd01LT"
      }
    },
    {
      "cell_type": "code",
      "source": [
        "import time\n",
        "import glob\n",
        "import fnmatch\n",
        "import sys\n",
        "import os\n",
        "import os.path\n",
        "import getopt\n",
        "import datetime\n",
        "import json"
      ],
      "metadata": {
        "id": "okodck0g1Dab"
      },
      "execution_count": null,
      "outputs": []
    },
    {
      "cell_type": "code",
      "source": [
        "FUSO_BRASIL = 10800 # precisa tirar a diferenca do gmtime\n",
        "ARQUIVO_LOG = \"/content/drive/MyDrive/Seagate/RNP/dataset_nov_2024/log.log\"\n",
        "#DIRETORIO_BASE = \"C:/Users/loyol/OneDrive/Notebook/Sidney/Doutorado/Pesquisa/TESE/Experimentos/RNP/MONIPE\"\n",
        "DIRETORIO_BASE = '/content/drive/MyDrive/Seagate/RNP/dataset_nov_2024/'"
      ],
      "metadata": {
        "id": "UO3bH4Iw16R-"
      },
      "execution_count": null,
      "outputs": []
    },
    {
      "cell_type": "code",
      "source": [
        "def json_read(path):\n",
        "    # Abrir o arquivo JSON\n",
        "    try:\n",
        "        with open(path, 'r') as file:\n",
        "            # Carregar os dados JSON em um dicionário Python\n",
        "            print(path)\n",
        "            dados = json.load(file)\n",
        "            return dados\n",
        "    except Exception as e:\n",
        "        print(path)\n",
        "        print(\"Exceção:\")\n",
        "        print(e)"
      ],
      "metadata": {
        "id": "PeKBeAXt2OwA"
      },
      "execution_count": null,
      "outputs": []
    },
    {
      "cell_type": "code",
      "source": [
        "def get_codigo(metrica):\n",
        "    if metrica == \"histogram-rtt\":\n",
        "        return 11\n",
        "    if metrica == \"packet-count-lost-bidir\":\n",
        "        return 21\n",
        "    if metrica == \"packet-loss-rate-bidir\":\n",
        "        return 24\n",
        "    if metrica == \"packet-reorders-bidir\":\n",
        "        return 25\n",
        "    if metrica == \"failures\":\n",
        "        return 70\n",
        "    if metrica == \"packet-retransmits\":\n",
        "        return 71\n",
        "    if metrica == \"throughput\":\n",
        "        return 77\n",
        "\n",
        "\n",
        "\n",
        "\n",
        "def get_origem(nome_arquivo):\n",
        "    #RN, AC, GO, MT, PB, PE, RJ\n",
        "    origem = nome_arquivo[:2]\n",
        "\n",
        "    if origem == \"ac\":\n",
        "        return 1\n",
        "    if origem == \"go\":\n",
        "        return 9\n",
        "    if origem == \"mt\":\n",
        "        return 13\n",
        "    if origem == \"pb\":\n",
        "        return 15\n",
        "    if origem == \"pe\":\n",
        "        return 16\n",
        "    if origem == \"rj\":\n",
        "        return 19\n",
        "    if origem == \"rn\":\n",
        "        return 20\n",
        "\n",
        "\n",
        "def get_destino(nome_arquivo):\n",
        "    destino = nome_arquivo[3:5]\n",
        "\n",
        "    if destino == \"ac\":\n",
        "        return 1\n",
        "    if destino == \"go\":\n",
        "        return 9\n",
        "    if destino == \"mt\":\n",
        "        return 13\n",
        "    if destino == \"pb\":\n",
        "        return 15\n",
        "    if destino == \"pe\":\n",
        "        return 16\n",
        "    if destino == \"rj\":\n",
        "        return 19\n",
        "    if destino == \"rn\":\n",
        "        return 20"
      ],
      "metadata": {
        "id": "_gHBl4z22sVr"
      },
      "execution_count": null,
      "outputs": []
    },
    {
      "cell_type": "code",
      "source": [
        "def ts_to_date(ts):\n",
        "    date = str(time.strftime('%Y-%m-%d %H:%M:%S', time.gmtime(ts - FUSO_BRASIL)))\n",
        "    return date"
      ],
      "metadata": {
        "id": "LbG2261t20kH"
      },
      "execution_count": null,
      "outputs": []
    },
    {
      "cell_type": "code",
      "source": [
        "def EscreveLog(mensagem):\n",
        "    try:\n",
        "        with open(ARQUIVO_LOG, \"a\") as file:\n",
        "            file.write(str(mensagem) + \"\\n\")\n",
        "            file.close()\n",
        "\n",
        "    except:\n",
        "        print(\"Erro na Escrita:\" + mensagem + \" \" + str(datetime.datetime.now()))\n",
        "\n",
        "# Escreve registros em arquivo\n",
        "def EscreveArquivo(registros, nomeArquivo):\n",
        "    for registro in registros:\n",
        "        try:\n",
        "            with open(nomeArquivo, \"a\") as file:\n",
        "                file.write(str(registro))\n",
        "                file.close()\n",
        "        except Exception as e:\n",
        "            EscreveLog(\"Erro escrita em disco:\" + nomeArquivo + \" \" + str(datetime.datetime.now()))\n",
        "            EscreveLog(f\"Erro: {e}\")"
      ],
      "metadata": {
        "id": "MJmV9xaz3Bc8"
      },
      "execution_count": null,
      "outputs": []
    },
    {
      "cell_type": "code",
      "source": [
        "def date_to_epoch(date, end=False):\n",
        "    if date is None: return\n",
        "\n",
        "    year = int(date[:4])\n",
        "    month = int(date[4:6])\n",
        "    day = int(date[6:])\n",
        "\n",
        "    if not end: return int(datetime.datetime(year, month, day, 0, 0, 0).timestamp())\n",
        "\n",
        "    #return int(datetime.datetime(year, month, day+1, 0, 0, 0).timestamp()) -1\n",
        "    return int(datetime.datetime(year, month, day, hour=23, minute=59, second=59).timestamp())\n",
        "\n",
        "def med(lista):\n",
        "    soma = sum(lista)\n",
        "    numero_elementos = len(lista)\n",
        "    if numero_elementos > 0:\n",
        "        resultado =  soma/numero_elementos\n",
        "        formatado = \"{:.2f}\".format(resultado)\n",
        "        return  formatado\n",
        "\n",
        "    return None\n",
        "\n",
        "def histogram_rtt_json_to_csv(dados,cod_metrica,pop_origem,pop_destino):\n",
        "    linhas = []\n",
        "    linhas.append(\"TimeStamp;RTT_min;RTT_avg;RTT_max;POP_origem;POP_destino;cod_metrica\\n\")\n",
        "\n",
        "    for item in dados:\n",
        "        ts = item[\"ts\"]\n",
        "        valor = item[\"val\"]\n",
        "        data = ts_to_date(ts)\n",
        "        keys = valor.keys()\n",
        "        lista_keys = list(keys)\n",
        "        lista_keys_num = [float(s) for s in lista_keys]\n",
        "        rtt_min = min(lista_keys_num)\n",
        "        rtt_avg = med(lista_keys_num)\n",
        "        rtt_max = max(lista_keys_num)\n",
        "        linha = f\"{data};{rtt_min};{rtt_avg};{rtt_max};{pop_origem};{pop_destino};{cod_metrica}\\n\"\n",
        "        linhas.append(linha)\n",
        "    return linhas"
      ],
      "metadata": {
        "id": "gnTlshn_368P"
      },
      "execution_count": null,
      "outputs": []
    },
    {
      "cell_type": "code",
      "source": [
        "def json_to_csv(dados,metrica,nome_arquivo):\n",
        "    linhas = []\n",
        "    cod_metrica = get_codigo(metrica)\n",
        "    pop_origem = get_origem(nome_arquivo)\n",
        "    pop_destino = get_destino(nome_arquivo)\n",
        "\n",
        "    if metrica == \"histogram-rtt\":\n",
        "        linhas = histogram_rtt_json_to_csv(dados,cod_metrica,pop_origem,pop_destino)\n",
        "    else:\n",
        "        linhas.append(\"TimeStamp;Valor;POP_origem;POP_destino;cod_metrica\\n\")\n",
        "\n",
        "\n",
        "        for item in dados:\n",
        "            ts = item[\"ts\"]\n",
        "            valor = item[\"val\"]\n",
        "            data = ts_to_date(ts)\n",
        "            linha = f\"{data};{valor};{pop_origem};{pop_destino};{cod_metrica}\\n\"\n",
        "            linhas.append(linha)\n",
        "    EscreveArquivo(linhas,f'{DIRETORIO_BASE}/{metrica}/{nome_arquivo}.csv')"
      ],
      "metadata": {
        "id": "NJgeCuRq2eq2"
      },
      "execution_count": null,
      "outputs": []
    },
    {
      "cell_type": "code",
      "source": [
        "def convert_dados_json_to_csv(metrica):\n",
        "    caminho = DIRETORIO_BASE+\"/\"+metrica+\"/\"\n",
        "    for conteudo in glob.glob(os.path.join(caminho, '*')):\n",
        "        print('Caminho:', caminho)\n",
        "        if fnmatch.fnmatch(conteudo, '*.' + \"json\"):\n",
        "            print('Conteudo:', conteudo)\n",
        "            tamanhoCaminho = len(caminho)\n",
        "            nomeArquivo = conteudo[tamanhoCaminho:]\n",
        "            print('Nome do Arquivo: ',nomeArquivo)\n",
        "            dados = json_read(conteudo)\n",
        "            json_to_csv(dados,metrica,nomeArquivo)\n",
        "\n",
        "\n",
        "\n",
        "\n",
        "if __name__ == \"__main__\":\n",
        "\n",
        "\n",
        "    print(\"LENDO O CONTEUDO DAS PASTAS\")\n",
        "    #metricas = [\"packet-count-lost-bidir\",\"packet-loss-rate-bidir\",\"packet-reorders-bidir\",\"throughput\"]\n",
        "    #metricas = [\"packet-loss-rate-bidir\",\"packet-reorders-bidir\",\"throughput\"]\n",
        "    #metricas = [\"histogram-rtt\"]\n",
        "    metricas = [\"packet-count-lost-bidir\"]\n",
        "\n",
        "    for metrica in metricas:\n",
        "        convert_dados_json_to_csv(metrica)\n",
        "\n",
        "    print(\"SCRIPT FINALIZADO\")"
      ],
      "metadata": {
        "colab": {
          "base_uri": "https://localhost:8080/"
        },
        "id": "IrUABcDp2AZO",
        "outputId": "920233a4-2ea0-4900-b64b-944111f01e5b"
      },
      "execution_count": null,
      "outputs": [
        {
          "output_type": "stream",
          "name": "stdout",
          "text": [
            "LENDO O CONTEUDO DAS PASTAS\n",
            "Caminho: /content/drive/MyDrive/Seagate/RNP/dataset_nov_2024//packet-count-lost-bidir/\n",
            "Conteudo: /content/drive/MyDrive/Seagate/RNP/dataset_nov_2024//packet-count-lost-bidir/ac-rj-1.json\n",
            "Nome do Arquivo:  ac-rj-1.json\n",
            "/content/drive/MyDrive/Seagate/RNP/dataset_nov_2024//packet-count-lost-bidir/ac-rj-1.json\n",
            "Caminho: /content/drive/MyDrive/Seagate/RNP/dataset_nov_2024//packet-count-lost-bidir/\n",
            "Conteudo: /content/drive/MyDrive/Seagate/RNP/dataset_nov_2024//packet-count-lost-bidir/ac-rj-2.json\n",
            "Nome do Arquivo:  ac-rj-2.json\n",
            "/content/drive/MyDrive/Seagate/RNP/dataset_nov_2024//packet-count-lost-bidir/ac-rj-2.json\n",
            "Caminho: /content/drive/MyDrive/Seagate/RNP/dataset_nov_2024//packet-count-lost-bidir/\n",
            "Conteudo: /content/drive/MyDrive/Seagate/RNP/dataset_nov_2024//packet-count-lost-bidir/ac-rj-3.json\n",
            "Nome do Arquivo:  ac-rj-3.json\n",
            "/content/drive/MyDrive/Seagate/RNP/dataset_nov_2024//packet-count-lost-bidir/ac-rj-3.json\n",
            "Caminho: /content/drive/MyDrive/Seagate/RNP/dataset_nov_2024//packet-count-lost-bidir/\n",
            "Conteudo: /content/drive/MyDrive/Seagate/RNP/dataset_nov_2024//packet-count-lost-bidir/ac-rj-4.json\n",
            "Nome do Arquivo:  ac-rj-4.json\n",
            "/content/drive/MyDrive/Seagate/RNP/dataset_nov_2024//packet-count-lost-bidir/ac-rj-4.json\n",
            "Caminho: /content/drive/MyDrive/Seagate/RNP/dataset_nov_2024//packet-count-lost-bidir/\n",
            "Conteudo: /content/drive/MyDrive/Seagate/RNP/dataset_nov_2024//packet-count-lost-bidir/ac-rj-5.json\n",
            "Nome do Arquivo:  ac-rj-5.json\n",
            "/content/drive/MyDrive/Seagate/RNP/dataset_nov_2024//packet-count-lost-bidir/ac-rj-5.json\n",
            "Caminho: /content/drive/MyDrive/Seagate/RNP/dataset_nov_2024//packet-count-lost-bidir/\n",
            "Conteudo: /content/drive/MyDrive/Seagate/RNP/dataset_nov_2024//packet-count-lost-bidir/ac-rj-6.json\n",
            "Nome do Arquivo:  ac-rj-6.json\n",
            "/content/drive/MyDrive/Seagate/RNP/dataset_nov_2024//packet-count-lost-bidir/ac-rj-6.json\n",
            "Caminho: /content/drive/MyDrive/Seagate/RNP/dataset_nov_2024//packet-count-lost-bidir/\n",
            "Conteudo: /content/drive/MyDrive/Seagate/RNP/dataset_nov_2024//packet-count-lost-bidir/ac-rj-7.json\n",
            "Nome do Arquivo:  ac-rj-7.json\n",
            "/content/drive/MyDrive/Seagate/RNP/dataset_nov_2024//packet-count-lost-bidir/ac-rj-7.json\n",
            "Caminho: /content/drive/MyDrive/Seagate/RNP/dataset_nov_2024//packet-count-lost-bidir/\n",
            "Conteudo: /content/drive/MyDrive/Seagate/RNP/dataset_nov_2024//packet-count-lost-bidir/ac-rj-8.json\n",
            "Nome do Arquivo:  ac-rj-8.json\n",
            "/content/drive/MyDrive/Seagate/RNP/dataset_nov_2024//packet-count-lost-bidir/ac-rj-8.json\n",
            "Caminho: /content/drive/MyDrive/Seagate/RNP/dataset_nov_2024//packet-count-lost-bidir/\n",
            "Conteudo: /content/drive/MyDrive/Seagate/RNP/dataset_nov_2024//packet-count-lost-bidir/ac-rj-9.json\n",
            "Nome do Arquivo:  ac-rj-9.json\n",
            "/content/drive/MyDrive/Seagate/RNP/dataset_nov_2024//packet-count-lost-bidir/ac-rj-9.json\n",
            "Caminho: /content/drive/MyDrive/Seagate/RNP/dataset_nov_2024//packet-count-lost-bidir/\n",
            "Conteudo: /content/drive/MyDrive/Seagate/RNP/dataset_nov_2024//packet-count-lost-bidir/ac-rj-10.json\n",
            "Nome do Arquivo:  ac-rj-10.json\n",
            "/content/drive/MyDrive/Seagate/RNP/dataset_nov_2024//packet-count-lost-bidir/ac-rj-10.json\n",
            "Caminho: /content/drive/MyDrive/Seagate/RNP/dataset_nov_2024//packet-count-lost-bidir/\n",
            "Conteudo: /content/drive/MyDrive/Seagate/RNP/dataset_nov_2024//packet-count-lost-bidir/ac-rj-11.json\n",
            "Nome do Arquivo:  ac-rj-11.json\n",
            "/content/drive/MyDrive/Seagate/RNP/dataset_nov_2024//packet-count-lost-bidir/ac-rj-11.json\n",
            "Caminho: /content/drive/MyDrive/Seagate/RNP/dataset_nov_2024//packet-count-lost-bidir/\n",
            "Conteudo: /content/drive/MyDrive/Seagate/RNP/dataset_nov_2024//packet-count-lost-bidir/ac-rj-12.json\n",
            "Nome do Arquivo:  ac-rj-12.json\n",
            "/content/drive/MyDrive/Seagate/RNP/dataset_nov_2024//packet-count-lost-bidir/ac-rj-12.json\n",
            "Caminho: /content/drive/MyDrive/Seagate/RNP/dataset_nov_2024//packet-count-lost-bidir/\n",
            "Conteudo: /content/drive/MyDrive/Seagate/RNP/dataset_nov_2024//packet-count-lost-bidir/ac-rj-13.json\n",
            "Nome do Arquivo:  ac-rj-13.json\n",
            "/content/drive/MyDrive/Seagate/RNP/dataset_nov_2024//packet-count-lost-bidir/ac-rj-13.json\n",
            "Caminho: /content/drive/MyDrive/Seagate/RNP/dataset_nov_2024//packet-count-lost-bidir/\n",
            "Conteudo: /content/drive/MyDrive/Seagate/RNP/dataset_nov_2024//packet-count-lost-bidir/ac-rj-14.json\n",
            "Nome do Arquivo:  ac-rj-14.json\n",
            "/content/drive/MyDrive/Seagate/RNP/dataset_nov_2024//packet-count-lost-bidir/ac-rj-14.json\n",
            "Caminho: /content/drive/MyDrive/Seagate/RNP/dataset_nov_2024//packet-count-lost-bidir/\n",
            "Conteudo: /content/drive/MyDrive/Seagate/RNP/dataset_nov_2024//packet-count-lost-bidir/ac-rj-15.json\n",
            "Nome do Arquivo:  ac-rj-15.json\n",
            "/content/drive/MyDrive/Seagate/RNP/dataset_nov_2024//packet-count-lost-bidir/ac-rj-15.json\n",
            "Caminho: /content/drive/MyDrive/Seagate/RNP/dataset_nov_2024//packet-count-lost-bidir/\n",
            "Conteudo: /content/drive/MyDrive/Seagate/RNP/dataset_nov_2024//packet-count-lost-bidir/ac-rj-16.json\n",
            "Nome do Arquivo:  ac-rj-16.json\n",
            "/content/drive/MyDrive/Seagate/RNP/dataset_nov_2024//packet-count-lost-bidir/ac-rj-16.json\n",
            "Caminho: /content/drive/MyDrive/Seagate/RNP/dataset_nov_2024//packet-count-lost-bidir/\n",
            "Conteudo: /content/drive/MyDrive/Seagate/RNP/dataset_nov_2024//packet-count-lost-bidir/ac-rj-17.json\n",
            "Nome do Arquivo:  ac-rj-17.json\n",
            "/content/drive/MyDrive/Seagate/RNP/dataset_nov_2024//packet-count-lost-bidir/ac-rj-17.json\n",
            "Caminho: /content/drive/MyDrive/Seagate/RNP/dataset_nov_2024//packet-count-lost-bidir/\n",
            "Conteudo: /content/drive/MyDrive/Seagate/RNP/dataset_nov_2024//packet-count-lost-bidir/ac-rj-18.json\n",
            "Nome do Arquivo:  ac-rj-18.json\n",
            "/content/drive/MyDrive/Seagate/RNP/dataset_nov_2024//packet-count-lost-bidir/ac-rj-18.json\n",
            "Caminho: /content/drive/MyDrive/Seagate/RNP/dataset_nov_2024//packet-count-lost-bidir/\n",
            "Conteudo: /content/drive/MyDrive/Seagate/RNP/dataset_nov_2024//packet-count-lost-bidir/ac-rj-19.json\n",
            "Nome do Arquivo:  ac-rj-19.json\n",
            "/content/drive/MyDrive/Seagate/RNP/dataset_nov_2024//packet-count-lost-bidir/ac-rj-19.json\n",
            "Caminho: /content/drive/MyDrive/Seagate/RNP/dataset_nov_2024//packet-count-lost-bidir/\n",
            "Conteudo: /content/drive/MyDrive/Seagate/RNP/dataset_nov_2024//packet-count-lost-bidir/ac-rj-20.json\n",
            "Nome do Arquivo:  ac-rj-20.json\n",
            "/content/drive/MyDrive/Seagate/RNP/dataset_nov_2024//packet-count-lost-bidir/ac-rj-20.json\n",
            "Caminho: /content/drive/MyDrive/Seagate/RNP/dataset_nov_2024//packet-count-lost-bidir/\n",
            "Conteudo: /content/drive/MyDrive/Seagate/RNP/dataset_nov_2024//packet-count-lost-bidir/go-rj-1.json\n",
            "Nome do Arquivo:  go-rj-1.json\n",
            "/content/drive/MyDrive/Seagate/RNP/dataset_nov_2024//packet-count-lost-bidir/go-rj-1.json\n",
            "Caminho: /content/drive/MyDrive/Seagate/RNP/dataset_nov_2024//packet-count-lost-bidir/\n",
            "Conteudo: /content/drive/MyDrive/Seagate/RNP/dataset_nov_2024//packet-count-lost-bidir/go-rj-2.json\n",
            "Nome do Arquivo:  go-rj-2.json\n",
            "/content/drive/MyDrive/Seagate/RNP/dataset_nov_2024//packet-count-lost-bidir/go-rj-2.json\n",
            "Caminho: /content/drive/MyDrive/Seagate/RNP/dataset_nov_2024//packet-count-lost-bidir/\n",
            "Conteudo: /content/drive/MyDrive/Seagate/RNP/dataset_nov_2024//packet-count-lost-bidir/go-rj-3.json\n",
            "Nome do Arquivo:  go-rj-3.json\n",
            "/content/drive/MyDrive/Seagate/RNP/dataset_nov_2024//packet-count-lost-bidir/go-rj-3.json\n",
            "Caminho: /content/drive/MyDrive/Seagate/RNP/dataset_nov_2024//packet-count-lost-bidir/\n",
            "Conteudo: /content/drive/MyDrive/Seagate/RNP/dataset_nov_2024//packet-count-lost-bidir/go-rj-4.json\n",
            "Nome do Arquivo:  go-rj-4.json\n",
            "/content/drive/MyDrive/Seagate/RNP/dataset_nov_2024//packet-count-lost-bidir/go-rj-4.json\n",
            "Caminho: /content/drive/MyDrive/Seagate/RNP/dataset_nov_2024//packet-count-lost-bidir/\n",
            "Conteudo: /content/drive/MyDrive/Seagate/RNP/dataset_nov_2024//packet-count-lost-bidir/go-rj-5.json\n",
            "Nome do Arquivo:  go-rj-5.json\n",
            "/content/drive/MyDrive/Seagate/RNP/dataset_nov_2024//packet-count-lost-bidir/go-rj-5.json\n",
            "Caminho: /content/drive/MyDrive/Seagate/RNP/dataset_nov_2024//packet-count-lost-bidir/\n",
            "Conteudo: /content/drive/MyDrive/Seagate/RNP/dataset_nov_2024//packet-count-lost-bidir/go-rj-6.json\n",
            "Nome do Arquivo:  go-rj-6.json\n",
            "/content/drive/MyDrive/Seagate/RNP/dataset_nov_2024//packet-count-lost-bidir/go-rj-6.json\n",
            "Caminho: /content/drive/MyDrive/Seagate/RNP/dataset_nov_2024//packet-count-lost-bidir/\n",
            "Conteudo: /content/drive/MyDrive/Seagate/RNP/dataset_nov_2024//packet-count-lost-bidir/go-rj-7.json\n",
            "Nome do Arquivo:  go-rj-7.json\n",
            "/content/drive/MyDrive/Seagate/RNP/dataset_nov_2024//packet-count-lost-bidir/go-rj-7.json\n",
            "Caminho: /content/drive/MyDrive/Seagate/RNP/dataset_nov_2024//packet-count-lost-bidir/\n",
            "Conteudo: /content/drive/MyDrive/Seagate/RNP/dataset_nov_2024//packet-count-lost-bidir/go-rj-8.json\n",
            "Nome do Arquivo:  go-rj-8.json\n",
            "/content/drive/MyDrive/Seagate/RNP/dataset_nov_2024//packet-count-lost-bidir/go-rj-8.json\n",
            "Caminho: /content/drive/MyDrive/Seagate/RNP/dataset_nov_2024//packet-count-lost-bidir/\n",
            "Conteudo: /content/drive/MyDrive/Seagate/RNP/dataset_nov_2024//packet-count-lost-bidir/go-rj-9.json\n",
            "Nome do Arquivo:  go-rj-9.json\n",
            "/content/drive/MyDrive/Seagate/RNP/dataset_nov_2024//packet-count-lost-bidir/go-rj-9.json\n",
            "Caminho: /content/drive/MyDrive/Seagate/RNP/dataset_nov_2024//packet-count-lost-bidir/\n",
            "Conteudo: /content/drive/MyDrive/Seagate/RNP/dataset_nov_2024//packet-count-lost-bidir/go-rj-10.json\n",
            "Nome do Arquivo:  go-rj-10.json\n",
            "/content/drive/MyDrive/Seagate/RNP/dataset_nov_2024//packet-count-lost-bidir/go-rj-10.json\n",
            "Caminho: /content/drive/MyDrive/Seagate/RNP/dataset_nov_2024//packet-count-lost-bidir/\n",
            "Conteudo: /content/drive/MyDrive/Seagate/RNP/dataset_nov_2024//packet-count-lost-bidir/go-rj-11.json\n",
            "Nome do Arquivo:  go-rj-11.json\n",
            "/content/drive/MyDrive/Seagate/RNP/dataset_nov_2024//packet-count-lost-bidir/go-rj-11.json\n",
            "Caminho: /content/drive/MyDrive/Seagate/RNP/dataset_nov_2024//packet-count-lost-bidir/\n",
            "Conteudo: /content/drive/MyDrive/Seagate/RNP/dataset_nov_2024//packet-count-lost-bidir/go-rj-12.json\n",
            "Nome do Arquivo:  go-rj-12.json\n",
            "/content/drive/MyDrive/Seagate/RNP/dataset_nov_2024//packet-count-lost-bidir/go-rj-12.json\n",
            "Caminho: /content/drive/MyDrive/Seagate/RNP/dataset_nov_2024//packet-count-lost-bidir/\n",
            "Conteudo: /content/drive/MyDrive/Seagate/RNP/dataset_nov_2024//packet-count-lost-bidir/go-rj-13.json\n",
            "Nome do Arquivo:  go-rj-13.json\n",
            "/content/drive/MyDrive/Seagate/RNP/dataset_nov_2024//packet-count-lost-bidir/go-rj-13.json\n",
            "Caminho: /content/drive/MyDrive/Seagate/RNP/dataset_nov_2024//packet-count-lost-bidir/\n",
            "Conteudo: /content/drive/MyDrive/Seagate/RNP/dataset_nov_2024//packet-count-lost-bidir/go-rj-14.json\n",
            "Nome do Arquivo:  go-rj-14.json\n",
            "/content/drive/MyDrive/Seagate/RNP/dataset_nov_2024//packet-count-lost-bidir/go-rj-14.json\n",
            "Caminho: /content/drive/MyDrive/Seagate/RNP/dataset_nov_2024//packet-count-lost-bidir/\n",
            "Conteudo: /content/drive/MyDrive/Seagate/RNP/dataset_nov_2024//packet-count-lost-bidir/go-rj-15.json\n",
            "Nome do Arquivo:  go-rj-15.json\n",
            "/content/drive/MyDrive/Seagate/RNP/dataset_nov_2024//packet-count-lost-bidir/go-rj-15.json\n",
            "Caminho: /content/drive/MyDrive/Seagate/RNP/dataset_nov_2024//packet-count-lost-bidir/\n",
            "Conteudo: /content/drive/MyDrive/Seagate/RNP/dataset_nov_2024//packet-count-lost-bidir/go-rj-16.json\n",
            "Nome do Arquivo:  go-rj-16.json\n",
            "/content/drive/MyDrive/Seagate/RNP/dataset_nov_2024//packet-count-lost-bidir/go-rj-16.json\n",
            "Caminho: /content/drive/MyDrive/Seagate/RNP/dataset_nov_2024//packet-count-lost-bidir/\n",
            "Conteudo: /content/drive/MyDrive/Seagate/RNP/dataset_nov_2024//packet-count-lost-bidir/go-rj-17.json\n",
            "Nome do Arquivo:  go-rj-17.json\n",
            "/content/drive/MyDrive/Seagate/RNP/dataset_nov_2024//packet-count-lost-bidir/go-rj-17.json\n",
            "Caminho: /content/drive/MyDrive/Seagate/RNP/dataset_nov_2024//packet-count-lost-bidir/\n",
            "Conteudo: /content/drive/MyDrive/Seagate/RNP/dataset_nov_2024//packet-count-lost-bidir/go-rj-18.json\n",
            "Nome do Arquivo:  go-rj-18.json\n",
            "/content/drive/MyDrive/Seagate/RNP/dataset_nov_2024//packet-count-lost-bidir/go-rj-18.json\n",
            "Caminho: /content/drive/MyDrive/Seagate/RNP/dataset_nov_2024//packet-count-lost-bidir/\n",
            "Conteudo: /content/drive/MyDrive/Seagate/RNP/dataset_nov_2024//packet-count-lost-bidir/mt-rj-1.json\n",
            "Nome do Arquivo:  mt-rj-1.json\n",
            "/content/drive/MyDrive/Seagate/RNP/dataset_nov_2024//packet-count-lost-bidir/mt-rj-1.json\n",
            "Caminho: /content/drive/MyDrive/Seagate/RNP/dataset_nov_2024//packet-count-lost-bidir/\n",
            "Conteudo: /content/drive/MyDrive/Seagate/RNP/dataset_nov_2024//packet-count-lost-bidir/mt-rj-2.json\n",
            "Nome do Arquivo:  mt-rj-2.json\n",
            "/content/drive/MyDrive/Seagate/RNP/dataset_nov_2024//packet-count-lost-bidir/mt-rj-2.json\n",
            "Caminho: /content/drive/MyDrive/Seagate/RNP/dataset_nov_2024//packet-count-lost-bidir/\n",
            "Conteudo: /content/drive/MyDrive/Seagate/RNP/dataset_nov_2024//packet-count-lost-bidir/mt-rj-3.json\n",
            "Nome do Arquivo:  mt-rj-3.json\n",
            "/content/drive/MyDrive/Seagate/RNP/dataset_nov_2024//packet-count-lost-bidir/mt-rj-3.json\n",
            "Caminho: /content/drive/MyDrive/Seagate/RNP/dataset_nov_2024//packet-count-lost-bidir/\n",
            "Conteudo: /content/drive/MyDrive/Seagate/RNP/dataset_nov_2024//packet-count-lost-bidir/mt-rj-4.json\n",
            "Nome do Arquivo:  mt-rj-4.json\n",
            "/content/drive/MyDrive/Seagate/RNP/dataset_nov_2024//packet-count-lost-bidir/mt-rj-4.json\n",
            "Caminho: /content/drive/MyDrive/Seagate/RNP/dataset_nov_2024//packet-count-lost-bidir/\n",
            "Conteudo: /content/drive/MyDrive/Seagate/RNP/dataset_nov_2024//packet-count-lost-bidir/mt-rj-5.json\n",
            "Nome do Arquivo:  mt-rj-5.json\n",
            "/content/drive/MyDrive/Seagate/RNP/dataset_nov_2024//packet-count-lost-bidir/mt-rj-5.json\n",
            "Caminho: /content/drive/MyDrive/Seagate/RNP/dataset_nov_2024//packet-count-lost-bidir/\n",
            "Conteudo: /content/drive/MyDrive/Seagate/RNP/dataset_nov_2024//packet-count-lost-bidir/mt-rj-6.json\n",
            "Nome do Arquivo:  mt-rj-6.json\n",
            "/content/drive/MyDrive/Seagate/RNP/dataset_nov_2024//packet-count-lost-bidir/mt-rj-6.json\n",
            "Caminho: /content/drive/MyDrive/Seagate/RNP/dataset_nov_2024//packet-count-lost-bidir/\n",
            "Conteudo: /content/drive/MyDrive/Seagate/RNP/dataset_nov_2024//packet-count-lost-bidir/mt-rj-7.json\n",
            "Nome do Arquivo:  mt-rj-7.json\n",
            "/content/drive/MyDrive/Seagate/RNP/dataset_nov_2024//packet-count-lost-bidir/mt-rj-7.json\n",
            "Caminho: /content/drive/MyDrive/Seagate/RNP/dataset_nov_2024//packet-count-lost-bidir/\n",
            "Conteudo: /content/drive/MyDrive/Seagate/RNP/dataset_nov_2024//packet-count-lost-bidir/mt-rj-8.json\n",
            "Nome do Arquivo:  mt-rj-8.json\n",
            "/content/drive/MyDrive/Seagate/RNP/dataset_nov_2024//packet-count-lost-bidir/mt-rj-8.json\n",
            "Caminho: /content/drive/MyDrive/Seagate/RNP/dataset_nov_2024//packet-count-lost-bidir/\n",
            "Conteudo: /content/drive/MyDrive/Seagate/RNP/dataset_nov_2024//packet-count-lost-bidir/mt-rj-9.json\n",
            "Nome do Arquivo:  mt-rj-9.json\n",
            "/content/drive/MyDrive/Seagate/RNP/dataset_nov_2024//packet-count-lost-bidir/mt-rj-9.json\n",
            "Caminho: /content/drive/MyDrive/Seagate/RNP/dataset_nov_2024//packet-count-lost-bidir/\n",
            "Conteudo: /content/drive/MyDrive/Seagate/RNP/dataset_nov_2024//packet-count-lost-bidir/mt-rj-10.json\n",
            "Nome do Arquivo:  mt-rj-10.json\n",
            "/content/drive/MyDrive/Seagate/RNP/dataset_nov_2024//packet-count-lost-bidir/mt-rj-10.json\n",
            "Caminho: /content/drive/MyDrive/Seagate/RNP/dataset_nov_2024//packet-count-lost-bidir/\n",
            "Conteudo: /content/drive/MyDrive/Seagate/RNP/dataset_nov_2024//packet-count-lost-bidir/mt-rj-11.json\n",
            "Nome do Arquivo:  mt-rj-11.json\n",
            "/content/drive/MyDrive/Seagate/RNP/dataset_nov_2024//packet-count-lost-bidir/mt-rj-11.json\n",
            "Caminho: /content/drive/MyDrive/Seagate/RNP/dataset_nov_2024//packet-count-lost-bidir/\n",
            "Conteudo: /content/drive/MyDrive/Seagate/RNP/dataset_nov_2024//packet-count-lost-bidir/mt-rj-12.json\n",
            "Nome do Arquivo:  mt-rj-12.json\n",
            "/content/drive/MyDrive/Seagate/RNP/dataset_nov_2024//packet-count-lost-bidir/mt-rj-12.json\n",
            "Caminho: /content/drive/MyDrive/Seagate/RNP/dataset_nov_2024//packet-count-lost-bidir/\n",
            "Conteudo: /content/drive/MyDrive/Seagate/RNP/dataset_nov_2024//packet-count-lost-bidir/mt-rj-13.json\n",
            "Nome do Arquivo:  mt-rj-13.json\n",
            "/content/drive/MyDrive/Seagate/RNP/dataset_nov_2024//packet-count-lost-bidir/mt-rj-13.json\n",
            "Caminho: /content/drive/MyDrive/Seagate/RNP/dataset_nov_2024//packet-count-lost-bidir/\n",
            "Conteudo: /content/drive/MyDrive/Seagate/RNP/dataset_nov_2024//packet-count-lost-bidir/mt-rj-14.json\n",
            "Nome do Arquivo:  mt-rj-14.json\n",
            "/content/drive/MyDrive/Seagate/RNP/dataset_nov_2024//packet-count-lost-bidir/mt-rj-14.json\n",
            "Caminho: /content/drive/MyDrive/Seagate/RNP/dataset_nov_2024//packet-count-lost-bidir/\n",
            "Conteudo: /content/drive/MyDrive/Seagate/RNP/dataset_nov_2024//packet-count-lost-bidir/mt-rj-15.json\n",
            "Nome do Arquivo:  mt-rj-15.json\n",
            "/content/drive/MyDrive/Seagate/RNP/dataset_nov_2024//packet-count-lost-bidir/mt-rj-15.json\n",
            "Caminho: /content/drive/MyDrive/Seagate/RNP/dataset_nov_2024//packet-count-lost-bidir/\n",
            "Conteudo: /content/drive/MyDrive/Seagate/RNP/dataset_nov_2024//packet-count-lost-bidir/mt-rj-16.json\n",
            "Nome do Arquivo:  mt-rj-16.json\n",
            "/content/drive/MyDrive/Seagate/RNP/dataset_nov_2024//packet-count-lost-bidir/mt-rj-16.json\n",
            "Caminho: /content/drive/MyDrive/Seagate/RNP/dataset_nov_2024//packet-count-lost-bidir/\n",
            "Conteudo: /content/drive/MyDrive/Seagate/RNP/dataset_nov_2024//packet-count-lost-bidir/mt-rj-17.json\n",
            "Nome do Arquivo:  mt-rj-17.json\n",
            "/content/drive/MyDrive/Seagate/RNP/dataset_nov_2024//packet-count-lost-bidir/mt-rj-17.json\n",
            "Caminho: /content/drive/MyDrive/Seagate/RNP/dataset_nov_2024//packet-count-lost-bidir/\n",
            "Conteudo: /content/drive/MyDrive/Seagate/RNP/dataset_nov_2024//packet-count-lost-bidir/pb-rj-1.json\n",
            "Nome do Arquivo:  pb-rj-1.json\n",
            "/content/drive/MyDrive/Seagate/RNP/dataset_nov_2024//packet-count-lost-bidir/pb-rj-1.json\n",
            "Caminho: /content/drive/MyDrive/Seagate/RNP/dataset_nov_2024//packet-count-lost-bidir/\n",
            "Conteudo: /content/drive/MyDrive/Seagate/RNP/dataset_nov_2024//packet-count-lost-bidir/pb-rj-2.json\n",
            "Nome do Arquivo:  pb-rj-2.json\n",
            "/content/drive/MyDrive/Seagate/RNP/dataset_nov_2024//packet-count-lost-bidir/pb-rj-2.json\n",
            "Caminho: /content/drive/MyDrive/Seagate/RNP/dataset_nov_2024//packet-count-lost-bidir/\n",
            "Conteudo: /content/drive/MyDrive/Seagate/RNP/dataset_nov_2024//packet-count-lost-bidir/pb-rj-3.json\n",
            "Nome do Arquivo:  pb-rj-3.json\n",
            "/content/drive/MyDrive/Seagate/RNP/dataset_nov_2024//packet-count-lost-bidir/pb-rj-3.json\n",
            "Caminho: /content/drive/MyDrive/Seagate/RNP/dataset_nov_2024//packet-count-lost-bidir/\n",
            "Conteudo: /content/drive/MyDrive/Seagate/RNP/dataset_nov_2024//packet-count-lost-bidir/pb-rj-4.json\n",
            "Nome do Arquivo:  pb-rj-4.json\n",
            "/content/drive/MyDrive/Seagate/RNP/dataset_nov_2024//packet-count-lost-bidir/pb-rj-4.json\n",
            "Caminho: /content/drive/MyDrive/Seagate/RNP/dataset_nov_2024//packet-count-lost-bidir/\n",
            "Conteudo: /content/drive/MyDrive/Seagate/RNP/dataset_nov_2024//packet-count-lost-bidir/pb-rj-5.json\n",
            "Nome do Arquivo:  pb-rj-5.json\n",
            "/content/drive/MyDrive/Seagate/RNP/dataset_nov_2024//packet-count-lost-bidir/pb-rj-5.json\n",
            "Caminho: /content/drive/MyDrive/Seagate/RNP/dataset_nov_2024//packet-count-lost-bidir/\n",
            "Conteudo: /content/drive/MyDrive/Seagate/RNP/dataset_nov_2024//packet-count-lost-bidir/pb-rj-6.json\n",
            "Nome do Arquivo:  pb-rj-6.json\n",
            "/content/drive/MyDrive/Seagate/RNP/dataset_nov_2024//packet-count-lost-bidir/pb-rj-6.json\n",
            "Caminho: /content/drive/MyDrive/Seagate/RNP/dataset_nov_2024//packet-count-lost-bidir/\n",
            "Conteudo: /content/drive/MyDrive/Seagate/RNP/dataset_nov_2024//packet-count-lost-bidir/pb-rj-7.json\n",
            "Nome do Arquivo:  pb-rj-7.json\n",
            "/content/drive/MyDrive/Seagate/RNP/dataset_nov_2024//packet-count-lost-bidir/pb-rj-7.json\n",
            "Caminho: /content/drive/MyDrive/Seagate/RNP/dataset_nov_2024//packet-count-lost-bidir/\n",
            "Conteudo: /content/drive/MyDrive/Seagate/RNP/dataset_nov_2024//packet-count-lost-bidir/pb-rj-8.json\n",
            "Nome do Arquivo:  pb-rj-8.json\n",
            "/content/drive/MyDrive/Seagate/RNP/dataset_nov_2024//packet-count-lost-bidir/pb-rj-8.json\n",
            "Caminho: /content/drive/MyDrive/Seagate/RNP/dataset_nov_2024//packet-count-lost-bidir/\n",
            "Conteudo: /content/drive/MyDrive/Seagate/RNP/dataset_nov_2024//packet-count-lost-bidir/pb-rj-9.json\n",
            "Nome do Arquivo:  pb-rj-9.json\n",
            "/content/drive/MyDrive/Seagate/RNP/dataset_nov_2024//packet-count-lost-bidir/pb-rj-9.json\n",
            "Caminho: /content/drive/MyDrive/Seagate/RNP/dataset_nov_2024//packet-count-lost-bidir/\n",
            "Conteudo: /content/drive/MyDrive/Seagate/RNP/dataset_nov_2024//packet-count-lost-bidir/pb-rj-10.json\n",
            "Nome do Arquivo:  pb-rj-10.json\n",
            "/content/drive/MyDrive/Seagate/RNP/dataset_nov_2024//packet-count-lost-bidir/pb-rj-10.json\n",
            "Caminho: /content/drive/MyDrive/Seagate/RNP/dataset_nov_2024//packet-count-lost-bidir/\n",
            "Conteudo: /content/drive/MyDrive/Seagate/RNP/dataset_nov_2024//packet-count-lost-bidir/pb-rj-11.json\n",
            "Nome do Arquivo:  pb-rj-11.json\n",
            "/content/drive/MyDrive/Seagate/RNP/dataset_nov_2024//packet-count-lost-bidir/pb-rj-11.json\n",
            "Caminho: /content/drive/MyDrive/Seagate/RNP/dataset_nov_2024//packet-count-lost-bidir/\n",
            "Conteudo: /content/drive/MyDrive/Seagate/RNP/dataset_nov_2024//packet-count-lost-bidir/pb-rj-12.json\n",
            "Nome do Arquivo:  pb-rj-12.json\n",
            "/content/drive/MyDrive/Seagate/RNP/dataset_nov_2024//packet-count-lost-bidir/pb-rj-12.json\n",
            "Caminho: /content/drive/MyDrive/Seagate/RNP/dataset_nov_2024//packet-count-lost-bidir/\n",
            "Conteudo: /content/drive/MyDrive/Seagate/RNP/dataset_nov_2024//packet-count-lost-bidir/pb-rj-13.json\n",
            "Nome do Arquivo:  pb-rj-13.json\n",
            "/content/drive/MyDrive/Seagate/RNP/dataset_nov_2024//packet-count-lost-bidir/pb-rj-13.json\n",
            "Caminho: /content/drive/MyDrive/Seagate/RNP/dataset_nov_2024//packet-count-lost-bidir/\n",
            "Conteudo: /content/drive/MyDrive/Seagate/RNP/dataset_nov_2024//packet-count-lost-bidir/pb-rj-14.json\n",
            "Nome do Arquivo:  pb-rj-14.json\n",
            "/content/drive/MyDrive/Seagate/RNP/dataset_nov_2024//packet-count-lost-bidir/pb-rj-14.json\n",
            "Caminho: /content/drive/MyDrive/Seagate/RNP/dataset_nov_2024//packet-count-lost-bidir/\n",
            "Conteudo: /content/drive/MyDrive/Seagate/RNP/dataset_nov_2024//packet-count-lost-bidir/pb-rj-15.json\n",
            "Nome do Arquivo:  pb-rj-15.json\n",
            "/content/drive/MyDrive/Seagate/RNP/dataset_nov_2024//packet-count-lost-bidir/pb-rj-15.json\n",
            "Caminho: /content/drive/MyDrive/Seagate/RNP/dataset_nov_2024//packet-count-lost-bidir/\n",
            "Conteudo: /content/drive/MyDrive/Seagate/RNP/dataset_nov_2024//packet-count-lost-bidir/pb-rj-16.json\n",
            "Nome do Arquivo:  pb-rj-16.json\n",
            "/content/drive/MyDrive/Seagate/RNP/dataset_nov_2024//packet-count-lost-bidir/pb-rj-16.json\n",
            "Caminho: /content/drive/MyDrive/Seagate/RNP/dataset_nov_2024//packet-count-lost-bidir/\n",
            "Conteudo: /content/drive/MyDrive/Seagate/RNP/dataset_nov_2024//packet-count-lost-bidir/pb-rj-17.json\n",
            "Nome do Arquivo:  pb-rj-17.json\n",
            "/content/drive/MyDrive/Seagate/RNP/dataset_nov_2024//packet-count-lost-bidir/pb-rj-17.json\n",
            "Caminho: /content/drive/MyDrive/Seagate/RNP/dataset_nov_2024//packet-count-lost-bidir/\n",
            "Conteudo: /content/drive/MyDrive/Seagate/RNP/dataset_nov_2024//packet-count-lost-bidir/pb-rj-18.json\n",
            "Nome do Arquivo:  pb-rj-18.json\n",
            "/content/drive/MyDrive/Seagate/RNP/dataset_nov_2024//packet-count-lost-bidir/pb-rj-18.json\n",
            "Caminho: /content/drive/MyDrive/Seagate/RNP/dataset_nov_2024//packet-count-lost-bidir/\n",
            "Conteudo: /content/drive/MyDrive/Seagate/RNP/dataset_nov_2024//packet-count-lost-bidir/pb-rj-19.json\n",
            "Nome do Arquivo:  pb-rj-19.json\n",
            "/content/drive/MyDrive/Seagate/RNP/dataset_nov_2024//packet-count-lost-bidir/pb-rj-19.json\n",
            "Caminho: /content/drive/MyDrive/Seagate/RNP/dataset_nov_2024//packet-count-lost-bidir/\n",
            "Conteudo: /content/drive/MyDrive/Seagate/RNP/dataset_nov_2024//packet-count-lost-bidir/pe-rj-1.json\n",
            "Nome do Arquivo:  pe-rj-1.json\n",
            "/content/drive/MyDrive/Seagate/RNP/dataset_nov_2024//packet-count-lost-bidir/pe-rj-1.json\n",
            "Caminho: /content/drive/MyDrive/Seagate/RNP/dataset_nov_2024//packet-count-lost-bidir/\n",
            "Conteudo: /content/drive/MyDrive/Seagate/RNP/dataset_nov_2024//packet-count-lost-bidir/pe-rj-2.json\n",
            "Nome do Arquivo:  pe-rj-2.json\n",
            "/content/drive/MyDrive/Seagate/RNP/dataset_nov_2024//packet-count-lost-bidir/pe-rj-2.json\n",
            "Caminho: /content/drive/MyDrive/Seagate/RNP/dataset_nov_2024//packet-count-lost-bidir/\n",
            "Conteudo: /content/drive/MyDrive/Seagate/RNP/dataset_nov_2024//packet-count-lost-bidir/pe-rj-3.json\n",
            "Nome do Arquivo:  pe-rj-3.json\n",
            "/content/drive/MyDrive/Seagate/RNP/dataset_nov_2024//packet-count-lost-bidir/pe-rj-3.json\n",
            "Caminho: /content/drive/MyDrive/Seagate/RNP/dataset_nov_2024//packet-count-lost-bidir/\n",
            "Conteudo: /content/drive/MyDrive/Seagate/RNP/dataset_nov_2024//packet-count-lost-bidir/pe-rj-4.json\n",
            "Nome do Arquivo:  pe-rj-4.json\n",
            "/content/drive/MyDrive/Seagate/RNP/dataset_nov_2024//packet-count-lost-bidir/pe-rj-4.json\n",
            "Caminho: /content/drive/MyDrive/Seagate/RNP/dataset_nov_2024//packet-count-lost-bidir/\n",
            "Conteudo: /content/drive/MyDrive/Seagate/RNP/dataset_nov_2024//packet-count-lost-bidir/pe-rj-5.json\n",
            "Nome do Arquivo:  pe-rj-5.json\n",
            "/content/drive/MyDrive/Seagate/RNP/dataset_nov_2024//packet-count-lost-bidir/pe-rj-5.json\n",
            "Caminho: /content/drive/MyDrive/Seagate/RNP/dataset_nov_2024//packet-count-lost-bidir/\n",
            "Conteudo: /content/drive/MyDrive/Seagate/RNP/dataset_nov_2024//packet-count-lost-bidir/pe-rj-6.json\n",
            "Nome do Arquivo:  pe-rj-6.json\n",
            "/content/drive/MyDrive/Seagate/RNP/dataset_nov_2024//packet-count-lost-bidir/pe-rj-6.json\n",
            "Caminho: /content/drive/MyDrive/Seagate/RNP/dataset_nov_2024//packet-count-lost-bidir/\n",
            "Conteudo: /content/drive/MyDrive/Seagate/RNP/dataset_nov_2024//packet-count-lost-bidir/pe-rj-7.json\n",
            "Nome do Arquivo:  pe-rj-7.json\n",
            "/content/drive/MyDrive/Seagate/RNP/dataset_nov_2024//packet-count-lost-bidir/pe-rj-7.json\n",
            "Caminho: /content/drive/MyDrive/Seagate/RNP/dataset_nov_2024//packet-count-lost-bidir/\n",
            "Conteudo: /content/drive/MyDrive/Seagate/RNP/dataset_nov_2024//packet-count-lost-bidir/pe-rj-8.json\n",
            "Nome do Arquivo:  pe-rj-8.json\n",
            "/content/drive/MyDrive/Seagate/RNP/dataset_nov_2024//packet-count-lost-bidir/pe-rj-8.json\n",
            "Caminho: /content/drive/MyDrive/Seagate/RNP/dataset_nov_2024//packet-count-lost-bidir/\n",
            "Conteudo: /content/drive/MyDrive/Seagate/RNP/dataset_nov_2024//packet-count-lost-bidir/pe-rj-9.json\n",
            "Nome do Arquivo:  pe-rj-9.json\n",
            "/content/drive/MyDrive/Seagate/RNP/dataset_nov_2024//packet-count-lost-bidir/pe-rj-9.json\n",
            "Caminho: /content/drive/MyDrive/Seagate/RNP/dataset_nov_2024//packet-count-lost-bidir/\n",
            "Conteudo: /content/drive/MyDrive/Seagate/RNP/dataset_nov_2024//packet-count-lost-bidir/pe-rj-10.json\n",
            "Nome do Arquivo:  pe-rj-10.json\n",
            "/content/drive/MyDrive/Seagate/RNP/dataset_nov_2024//packet-count-lost-bidir/pe-rj-10.json\n",
            "Caminho: /content/drive/MyDrive/Seagate/RNP/dataset_nov_2024//packet-count-lost-bidir/\n",
            "Conteudo: /content/drive/MyDrive/Seagate/RNP/dataset_nov_2024//packet-count-lost-bidir/pe-rj-11.json\n",
            "Nome do Arquivo:  pe-rj-11.json\n",
            "/content/drive/MyDrive/Seagate/RNP/dataset_nov_2024//packet-count-lost-bidir/pe-rj-11.json\n",
            "Caminho: /content/drive/MyDrive/Seagate/RNP/dataset_nov_2024//packet-count-lost-bidir/\n",
            "Conteudo: /content/drive/MyDrive/Seagate/RNP/dataset_nov_2024//packet-count-lost-bidir/pe-rj-12.json\n",
            "Nome do Arquivo:  pe-rj-12.json\n",
            "/content/drive/MyDrive/Seagate/RNP/dataset_nov_2024//packet-count-lost-bidir/pe-rj-12.json\n",
            "Caminho: /content/drive/MyDrive/Seagate/RNP/dataset_nov_2024//packet-count-lost-bidir/\n",
            "Conteudo: /content/drive/MyDrive/Seagate/RNP/dataset_nov_2024//packet-count-lost-bidir/pe-rj-13.json\n",
            "Nome do Arquivo:  pe-rj-13.json\n",
            "/content/drive/MyDrive/Seagate/RNP/dataset_nov_2024//packet-count-lost-bidir/pe-rj-13.json\n",
            "Caminho: /content/drive/MyDrive/Seagate/RNP/dataset_nov_2024//packet-count-lost-bidir/\n",
            "Conteudo: /content/drive/MyDrive/Seagate/RNP/dataset_nov_2024//packet-count-lost-bidir/pe-rj-14.json\n",
            "Nome do Arquivo:  pe-rj-14.json\n",
            "/content/drive/MyDrive/Seagate/RNP/dataset_nov_2024//packet-count-lost-bidir/pe-rj-14.json\n",
            "Caminho: /content/drive/MyDrive/Seagate/RNP/dataset_nov_2024//packet-count-lost-bidir/\n",
            "Conteudo: /content/drive/MyDrive/Seagate/RNP/dataset_nov_2024//packet-count-lost-bidir/pe-rj-15.json\n",
            "Nome do Arquivo:  pe-rj-15.json\n",
            "/content/drive/MyDrive/Seagate/RNP/dataset_nov_2024//packet-count-lost-bidir/pe-rj-15.json\n",
            "Caminho: /content/drive/MyDrive/Seagate/RNP/dataset_nov_2024//packet-count-lost-bidir/\n",
            "Conteudo: /content/drive/MyDrive/Seagate/RNP/dataset_nov_2024//packet-count-lost-bidir/pe-rj-16.json\n",
            "Nome do Arquivo:  pe-rj-16.json\n",
            "/content/drive/MyDrive/Seagate/RNP/dataset_nov_2024//packet-count-lost-bidir/pe-rj-16.json\n",
            "Caminho: /content/drive/MyDrive/Seagate/RNP/dataset_nov_2024//packet-count-lost-bidir/\n",
            "Conteudo: /content/drive/MyDrive/Seagate/RNP/dataset_nov_2024//packet-count-lost-bidir/pe-rj-17.json\n",
            "Nome do Arquivo:  pe-rj-17.json\n",
            "/content/drive/MyDrive/Seagate/RNP/dataset_nov_2024//packet-count-lost-bidir/pe-rj-17.json\n",
            "Caminho: /content/drive/MyDrive/Seagate/RNP/dataset_nov_2024//packet-count-lost-bidir/\n",
            "Conteudo: /content/drive/MyDrive/Seagate/RNP/dataset_nov_2024//packet-count-lost-bidir/pe-rj-18.json\n",
            "Nome do Arquivo:  pe-rj-18.json\n",
            "/content/drive/MyDrive/Seagate/RNP/dataset_nov_2024//packet-count-lost-bidir/pe-rj-18.json\n",
            "Caminho: /content/drive/MyDrive/Seagate/RNP/dataset_nov_2024//packet-count-lost-bidir/\n",
            "Conteudo: /content/drive/MyDrive/Seagate/RNP/dataset_nov_2024//packet-count-lost-bidir/pe-rj-19.json\n",
            "Nome do Arquivo:  pe-rj-19.json\n",
            "/content/drive/MyDrive/Seagate/RNP/dataset_nov_2024//packet-count-lost-bidir/pe-rj-19.json\n",
            "Caminho: /content/drive/MyDrive/Seagate/RNP/dataset_nov_2024//packet-count-lost-bidir/\n",
            "Conteudo: /content/drive/MyDrive/Seagate/RNP/dataset_nov_2024//packet-count-lost-bidir/rn-rj-1.json\n",
            "Nome do Arquivo:  rn-rj-1.json\n",
            "/content/drive/MyDrive/Seagate/RNP/dataset_nov_2024//packet-count-lost-bidir/rn-rj-1.json\n",
            "Caminho: /content/drive/MyDrive/Seagate/RNP/dataset_nov_2024//packet-count-lost-bidir/\n",
            "Conteudo: /content/drive/MyDrive/Seagate/RNP/dataset_nov_2024//packet-count-lost-bidir/rn-rj-2.json\n",
            "Nome do Arquivo:  rn-rj-2.json\n",
            "/content/drive/MyDrive/Seagate/RNP/dataset_nov_2024//packet-count-lost-bidir/rn-rj-2.json\n",
            "Caminho: /content/drive/MyDrive/Seagate/RNP/dataset_nov_2024//packet-count-lost-bidir/\n",
            "Conteudo: /content/drive/MyDrive/Seagate/RNP/dataset_nov_2024//packet-count-lost-bidir/rn-rj-3.json\n",
            "Nome do Arquivo:  rn-rj-3.json\n",
            "/content/drive/MyDrive/Seagate/RNP/dataset_nov_2024//packet-count-lost-bidir/rn-rj-3.json\n",
            "Caminho: /content/drive/MyDrive/Seagate/RNP/dataset_nov_2024//packet-count-lost-bidir/\n",
            "Conteudo: /content/drive/MyDrive/Seagate/RNP/dataset_nov_2024//packet-count-lost-bidir/rn-rj-4.json\n",
            "Nome do Arquivo:  rn-rj-4.json\n",
            "/content/drive/MyDrive/Seagate/RNP/dataset_nov_2024//packet-count-lost-bidir/rn-rj-4.json\n",
            "Caminho: /content/drive/MyDrive/Seagate/RNP/dataset_nov_2024//packet-count-lost-bidir/\n",
            "Conteudo: /content/drive/MyDrive/Seagate/RNP/dataset_nov_2024//packet-count-lost-bidir/rn-rj-5.json\n",
            "Nome do Arquivo:  rn-rj-5.json\n",
            "/content/drive/MyDrive/Seagate/RNP/dataset_nov_2024//packet-count-lost-bidir/rn-rj-5.json\n",
            "Caminho: /content/drive/MyDrive/Seagate/RNP/dataset_nov_2024//packet-count-lost-bidir/\n",
            "Conteudo: /content/drive/MyDrive/Seagate/RNP/dataset_nov_2024//packet-count-lost-bidir/rn-rj-6.json\n",
            "Nome do Arquivo:  rn-rj-6.json\n",
            "/content/drive/MyDrive/Seagate/RNP/dataset_nov_2024//packet-count-lost-bidir/rn-rj-6.json\n",
            "Caminho: /content/drive/MyDrive/Seagate/RNP/dataset_nov_2024//packet-count-lost-bidir/\n",
            "Conteudo: /content/drive/MyDrive/Seagate/RNP/dataset_nov_2024//packet-count-lost-bidir/rn-rj-7.json\n",
            "Nome do Arquivo:  rn-rj-7.json\n",
            "/content/drive/MyDrive/Seagate/RNP/dataset_nov_2024//packet-count-lost-bidir/rn-rj-7.json\n",
            "Caminho: /content/drive/MyDrive/Seagate/RNP/dataset_nov_2024//packet-count-lost-bidir/\n",
            "Conteudo: /content/drive/MyDrive/Seagate/RNP/dataset_nov_2024//packet-count-lost-bidir/rn-rj-8.json\n",
            "Nome do Arquivo:  rn-rj-8.json\n",
            "/content/drive/MyDrive/Seagate/RNP/dataset_nov_2024//packet-count-lost-bidir/rn-rj-8.json\n",
            "Caminho: /content/drive/MyDrive/Seagate/RNP/dataset_nov_2024//packet-count-lost-bidir/\n",
            "Conteudo: /content/drive/MyDrive/Seagate/RNP/dataset_nov_2024//packet-count-lost-bidir/rn-rj-9.json\n",
            "Nome do Arquivo:  rn-rj-9.json\n",
            "/content/drive/MyDrive/Seagate/RNP/dataset_nov_2024//packet-count-lost-bidir/rn-rj-9.json\n",
            "Caminho: /content/drive/MyDrive/Seagate/RNP/dataset_nov_2024//packet-count-lost-bidir/\n",
            "Conteudo: /content/drive/MyDrive/Seagate/RNP/dataset_nov_2024//packet-count-lost-bidir/rn-rj-10.json\n",
            "Nome do Arquivo:  rn-rj-10.json\n",
            "/content/drive/MyDrive/Seagate/RNP/dataset_nov_2024//packet-count-lost-bidir/rn-rj-10.json\n",
            "Caminho: /content/drive/MyDrive/Seagate/RNP/dataset_nov_2024//packet-count-lost-bidir/\n",
            "Conteudo: /content/drive/MyDrive/Seagate/RNP/dataset_nov_2024//packet-count-lost-bidir/rn-rj-11.json\n",
            "Nome do Arquivo:  rn-rj-11.json\n",
            "/content/drive/MyDrive/Seagate/RNP/dataset_nov_2024//packet-count-lost-bidir/rn-rj-11.json\n",
            "Caminho: /content/drive/MyDrive/Seagate/RNP/dataset_nov_2024//packet-count-lost-bidir/\n",
            "Conteudo: /content/drive/MyDrive/Seagate/RNP/dataset_nov_2024//packet-count-lost-bidir/rn-rj-12.json\n",
            "Nome do Arquivo:  rn-rj-12.json\n",
            "/content/drive/MyDrive/Seagate/RNP/dataset_nov_2024//packet-count-lost-bidir/rn-rj-12.json\n",
            "Caminho: /content/drive/MyDrive/Seagate/RNP/dataset_nov_2024//packet-count-lost-bidir/\n",
            "Conteudo: /content/drive/MyDrive/Seagate/RNP/dataset_nov_2024//packet-count-lost-bidir/rn-rj-13.json\n",
            "Nome do Arquivo:  rn-rj-13.json\n",
            "/content/drive/MyDrive/Seagate/RNP/dataset_nov_2024//packet-count-lost-bidir/rn-rj-13.json\n",
            "Caminho: /content/drive/MyDrive/Seagate/RNP/dataset_nov_2024//packet-count-lost-bidir/\n",
            "Conteudo: /content/drive/MyDrive/Seagate/RNP/dataset_nov_2024//packet-count-lost-bidir/rn-rj-14.json\n",
            "Nome do Arquivo:  rn-rj-14.json\n",
            "/content/drive/MyDrive/Seagate/RNP/dataset_nov_2024//packet-count-lost-bidir/rn-rj-14.json\n",
            "Caminho: /content/drive/MyDrive/Seagate/RNP/dataset_nov_2024//packet-count-lost-bidir/\n",
            "Conteudo: /content/drive/MyDrive/Seagate/RNP/dataset_nov_2024//packet-count-lost-bidir/rn-rj-15.json\n",
            "Nome do Arquivo:  rn-rj-15.json\n",
            "/content/drive/MyDrive/Seagate/RNP/dataset_nov_2024//packet-count-lost-bidir/rn-rj-15.json\n",
            "Caminho: /content/drive/MyDrive/Seagate/RNP/dataset_nov_2024//packet-count-lost-bidir/\n",
            "Conteudo: /content/drive/MyDrive/Seagate/RNP/dataset_nov_2024//packet-count-lost-bidir/rn-rj-16.json\n",
            "Nome do Arquivo:  rn-rj-16.json\n",
            "/content/drive/MyDrive/Seagate/RNP/dataset_nov_2024//packet-count-lost-bidir/rn-rj-16.json\n",
            "Caminho: /content/drive/MyDrive/Seagate/RNP/dataset_nov_2024//packet-count-lost-bidir/\n",
            "Conteudo: /content/drive/MyDrive/Seagate/RNP/dataset_nov_2024//packet-count-lost-bidir/rn-rj-17.json\n",
            "Nome do Arquivo:  rn-rj-17.json\n",
            "/content/drive/MyDrive/Seagate/RNP/dataset_nov_2024//packet-count-lost-bidir/rn-rj-17.json\n",
            "Caminho: /content/drive/MyDrive/Seagate/RNP/dataset_nov_2024//packet-count-lost-bidir/\n",
            "Conteudo: /content/drive/MyDrive/Seagate/RNP/dataset_nov_2024//packet-count-lost-bidir/rn-rj-18.json\n",
            "Nome do Arquivo:  rn-rj-18.json\n",
            "/content/drive/MyDrive/Seagate/RNP/dataset_nov_2024//packet-count-lost-bidir/rn-rj-18.json\n",
            "Caminho: /content/drive/MyDrive/Seagate/RNP/dataset_nov_2024//packet-count-lost-bidir/\n",
            "Conteudo: /content/drive/MyDrive/Seagate/RNP/dataset_nov_2024//packet-count-lost-bidir/rn-rj-19.json\n",
            "Nome do Arquivo:  rn-rj-19.json\n",
            "/content/drive/MyDrive/Seagate/RNP/dataset_nov_2024//packet-count-lost-bidir/rn-rj-19.json\n",
            "Caminho: /content/drive/MyDrive/Seagate/RNP/dataset_nov_2024//packet-count-lost-bidir/\n",
            "Conteudo: /content/drive/MyDrive/Seagate/RNP/dataset_nov_2024//packet-count-lost-bidir/rn-rj-20.json\n",
            "Nome do Arquivo:  rn-rj-20.json\n",
            "/content/drive/MyDrive/Seagate/RNP/dataset_nov_2024//packet-count-lost-bidir/rn-rj-20.json\n",
            "Caminho: /content/drive/MyDrive/Seagate/RNP/dataset_nov_2024//packet-count-lost-bidir/\n",
            "Conteudo: /content/drive/MyDrive/Seagate/RNP/dataset_nov_2024//packet-count-lost-bidir/rn-rj-21.json\n",
            "Nome do Arquivo:  rn-rj-21.json\n",
            "/content/drive/MyDrive/Seagate/RNP/dataset_nov_2024//packet-count-lost-bidir/rn-rj-21.json\n",
            "Caminho: /content/drive/MyDrive/Seagate/RNP/dataset_nov_2024//packet-count-lost-bidir/\n",
            "Conteudo: /content/drive/MyDrive/Seagate/RNP/dataset_nov_2024//packet-count-lost-bidir/rn-rj-22.json\n",
            "Nome do Arquivo:  rn-rj-22.json\n",
            "/content/drive/MyDrive/Seagate/RNP/dataset_nov_2024//packet-count-lost-bidir/rn-rj-22.json\n",
            "Caminho: /content/drive/MyDrive/Seagate/RNP/dataset_nov_2024//packet-count-lost-bidir/\n",
            "Caminho: /content/drive/MyDrive/Seagate/RNP/dataset_nov_2024//packet-count-lost-bidir/\n",
            "Caminho: /content/drive/MyDrive/Seagate/RNP/dataset_nov_2024//packet-count-lost-bidir/\n",
            "Caminho: /content/drive/MyDrive/Seagate/RNP/dataset_nov_2024//packet-count-lost-bidir/\n",
            "Caminho: /content/drive/MyDrive/Seagate/RNP/dataset_nov_2024//packet-count-lost-bidir/\n",
            "Caminho: /content/drive/MyDrive/Seagate/RNP/dataset_nov_2024//packet-count-lost-bidir/\n",
            "Caminho: /content/drive/MyDrive/Seagate/RNP/dataset_nov_2024//packet-count-lost-bidir/\n",
            "Caminho: /content/drive/MyDrive/Seagate/RNP/dataset_nov_2024//packet-count-lost-bidir/\n",
            "Caminho: /content/drive/MyDrive/Seagate/RNP/dataset_nov_2024//packet-count-lost-bidir/\n",
            "Caminho: /content/drive/MyDrive/Seagate/RNP/dataset_nov_2024//packet-count-lost-bidir/\n",
            "Caminho: /content/drive/MyDrive/Seagate/RNP/dataset_nov_2024//packet-count-lost-bidir/\n",
            "Caminho: /content/drive/MyDrive/Seagate/RNP/dataset_nov_2024//packet-count-lost-bidir/\n",
            "Caminho: /content/drive/MyDrive/Seagate/RNP/dataset_nov_2024//packet-count-lost-bidir/\n",
            "Caminho: /content/drive/MyDrive/Seagate/RNP/dataset_nov_2024//packet-count-lost-bidir/\n",
            "Caminho: /content/drive/MyDrive/Seagate/RNP/dataset_nov_2024//packet-count-lost-bidir/\n",
            "Caminho: /content/drive/MyDrive/Seagate/RNP/dataset_nov_2024//packet-count-lost-bidir/\n",
            "Caminho: /content/drive/MyDrive/Seagate/RNP/dataset_nov_2024//packet-count-lost-bidir/\n",
            "Caminho: /content/drive/MyDrive/Seagate/RNP/dataset_nov_2024//packet-count-lost-bidir/\n",
            "Caminho: /content/drive/MyDrive/Seagate/RNP/dataset_nov_2024//packet-count-lost-bidir/\n",
            "Caminho: /content/drive/MyDrive/Seagate/RNP/dataset_nov_2024//packet-count-lost-bidir/\n",
            "Caminho: /content/drive/MyDrive/Seagate/RNP/dataset_nov_2024//packet-count-lost-bidir/\n",
            "Caminho: /content/drive/MyDrive/Seagate/RNP/dataset_nov_2024//packet-count-lost-bidir/\n",
            "Caminho: /content/drive/MyDrive/Seagate/RNP/dataset_nov_2024//packet-count-lost-bidir/\n",
            "Caminho: /content/drive/MyDrive/Seagate/RNP/dataset_nov_2024//packet-count-lost-bidir/\n",
            "Caminho: /content/drive/MyDrive/Seagate/RNP/dataset_nov_2024//packet-count-lost-bidir/\n",
            "Caminho: /content/drive/MyDrive/Seagate/RNP/dataset_nov_2024//packet-count-lost-bidir/\n",
            "Caminho: /content/drive/MyDrive/Seagate/RNP/dataset_nov_2024//packet-count-lost-bidir/\n",
            "Caminho: /content/drive/MyDrive/Seagate/RNP/dataset_nov_2024//packet-count-lost-bidir/\n",
            "Caminho: /content/drive/MyDrive/Seagate/RNP/dataset_nov_2024//packet-count-lost-bidir/\n",
            "Caminho: /content/drive/MyDrive/Seagate/RNP/dataset_nov_2024//packet-count-lost-bidir/\n",
            "Caminho: /content/drive/MyDrive/Seagate/RNP/dataset_nov_2024//packet-count-lost-bidir/\n",
            "Caminho: /content/drive/MyDrive/Seagate/RNP/dataset_nov_2024//packet-count-lost-bidir/\n",
            "Caminho: /content/drive/MyDrive/Seagate/RNP/dataset_nov_2024//packet-count-lost-bidir/\n",
            "Caminho: /content/drive/MyDrive/Seagate/RNP/dataset_nov_2024//packet-count-lost-bidir/\n",
            "Caminho: /content/drive/MyDrive/Seagate/RNP/dataset_nov_2024//packet-count-lost-bidir/\n",
            "Caminho: /content/drive/MyDrive/Seagate/RNP/dataset_nov_2024//packet-count-lost-bidir/\n",
            "Caminho: /content/drive/MyDrive/Seagate/RNP/dataset_nov_2024//packet-count-lost-bidir/\n",
            "Caminho: /content/drive/MyDrive/Seagate/RNP/dataset_nov_2024//packet-count-lost-bidir/\n",
            "Caminho: /content/drive/MyDrive/Seagate/RNP/dataset_nov_2024//packet-count-lost-bidir/\n",
            "Caminho: /content/drive/MyDrive/Seagate/RNP/dataset_nov_2024//packet-count-lost-bidir/\n",
            "Caminho: /content/drive/MyDrive/Seagate/RNP/dataset_nov_2024//packet-count-lost-bidir/\n",
            "Caminho: /content/drive/MyDrive/Seagate/RNP/dataset_nov_2024//packet-count-lost-bidir/\n",
            "Caminho: /content/drive/MyDrive/Seagate/RNP/dataset_nov_2024//packet-count-lost-bidir/\n",
            "Caminho: /content/drive/MyDrive/Seagate/RNP/dataset_nov_2024//packet-count-lost-bidir/\n",
            "Caminho: /content/drive/MyDrive/Seagate/RNP/dataset_nov_2024//packet-count-lost-bidir/\n",
            "Caminho: /content/drive/MyDrive/Seagate/RNP/dataset_nov_2024//packet-count-lost-bidir/\n",
            "Caminho: /content/drive/MyDrive/Seagate/RNP/dataset_nov_2024//packet-count-lost-bidir/\n",
            "Caminho: /content/drive/MyDrive/Seagate/RNP/dataset_nov_2024//packet-count-lost-bidir/\n",
            "Caminho: /content/drive/MyDrive/Seagate/RNP/dataset_nov_2024//packet-count-lost-bidir/\n",
            "Caminho: /content/drive/MyDrive/Seagate/RNP/dataset_nov_2024//packet-count-lost-bidir/\n",
            "Caminho: /content/drive/MyDrive/Seagate/RNP/dataset_nov_2024//packet-count-lost-bidir/\n",
            "Caminho: /content/drive/MyDrive/Seagate/RNP/dataset_nov_2024//packet-count-lost-bidir/\n",
            "Caminho: /content/drive/MyDrive/Seagate/RNP/dataset_nov_2024//packet-count-lost-bidir/\n",
            "Caminho: /content/drive/MyDrive/Seagate/RNP/dataset_nov_2024//packet-count-lost-bidir/\n",
            "Caminho: /content/drive/MyDrive/Seagate/RNP/dataset_nov_2024//packet-count-lost-bidir/\n",
            "Caminho: /content/drive/MyDrive/Seagate/RNP/dataset_nov_2024//packet-count-lost-bidir/\n",
            "Caminho: /content/drive/MyDrive/Seagate/RNP/dataset_nov_2024//packet-count-lost-bidir/\n",
            "Caminho: /content/drive/MyDrive/Seagate/RNP/dataset_nov_2024//packet-count-lost-bidir/\n",
            "Caminho: /content/drive/MyDrive/Seagate/RNP/dataset_nov_2024//packet-count-lost-bidir/\n",
            "Caminho: /content/drive/MyDrive/Seagate/RNP/dataset_nov_2024//packet-count-lost-bidir/\n",
            "Caminho: /content/drive/MyDrive/Seagate/RNP/dataset_nov_2024//packet-count-lost-bidir/\n",
            "Caminho: /content/drive/MyDrive/Seagate/RNP/dataset_nov_2024//packet-count-lost-bidir/\n",
            "Caminho: /content/drive/MyDrive/Seagate/RNP/dataset_nov_2024//packet-count-lost-bidir/\n",
            "Caminho: /content/drive/MyDrive/Seagate/RNP/dataset_nov_2024//packet-count-lost-bidir/\n",
            "Caminho: /content/drive/MyDrive/Seagate/RNP/dataset_nov_2024//packet-count-lost-bidir/\n",
            "Caminho: /content/drive/MyDrive/Seagate/RNP/dataset_nov_2024//packet-count-lost-bidir/\n",
            "Caminho: /content/drive/MyDrive/Seagate/RNP/dataset_nov_2024//packet-count-lost-bidir/\n",
            "Caminho: /content/drive/MyDrive/Seagate/RNP/dataset_nov_2024//packet-count-lost-bidir/\n",
            "Caminho: /content/drive/MyDrive/Seagate/RNP/dataset_nov_2024//packet-count-lost-bidir/\n",
            "Caminho: /content/drive/MyDrive/Seagate/RNP/dataset_nov_2024//packet-count-lost-bidir/\n",
            "Caminho: /content/drive/MyDrive/Seagate/RNP/dataset_nov_2024//packet-count-lost-bidir/\n",
            "Caminho: /content/drive/MyDrive/Seagate/RNP/dataset_nov_2024//packet-count-lost-bidir/\n",
            "Caminho: /content/drive/MyDrive/Seagate/RNP/dataset_nov_2024//packet-count-lost-bidir/\n",
            "Caminho: /content/drive/MyDrive/Seagate/RNP/dataset_nov_2024//packet-count-lost-bidir/\n",
            "Caminho: /content/drive/MyDrive/Seagate/RNP/dataset_nov_2024//packet-count-lost-bidir/\n",
            "Caminho: /content/drive/MyDrive/Seagate/RNP/dataset_nov_2024//packet-count-lost-bidir/\n",
            "Caminho: /content/drive/MyDrive/Seagate/RNP/dataset_nov_2024//packet-count-lost-bidir/\n",
            "Caminho: /content/drive/MyDrive/Seagate/RNP/dataset_nov_2024//packet-count-lost-bidir/\n",
            "Caminho: /content/drive/MyDrive/Seagate/RNP/dataset_nov_2024//packet-count-lost-bidir/\n",
            "Caminho: /content/drive/MyDrive/Seagate/RNP/dataset_nov_2024//packet-count-lost-bidir/\n",
            "Caminho: /content/drive/MyDrive/Seagate/RNP/dataset_nov_2024//packet-count-lost-bidir/\n",
            "Caminho: /content/drive/MyDrive/Seagate/RNP/dataset_nov_2024//packet-count-lost-bidir/\n",
            "Caminho: /content/drive/MyDrive/Seagate/RNP/dataset_nov_2024//packet-count-lost-bidir/\n",
            "Caminho: /content/drive/MyDrive/Seagate/RNP/dataset_nov_2024//packet-count-lost-bidir/\n",
            "Caminho: /content/drive/MyDrive/Seagate/RNP/dataset_nov_2024//packet-count-lost-bidir/\n",
            "Caminho: /content/drive/MyDrive/Seagate/RNP/dataset_nov_2024//packet-count-lost-bidir/\n",
            "Caminho: /content/drive/MyDrive/Seagate/RNP/dataset_nov_2024//packet-count-lost-bidir/\n",
            "Caminho: /content/drive/MyDrive/Seagate/RNP/dataset_nov_2024//packet-count-lost-bidir/\n",
            "Caminho: /content/drive/MyDrive/Seagate/RNP/dataset_nov_2024//packet-count-lost-bidir/\n",
            "Caminho: /content/drive/MyDrive/Seagate/RNP/dataset_nov_2024//packet-count-lost-bidir/\n",
            "Caminho: /content/drive/MyDrive/Seagate/RNP/dataset_nov_2024//packet-count-lost-bidir/\n",
            "Caminho: /content/drive/MyDrive/Seagate/RNP/dataset_nov_2024//packet-count-lost-bidir/\n",
            "Caminho: /content/drive/MyDrive/Seagate/RNP/dataset_nov_2024//packet-count-lost-bidir/\n",
            "Caminho: /content/drive/MyDrive/Seagate/RNP/dataset_nov_2024//packet-count-lost-bidir/\n",
            "Caminho: /content/drive/MyDrive/Seagate/RNP/dataset_nov_2024//packet-count-lost-bidir/\n",
            "Caminho: /content/drive/MyDrive/Seagate/RNP/dataset_nov_2024//packet-count-lost-bidir/\n",
            "Caminho: /content/drive/MyDrive/Seagate/RNP/dataset_nov_2024//packet-count-lost-bidir/\n",
            "Caminho: /content/drive/MyDrive/Seagate/RNP/dataset_nov_2024//packet-count-lost-bidir/\n",
            "Caminho: /content/drive/MyDrive/Seagate/RNP/dataset_nov_2024//packet-count-lost-bidir/\n",
            "Caminho: /content/drive/MyDrive/Seagate/RNP/dataset_nov_2024//packet-count-lost-bidir/\n",
            "Caminho: /content/drive/MyDrive/Seagate/RNP/dataset_nov_2024//packet-count-lost-bidir/\n",
            "Caminho: /content/drive/MyDrive/Seagate/RNP/dataset_nov_2024//packet-count-lost-bidir/\n",
            "Caminho: /content/drive/MyDrive/Seagate/RNP/dataset_nov_2024//packet-count-lost-bidir/\n",
            "Caminho: /content/drive/MyDrive/Seagate/RNP/dataset_nov_2024//packet-count-lost-bidir/\n",
            "Caminho: /content/drive/MyDrive/Seagate/RNP/dataset_nov_2024//packet-count-lost-bidir/\n",
            "SCRIPT FINALIZADO\n"
          ]
        }
      ]
    }
  ]
}