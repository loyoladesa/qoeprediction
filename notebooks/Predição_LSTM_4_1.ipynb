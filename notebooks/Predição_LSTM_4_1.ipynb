{
  "nbformat": 4,
  "nbformat_minor": 0,
  "metadata": {
    "colab": {
      "provenance": [],
      "toc_visible": true,
      "authorship_tag": "ABX9TyO4tD7a9O4dddjzc4i//Ju3",
      "include_colab_link": true
    },
    "kernelspec": {
      "name": "python3",
      "display_name": "Python 3"
    },
    "language_info": {
      "name": "python"
    }
  },
  "cells": [
    {
      "cell_type": "markdown",
      "metadata": {
        "id": "view-in-github",
        "colab_type": "text"
      },
      "source": [
        "<a href=\"https://colab.research.google.com/github/loyoladesa/qoeprediction/blob/main/notebooks/Predi%C3%A7%C3%A3o_LSTM_4_1.ipynb\" target=\"_parent\"><img src=\"https://colab.research.google.com/assets/colab-badge.svg\" alt=\"Open In Colab\"/></a>"
      ]
    },
    {
      "cell_type": "markdown",
      "metadata": {
        "id": "QyWs_3Ycx4eA"
      },
      "source": [
        "# Mount Drive"
      ]
    },
    {
      "cell_type": "code",
      "execution_count": null,
      "metadata": {
        "colab": {
          "base_uri": "https://localhost:8080/"
        },
        "id": "2JtPzKxtx4eA",
        "outputId": "61545401-11a8-47e7-9d55-33f4c8ef9a5b"
      },
      "outputs": [
        {
          "output_type": "stream",
          "name": "stdout",
          "text": [
            "Mounted at /content/drive\n"
          ]
        }
      ],
      "source": [
        "from google.colab import drive\n",
        "drive.mount('/content/drive')"
      ]
    },
    {
      "cell_type": "markdown",
      "source": [
        "# PREDIÇÃO LSTM"
      ],
      "metadata": {
        "id": "Va15Xmbk4nlP"
      }
    },
    {
      "cell_type": "markdown",
      "source": [
        "## Bibliotecas"
      ],
      "metadata": {
        "id": "SsrYusTD4sIB"
      }
    },
    {
      "cell_type": "code",
      "source": [
        "#libraries for data manipulation\n",
        "import numpy as np\n",
        "import pandas as pd"
      ],
      "metadata": {
        "id": "GtJYi-B-PFG0"
      },
      "execution_count": null,
      "outputs": []
    },
    {
      "cell_type": "code",
      "source": [
        "from sklearn.model_selection import train_test_split"
      ],
      "metadata": {
        "id": "Oc41Zkrl5Dq4"
      },
      "execution_count": null,
      "outputs": []
    },
    {
      "cell_type": "code",
      "source": [
        "import matplotlib.pyplot as plt\n",
        "from pandas import read_csv\n",
        "import math\n",
        "import tensorflow as tf\n",
        "from tensorflow.keras.models import Sequential\n",
        "from tensorflow.keras.layers import Dense\n",
        "from tensorflow.keras.layers import LSTM\n",
        "from sklearn.preprocessing import MinMaxScaler\n",
        "from sklearn.metrics import mean_squared_error"
      ],
      "metadata": {
        "id": "eOgSJhne5HiX"
      },
      "execution_count": null,
      "outputs": []
    },
    {
      "cell_type": "code",
      "source": [
        "import joblib"
      ],
      "metadata": {
        "id": "b4_Qvr29Hb6_"
      },
      "execution_count": null,
      "outputs": []
    },
    {
      "cell_type": "markdown",
      "source": [
        "## Métodos"
      ],
      "metadata": {
        "id": "QlPmU5GA41CC"
      }
    },
    {
      "cell_type": "code",
      "source": [
        "def processData(data, look_back, foward_days,jump=1):\n",
        "    X,Y = [],[]\n",
        "    for i in range(0,len(data) -look_back -foward_days +1, jump):\n",
        "        X.append(data[i:(i+look_back)])\n",
        "        Y.append(data[(i+look_back):(i+look_back+foward_days)])\n",
        "    return np.array(X),np.array(Y)"
      ],
      "metadata": {
        "id": "jj1G5l5RPK3W"
      },
      "execution_count": null,
      "outputs": []
    },
    {
      "cell_type": "code",
      "source": [
        "# convert an array of values into a dataset matrix\n",
        "def create_dataset(dataset, look_back=4200):\n",
        "\tdataX, dataY = [], []\n",
        "\tfor i in range(len(dataset)-look_back-1):\n",
        "\t\ta = dataset[i:(i+look_back), 0]\n",
        "\t\tdataX.append(a)\n",
        "\t\tdataY.append(dataset[i + look_back, 0])\n",
        "\treturn np.array(dataX), np.array(dataY)"
      ],
      "metadata": {
        "id": "FkPCaSoF6QSg"
      },
      "execution_count": null,
      "outputs": []
    },
    {
      "cell_type": "markdown",
      "source": [
        "## Parametros"
      ],
      "metadata": {
        "id": "UptDUJjj_GbO"
      }
    },
    {
      "cell_type": "code",
      "source": [
        "#Utiliza cinco dias anteriores para treinamento\n",
        "look_back = 3200\n",
        "#Tenta predizer o valor do próximo dia\n",
        "foward_days = 800\n",
        "\n",
        "# fix random seed for reproducibility\n",
        "tf.random.set_seed(7)\n",
        "\n",
        "path_dataset_rnp_final = '/content/drive/MyDrive/Seagate/RNP/dataset_set_2022/dataset/dataset_rnp_final.csv'\n",
        "\n",
        "path_model_lstm = '/content/drive/MyDrive/Seagate/RNP/model_lstm_4_1'"
      ],
      "metadata": {
        "id": "uFPtHCZJXFws"
      },
      "execution_count": null,
      "outputs": []
    },
    {
      "cell_type": "markdown",
      "source": [
        "## Carregar Dataset"
      ],
      "metadata": {
        "id": "Y5Qx5lFL6ZQN"
      }
    },
    {
      "cell_type": "code",
      "source": [
        "# load the dataset\n",
        "df = pd.read_csv(path_dataset_rnp_final,sep=\",\")\n",
        "target = df[['RTT_rj_sp']]\n",
        "type(target)"
      ],
      "metadata": {
        "colab": {
          "base_uri": "https://localhost:8080/"
        },
        "id": "EjhmF8I26cOZ",
        "outputId": "fc2082ef-e9dd-46e1-d2e4-1deb04e73d93"
      },
      "execution_count": null,
      "outputs": [
        {
          "output_type": "execute_result",
          "data": {
            "text/plain": [
              "pandas.core.frame.DataFrame"
            ]
          },
          "metadata": {},
          "execution_count": 9
        }
      ]
    },
    {
      "cell_type": "code",
      "source": [
        "dataset = target.values\n",
        "dataset = dataset.astype('float32')"
      ],
      "metadata": {
        "id": "M9PfeYcp8OjU"
      },
      "execution_count": null,
      "outputs": []
    },
    {
      "cell_type": "markdown",
      "source": [
        "## Normalização do Dataset"
      ],
      "metadata": {
        "id": "exAYWkdU8GAQ"
      }
    },
    {
      "cell_type": "code",
      "source": [
        "# normalize the dataset\n",
        "scaler = MinMaxScaler(feature_range=(0, 1))\n",
        "dataset = scaler.fit_transform(dataset)"
      ],
      "metadata": {
        "id": "L2CbIBfCaxtP"
      },
      "execution_count": null,
      "outputs": []
    },
    {
      "cell_type": "markdown",
      "source": [
        "## Divisao Conjunto de Treinamento e Validação"
      ],
      "metadata": {
        "id": "Ix-sSbxA5VPK"
      }
    },
    {
      "cell_type": "code",
      "source": [
        "# split into train and test sets\n",
        "train_size = int(len(dataset) * 0.67)\n",
        "test_size = len(dataset) - train_size\n",
        "train, test = dataset[0:train_size,:], dataset[train_size:len(dataset),:]"
      ],
      "metadata": {
        "id": "xHHit1Jxa-Ht"
      },
      "execution_count": null,
      "outputs": []
    },
    {
      "cell_type": "code",
      "source": [
        "# reshape into X=t and Y=t+1\n",
        "#look_back = 4200\n",
        "trainX, trainY = create_dataset(train, look_back)\n",
        "testX, testY = create_dataset(test, look_back)"
      ],
      "metadata": {
        "id": "MDTEhtgdbAsI"
      },
      "execution_count": null,
      "outputs": []
    },
    {
      "cell_type": "code",
      "source": [
        "# reshape input to be [samples, time steps, features]\n",
        "trainX = np.reshape(trainX, (trainX.shape[0], 1, trainX.shape[1]))\n",
        "testX = np.reshape(testX, (testX.shape[0], 1, testX.shape[1]))"
      ],
      "metadata": {
        "id": "vGNHgIGBbDJJ"
      },
      "execution_count": null,
      "outputs": []
    },
    {
      "cell_type": "code",
      "source": [
        "# create and fit the LSTM network\n",
        "model = Sequential()\n",
        "model.add(LSTM(4, input_shape=(1, look_back)))\n",
        "model.add(Dense(1))\n",
        "model.compile(loss='mean_squared_error', optimizer='adam')\n",
        "model.fit(trainX, trainY, epochs=100, batch_size=1, verbose=2)"
      ],
      "metadata": {
        "colab": {
          "base_uri": "https://localhost:8080/"
        },
        "id": "prGiRKepbTZ4",
        "outputId": "f3194695-5da1-4161-fb19-901506b627c0"
      },
      "execution_count": null,
      "outputs": [
        {
          "output_type": "stream",
          "name": "stdout",
          "text": [
            "Epoch 1/100\n",
            "13094/13094 - 26s - loss: 5.3255e-04 - 26s/epoch - 2ms/step\n",
            "Epoch 2/100\n",
            "13094/13094 - 24s - loss: 4.4009e-04 - 24s/epoch - 2ms/step\n",
            "Epoch 3/100\n",
            "13094/13094 - 23s - loss: 3.9977e-04 - 23s/epoch - 2ms/step\n",
            "Epoch 4/100\n",
            "13094/13094 - 23s - loss: 3.6798e-04 - 23s/epoch - 2ms/step\n",
            "Epoch 5/100\n",
            "13094/13094 - 23s - loss: 3.2930e-04 - 23s/epoch - 2ms/step\n",
            "Epoch 6/100\n",
            "13094/13094 - 23s - loss: 3.0622e-04 - 23s/epoch - 2ms/step\n",
            "Epoch 7/100\n",
            "13094/13094 - 23s - loss: 2.7656e-04 - 23s/epoch - 2ms/step\n",
            "Epoch 8/100\n",
            "13094/13094 - 23s - loss: 2.4999e-04 - 23s/epoch - 2ms/step\n",
            "Epoch 9/100\n",
            "13094/13094 - 23s - loss: 2.2514e-04 - 23s/epoch - 2ms/step\n",
            "Epoch 10/100\n",
            "13094/13094 - 23s - loss: 2.0984e-04 - 23s/epoch - 2ms/step\n",
            "Epoch 11/100\n",
            "13094/13094 - 24s - loss: 1.9701e-04 - 24s/epoch - 2ms/step\n",
            "Epoch 12/100\n",
            "13094/13094 - 23s - loss: 1.7856e-04 - 23s/epoch - 2ms/step\n",
            "Epoch 13/100\n",
            "13094/13094 - 23s - loss: 1.6494e-04 - 23s/epoch - 2ms/step\n",
            "Epoch 14/100\n",
            "13094/13094 - 23s - loss: 1.4821e-04 - 23s/epoch - 2ms/step\n",
            "Epoch 15/100\n",
            "13094/13094 - 23s - loss: 1.4372e-04 - 23s/epoch - 2ms/step\n",
            "Epoch 16/100\n",
            "13094/13094 - 23s - loss: 1.3628e-04 - 23s/epoch - 2ms/step\n",
            "Epoch 17/100\n",
            "13094/13094 - 23s - loss: 1.2984e-04 - 23s/epoch - 2ms/step\n",
            "Epoch 18/100\n",
            "13094/13094 - 23s - loss: 1.2545e-04 - 23s/epoch - 2ms/step\n",
            "Epoch 19/100\n",
            "13094/13094 - 23s - loss: 1.1756e-04 - 23s/epoch - 2ms/step\n",
            "Epoch 20/100\n",
            "13094/13094 - 24s - loss: 1.1561e-04 - 24s/epoch - 2ms/step\n",
            "Epoch 21/100\n",
            "13094/13094 - 23s - loss: 1.0857e-04 - 23s/epoch - 2ms/step\n",
            "Epoch 22/100\n",
            "13094/13094 - 23s - loss: 1.0545e-04 - 23s/epoch - 2ms/step\n",
            "Epoch 23/100\n",
            "13094/13094 - 23s - loss: 1.0139e-04 - 23s/epoch - 2ms/step\n",
            "Epoch 24/100\n",
            "13094/13094 - 23s - loss: 9.9630e-05 - 23s/epoch - 2ms/step\n",
            "Epoch 25/100\n",
            "13094/13094 - 22s - loss: 9.7679e-05 - 22s/epoch - 2ms/step\n",
            "Epoch 26/100\n",
            "13094/13094 - 23s - loss: 9.5663e-05 - 23s/epoch - 2ms/step\n",
            "Epoch 27/100\n",
            "13094/13094 - 22s - loss: 8.8705e-05 - 22s/epoch - 2ms/step\n",
            "Epoch 28/100\n",
            "13094/13094 - 23s - loss: 9.0469e-05 - 23s/epoch - 2ms/step\n",
            "Epoch 29/100\n",
            "13094/13094 - 23s - loss: 8.0579e-05 - 23s/epoch - 2ms/step\n",
            "Epoch 30/100\n",
            "13094/13094 - 24s - loss: 8.3674e-05 - 24s/epoch - 2ms/step\n",
            "Epoch 31/100\n",
            "13094/13094 - 22s - loss: 8.2362e-05 - 22s/epoch - 2ms/step\n",
            "Epoch 32/100\n",
            "13094/13094 - 22s - loss: 7.8436e-05 - 22s/epoch - 2ms/step\n",
            "Epoch 33/100\n",
            "13094/13094 - 23s - loss: 7.8306e-05 - 23s/epoch - 2ms/step\n",
            "Epoch 34/100\n",
            "13094/13094 - 22s - loss: 7.6890e-05 - 22s/epoch - 2ms/step\n",
            "Epoch 35/100\n",
            "13094/13094 - 23s - loss: 7.3219e-05 - 23s/epoch - 2ms/step\n",
            "Epoch 36/100\n",
            "13094/13094 - 23s - loss: 6.9975e-05 - 23s/epoch - 2ms/step\n",
            "Epoch 37/100\n",
            "13094/13094 - 23s - loss: 7.0477e-05 - 23s/epoch - 2ms/step\n",
            "Epoch 38/100\n",
            "13094/13094 - 23s - loss: 6.5322e-05 - 23s/epoch - 2ms/step\n",
            "Epoch 39/100\n",
            "13094/13094 - 24s - loss: 7.2856e-05 - 24s/epoch - 2ms/step\n",
            "Epoch 40/100\n",
            "13094/13094 - 23s - loss: 6.2937e-05 - 23s/epoch - 2ms/step\n",
            "Epoch 41/100\n",
            "13094/13094 - 23s - loss: 6.9459e-05 - 23s/epoch - 2ms/step\n",
            "Epoch 42/100\n",
            "13094/13094 - 23s - loss: 6.0601e-05 - 23s/epoch - 2ms/step\n",
            "Epoch 43/100\n",
            "13094/13094 - 23s - loss: 6.2447e-05 - 23s/epoch - 2ms/step\n",
            "Epoch 44/100\n",
            "13094/13094 - 23s - loss: 6.2819e-05 - 23s/epoch - 2ms/step\n",
            "Epoch 45/100\n",
            "13094/13094 - 23s - loss: 6.3438e-05 - 23s/epoch - 2ms/step\n",
            "Epoch 46/100\n",
            "13094/13094 - 23s - loss: 5.8155e-05 - 23s/epoch - 2ms/step\n",
            "Epoch 47/100\n",
            "13094/13094 - 23s - loss: 5.8363e-05 - 23s/epoch - 2ms/step\n",
            "Epoch 48/100\n",
            "13094/13094 - 23s - loss: 5.5959e-05 - 23s/epoch - 2ms/step\n",
            "Epoch 49/100\n",
            "13094/13094 - 24s - loss: 5.8654e-05 - 24s/epoch - 2ms/step\n",
            "Epoch 50/100\n",
            "13094/13094 - 23s - loss: 5.6940e-05 - 23s/epoch - 2ms/step\n",
            "Epoch 51/100\n",
            "13094/13094 - 23s - loss: 5.5136e-05 - 23s/epoch - 2ms/step\n",
            "Epoch 52/100\n",
            "13094/13094 - 23s - loss: 5.4180e-05 - 23s/epoch - 2ms/step\n",
            "Epoch 53/100\n",
            "13094/13094 - 22s - loss: 5.3410e-05 - 22s/epoch - 2ms/step\n",
            "Epoch 54/100\n",
            "13094/13094 - 23s - loss: 5.3871e-05 - 23s/epoch - 2ms/step\n",
            "Epoch 55/100\n",
            "13094/13094 - 23s - loss: 5.5238e-05 - 23s/epoch - 2ms/step\n",
            "Epoch 56/100\n",
            "13094/13094 - 23s - loss: 5.2986e-05 - 23s/epoch - 2ms/step\n",
            "Epoch 57/100\n",
            "13094/13094 - 23s - loss: 5.3154e-05 - 23s/epoch - 2ms/step\n",
            "Epoch 58/100\n",
            "13094/13094 - 24s - loss: 4.9274e-05 - 24s/epoch - 2ms/step\n",
            "Epoch 59/100\n",
            "13094/13094 - 23s - loss: 5.3190e-05 - 23s/epoch - 2ms/step\n",
            "Epoch 60/100\n",
            "13094/13094 - 23s - loss: 5.0881e-05 - 23s/epoch - 2ms/step\n",
            "Epoch 61/100\n",
            "13094/13094 - 23s - loss: 5.1483e-05 - 23s/epoch - 2ms/step\n",
            "Epoch 62/100\n",
            "13094/13094 - 23s - loss: 4.8690e-05 - 23s/epoch - 2ms/step\n",
            "Epoch 63/100\n",
            "13094/13094 - 23s - loss: 4.7644e-05 - 23s/epoch - 2ms/step\n",
            "Epoch 64/100\n",
            "13094/13094 - 22s - loss: 4.9465e-05 - 22s/epoch - 2ms/step\n",
            "Epoch 65/100\n",
            "13094/13094 - 23s - loss: 5.2209e-05 - 23s/epoch - 2ms/step\n",
            "Epoch 66/100\n",
            "13094/13094 - 23s - loss: 4.4476e-05 - 23s/epoch - 2ms/step\n",
            "Epoch 67/100\n",
            "13094/13094 - 23s - loss: 5.0637e-05 - 23s/epoch - 2ms/step\n",
            "Epoch 68/100\n",
            "13094/13094 - 24s - loss: 4.9122e-05 - 24s/epoch - 2ms/step\n",
            "Epoch 69/100\n",
            "13094/13094 - 23s - loss: 5.0028e-05 - 23s/epoch - 2ms/step\n",
            "Epoch 70/100\n",
            "13094/13094 - 23s - loss: 4.7224e-05 - 23s/epoch - 2ms/step\n",
            "Epoch 71/100\n",
            "13094/13094 - 23s - loss: 4.4458e-05 - 23s/epoch - 2ms/step\n",
            "Epoch 72/100\n",
            "13094/13094 - 23s - loss: 4.9048e-05 - 23s/epoch - 2ms/step\n",
            "Epoch 73/100\n",
            "13094/13094 - 23s - loss: 4.7098e-05 - 23s/epoch - 2ms/step\n",
            "Epoch 74/100\n",
            "13094/13094 - 23s - loss: 4.3446e-05 - 23s/epoch - 2ms/step\n",
            "Epoch 75/100\n",
            "13094/13094 - 23s - loss: 4.7950e-05 - 23s/epoch - 2ms/step\n",
            "Epoch 76/100\n",
            "13094/13094 - 23s - loss: 4.3336e-05 - 23s/epoch - 2ms/step\n",
            "Epoch 77/100\n",
            "13094/13094 - 25s - loss: 4.5450e-05 - 25s/epoch - 2ms/step\n",
            "Epoch 78/100\n",
            "13094/13094 - 23s - loss: 4.7721e-05 - 23s/epoch - 2ms/step\n",
            "Epoch 79/100\n",
            "13094/13094 - 23s - loss: 4.2470e-05 - 23s/epoch - 2ms/step\n",
            "Epoch 80/100\n",
            "13094/13094 - 23s - loss: 4.3402e-05 - 23s/epoch - 2ms/step\n",
            "Epoch 81/100\n",
            "13094/13094 - 23s - loss: 4.9496e-05 - 23s/epoch - 2ms/step\n",
            "Epoch 82/100\n",
            "13094/13094 - 23s - loss: 4.4158e-05 - 23s/epoch - 2ms/step\n",
            "Epoch 83/100\n",
            "13094/13094 - 23s - loss: 4.4925e-05 - 23s/epoch - 2ms/step\n",
            "Epoch 84/100\n",
            "13094/13094 - 23s - loss: 4.2874e-05 - 23s/epoch - 2ms/step\n",
            "Epoch 85/100\n",
            "13094/13094 - 23s - loss: 4.5271e-05 - 23s/epoch - 2ms/step\n",
            "Epoch 86/100\n",
            "13094/13094 - 23s - loss: 4.1300e-05 - 23s/epoch - 2ms/step\n",
            "Epoch 87/100\n",
            "13094/13094 - 25s - loss: 4.3069e-05 - 25s/epoch - 2ms/step\n",
            "Epoch 88/100\n",
            "13094/13094 - 23s - loss: 4.2138e-05 - 23s/epoch - 2ms/step\n",
            "Epoch 89/100\n",
            "13094/13094 - 24s - loss: 4.3098e-05 - 24s/epoch - 2ms/step\n",
            "Epoch 90/100\n",
            "13094/13094 - 23s - loss: 4.3431e-05 - 23s/epoch - 2ms/step\n",
            "Epoch 91/100\n",
            "13094/13094 - 23s - loss: 4.2765e-05 - 23s/epoch - 2ms/step\n",
            "Epoch 92/100\n",
            "13094/13094 - 23s - loss: 4.3338e-05 - 23s/epoch - 2ms/step\n",
            "Epoch 93/100\n",
            "13094/13094 - 23s - loss: 4.2105e-05 - 23s/epoch - 2ms/step\n",
            "Epoch 94/100\n",
            "13094/13094 - 23s - loss: 4.5654e-05 - 23s/epoch - 2ms/step\n",
            "Epoch 95/100\n",
            "13094/13094 - 23s - loss: 4.0474e-05 - 23s/epoch - 2ms/step\n",
            "Epoch 96/100\n",
            "13094/13094 - 25s - loss: 4.0699e-05 - 25s/epoch - 2ms/step\n",
            "Epoch 97/100\n",
            "13094/13094 - 23s - loss: 4.1678e-05 - 23s/epoch - 2ms/step\n",
            "Epoch 98/100\n",
            "13094/13094 - 23s - loss: 3.9690e-05 - 23s/epoch - 2ms/step\n",
            "Epoch 99/100\n",
            "13094/13094 - 23s - loss: 4.3044e-05 - 23s/epoch - 2ms/step\n",
            "Epoch 100/100\n",
            "13094/13094 - 23s - loss: 3.9713e-05 - 23s/epoch - 2ms/step\n"
          ]
        },
        {
          "output_type": "execute_result",
          "data": {
            "text/plain": [
              "<keras.callbacks.History at 0x7fad0912be80>"
            ]
          },
          "metadata": {},
          "execution_count": 15
        }
      ]
    },
    {
      "cell_type": "code",
      "source": [
        "# make predictions\n",
        "trainPredict = model.predict(trainX)\n",
        "testPredict = model.predict(testX)"
      ],
      "metadata": {
        "colab": {
          "base_uri": "https://localhost:8080/"
        },
        "id": "nPGxODeybWsY",
        "outputId": "094efe2a-2556-4e71-ad35-a6a5bf75a09d"
      },
      "execution_count": null,
      "outputs": [
        {
          "output_type": "stream",
          "name": "stdout",
          "text": [
            "410/410 [==============================] - 1s 2ms/step\n",
            "151/151 [==============================] - 0s 2ms/step\n"
          ]
        }
      ]
    },
    {
      "cell_type": "code",
      "source": [
        "# invert predictions\n",
        "trainPredict = scaler.inverse_transform(trainPredict)\n",
        "trainY = scaler.inverse_transform([trainY])\n",
        "testPredict = scaler.inverse_transform(testPredict)\n",
        "testY = scaler.inverse_transform([testY])"
      ],
      "metadata": {
        "id": "3kNK5cEhbZJR"
      },
      "execution_count": null,
      "outputs": []
    },
    {
      "cell_type": "code",
      "source": [
        "# calculate root mean squared error\n",
        "trainScore = np.sqrt(mean_squared_error(trainY[0], trainPredict[:,0]))\n",
        "print('Train Score: %.2f RMSE' % (trainScore))\n",
        "testScore = np.sqrt(mean_squared_error(testY[0], testPredict[:,0]))\n",
        "print('Test Score: %.2f RMSE' % (testScore))"
      ],
      "metadata": {
        "colab": {
          "base_uri": "https://localhost:8080/"
        },
        "id": "HC_YoUxLbbpE",
        "outputId": "207894e5-9161-4a0f-e95a-e689ee891f0c"
      },
      "execution_count": null,
      "outputs": [
        {
          "output_type": "stream",
          "name": "stdout",
          "text": [
            "Train Score: 9144.74 RMSE\n",
            "Test Score: 69239.69 RMSE\n"
          ]
        }
      ]
    },
    {
      "cell_type": "markdown",
      "metadata": {
        "id": "jSIhHV1gmC1c"
      },
      "source": [
        "## Modelo\n"
      ]
    },
    {
      "cell_type": "code",
      "metadata": {
        "id": "0Lxtl4ODrehh"
      },
      "source": [],
      "execution_count": null,
      "outputs": []
    },
    {
      "cell_type": "code",
      "source": [],
      "metadata": {
        "id": "AILraFAXsq9N"
      },
      "execution_count": null,
      "outputs": []
    },
    {
      "cell_type": "code",
      "metadata": {
        "colab": {
          "base_uri": "https://localhost:8080/"
        },
        "id": "Vc3KWGpPrehi",
        "outputId": "47bcc8dd-e4f3-434c-e8ba-8d23fc2ef244"
      },
      "source": [
        "joblib.dump(model,path_model_lstm)"
      ],
      "execution_count": null,
      "outputs": [
        {
          "output_type": "stream",
          "name": "stderr",
          "text": [
            "WARNING:absl:Found untraced functions such as lstm_cell_layer_call_fn, lstm_cell_layer_call_and_return_conditional_losses while saving (showing 2 of 2). These functions will not be directly callable after loading.\n"
          ]
        },
        {
          "output_type": "execute_result",
          "data": {
            "text/plain": [
              "['/content/drive/MyDrive/Seagate/RNP/model_lstm_4_1']"
            ]
          },
          "metadata": {},
          "execution_count": 19
        }
      ]
    },
    {
      "cell_type": "markdown",
      "source": [
        "## Análise"
      ],
      "metadata": {
        "id": "wN6asOXdHF7O"
      }
    },
    {
      "cell_type": "code",
      "source": [
        "# shift train predictions for plotting\n",
        "trainPredictPlot = np.empty_like(dataset)\n",
        "trainPredictPlot[:, :] = np.nan\n",
        "trainPredictPlot[look_back:len(trainPredict)+look_back, :] = trainPredict"
      ],
      "metadata": {
        "id": "ZfcuYDbMbeaU"
      },
      "execution_count": null,
      "outputs": []
    },
    {
      "cell_type": "code",
      "source": [
        "# shift test predictions for plotting\n",
        "testPredictPlot = np.empty_like(dataset)\n",
        "testPredictPlot[:, :] = np.nan\n",
        "testPredictPlot[len(trainPredict)+(look_back*2)+1:len(dataset)-1, :] = testPredict"
      ],
      "metadata": {
        "id": "LZ4EFMknbgmU"
      },
      "execution_count": null,
      "outputs": []
    },
    {
      "cell_type": "code",
      "source": [
        "# plot baseline and predictions\n",
        "plt.plot(scaler.inverse_transform(dataset))\n",
        "plt.plot(trainPredictPlot)\n",
        "plt.plot(testPredictPlot)\n",
        "plt.show()"
      ],
      "metadata": {
        "colab": {
          "base_uri": "https://localhost:8080/"
        },
        "id": "82ZeOZXMaDYj",
        "outputId": "65b6ae55-28ef-4059-f4cd-4646c6e2ac38"
      },
      "execution_count": null,
      "outputs": [
        {
          "output_type": "display_data",
          "data": {
            "text/plain": [
              "<Figure size 432x288 with 1 Axes>"
            ],
            "image/png": "[encoded data removed]"
          },
          "metadata": {
            "needs_background": "light"
          }
        }
      ]
    }
  ]
}