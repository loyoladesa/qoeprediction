
Open In Colab
Mount Drive

from google.colab import drive
drive.mount('/content/drive')
     
Mounted at /content/drive
PREDIÇÃO LSTM
Bibliotecas

#libraries for data manipulation
import numpy as np
import pandas as pd
     

from sklearn.model_selection import train_test_split
     

import matplotlib.pyplot as plt
from pandas import read_csv
import math
import tensorflow as tf
from tensorflow.keras.models import Sequential
from tensorflow.keras.layers import Dense
from tensorflow.keras.layers import LSTM
from sklearn.preprocessing import MinMaxScaler
from sklearn.metrics import mean_squared_error
     

import joblib
     
Métodos

def processData(data, look_back, foward_days,jump=1):
    X,Y = [],[]
    for i in range(0,len(data) -look_back -foward_days +1, jump):
        X.append(data[i:(i+look_back)])
        Y.append(data[(i+look_back):(i+look_back+foward_days)])
    return np.array(X),np.array(Y)
     

# convert an array of values into a dataset matrix
def create_dataset(dataset, look_back=4200):
	dataX, dataY = [], []
	for i in range(len(dataset)-look_back-1):
		a = dataset[i:(i+look_back), 0]
		dataX.append(a)
		dataY.append(dataset[i + look_back, 0])
	return np.array(dataX), np.array(dataY)
     
Parametros

#Utiliza dez dias anteriores para treinamento
look_back = 8000
#Tenta predizer o valor do próximo dia
foward_days = 800

# fix random seed for reproducibility
tf.random.set_seed(7)

path_dataset_rnp_final = '/content/drive/MyDrive/Seagate/RNP/dataset_set_2022/dataset/dataset_rnp_final.csv'

path_model_lstm = '/content/drive/MyDrive/Seagate/RNP/model_lstm_6_1'
     
Carregar Dataset

# load the dataset
df = pd.read_csv(path_dataset_rnp_final,sep=",")
target = df[['RTT_rj_sp']]
type(target)
     
pandas.core.frame.DataFrame

dataset = target.values
dataset = dataset.astype('float32')
     
Normalização do Dataset

# normalize the dataset
scaler = MinMaxScaler(feature_range=(0, 1))
dataset = scaler.fit_transform(dataset)
     
Divisao Conjunto de Treinamento e Validação

# split into train and test sets
train_size = int(len(dataset) * 0.67)
test_size = len(dataset) - train_size
train, test = dataset[0:train_size,:], dataset[train_size:len(dataset),:]
     

# reshape into X=t and Y=t+1
#look_back = 4200
trainX, trainY = create_dataset(train, look_back)
testX, testY = create_dataset(test, look_back)
     

# reshape input to be [samples, time steps, features]
trainX = np.reshape(trainX, (trainX.shape[0], 1, trainX.shape[1]))
testX = np.reshape(testX, (testX.shape[0], 1, testX.shape[1]))
     

# create and fit the LSTM network
model = Sequential()
model.add(LSTM(4, input_shape=(1, look_back)))
model.add(Dense(1))
model.compile(loss='mean_squared_error', optimizer='adam')
model.fit(trainX, trainY, epochs=100, batch_size=1, verbose=2)
     
Epoch 1/100
8294/8294 - 22s - loss: 5.5299e-04 - 22s/epoch - 3ms/step
Epoch 2/100
8294/8294 - 20s - loss: 4.7885e-04 - 20s/epoch - 2ms/step
Epoch 3/100
8294/8294 - 21s - loss: 4.0862e-04 - 21s/epoch - 3ms/step
Epoch 4/100
8294/8294 - 22s - loss: 3.5569e-04 - 22s/epoch - 3ms/step
Epoch 5/100
8294/8294 - 22s - loss: 2.8561e-04 - 22s/epoch - 3ms/step
Epoch 6/100
8294/8294 - 20s - loss: 2.2019e-04 - 20s/epoch - 2ms/step
Epoch 7/100
8294/8294 - 21s - loss: 2.0258e-04 - 21s/epoch - 2ms/step
Epoch 8/100
8294/8294 - 21s - loss: 1.6956e-04 - 21s/epoch - 3ms/step
Epoch 9/100
8294/8294 - 21s - loss: 1.5424e-04 - 21s/epoch - 3ms/step
Epoch 10/100
8294/8294 - 20s - loss: 1.2304e-04 - 20s/epoch - 2ms/step
Epoch 11/100
8294/8294 - 23s - loss: 1.2722e-04 - 23s/epoch - 3ms/step
Epoch 12/100
8294/8294 - 21s - loss: 1.2347e-04 - 21s/epoch - 2ms/step
Epoch 13/100
8294/8294 - 21s - loss: 1.0692e-04 - 21s/epoch - 3ms/step
Epoch 14/100
8294/8294 - 20s - loss: 1.1222e-04 - 20s/epoch - 2ms/step
Epoch 15/100
8294/8294 - 20s - loss: 1.1548e-04 - 20s/epoch - 2ms/step
Epoch 16/100
8294/8294 - 21s - loss: 8.8139e-05 - 21s/epoch - 2ms/step
Epoch 17/100
8294/8294 - 21s - loss: 8.8726e-05 - 21s/epoch - 3ms/step
Epoch 18/100
8294/8294 - 21s - loss: 9.4797e-05 - 21s/epoch - 3ms/step
Epoch 19/100
8294/8294 - 20s - loss: 1.0420e-04 - 20s/epoch - 2ms/step
Epoch 20/100
8294/8294 - 22s - loss: 9.7806e-05 - 22s/epoch - 3ms/step
Epoch 21/100
8294/8294 - 21s - loss: 9.6816e-05 - 21s/epoch - 3ms/step
Epoch 22/100
8294/8294 - 21s - loss: 8.6233e-05 - 21s/epoch - 3ms/step
Epoch 23/100
8294/8294 - 21s - loss: 8.7106e-05 - 21s/epoch - 2ms/step
Epoch 24/100
8294/8294 - 20s - loss: 9.4707e-05 - 20s/epoch - 2ms/step
Epoch 25/100
8294/8294 - 20s - loss: 8.3761e-05 - 20s/epoch - 2ms/step
Epoch 26/100
8294/8294 - 20s - loss: 8.5316e-05 - 20s/epoch - 2ms/step
Epoch 27/100
8294/8294 - 23s - loss: 9.1189e-05 - 23s/epoch - 3ms/step
Epoch 28/100
8294/8294 - 24s - loss: 8.3299e-05 - 24s/epoch - 3ms/step
Epoch 29/100
8294/8294 - 21s - loss: 7.4150e-05 - 21s/epoch - 2ms/step
Epoch 30/100
8294/8294 - 21s - loss: 7.8298e-05 - 21s/epoch - 3ms/step
Epoch 31/100
8294/8294 - 21s - loss: 7.0630e-05 - 21s/epoch - 3ms/step
Epoch 32/100
8294/8294 - 22s - loss: 8.1702e-05 - 22s/epoch - 3ms/step
Epoch 33/100
8294/8294 - 22s - loss: 7.7989e-05 - 22s/epoch - 3ms/step
Epoch 34/100
8294/8294 - 21s - loss: 8.1900e-05 - 21s/epoch - 3ms/step
Epoch 35/100
8294/8294 - 21s - loss: 7.3067e-05 - 21s/epoch - 3ms/step
Epoch 36/100
8294/8294 - 21s - loss: 7.4749e-05 - 21s/epoch - 3ms/step
Epoch 37/100
8294/8294 - 20s - loss: 8.1760e-05 - 20s/epoch - 2ms/step
Epoch 38/100
8294/8294 - 22s - loss: 7.8616e-05 - 22s/epoch - 3ms/step
Epoch 39/100
8294/8294 - 21s - loss: 7.4762e-05 - 21s/epoch - 3ms/step
Epoch 40/100
8294/8294 - 21s - loss: 7.7419e-05 - 21s/epoch - 3ms/step
Epoch 41/100
8294/8294 - 21s - loss: 7.3423e-05 - 21s/epoch - 3ms/step
Epoch 42/100
8294/8294 - 22s - loss: 7.6443e-05 - 22s/epoch - 3ms/step
Epoch 43/100
8294/8294 - 21s - loss: 7.6410e-05 - 21s/epoch - 3ms/step
Epoch 44/100
8294/8294 - 23s - loss: 7.3290e-05 - 23s/epoch - 3ms/step
Epoch 45/100
8294/8294 - 22s - loss: 7.4649e-05 - 22s/epoch - 3ms/step
Epoch 46/100
8294/8294 - 22s - loss: 7.2950e-05 - 22s/epoch - 3ms/step
Epoch 47/100
8294/8294 - 23s - loss: 7.4953e-05 - 23s/epoch - 3ms/step
Epoch 48/100
8294/8294 - 22s - loss: 7.5937e-05 - 22s/epoch - 3ms/step
Epoch 49/100
8294/8294 - 21s - loss: 6.8711e-05 - 21s/epoch - 3ms/step
Epoch 50/100
8294/8294 - 21s - loss: 7.2243e-05 - 21s/epoch - 3ms/step
Epoch 51/100
8294/8294 - 21s - loss: 7.4892e-05 - 21s/epoch - 3ms/step
Epoch 52/100
8294/8294 - 20s - loss: 7.0508e-05 - 20s/epoch - 2ms/step
Epoch 53/100
8294/8294 - 22s - loss: 7.2141e-05 - 22s/epoch - 3ms/step
Epoch 54/100
8294/8294 - 21s - loss: 7.6169e-05 - 21s/epoch - 3ms/step
Epoch 55/100
8294/8294 - 24s - loss: 7.0312e-05 - 24s/epoch - 3ms/step
Epoch 56/100
8294/8294 - 21s - loss: 7.2586e-05 - 21s/epoch - 3ms/step
Epoch 57/100
8294/8294 - 23s - loss: 7.5141e-05 - 23s/epoch - 3ms/step
Epoch 58/100
8294/8294 - 23s - loss: 7.1616e-05 - 23s/epoch - 3ms/step
Epoch 59/100
8294/8294 - 22s - loss: 7.7557e-05 - 22s/epoch - 3ms/step
Epoch 60/100
8294/8294 - 22s - loss: 7.1942e-05 - 22s/epoch - 3ms/step
Epoch 61/100
8294/8294 - 22s - loss: 7.0815e-05 - 22s/epoch - 3ms/step
Epoch 62/100
8294/8294 - 22s - loss: 6.8606e-05 - 22s/epoch - 3ms/step
Epoch 63/100
8294/8294 - 22s - loss: 7.2415e-05 - 22s/epoch - 3ms/step
Epoch 64/100
8294/8294 - 22s - loss: 7.4179e-05 - 22s/epoch - 3ms/step
Epoch 65/100
8294/8294 - 21s - loss: 7.0442e-05 - 21s/epoch - 2ms/step
Epoch 66/100
8294/8294 - 21s - loss: 6.7553e-05 - 21s/epoch - 3ms/step
Epoch 67/100
8294/8294 - 23s - loss: 7.0323e-05 - 23s/epoch - 3ms/step
Epoch 68/100
8294/8294 - 21s - loss: 7.0844e-05 - 21s/epoch - 3ms/step
Epoch 69/100
8294/8294 - 21s - loss: 6.9738e-05 - 21s/epoch - 3ms/step
Epoch 70/100
8294/8294 - 21s - loss: 7.1507e-05 - 21s/epoch - 3ms/step
Epoch 71/100
8294/8294 - 21s - loss: 7.2952e-05 - 21s/epoch - 3ms/step
Epoch 72/100
8294/8294 - 21s - loss: 6.8677e-05 - 21s/epoch - 3ms/step
Epoch 73/100
8294/8294 - 22s - loss: 6.3228e-05 - 22s/epoch - 3ms/step
Epoch 74/100
8294/8294 - 22s - loss: 6.7856e-05 - 22s/epoch - 3ms/step
Epoch 75/100
8294/8294 - 22s - loss: 6.5447e-05 - 22s/epoch - 3ms/step
Epoch 76/100
8294/8294 - 23s - loss: 6.9284e-05 - 23s/epoch - 3ms/step
Epoch 77/100
8294/8294 - 21s - loss: 7.1972e-05 - 21s/epoch - 3ms/step
Epoch 78/100
8294/8294 - 21s - loss: 6.3978e-05 - 21s/epoch - 3ms/step
Epoch 79/100
8294/8294 - 20s - loss: 6.4860e-05 - 20s/epoch - 2ms/step
Epoch 80/100
8294/8294 - 21s - loss: 6.2283e-05 - 21s/epoch - 2ms/step
Epoch 81/100
8294/8294 - 21s - loss: 6.2974e-05 - 21s/epoch - 2ms/step
Epoch 82/100
8294/8294 - 20s - loss: 6.3914e-05 - 20s/epoch - 2ms/step
Epoch 83/100
8294/8294 - 21s - loss: 6.4642e-05 - 21s/epoch - 3ms/step
Epoch 84/100
8294/8294 - 22s - loss: 6.2978e-05 - 22s/epoch - 3ms/step
Epoch 85/100
8294/8294 - 22s - loss: 6.4798e-05 - 22s/epoch - 3ms/step
Epoch 86/100
8294/8294 - 23s - loss: 5.5670e-05 - 23s/epoch - 3ms/step
Epoch 87/100
8294/8294 - 21s - loss: 5.9676e-05 - 21s/epoch - 3ms/step
Epoch 88/100
8294/8294 - 21s - loss: 6.2710e-05 - 21s/epoch - 3ms/step
Epoch 89/100
8294/8294 - 21s - loss: 6.3336e-05 - 21s/epoch - 3ms/step
Epoch 90/100
8294/8294 - 20s - loss: 6.1200e-05 - 20s/epoch - 2ms/step
Epoch 91/100
8294/8294 - 21s - loss: 5.4832e-05 - 21s/epoch - 3ms/step
Epoch 92/100
8294/8294 - 22s - loss: 5.6142e-05 - 22s/epoch - 3ms/step
Epoch 93/100
8294/8294 - 22s - loss: 5.6904e-05 - 22s/epoch - 3ms/step
Epoch 94/100
8294/8294 - 22s - loss: 5.3716e-05 - 22s/epoch - 3ms/step
Epoch 95/100
8294/8294 - 22s - loss: 5.3425e-05 - 22s/epoch - 3ms/step
Epoch 96/100
8294/8294 - 23s - loss: 5.6791e-05 - 23s/epoch - 3ms/step
Epoch 97/100
8294/8294 - 22s - loss: 5.2882e-05 - 22s/epoch - 3ms/step
Epoch 98/100
8294/8294 - 21s - loss: 5.2590e-05 - 21s/epoch - 3ms/step
Epoch 99/100
8294/8294 - 22s - loss: 4.7081e-05 - 22s/epoch - 3ms/step
Epoch 100/100
8294/8294 - 22s - loss: 6.3526e-05 - 22s/epoch - 3ms/step
<keras.callbacks.History at 0x7f0c68df6b50>

# make predictions
trainPredict = model.predict(trainX)
testPredict = model.predict(testX)
     
260/260 [==============================] - 1s 3ms/step
1/1 [==============================] - 0s 22ms/step

# invert predictions
trainPredict = scaler.inverse_transform(trainPredict)
trainY = scaler.inverse_transform([trainY])
testPredict = scaler.inverse_transform(testPredict)
testY = scaler.inverse_transform([testY])
     
Resultados

# calculate root mean squared error
trainScore = np.sqrt(mean_squared_error(trainY[0], trainPredict[:,0]))
print('Train Score: %.2f RMSE' % (trainScore))
testScore = np.sqrt(mean_squared_error(testY[0], testPredict[:,0]))
print('Test Score: %.2f RMSE' % (testScore))
     
Train Score: 9583.52 RMSE
Test Score: 57876.69 RMSE
Modelo

joblib.dump(model,path_model_lstm)
     
WARNING:absl:Found untraced functions such as lstm_cell_layer_call_fn, lstm_cell_layer_call_and_return_conditional_losses while saving (showing 2 of 2). These functions will not be directly callable after loading.
['/content/drive/MyDrive/Seagate/RNP/model_lstm_6_1']
Análise

# shift train predictions for plotting
trainPredictPlot = np.empty_like(dataset)
trainPredictPlot[:, :] = np.nan
trainPredictPlot[look_back:len(trainPredict)+look_back, :] = trainPredict
     

# shift test predictions for plotting
testPredictPlot = np.empty_like(dataset)
testPredictPlot[:, :] = np.nan
testPredictPlot[len(trainPredict)+(look_back*2)+1:len(dataset)-1, :] = testPredict
     

# plot baseline and predictions
plt.plot(scaler.inverse_transform(dataset))
plt.plot(trainPredictPlot)
plt.plot(testPredictPlot)
plt.show()
     

